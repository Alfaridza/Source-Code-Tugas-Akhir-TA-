{
  "nbformat": 4,
  "nbformat_minor": 0,
  "metadata": {
    "colab": {
      "provenance": []
    },
    "kernelspec": {
      "name": "python3",
      "display_name": "Python 3"
    },
    "language_info": {
      "name": "python"
    }
  },
  "cells": [
    {
      "cell_type": "code",
      "execution_count": null,
      "metadata": {
        "id": "dFU_J3Ueatbe"
      },
      "outputs": [],
      "source": [
        "import numpy as np\n",
        "import matplotlib.pyplot as plt\n",
        "import time\n",
        "import math\n"
      ]
    },
    {
      "cell_type": "markdown",
      "source": [
        "## PROBLEM 1\n",
        "x^2 - 3, Interval [1,2]"
      ],
      "metadata": {
        "id": "GS65X7iI9067"
      }
    },
    {
      "cell_type": "code",
      "source": [
        "def f(x) :\n",
        "  return x**2 -3"
      ],
      "metadata": {
        "id": "g3KejvTi-Afc"
      },
      "execution_count": null,
      "outputs": []
    },
    {
      "cell_type": "code",
      "source": [
        "# Mulai pengukuran waktu\n",
        "start_time = time.time()\n",
        "\n",
        "\n",
        "def regula_falsi_bisection(a, b, eps, max_iter):\n",
        "    n = 0\n",
        "    a1 = a\n",
        "    a2 = a\n",
        "    b1 = b\n",
        "    b2 = b\n",
        "    while n < max_iter:\n",
        "\n",
        "\n",
        "        # Menghitung xB dan xF\n",
        "        xB = (a + b) / 2  # Bisection: Titik tengah\n",
        "        xF = a - (f(a) * (b - a)) / (f(b) - f(a))  # False Position: Titik berdasarkan Regula Falsi\n",
        "        print(f\"Iterasi {n+1}: Lower Bound = {a}, Upper Bound = {b}\")\n",
        "        n+=1\n",
        "\n",
        "        # Memilih akar yang lebih kecil berdasarkan nilai f(x)\n",
        "        if abs(f(xB)) < abs(f(xF)):\n",
        "            x = xB\n",
        "        else:\n",
        "            x = xF\n",
        "\n",
        "        # Mengecek apakah nilai f(x) sudah cukup kecil\n",
        "        if abs(f(x)) <= eps:\n",
        "            return x, f(x), n, a, b\n",
        "\n",
        "        # Memperbarui batas a dan b\n",
        "        if f(a) * f(xB) < 0:\n",
        "            b1 = xB\n",
        "        else:\n",
        "            a1 = xB\n",
        "\n",
        "        if f(a) * f(xF) < 0:\n",
        "            b2 = xF\n",
        "        else:\n",
        "            a2 = xF\n",
        "\n",
        "        # Memperbarui nilai batas a dan b berdasarkan posisi maksimum dan minimum\n",
        "        a = max(a1, a2)\n",
        "        b = min(b1, b2)\n",
        "\n",
        "    return None, None, n, a, b  # Jika tidak konvergen dalam batas iterasi\n",
        "\n",
        "# Program utama\n",
        "a = 1  # Nilai batas bawah\n",
        "b = 2  # Nilai batas atas\n",
        "eps = 1e-6\n",
        "max_iter = 1000  # Toleransi kesalahan\n",
        "\n",
        "#root, iteration_list = regula_falsi_bisection(a, b, eps,max_iter)\n",
        "\n",
        "root, f_root, iteration_list, a_final, b_final = regula_falsi_bisection(a, b, eps,max_iter)\n",
        "\n",
        "end_time = time.time()\n",
        "\n",
        "# Hitung Average CPU Time\n",
        "cpu_time = end_time - start_time\n",
        "print(\"=====================================================================================\")\n",
        "print(\"Average CPU Time:\", cpu_time, \"seconds\")\n",
        "print(\"=====================================\")\n",
        "\n",
        "if root is not None:\n",
        "    print(f\"Akar yang ditemukan: {root}\")\n",
        "    #print(f\"Nilai f(x) di akar: {f_root}\")\n",
        "    print(f\"Jumlah iterasi: {iteration_list}\")\n",
        "    #print(f\"Batas akhir a: {a_final}, b: {b_final}\")\n",
        "else:\n",
        "    print(\"Tidak ditemukan akar dalam batas iterasi yang diberikan.\")\n"
      ],
      "metadata": {
        "colab": {
          "base_uri": "https://localhost:8080/"
        },
        "id": "tbmrqqqzeRMJ",
        "outputId": "e7b415a5-a225-4a7b-8af6-c902c201cd07"
      },
      "execution_count": null,
      "outputs": [
        {
          "output_type": "stream",
          "name": "stdout",
          "text": [
            "Iterasi 1: Lower Bound = 1, Upper Bound = 2\n",
            "Iterasi 2: Lower Bound = 1.6666666666666665, Upper Bound = 2\n",
            "Iterasi 3: Lower Bound = 1.7272727272727273, Upper Bound = 1.8333333333333333\n",
            "Iterasi 4: Lower Bound = 1.7319148936170212, Upper Bound = 1.7803030303030303\n",
            "Iterasi 5: Lower Bound = 1.732048940329879, Upper Bound = 1.7561089619600256\n",
            "=====================================================================================\n",
            "Average CPU Time: 0.004446268081665039 seconds\n",
            "=====================================\n",
            "Akar yang ditemukan: 1.7320507946903536\n",
            "Jumlah iterasi: 5\n"
          ]
        }
      ]
    },
    {
      "cell_type": "markdown",
      "source": [
        "## PROBLEM 2\n",
        "X^2 - 5, INTERVAL [2,7]"
      ],
      "metadata": {
        "id": "0-XUbnkEAXFn"
      }
    },
    {
      "cell_type": "code",
      "source": [
        "def f(x):\n",
        "    return x**2 - 5\n"
      ],
      "metadata": {
        "id": "NWbuZDsTAhMm"
      },
      "execution_count": null,
      "outputs": []
    },
    {
      "cell_type": "code",
      "source": [
        "# Mulai pengukuran waktu\n",
        "start_time = time.time()\n",
        "\n",
        "\n",
        "def regula_falsi_bisection(a, b, eps=1e-6, max_iter=100):\n",
        "    n = 0\n",
        "    a1 = a\n",
        "    a2 = a\n",
        "    b1 = b\n",
        "    b2 = b\n",
        "    while n < max_iter:\n",
        "\n",
        "\n",
        "        # Menghitung xB dan xF\n",
        "        xB = (a + b) / 2  # Bisection: Titik tengah\n",
        "        xF = a - (f(a) * (b - a)) / (f(b) - f(a))  # False Position: Titik berdasarkan Regula Falsi\n",
        "        print(f\"Iterasi {n+1}: Lower Bound = {a}, Upper Bound = {b}\")\n",
        "        n+=1\n",
        "\n",
        "        # Memilih akar yang lebih kecil berdasarkan nilai f(x)\n",
        "        if abs(f(xB)) < abs(f(xF)):\n",
        "            x = xB\n",
        "        else:\n",
        "            x = xF\n",
        "\n",
        "        # Mengecek apakah nilai f(x) sudah cukup kecil\n",
        "        if abs(f(x)) <= eps:\n",
        "            return x, f(x), n, a, b\n",
        "\n",
        "        # Memperbarui batas a dan b\n",
        "        if f(a) * f(xB) < 0:\n",
        "            b1 = xB\n",
        "        else:\n",
        "            a1 = xB\n",
        "\n",
        "        if f(a) * f(xF) < 0:\n",
        "            b2 = xF\n",
        "        else:\n",
        "            a2 = xF\n",
        "\n",
        "        # Memperbarui nilai batas a dan b berdasarkan posisi maksimum dan minimum\n",
        "        a = max(a1, a2)\n",
        "        b = min(b1, b2)\n",
        "\n",
        "    return None, None, n, a, b  # Jika tidak konvergen dalam batas iterasi\n",
        "\n",
        "# Program utama\n",
        "a = 2  # Nilai batas bawah\n",
        "b = 7  # Nilai batas atas\n",
        "eps = 1e-6  # Toleransi kesalahan\n",
        "\n",
        "root, f_root, iter_count, a_final, b_final = regula_falsi_bisection(a, b, eps)\n",
        "\n",
        "end_time = time.time()\n",
        "\n",
        "# Hitung Average CPU Time\n",
        "cpu_time = end_time - start_time\n",
        "print(\"=====================================================================================\")\n",
        "print(\"Average CPU Time:\", cpu_time, \"seconds\")\n",
        "print(\"=====================================\")\n",
        "\n",
        "if root is not None:\n",
        "    print(f\"Akar yang ditemukan: {root}\")\n",
        "    #print(f\"Nilai f(x) di akar: {f_root}\")\n",
        "    print(f\"Jumlah iterasi: {iter_count}\")\n",
        "    print(f\"Batas akhir a: {a_final}, b: {b_final}\")\n",
        "else:\n",
        "    print(\"Tidak ditemukan akar dalam batas iterasi yang diberikan.\")\n"
      ],
      "metadata": {
        "colab": {
          "base_uri": "https://localhost:8080/"
        },
        "id": "O79ywWBgfPqM",
        "outputId": "9b7152db-03ec-4067-af29-4c2a6f191b8e"
      },
      "execution_count": null,
      "outputs": [
        {
          "output_type": "stream",
          "name": "stdout",
          "text": [
            "Iterasi 1: Lower Bound = 2, Upper Bound = 7\n",
            "Iterasi 2: Lower Bound = 2.111111111111111, Upper Bound = 4.5\n",
            "Iterasi 3: Lower Bound = 2.19327731092437, Upper Bound = 3.3055555555555554\n",
            "Iterasi 4: Lower Bound = 2.2277454684382563, Upper Bound = 2.7494164332399627\n",
            "Iterasi 5: Lower Bound = 2.235209587264748, Upper Bound = 2.4885809508391095\n",
            "Iterasi 6: Lower Bound = 2.2360220917500326, Upper Bound = 2.361895269051929\n",
            "Iterasi 7: Lower Bound = 2.2360667217835255, Upper Bound = 2.2989586804009807\n",
            "=====================================================================================\n",
            "Average CPU Time: 0.0035486221313476562 seconds\n",
            "=====================================\n",
            "Akar yang ditemukan: 2.2360679600858013\n",
            "Jumlah iterasi: 7\n",
            "Batas akhir a: 2.2360667217835255, b: 2.2989586804009807\n"
          ]
        }
      ]
    },
    {
      "cell_type": "markdown",
      "source": [
        "## PROBLEM 3\n",
        "X^2 - 10 , INTERVAL [3,4]"
      ],
      "metadata": {
        "id": "IdmaMilNAxsu"
      }
    },
    {
      "cell_type": "code",
      "source": [
        "def f(x) :\n",
        "  return x**2 -10"
      ],
      "metadata": {
        "id": "JQfeMUaKA_RM"
      },
      "execution_count": null,
      "outputs": []
    },
    {
      "cell_type": "code",
      "source": [
        "# Mulai pengukuran waktu\n",
        "start_time = time.time()\n",
        "\n",
        "\n",
        "def regula_falsi_bisection(a, b, eps=1e-6, max_iter=100):\n",
        "    n = 0\n",
        "    a1 = a\n",
        "    a2 = a\n",
        "    b1 = b\n",
        "    b2 = b\n",
        "    while n < max_iter:\n",
        "\n",
        "\n",
        "        # Menghitung xB dan xF\n",
        "        xB = (a + b) / 2  # Bisection: Titik tengah\n",
        "        xF = a - (f(a) * (b - a)) / (f(b) - f(a))  # False Position: Titik berdasarkan Regula Falsi\n",
        "        print(f\"Iterasi {n+1}: Lower Bound = {a}, Upper Bound = {b}\")\n",
        "        n+=1\n",
        "\n",
        "        # Memilih akar yang lebih kecil berdasarkan nilai f(x)\n",
        "        if abs(f(xB)) < abs(f(xF)):\n",
        "            x = xB\n",
        "        else:\n",
        "            x = xF\n",
        "\n",
        "        # Mengecek apakah nilai f(x) sudah cukup kecil\n",
        "        if abs(f(x)) <= eps:\n",
        "            return x, f(x), n, a, b\n",
        "\n",
        "        # Memperbarui batas a dan b\n",
        "        if f(a) * f(xB) < 0:\n",
        "            b1 = xB\n",
        "        else:\n",
        "            a1 = xB\n",
        "\n",
        "        if f(a) * f(xF) < 0:\n",
        "            b2 = xF\n",
        "        else:\n",
        "            a2 = xF\n",
        "\n",
        "        # Memperbarui nilai batas a dan b berdasarkan posisi maksimum dan minimum\n",
        "        a = max(a1, a2)\n",
        "        b = min(b1, b2)\n",
        "\n",
        "    return None, None, n, a, b  # Jika tidak konvergen dalam batas iterasi\n",
        "\n",
        "# Program utama\n",
        "a = 3  # Nilai batas bawah\n",
        "b = 4  # Nilai batas atas\n",
        "eps = 1e-6  # Toleransi kesalahan\n",
        "\n",
        "root, f_root, iter_count, a_final, b_final = regula_falsi_bisection(a, b, eps)\n",
        "\n",
        "end_time = time.time()\n",
        "\n",
        "# Hitung Average CPU Time\n",
        "cpu_time = end_time - start_time\n",
        "print(\"=====================================================================================\")\n",
        "print(\"Average CPU Time:\", cpu_time, \"seconds\")\n",
        "print(\"=====================================\")\n",
        "\n",
        "if root is not None:\n",
        "    print(f\"Akar yang ditemukan: {root}\")\n",
        "    #print(f\"Nilai f(x) di akar: {f_root}\")\n",
        "    print(f\"Jumlah iterasi: {iter_count}\")\n",
        "    print(f\"Batas akhir a: {a_final}, b: {b_final}\")\n",
        "else:\n",
        "    print(\"Tidak ditemukan akar dalam batas iterasi yang diberikan.\")\n"
      ],
      "metadata": {
        "colab": {
          "base_uri": "https://localhost:8080/"
        },
        "id": "YHxQi3OBiGol",
        "outputId": "31fe5c1c-3565-4a18-9242-162abe196a88"
      },
      "execution_count": null,
      "outputs": [
        {
          "output_type": "stream",
          "name": "stdout",
          "text": [
            "Iterasi 1: Lower Bound = 3, Upper Bound = 4\n",
            "Iterasi 2: Lower Bound = 3.142857142857143, Upper Bound = 3.5\n",
            "Iterasi 3: Lower Bound = 3.161290322580645, Upper Bound = 3.321428571428571\n",
            "Iterasi 4: Lower Bound = 3.1622534210058646, Upper Bound = 3.241359447004608\n",
            "Iterasi 5: Lower Bound = 3.1622773608254424, Upper Bound = 3.2018064340052366\n",
            "=====================================================================================\n",
            "Average CPU Time: 0.0009620189666748047 seconds\n",
            "=====================================\n",
            "Akar yang ditemukan: 3.162277658309092\n",
            "Jumlah iterasi: 5\n",
            "Batas akhir a: 3.1622773608254424, b: 3.2018064340052366\n"
          ]
        }
      ]
    },
    {
      "cell_type": "markdown",
      "source": [
        "## Problem 4\n",
        "x^2 - x - 2, Interval [1,4]\n"
      ],
      "metadata": {
        "id": "G4tK-Ny9BLyH"
      }
    },
    {
      "cell_type": "code",
      "source": [
        "def f(x) :\n",
        "  return x**2 - x -2"
      ],
      "metadata": {
        "id": "k9y-lq8xBTPq"
      },
      "execution_count": null,
      "outputs": []
    },
    {
      "cell_type": "code",
      "source": [
        "# Mulai pengukuran waktu\n",
        "start_time = time.time()\n",
        "\n",
        "\n",
        "def regula_falsi_bisection(a, b, eps=1e-6, max_iter=100):\n",
        "    n = 0\n",
        "    a1 = a\n",
        "    a2 = a\n",
        "    b1 = b\n",
        "    b2 = b\n",
        "    while n < max_iter:\n",
        "\n",
        "\n",
        "        # Menghitung xB dan xF\n",
        "        xB = (a + b) / 2  # Bisection: Titik tengah\n",
        "        xF = a - (f(a) * (b - a)) / (f(b) - f(a))  # False Position: Titik berdasarkan Regula Falsi\n",
        "        print(f\"Iterasi {n+1}: Lower Bound = {a}, Upper Bound = {b}\")\n",
        "        n+=1\n",
        "\n",
        "        # Memilih akar yang lebih kecil berdasarkan nilai f(x)\n",
        "        if abs(f(xB)) < abs(f(xF)):\n",
        "            x = xB\n",
        "        else:\n",
        "            x = xF\n",
        "\n",
        "        # Mengecek apakah nilai f(x) sudah cukup kecil\n",
        "        if abs(f(x)) <= eps:\n",
        "            return x, f(x), n, a, b\n",
        "\n",
        "        # Memperbarui batas a dan b\n",
        "        if f(a) * f(xB) < 0:\n",
        "            b1 = xB\n",
        "        else:\n",
        "            a1 = xB\n",
        "\n",
        "        if f(a) * f(xF) < 0:\n",
        "            b2 = xF\n",
        "        else:\n",
        "            a2 = xF\n",
        "\n",
        "        # Memperbarui nilai batas a dan b berdasarkan posisi maksimum dan minimum\n",
        "        a = max(a1, a2)\n",
        "        b = min(b1, b2)\n",
        "\n",
        "    return None, None, n, a, b  # Jika tidak konvergen dalam batas iterasi\n",
        "\n",
        "# Program utama\n",
        "a = 1  # Nilai batas bawah\n",
        "b = 4  # Nilai batas atas\n",
        "eps = 1e-6  # Toleransi kesalahan\n",
        "\n",
        "root, f_root, iter_count, a_final, b_final = regula_falsi_bisection(a, b, eps)\n",
        "\n",
        "end_time = time.time()\n",
        "\n",
        "# Hitung Average CPU Time\n",
        "cpu_time = end_time - start_time\n",
        "print(\"=====================================================================================\")\n",
        "print(\"Average CPU Time:\", cpu_time, \"seconds\")\n",
        "print(\"=====================================\")\n",
        "\n",
        "if root is not None:\n",
        "    print(f\"Akar yang ditemukan: {root}\")\n",
        "    #print(f\"Nilai f(x) di akar: {f_root}\")\n",
        "    print(f\"Jumlah iterasi: {iter_count}\")\n",
        "    print(f\"Batas akhir a: {a_final}, b: {b_final}\")\n",
        "else:\n",
        "    print(\"Tidak ditemukan akar dalam batas iterasi yang diberikan.\")\n"
      ],
      "metadata": {
        "colab": {
          "base_uri": "https://localhost:8080/"
        },
        "id": "faqeW5DuBYb2",
        "outputId": "fdd55eb7-08dd-4837-be30-fd57e03fccf8"
      },
      "execution_count": null,
      "outputs": [
        {
          "output_type": "stream",
          "name": "stdout",
          "text": [
            "Iterasi 1: Lower Bound = 1, Upper Bound = 4\n",
            "Iterasi 2: Lower Bound = 1.5, Upper Bound = 2.5\n",
            "=====================================================================================\n",
            "Average CPU Time: 0.004087686538696289 seconds\n",
            "=====================================\n",
            "Akar yang ditemukan: 2.0\n",
            "Jumlah iterasi: 2\n",
            "Batas akhir a: 1.5, b: 2.5\n"
          ]
        }
      ]
    },
    {
      "cell_type": "markdown",
      "source": [
        "## Problem 5\n",
        "x^2 + 2x - 7, Interval [1,3]"
      ],
      "metadata": {
        "id": "h9yvon4fBd6e"
      }
    },
    {
      "cell_type": "code",
      "source": [
        "def f(x) :\n",
        "  return x**2 + 2*x -7"
      ],
      "metadata": {
        "id": "kcqNwSfABrKf"
      },
      "execution_count": null,
      "outputs": []
    },
    {
      "cell_type": "code",
      "source": [
        "# Mulai pengukuran waktu\n",
        "start_time = time.time()\n",
        "\n",
        "\n",
        "def regula_falsi_bisection(a, b, eps=1e-6, max_iter=100):\n",
        "    n = 0\n",
        "    a1 = a\n",
        "    a2 = a\n",
        "    b1 = b\n",
        "    b2 = b\n",
        "    while n < max_iter:\n",
        "\n",
        "\n",
        "        # Menghitung xB dan xF\n",
        "        xB = (a + b) / 2  # Bisection: Titik tengah\n",
        "        xF = a - (f(a) * (b - a)) / (f(b) - f(a))  # False Position: Titik berdasarkan Regula Falsi\n",
        "        print(f\"Iterasi {n+1}: Lower Bound = {a}, Upper Bound = {b}\")\n",
        "        n+=1\n",
        "\n",
        "        # Memilih akar yang lebih kecil berdasarkan nilai f(x)\n",
        "        if abs(f(xB)) < abs(f(xF)):\n",
        "            x = xB\n",
        "        else:\n",
        "            x = xF\n",
        "\n",
        "        # Mengecek apakah nilai f(x) sudah cukup kecil\n",
        "        if abs(f(x)) <= eps:\n",
        "            return x, f(x), n, a, b\n",
        "\n",
        "        # Memperbarui batas a dan b\n",
        "        if f(a) * f(xB) < 0:\n",
        "            b1 = xB\n",
        "        else:\n",
        "            a1 = xB\n",
        "\n",
        "        if f(a) * f(xF) < 0:\n",
        "            b2 = xF\n",
        "        else:\n",
        "            a2 = xF\n",
        "\n",
        "        # Memperbarui nilai batas a dan b berdasarkan posisi maksimum dan minimum\n",
        "        a = max(a1, a2)\n",
        "        b = min(b1, b2)\n",
        "\n",
        "    return None, None, n, a, b  # Jika tidak konvergen dalam batas iterasi\n",
        "\n",
        "# Program utama\n",
        "a = 1  # Nilai batas bawah\n",
        "b = 3  # Nilai batas atas\n",
        "eps = 1e-6  # Toleransi kesalahan\n",
        "\n",
        "root, f_root, iter_count, a_final, b_final = regula_falsi_bisection(a, b, eps)\n",
        "\n",
        "end_time = time.time()\n",
        "\n",
        "# Hitung Average CPU Time\n",
        "cpu_time = end_time - start_time\n",
        "print(\"=====================================================================================\")\n",
        "print(\"Average CPU Time:\", cpu_time, \"seconds\")\n",
        "print(\"=====================================\")\n",
        "\n",
        "if root is not None:\n",
        "    print(f\"Akar yang ditemukan: {root}\")\n",
        "    #print(f\"Nilai f(x) di akar: {f_root}\")\n",
        "    print(f\"Jumlah iterasi: {iter_count}\")\n",
        "    print(f\"Batas akhir a: {a_final}, b: {b_final}\")\n",
        "else:\n",
        "    print(\"Tidak ditemukan akar dalam batas iterasi yang diberikan.\")\n"
      ],
      "metadata": {
        "colab": {
          "base_uri": "https://localhost:8080/"
        },
        "id": "ad37Wu9mBppV",
        "outputId": "88bf2356-3720-4563-d32d-85b5ec7a1b7d"
      },
      "execution_count": null,
      "outputs": [
        {
          "output_type": "stream",
          "name": "stdout",
          "text": [
            "Iterasi 1: Lower Bound = 1, Upper Bound = 3\n",
            "Iterasi 2: Lower Bound = 1.6666666666666665, Upper Bound = 2.0\n",
            "Iterasi 3: Lower Bound = 1.8235294117647058, Upper Bound = 1.8333333333333333\n",
            "Iterasi 4: Lower Bound = 1.8284228769497402, Upper Bound = 1.8284313725490196\n",
            "=====================================================================================\n",
            "Average CPU Time: 0.0017893314361572266 seconds\n",
            "=====================================\n",
            "Akar yang ditemukan: 1.8284271247493797\n",
            "Jumlah iterasi: 4\n",
            "Batas akhir a: 1.8284228769497402, b: 1.8284313725490196\n"
          ]
        }
      ]
    },
    {
      "cell_type": "markdown",
      "source": [
        "## Problem 6\n",
        "x^3 - 2, Interval [0,2]"
      ],
      "metadata": {
        "id": "E4987VKZBw92"
      }
    },
    {
      "cell_type": "code",
      "source": [
        "def f(x) :\n",
        "  return x**3 - 2"
      ],
      "metadata": {
        "id": "dcJ8i51kDJjx"
      },
      "execution_count": null,
      "outputs": []
    },
    {
      "cell_type": "code",
      "source": [
        "# Mulai pengukuran waktu\n",
        "start_time = time.time()\n",
        "\n",
        "\n",
        "def regula_falsi_bisection(a, b, eps=1e-6, max_iter=100):\n",
        "    n = 0\n",
        "    a1 = a\n",
        "    a2 = a\n",
        "    b1 = b\n",
        "    b2 = b\n",
        "    while n < max_iter:\n",
        "\n",
        "\n",
        "        # Menghitung xB dan xF\n",
        "        xB = (a + b) / 2  # Bisection: Titik tengah\n",
        "        xF = a - (f(a) * (b - a)) / (f(b) - f(a))  # False Position: Titik berdasarkan Regula Falsi\n",
        "        print(f\"Iterasi {n+1}: Lower Bound = {a}, Upper Bound = {b}\")\n",
        "        n+=1\n",
        "\n",
        "        # Memilih akar yang lebih kecil berdasarkan nilai f(x)\n",
        "        if abs(f(xB)) < abs(f(xF)):\n",
        "            x = xB\n",
        "        else:\n",
        "            x = xF\n",
        "\n",
        "        # Mengecek apakah nilai f(x) sudah cukup kecil\n",
        "        if abs(f(x)) <= eps:\n",
        "            return x, f(x), n, a, b\n",
        "\n",
        "        # Memperbarui batas a dan b\n",
        "        if f(a) * f(xB) < 0:\n",
        "            b1 = xB\n",
        "        else:\n",
        "            a1 = xB\n",
        "\n",
        "        if f(a) * f(xF) < 0:\n",
        "            b2 = xF\n",
        "        else:\n",
        "            a2 = xF\n",
        "\n",
        "        # Memperbarui nilai batas a dan b berdasarkan posisi maksimum dan minimum\n",
        "        a = max(a1, a2)\n",
        "        b = min(b1, b2)\n",
        "\n",
        "    return None, None, n, a, b  # Jika tidak konvergen dalam batas iterasi\n",
        "\n",
        "# Program utama\n",
        "a = 0  # Nilai batas bawah\n",
        "b = 2  # Nilai batas atas\n",
        "eps = 1e-6  # Toleransi kesalahan\n",
        "\n",
        "root, f_root, iter_count, a_final, b_final = regula_falsi_bisection(a, b, eps)\n",
        "\n",
        "end_time = time.time()\n",
        "\n",
        "# Hitung Average CPU Time\n",
        "cpu_time = end_time - start_time\n",
        "print(\"=====================================================================================\")\n",
        "print(\"Average CPU Time:\", cpu_time, \"seconds\")\n",
        "print(\"=====================================\")\n",
        "\n",
        "if root is not None:\n",
        "    print(f\"Akar yang ditemukan: {root}\")\n",
        "    #print(f\"Nilai f(x) di akar: {f_root}\")\n",
        "    print(f\"Jumlah iterasi: {iter_count}\")\n",
        "    print(f\"Batas akhir a: {a_final}, b: {b_final}\")\n",
        "else:\n",
        "    print(\"Tidak ditemukan akar dalam batas iterasi yang diberikan.\")\n"
      ],
      "metadata": {
        "colab": {
          "base_uri": "https://localhost:8080/"
        },
        "id": "I_g08i_yDR4D",
        "outputId": "2edb5391-7170-4d16-ffe4-c11d83942145"
      },
      "execution_count": null,
      "outputs": [
        {
          "output_type": "stream",
          "name": "stdout",
          "text": [
            "Iterasi 1: Lower Bound = 0, Upper Bound = 2\n",
            "Iterasi 2: Lower Bound = 1.0, Upper Bound = 2\n",
            "Iterasi 3: Lower Bound = 1.1428571428571428, Upper Bound = 1.5\n",
            "Iterasi 4: Lower Bound = 1.239109390125847, Upper Bound = 1.3214285714285714\n",
            "Iterasi 5: Lower Bound = 1.2589268420413355, Upper Bound = 1.2802689807772092\n",
            "Iterasi 6: Lower Bound = 1.2599051565167085, Upper Bound = 1.2695979114092724\n",
            "=====================================================================================\n",
            "Average CPU Time: 0.0015532970428466797 seconds\n",
            "=====================================\n",
            "Akar yang ditemukan: 1.2599209284469346\n",
            "Jumlah iterasi: 6\n",
            "Batas akhir a: 1.2599051565167085, b: 1.2695979114092724\n"
          ]
        }
      ]
    },
    {
      "cell_type": "markdown",
      "source": [
        "## Problem 7\n",
        "x*e^x - 7, Interval [0,2]"
      ],
      "metadata": {
        "id": "TjxwlzIfB3lm"
      }
    },
    {
      "cell_type": "code",
      "source": [
        "def f(x) :\n",
        "  return x*math.exp(x) - 7"
      ],
      "metadata": {
        "id": "ddalX9gvDU7w"
      },
      "execution_count": null,
      "outputs": []
    },
    {
      "cell_type": "code",
      "source": [
        "# Mulai pengukuran waktu\n",
        "start_time = time.time()\n",
        "\n",
        "\n",
        "def regula_falsi_bisection(a, b, eps=1e-6, max_iter=100):\n",
        "    n = 0\n",
        "    a1 = a\n",
        "    a2 = a\n",
        "    b1 = b\n",
        "    b2 = b\n",
        "    while n < max_iter:\n",
        "\n",
        "\n",
        "        # Menghitung xB dan xF\n",
        "        xB = (a + b) / 2  # Bisection: Titik tengah\n",
        "        xF = a - (f(a) * (b - a)) / (f(b) - f(a))  # False Position: Titik berdasarkan Regula Falsi\n",
        "        print(f\"Iterasi {n+1}: Lower Bound = {a}, Upper Bound = {b}\")\n",
        "        n+=1\n",
        "\n",
        "        # Memilih akar yang lebih kecil berdasarkan nilai f(x)\n",
        "        if abs(f(xB)) < abs(f(xF)):\n",
        "            x = xB\n",
        "        else:\n",
        "            x = xF\n",
        "\n",
        "        # Mengecek apakah nilai f(x) sudah cukup kecil\n",
        "        if abs(f(x)) <= eps:\n",
        "            return x, f(x), n, a, b\n",
        "\n",
        "        # Memperbarui batas a dan b\n",
        "        if f(a) * f(xB) < 0:\n",
        "            b1 = xB\n",
        "        else:\n",
        "            a1 = xB\n",
        "\n",
        "        if f(a) * f(xF) < 0:\n",
        "            b2 = xF\n",
        "        else:\n",
        "            a2 = xF\n",
        "\n",
        "        # Memperbarui nilai batas a dan b berdasarkan posisi maksimum dan minimum\n",
        "        a = max(a1, a2)\n",
        "        b = min(b1, b2)\n",
        "\n",
        "    return None, None, n, a, b  # Jika tidak konvergen dalam batas iterasi\n",
        "\n",
        "# Program utama\n",
        "a = 0  # Nilai batas bawah\n",
        "b = 2  # Nilai batas atas\n",
        "eps = 1e-6  # Toleransi kesalahan\n",
        "\n",
        "root, f_root, iter_count, a_final, b_final = regula_falsi_bisection(a, b, eps)\n",
        "\n",
        "end_time = time.time()\n",
        "\n",
        "# Hitung Average CPU Time\n",
        "cpu_time = end_time - start_time\n",
        "print(\"=====================================================================================\")\n",
        "print(\"Average CPU Time:\", cpu_time, \"seconds\")\n",
        "print(\"=====================================\")\n",
        "\n",
        "if root is not None:\n",
        "    print(f\"Akar yang ditemukan: {root}\")\n",
        "    #print(f\"Nilai f(x) di akar: {f_root}\")\n",
        "    print(f\"Jumlah iterasi: {iter_count}\")\n",
        "    print(f\"Batas akhir a: {a_final}, b: {b_final}\")\n",
        "else:\n",
        "    print(\"Tidak ditemukan akar dalam batas iterasi yang diberikan.\")\n"
      ],
      "metadata": {
        "colab": {
          "base_uri": "https://localhost:8080/"
        },
        "id": "6NoIGZ94DXoU",
        "outputId": "ff1a9e81-fd2c-403f-aac2-e02689c252a9"
      },
      "execution_count": null,
      "outputs": [
        {
          "output_type": "stream",
          "name": "stdout",
          "text": [
            "Iterasi 1: Lower Bound = 0, Upper Bound = 2\n",
            "Iterasi 2: Lower Bound = 1.0, Upper Bound = 2\n",
            "Iterasi 3: Lower Bound = 1.5, Upper Bound = 2\n",
            "Iterasi 4: Lower Bound = 1.517222002821514, Upper Bound = 1.75\n",
            "Iterasi 5: Lower Bound = 1.5232884880811075, Upper Bound = 1.633611001410757\n",
            "Iterasi 6: Lower Bound = 1.5242669413819245, Upper Bound = 1.5784497447459322\n",
            "Iterasi 7: Lower Bound = 1.524342292026216, Upper Bound = 1.5513583430639284\n",
            "=====================================================================================\n",
            "Average CPU Time: 0.0009105205535888672 seconds\n",
            "=====================================\n",
            "Akar yang ditemukan: 1.5243451504542236\n",
            "Jumlah iterasi: 7\n",
            "Batas akhir a: 1.524342292026216, b: 1.5513583430639284\n"
          ]
        }
      ]
    },
    {
      "cell_type": "markdown",
      "source": [
        "## Problem 8\n",
        "x - cos(x), Interval [0,1]"
      ],
      "metadata": {
        "id": "UpsJs2I4CAKr"
      }
    },
    {
      "cell_type": "code",
      "source": [
        "def f(x) :\n",
        "  return x - math.cos(x)"
      ],
      "metadata": {
        "id": "pDah2xHbDaUt"
      },
      "execution_count": null,
      "outputs": []
    },
    {
      "cell_type": "code",
      "source": [
        "# Mulai pengukuran waktu\n",
        "start_time = time.time()\n",
        "\n",
        "\n",
        "def regula_falsi_bisection(a, b, eps=1e-6, max_iter=100):\n",
        "    n = 0\n",
        "    a1 = a\n",
        "    a2 = a\n",
        "    b1 = b\n",
        "    b2 = b\n",
        "    while n < max_iter:\n",
        "\n",
        "\n",
        "        # Menghitung xB dan xF\n",
        "        xB = (a + b) / 2  # Bisection: Titik tengah\n",
        "        xF = a - (f(a) * (b - a)) / (f(b) - f(a))  # False Position: Titik berdasarkan Regula Falsi\n",
        "        print(f\"Iterasi {n+1}: Lower Bound = {a}, Upper Bound = {b}\")\n",
        "        n+=1\n",
        "\n",
        "        # Memilih akar yang lebih kecil berdasarkan nilai f(x)\n",
        "        if abs(f(xB)) < abs(f(xF)):\n",
        "            x = xB\n",
        "        else:\n",
        "            x = xF\n",
        "\n",
        "        # Mengecek apakah nilai f(x) sudah cukup kecil\n",
        "        if abs(f(x)) <= eps:\n",
        "            return x, f(x), n, a, b\n",
        "\n",
        "        # Memperbarui batas a dan b\n",
        "        if f(a) * f(xB) < 0:\n",
        "            b1 = xB\n",
        "        else:\n",
        "            a1 = xB\n",
        "\n",
        "        if f(a) * f(xF) < 0:\n",
        "            b2 = xF\n",
        "        else:\n",
        "            a2 = xF\n",
        "\n",
        "        # Memperbarui nilai batas a dan b berdasarkan posisi maksimum dan minimum\n",
        "        a = max(a1, a2)\n",
        "        b = min(b1, b2)\n",
        "\n",
        "    return None, None, n, a, b  # Jika tidak konvergen dalam batas iterasi\n",
        "\n",
        "# Program utama\n",
        "a = 0  # Nilai batas bawah\n",
        "b = 1  # Nilai batas atas\n",
        "eps = 1e-6  # Toleransi kesalahan\n",
        "\n",
        "root, f_root, iter_count, a_final, b_final = regula_falsi_bisection(a, b, eps)\n",
        "\n",
        "end_time = time.time()\n",
        "\n",
        "# Hitung Average CPU Time\n",
        "cpu_time = end_time - start_time\n",
        "print(\"=====================================================================================\")\n",
        "print(\"Average CPU Time:\", cpu_time, \"seconds\")\n",
        "print(\"=====================================\")\n",
        "\n",
        "if root is not None:\n",
        "    print(f\"Akar yang ditemukan: {root}\")\n",
        "    #print(f\"Nilai f(x) di akar: {f_root}\")\n",
        "    print(f\"Jumlah iterasi: {iter_count}\")\n",
        "    print(f\"Batas akhir a: {a_final}, b: {b_final}\")\n",
        "else:\n",
        "    print(\"Tidak ditemukan akar dalam batas iterasi yang diberikan.\")\n"
      ],
      "metadata": {
        "colab": {
          "base_uri": "https://localhost:8080/"
        },
        "id": "qcC9-IRhDd3p",
        "outputId": "a411d30c-fd4d-4d3e-b958-5faaf40d7578"
      },
      "execution_count": null,
      "outputs": [
        {
          "output_type": "stream",
          "name": "stdout",
          "text": [
            "Iterasi 1: Lower Bound = 0, Upper Bound = 1\n",
            "Iterasi 2: Lower Bound = 0.6850733573260451, Upper Bound = 1\n",
            "Iterasi 3: Lower Bound = 0.736298997613654, Upper Bound = 0.8425366786630226\n",
            "Iterasi 4: Lower Bound = 0.739024788977878, Upper Bound = 0.7894178381383383\n",
            "Iterasi 5: Lower Bound = 0.7390844800859678, Upper Bound = 0.7642213135581082\n",
            "=====================================================================================\n",
            "Average CPU Time: 0.0011165142059326172 seconds\n",
            "=====================================\n",
            "Akar yang ditemukan: 0.739085129637734\n",
            "Jumlah iterasi: 5\n",
            "Batas akhir a: 0.7390844800859678, b: 0.7642213135581082\n"
          ]
        }
      ]
    },
    {
      "cell_type": "markdown",
      "source": [
        "## Problem 9\n",
        "x*sin(x) - 1, Interval [0,2]"
      ],
      "metadata": {
        "id": "aw_BjFWACHD_"
      }
    },
    {
      "cell_type": "code",
      "source": [
        "def f(x) :\n",
        "  return x*math.sin(x) - 1"
      ],
      "metadata": {
        "id": "AaCfONLhDjhv"
      },
      "execution_count": null,
      "outputs": []
    },
    {
      "cell_type": "code",
      "source": [
        "# Mulai pengukuran waktu\n",
        "start_time = time.time()\n",
        "\n",
        "\n",
        "def regula_falsi_bisection(a, b, eps=1e-6, max_iter=100):\n",
        "    n = 0\n",
        "    a1 = a\n",
        "    a2 = a\n",
        "    b1 = b\n",
        "    b2 = b\n",
        "    while n < max_iter:\n",
        "\n",
        "\n",
        "        # Menghitung xB dan xF\n",
        "        xB = (a + b) / 2  # Bisection: Titik tengah\n",
        "        xF = a - (f(a) * (b - a)) / (f(b) - f(a))  # False Position: Titik berdasarkan Regula Falsi\n",
        "        print(f\"Iterasi {n+1}: Lower Bound = {a}, Upper Bound = {b}\")\n",
        "        n+=1\n",
        "\n",
        "        # Memilih akar yang lebih kecil berdasarkan nilai f(x)\n",
        "        if abs(f(xB)) < abs(f(xF)):\n",
        "            x = xB\n",
        "        else:\n",
        "            x = xF\n",
        "\n",
        "        # Mengecek apakah nilai f(x) sudah cukup kecil\n",
        "        if abs(f(x)) <= eps:\n",
        "            return x, f(x), n, a, b\n",
        "\n",
        "        # Memperbarui batas a dan b\n",
        "        if f(a) * f(xB) < 0:\n",
        "            b1 = xB\n",
        "        else:\n",
        "            a1 = xB\n",
        "\n",
        "        if f(a) * f(xF) < 0:\n",
        "            b2 = xF\n",
        "        else:\n",
        "            a2 = xF\n",
        "\n",
        "        # Memperbarui nilai batas a dan b berdasarkan posisi maksimum dan minimum\n",
        "        a = max(a1, a2)\n",
        "        b = min(b1, b2)\n",
        "\n",
        "    return None, None, n, a, b  # Jika tidak konvergen dalam batas iterasi\n",
        "\n",
        "# Program utama\n",
        "a = 0  # Nilai batas bawah\n",
        "b = 2  # Nilai batas atas\n",
        "eps = 1e-6  # Toleransi kesalahan\n",
        "\n",
        "root, f_root, iter_count, a_final, b_final = regula_falsi_bisection(a, b, eps)\n",
        "\n",
        "end_time = time.time()\n",
        "\n",
        "# Hitung Average CPU Time\n",
        "cpu_time = end_time - start_time\n",
        "print(\"=====================================================================================\")\n",
        "print(\"Average CPU Time:\", cpu_time, \"seconds\")\n",
        "print(\"=====================================\")\n",
        "\n",
        "if root is not None:\n",
        "    print(f\"Akar yang ditemukan: {root}\")\n",
        "    #print(f\"Nilai f(x) di akar: {f_root}\")\n",
        "    print(f\"Jumlah iterasi: {iter_count}\")\n",
        "    print(f\"Batas akhir a: {a_final}, b: {b_final}\")\n",
        "else:\n",
        "    print(\"Tidak ditemukan akar dalam batas iterasi yang diberikan.\")\n"
      ],
      "metadata": {
        "colab": {
          "base_uri": "https://localhost:8080/"
        },
        "id": "ILJ-OAc4DmeV",
        "outputId": "bcfaebc5-1311-473d-c8c5-af4ed9f3745a"
      },
      "execution_count": null,
      "outputs": [
        {
          "output_type": "stream",
          "name": "stdout",
          "text": [
            "Iterasi 1: Lower Bound = 0, Upper Bound = 2\n",
            "Iterasi 2: Lower Bound = 1.0997501702946164, Upper Bound = 2\n",
            "Iterasi 3: Lower Bound = 1.0997501702946164, Upper Bound = 1.1212407359645027\n",
            "Iterasi 4: Lower Bound = 1.1104954531295594, Upper Bound = 1.1141611949626335\n",
            "=====================================================================================\n",
            "Average CPU Time: 0.005829811096191406 seconds\n",
            "=====================================\n",
            "Akar yang ditemukan: 1.1141571414824443\n",
            "Jumlah iterasi: 4\n",
            "Batas akhir a: 1.1104954531295594, b: 1.1141611949626335\n"
          ]
        }
      ]
    },
    {
      "cell_type": "markdown",
      "source": [
        "## Problem 10\n",
        "x*cos(x) + 1 , Interval [-2,4]"
      ],
      "metadata": {
        "id": "uM5AnxkVCRl-"
      }
    },
    {
      "cell_type": "code",
      "source": [
        "def f(x) :\n",
        "  return x*math.cos(x) + 1"
      ],
      "metadata": {
        "id": "LFCObf2sD2f6"
      },
      "execution_count": null,
      "outputs": []
    },
    {
      "cell_type": "code",
      "source": [
        "# Mulai pengukuran waktu\n",
        "start_time = time.time()\n",
        "\n",
        "\n",
        "def regula_falsi_bisection(a, b, eps=1e-6, max_iter=100):\n",
        "    n = 0\n",
        "    a1 = a\n",
        "    a2 = a\n",
        "    b1 = b\n",
        "    b2 = b\n",
        "    while n < max_iter:\n",
        "\n",
        "\n",
        "        # Menghitung xB dan xF\n",
        "        xB = (a + b) / 2  # Bisection: Titik tengah\n",
        "        xF = a - (f(a) * (b - a)) / (f(b) - f(a))  # False Position: Titik berdasarkan Regula Falsi\n",
        "        print(f\"Iterasi {n+1}: Lower Bound = {a}, Upper Bound = {b}\")\n",
        "        n+=1\n",
        "\n",
        "        # Memilih akar yang lebih kecil berdasarkan nilai f(x)\n",
        "        if abs(f(xB)) < abs(f(xF)):\n",
        "            x = xB\n",
        "        else:\n",
        "            x = xF\n",
        "\n",
        "        # Mengecek apakah nilai f(x) sudah cukup kecil\n",
        "        if abs(f(x)) <= eps:\n",
        "            return x, f(x), n, a, b\n",
        "\n",
        "        # Memperbarui batas a dan b\n",
        "        if f(a) * f(xB) < 0:\n",
        "            b1 = xB\n",
        "        else:\n",
        "            a1 = xB\n",
        "\n",
        "        if f(a) * f(xF) < 0:\n",
        "            b2 = xF\n",
        "        else:\n",
        "            a2 = xF\n",
        "\n",
        "        # Memperbarui nilai batas a dan b berdasarkan posisi maksimum dan minimum\n",
        "        a = max(a1, a2)\n",
        "        b = min(b1, b2)\n",
        "\n",
        "    return None, None, n, a, b  # Jika tidak konvergen dalam batas iterasi\n",
        "\n",
        "# Program utama\n",
        "a = -2  # Nilai batas bawah\n",
        "b = 4 # Nilai batas atas\n",
        "eps = 1e-6  # Toleransi kesalahan\n",
        "\n",
        "root, f_root, iter_count, a_final, b_final = regula_falsi_bisection(a, b, eps)\n",
        "\n",
        "end_time = time.time()\n",
        "\n",
        "# Hitung Average CPU Time\n",
        "cpu_time = end_time - start_time\n",
        "print(\"=====================================================================================\")\n",
        "print(\"Average CPU Time:\", cpu_time, \"seconds\")\n",
        "print(\"=====================================\")\n",
        "\n",
        "if root is not None:\n",
        "    print(f\"Akar yang ditemukan: {root}\")\n",
        "    #print(f\"Nilai f(x) di akar: {f_root}\")\n",
        "    print(f\"Jumlah iterasi: {iter_count}\")\n",
        "    print(f\"Batas akhir a: {a_final}, b: {b_final}\")\n",
        "else:\n",
        "    print(\"Tidak ditemukan akar dalam batas iterasi yang diberikan.\")\n"
      ],
      "metadata": {
        "colab": {
          "base_uri": "https://localhost:8080/"
        },
        "id": "50AqBOlwD5ZL",
        "outputId": "0ff22d28-8182-4aa4-d66b-515008ab2851"
      },
      "execution_count": null,
      "outputs": [
        {
          "output_type": "stream",
          "name": "stdout",
          "text": [
            "Iterasi 1: Lower Bound = -2, Upper Bound = 4\n",
            "Iterasi 2: Lower Bound = 1.1894930526073568, Upper Bound = 4\n",
            "Iterasi 3: Lower Bound = 1.1894930526073568, Upper Bound = 2.5157197710146586\n",
            "Iterasi 4: Lower Bound = 1.9605038923874831, Upper Bound = 2.5157197710146586\n",
            "Iterasi 5: Lower Bound = 2.069985936828866, Upper Bound = 2.2381118317010706\n",
            "Iterasi 6: Lower Bound = 2.073853673718933, Upper Bound = 2.1540488842649683\n",
            "Iterasi 7: Lower Bound = 2.073931904316397, Upper Bound = 2.1139512789919506\n",
            "=====================================================================================\n",
            "Average CPU Time: 0.000888824462890625 seconds\n",
            "=====================================\n",
            "Akar yang ditemukan: 2.0739328035480877\n",
            "Jumlah iterasi: 7\n",
            "Batas akhir a: 2.073931904316397, b: 2.1139512789919506\n"
          ]
        }
      ]
    },
    {
      "cell_type": "markdown",
      "source": [
        "## Problem 11\n",
        "x^10 - 1, Interval [0,1.3]\n"
      ],
      "metadata": {
        "id": "5rcbSnAYCZsB"
      }
    },
    {
      "cell_type": "code",
      "source": [
        "def f(x) :\n",
        "  return x**10 - 1"
      ],
      "metadata": {
        "id": "2sHcsmJeD95X"
      },
      "execution_count": null,
      "outputs": []
    },
    {
      "cell_type": "code",
      "source": [
        "# Mulai pengukuran waktu\n",
        "start_time = time.time()\n",
        "\n",
        "\n",
        "def regula_falsi_bisection(a, b, eps=1e-6, max_iter=100):\n",
        "    n = 0\n",
        "    a1 = a\n",
        "    a2 = a\n",
        "    b1 = b\n",
        "    b2 = b\n",
        "    while n < max_iter:\n",
        "\n",
        "\n",
        "        # Menghitung xB dan xF\n",
        "        xB = (a + b) / 2  # Bisection: Titik tengah\n",
        "        xF = a - (f(a) * (b - a)) / (f(b) - f(a))  # False Position: Titik berdasarkan Regula Falsi\n",
        "        print(f\"Iterasi {n+1}: Lower Bound = {a}, Upper Bound = {b}\")\n",
        "        n+=1\n",
        "\n",
        "        # Memilih akar yang lebih kecil berdasarkan nilai f(x)\n",
        "        if abs(f(xB)) < abs(f(xF)):\n",
        "            x = xB\n",
        "        else:\n",
        "            x = xF\n",
        "\n",
        "        # Mengecek apakah nilai f(x) sudah cukup kecil\n",
        "        if abs(f(x)) <= eps:\n",
        "            return x, f(x), n, a, b\n",
        "\n",
        "        # Memperbarui batas a dan b\n",
        "        if f(a) * f(xB) < 0:\n",
        "            b1 = xB\n",
        "        else:\n",
        "            a1 = xB\n",
        "\n",
        "        if f(a) * f(xF) < 0:\n",
        "            b2 = xF\n",
        "        else:\n",
        "            a2 = xF\n",
        "\n",
        "        # Memperbarui nilai batas a dan b berdasarkan posisi maksimum dan minimum\n",
        "        a = max(a1, a2)\n",
        "        b = min(b1, b2)\n",
        "\n",
        "    return None, None, n, a, b  # Jika tidak konvergen dalam batas iterasi\n",
        "\n",
        "# Program utama\n",
        "a = 0  # Nilai batas bawah\n",
        "b = 1.3  # Nilai batas atas\n",
        "eps = 1e-6  # Toleransi kesalahan\n",
        "\n",
        "root, f_root, iter_count, a_final, b_final = regula_falsi_bisection(a, b, eps)\n",
        "\n",
        "end_time = time.time()\n",
        "\n",
        "# Hitung Average CPU Time\n",
        "cpu_time = end_time - start_time\n",
        "print(\"=====================================================================================\")\n",
        "print(\"Average CPU Time:\", cpu_time, \"seconds\")\n",
        "print(\"=====================================\")\n",
        "\n",
        "if root is not None:\n",
        "    print(f\"Akar yang ditemukan: {root}\")\n",
        "    #print(f\"Nilai f(x) di akar: {f_root}\")\n",
        "    print(f\"Jumlah iterasi: {iter_count}\")\n",
        "    print(f\"Batas akhir a: {a_final}, b: {b_final}\")\n",
        "else:\n",
        "    print(\"Tidak ditemukan akar dalam batas iterasi yang diberikan.\")\n"
      ],
      "metadata": {
        "colab": {
          "base_uri": "https://localhost:8080/"
        },
        "id": "-3pRsp7QEAuP",
        "outputId": "fa18aeb2-052b-4ff2-d45e-8b5d2f5fc9ea"
      },
      "execution_count": null,
      "outputs": [
        {
          "output_type": "stream",
          "name": "stdout",
          "text": [
            "Iterasi 1: Lower Bound = 0, Upper Bound = 1.3\n",
            "Iterasi 2: Lower Bound = 0.65, Upper Bound = 1.3\n",
            "Iterasi 3: Lower Bound = 0.9750000000000001, Upper Bound = 1.3\n",
            "Iterasi 4: Lower Bound = 0.9805876677738793, Upper Bound = 1.1375000000000002\n",
            "Iterasi 5: Lower Bound = 0.9905467695615208, Upper Bound = 1.0590438338869397\n",
            "Iterasi 6: Lower Bound = 0.9977189241039256, Upper Bound = 1.0247953017242302\n",
            "Iterasi 7: Lower Bound = 0.9997559583683927, Upper Bound = 1.011257112914078\n",
            "Iterasi 8: Lower Bound = 0.9999878860116249, Upper Bound = 1.0055065356412354\n",
            "Iterasi 9: Lower Bound = 0.9999997028379457, Upper Bound = 1.0027472108264301\n",
            "=====================================================================================\n",
            "Average CPU Time: 0.003495454788208008 seconds\n",
            "=====================================\n",
            "Akar yang ditemukan: 0.9999999963448243\n",
            "Jumlah iterasi: 9\n",
            "Batas akhir a: 0.9999997028379457, b: 1.0027472108264301\n"
          ]
        }
      ]
    },
    {
      "cell_type": "markdown",
      "source": [
        "## Problem 12\n",
        "x^2 + e^x/2 - 5, Interval [1,2]"
      ],
      "metadata": {
        "id": "g1Cr3dqsCgDJ"
      }
    },
    {
      "cell_type": "code",
      "source": [
        "def f(x) :\n",
        "  return x**2 + math.exp(x/2) - 5"
      ],
      "metadata": {
        "id": "HrY3VYB9EHnB"
      },
      "execution_count": null,
      "outputs": []
    },
    {
      "cell_type": "code",
      "source": [
        "# Mulai pengukuran waktu\n",
        "start_time = time.time()\n",
        "\n",
        "\n",
        "def regula_falsi_bisection(a, b, eps=1e-6, max_iter=100):\n",
        "    n = 0\n",
        "    a1 = a\n",
        "    a2 = a\n",
        "    b1 = b\n",
        "    b2 = b\n",
        "    while n < max_iter:\n",
        "\n",
        "\n",
        "        # Menghitung xB dan xF\n",
        "        xB = (a + b) / 2  # Bisection: Titik tengah\n",
        "        xF = a - (f(a) * (b - a)) / (f(b) - f(a))  # False Position: Titik berdasarkan Regula Falsi\n",
        "        print(f\"Iterasi {n+1}: Lower Bound = {a}, Upper Bound = {b}\")\n",
        "        n+=1\n",
        "\n",
        "        # Memilih akar yang lebih kecil berdasarkan nilai f(x)\n",
        "        if abs(f(xB)) < abs(f(xF)):\n",
        "            x = xB\n",
        "        else:\n",
        "            x = xF\n",
        "\n",
        "        # Mengecek apakah nilai f(x) sudah cukup kecil\n",
        "        if abs(f(x)) <= eps:\n",
        "            return x, f(x), n, a, b\n",
        "\n",
        "        # Memperbarui batas a dan b\n",
        "        if f(a) * f(xB) < 0:\n",
        "            b1 = xB\n",
        "        else:\n",
        "            a1 = xB\n",
        "\n",
        "        if f(a) * f(xF) < 0:\n",
        "            b2 = xF\n",
        "        else:\n",
        "            a2 = xF\n",
        "\n",
        "        # Memperbarui nilai batas a dan b berdasarkan posisi maksimum dan minimum\n",
        "        a = max(a1, a2)\n",
        "        b = min(b1, b2)\n",
        "\n",
        "    return None, None, n, a, b  # Jika tidak konvergen dalam batas iterasi\n",
        "\n",
        "# Program utama\n",
        "a = 1  # Nilai batas bawah\n",
        "b = 2  # Nilai batas atas\n",
        "eps = 1e-6  # Toleransi kesalahan\n",
        "\n",
        "root, f_root, iter_count, a_final, b_final = regula_falsi_bisection(a, b, eps)\n",
        "\n",
        "end_time = time.time()\n",
        "\n",
        "# Hitung Average CPU Time\n",
        "cpu_time = end_time - start_time\n",
        "print(\"=====================================================================================\")\n",
        "print(\"Average CPU Time:\", cpu_time, \"seconds\")\n",
        "print(\"=====================================\")\n",
        "\n",
        "if root is not None:\n",
        "    print(f\"Akar yang ditemukan: {root}\")\n",
        "    #print(f\"Nilai f(x) di akar: {f_root}\")\n",
        "    print(f\"Jumlah iterasi: {iter_count}\")\n",
        "    print(f\"Batas akhir a: {a_final}, b: {b_final}\")\n",
        "else:\n",
        "    print(\"Tidak ditemukan akar dalam batas iterasi yang diberikan.\")\n"
      ],
      "metadata": {
        "colab": {
          "base_uri": "https://localhost:8080/"
        },
        "id": "gbflqrBOELvf",
        "outputId": "e8260446-dee9-4c4e-b09d-249fac996939"
      },
      "execution_count": null,
      "outputs": [
        {
          "output_type": "stream",
          "name": "stdout",
          "text": [
            "Iterasi 1: Lower Bound = 1, Upper Bound = 2\n",
            "Iterasi 2: Lower Bound = 1.5777721441734012, Upper Bound = 2\n",
            "Iterasi 3: Lower Bound = 1.6422505301815797, Upper Bound = 1.7888860720867006\n",
            "Iterasi 4: Lower Bound = 1.6487482807183977, Upper Bound = 1.71556830113414\n",
            "Iterasi 5: Lower Bound = 1.649008245921716, Upper Bound = 1.682158290926269\n",
            "=====================================================================================\n",
            "Average CPU Time: 0.009877920150756836 seconds\n",
            "=====================================\n",
            "Akar yang ditemukan: 1.6490132205042989\n",
            "Jumlah iterasi: 5\n",
            "Batas akhir a: 1.649008245921716, b: 1.682158290926269\n"
          ]
        }
      ]
    },
    {
      "cell_type": "markdown",
      "source": [
        "## Problem 13\n",
        "sin(x)*sinh(x) + 1, Interval [3,4]"
      ],
      "metadata": {
        "id": "YXjckGXiCsRT"
      }
    },
    {
      "cell_type": "code",
      "source": [
        "def f(x) :\n",
        "  return math.sin(x)*math.sinh(x) + 1"
      ],
      "metadata": {
        "id": "KkctHXH3EOQJ"
      },
      "execution_count": null,
      "outputs": []
    },
    {
      "cell_type": "code",
      "source": [
        "# Mulai pengukuran waktu\n",
        "start_time = time.time()\n",
        "\n",
        "\n",
        "def regula_falsi_bisection(a, b, eps=1e-6, max_iter=100):\n",
        "    n = 0\n",
        "    a1 = a\n",
        "    a2 = a\n",
        "    b1 = b\n",
        "    b2 = b\n",
        "    while n < max_iter:\n",
        "\n",
        "\n",
        "        # Menghitung xB dan xF\n",
        "        xB = (a + b) / 2  # Bisection: Titik tengah\n",
        "        xF = a - (f(a) * (b - a)) / (f(b) - f(a))  # False Position: Titik berdasarkan Regula Falsi\n",
        "        print(f\"Iterasi {n+1}: Lower Bound = {a}, Upper Bound = {b}\")\n",
        "        n+=1\n",
        "\n",
        "        # Memilih akar yang lebih kecil berdasarkan nilai f(x)\n",
        "        if abs(f(xB)) < abs(f(xF)):\n",
        "            x = xB\n",
        "        else:\n",
        "            x = xF\n",
        "\n",
        "        # Mengecek apakah nilai f(x) sudah cukup kecil\n",
        "        if abs(f(x)) <= eps:\n",
        "            return x, f(x), n, a, b\n",
        "\n",
        "        # Memperbarui batas a dan b\n",
        "        if f(a) * f(xB) < 0:\n",
        "            b1 = xB\n",
        "        else:\n",
        "            a1 = xB\n",
        "\n",
        "        if f(a) * f(xF) < 0:\n",
        "            b2 = xF\n",
        "        else:\n",
        "            a2 = xF\n",
        "\n",
        "        # Memperbarui nilai batas a dan b berdasarkan posisi maksimum dan minimum\n",
        "        a = max(a1, a2)\n",
        "        b = min(b1, b2)\n",
        "\n",
        "    return None, None, n, a, b  # Jika tidak konvergen dalam batas iterasi\n",
        "\n",
        "# Program utama\n",
        "a = 3  # Nilai batas bawah\n",
        "b = 4  # Nilai batas atas\n",
        "eps = 1e-6  # Toleransi kesalahan\n",
        "\n",
        "root, f_root, iter_count, a_final, b_final = regula_falsi_bisection(a, b, eps)\n",
        "\n",
        "end_time = time.time()\n",
        "\n",
        "# Hitung Average CPU Time\n",
        "cpu_time = end_time - start_time\n",
        "print(\"=====================================================================================\")\n",
        "print(\"Average CPU Time:\", cpu_time, \"seconds\")\n",
        "print(\"=====================================\")\n",
        "\n",
        "if root is not None:\n",
        "    print(f\"Akar yang ditemukan: {root}\")\n",
        "    #print(f\"Nilai f(x) di akar: {f_root}\")\n",
        "    print(f\"Jumlah iterasi: {iter_count}\")\n",
        "    print(f\"Batas akhir a: {a_final}, b: {b_final}\")\n",
        "else:\n",
        "    print(\"Tidak ditemukan akar dalam batas iterasi yang diberikan.\")\n"
      ],
      "metadata": {
        "colab": {
          "base_uri": "https://localhost:8080/"
        },
        "id": "NZMjsX4VESMy",
        "outputId": "8d751e50-0e53-4eff-ad5a-69ce8284eeb5"
      },
      "execution_count": null,
      "outputs": [
        {
          "output_type": "stream",
          "name": "stdout",
          "text": [
            "Iterasi 1: Lower Bound = 3, Upper Bound = 4\n",
            "Iterasi 2: Lower Bound = 3.1093825379343145, Upper Bound = 3.5\n",
            "Iterasi 3: Lower Bound = 3.1955868707323956, Upper Bound = 3.304691268967157\n",
            "Iterasi 4: Lower Bound = 3.2196528225721526, Upper Bound = 3.2501390698497765\n",
            "Iterasi 5: Lower Bound = 3.2215379289666877, Upper Bound = 3.2348959462109645\n",
            "Iterasi 6: Lower Bound = 3.221587780592176, Upper Bound = 3.228216937588826\n",
            "=====================================================================================\n",
            "Average CPU Time: 0.0007016658782958984 seconds\n",
            "=====================================\n",
            "Akar yang ditemukan: 3.221588395302924\n",
            "Jumlah iterasi: 6\n",
            "Batas akhir a: 3.221587780592176, b: 3.228216937588826\n"
          ]
        }
      ]
    },
    {
      "cell_type": "markdown",
      "source": [
        "## Problem 14\n",
        "e^x - 3x - 2, Interval [2,3]"
      ],
      "metadata": {
        "id": "_SvlFAZfC3Ew"
      }
    },
    {
      "cell_type": "code",
      "source": [
        "def f(x) :\n",
        "  return math.exp(x) - 3*x - 2"
      ],
      "metadata": {
        "id": "M93EU7EdEVWV"
      },
      "execution_count": null,
      "outputs": []
    },
    {
      "cell_type": "code",
      "source": [
        "# Mulai pengukuran waktu\n",
        "start_time = time.time()\n",
        "\n",
        "\n",
        "def regula_falsi_bisection(a, b, eps=1e-6, max_iter=100):\n",
        "    n = 0\n",
        "    a1 = a\n",
        "    a2 = a\n",
        "    b1 = b\n",
        "    b2 = b\n",
        "    while n < max_iter:\n",
        "\n",
        "\n",
        "        # Menghitung xB dan xF\n",
        "        xB = (a + b) / 2  # Bisection: Titik tengah\n",
        "        xF = a - (f(a) * (b - a)) / (f(b) - f(a))  # False Position: Titik berdasarkan Regula Falsi\n",
        "        print(f\"Iterasi {n+1}: Lower Bound = {a}, Upper Bound = {b}\")\n",
        "        n+=1\n",
        "\n",
        "        # Memilih akar yang lebih kecil berdasarkan nilai f(x)\n",
        "        if abs(f(xB)) < abs(f(xF)):\n",
        "            x = xB\n",
        "        else:\n",
        "            x = xF\n",
        "\n",
        "        # Mengecek apakah nilai f(x) sudah cukup kecil\n",
        "        if abs(f(x)) <= eps:\n",
        "            return x, f(x), n, a, b\n",
        "\n",
        "        # Memperbarui batas a dan b\n",
        "        if f(a) * f(xB) < 0:\n",
        "            b1 = xB\n",
        "        else:\n",
        "            a1 = xB\n",
        "\n",
        "        if f(a) * f(xF) < 0:\n",
        "            b2 = xF\n",
        "        else:\n",
        "            a2 = xF\n",
        "\n",
        "        # Memperbarui nilai batas a dan b berdasarkan posisi maksimum dan minimum\n",
        "        a = max(a1, a2)\n",
        "        b = min(b1, b2)\n",
        "\n",
        "    return None, None, n, a, b  # Jika tidak konvergen dalam batas iterasi\n",
        "\n",
        "# Program utama\n",
        "a = 2  # Nilai batas bawah\n",
        "b = 3  # Nilai batas atas\n",
        "eps = 1e-6  # Toleransi kesalahan\n",
        "\n",
        "root, f_root, iter_count, a_final, b_final = regula_falsi_bisection(a, b, eps)\n",
        "\n",
        "end_time = time.time()\n",
        "\n",
        "# Hitung Average CPU Time\n",
        "cpu_time = end_time - start_time\n",
        "print(\"=====================================================================================\")\n",
        "print(\"Average CPU Time:\", cpu_time, \"seconds\")\n",
        "print(\"=====================================\")\n",
        "\n",
        "if root is not None:\n",
        "    print(f\"Akar yang ditemukan: {root}\")\n",
        "    #print(f\"Nilai f(x) di akar: {f_root}\")\n",
        "    print(f\"Jumlah iterasi: {iter_count}\")\n",
        "    print(f\"Batas akhir a: {a_final}, b: {b_final}\")\n",
        "else:\n",
        "    print(\"Tidak ditemukan akar dalam batas iterasi yang diberikan.\")\n"
      ],
      "metadata": {
        "colab": {
          "base_uri": "https://localhost:8080/"
        },
        "id": "DpOPpVfbEYqP",
        "outputId": "378fb8b0-650f-4cda-b159-7b6adc7314d6"
      },
      "execution_count": null,
      "outputs": [
        {
          "output_type": "stream",
          "name": "stdout",
          "text": [
            "Iterasi 1: Lower Bound = 2, Upper Bound = 3\n",
            "Iterasi 2: Lower Bound = 2.063006766283804, Upper Bound = 2.5\n",
            "Iterasi 3: Lower Bound = 2.1095057460300413, Upper Bound = 2.281503383141902\n",
            "Iterasi 4: Lower Bound = 2.123574647308081, Upper Bound = 2.1955045645859714\n",
            "Iterasi 5: Lower Bound = 2.125294925780077, Upper Bound = 2.1595396059470264\n",
            "Iterasi 6: Lower Bound = 2.125388676132087, Upper Bound = 2.1424172658635516\n",
            "=====================================================================================\n",
            "Average CPU Time: 0.004555463790893555 seconds\n",
            "=====================================\n",
            "Akar yang ditemukan: 2.125391165603896\n",
            "Jumlah iterasi: 6\n",
            "Batas akhir a: 2.125388676132087, b: 2.1424172658635516\n"
          ]
        }
      ]
    },
    {
      "cell_type": "markdown",
      "source": [
        "## Problem 15\n",
        "sin(x) - x^2, Interval [0.5,1]"
      ],
      "metadata": {
        "id": "aG7c7Z0cC_6z"
      }
    },
    {
      "cell_type": "code",
      "source": [
        "def f(x) :\n",
        "  return math.sin(x) - x**2"
      ],
      "metadata": {
        "id": "ApLibjwxBwKV"
      },
      "execution_count": null,
      "outputs": []
    },
    {
      "cell_type": "code",
      "source": [
        "# Mulai pengukuran waktu\n",
        "start_time = time.time()\n",
        "\n",
        "\n",
        "def regula_falsi_bisection(a, b, eps=1e-6, max_iter=100):\n",
        "    n = 0\n",
        "    a1 = a\n",
        "    a2 = a\n",
        "    b1 = b\n",
        "    b2 = b\n",
        "    while n < max_iter:\n",
        "\n",
        "\n",
        "        # Menghitung xB dan xF\n",
        "        xB = (a + b) / 2  # Bisection: Titik tengah\n",
        "        xF = a - (f(a) * (b - a)) / (f(b) - f(a))  # False Position: Titik berdasarkan Regula Falsi\n",
        "        print(f\"Iterasi {n+1}: Lower Bound = {a}, Upper Bound = {b}\")\n",
        "        n+=1\n",
        "\n",
        "        # Memilih akar yang lebih kecil berdasarkan nilai f(x)\n",
        "        if abs(f(xB)) < abs(f(xF)):\n",
        "            x = xB\n",
        "        else:\n",
        "            x = xF\n",
        "\n",
        "        # Mengecek apakah nilai f(x) sudah cukup kecil\n",
        "        if abs(f(x)) <= eps:\n",
        "            return x, f(x), n, a, b\n",
        "\n",
        "        # Memperbarui batas a dan b\n",
        "        if f(a) * f(xB) < 0:\n",
        "            b1 = xB\n",
        "        else:\n",
        "            a1 = xB\n",
        "\n",
        "        if f(a) * f(xF) < 0:\n",
        "            b2 = xF\n",
        "        else:\n",
        "            a2 = xF\n",
        "\n",
        "        # Memperbarui nilai batas a dan b berdasarkan posisi maksimum dan minimum\n",
        "        a = max(a1, a2)\n",
        "        b = min(b1, b2)\n",
        "\n",
        "    return None, None, n, a, b  # Jika tidak konvergen dalam batas iterasi\n",
        "\n",
        "# Program utama\n",
        "a = 0.5  # Nilai batas bawah\n",
        "b = 1  # Nilai batas atas\n",
        "eps = 1e-6  # Toleransi kesalahan\n",
        "\n",
        "root, f_root, iter_count, a_final, b_final = regula_falsi_bisection(a, b, eps)\n",
        "\n",
        "end_time = time.time()\n",
        "\n",
        "# Hitung Average CPU Time\n",
        "cpu_time = end_time - start_time\n",
        "print(\"=====================================================================================\")\n",
        "print(\"Average CPU Time:\", cpu_time, \"seconds\")\n",
        "print(\"=====================================\")\n",
        "\n",
        "if root is not None:\n",
        "    print(f\"Akar yang ditemukan: {root}\")\n",
        "    #print(f\"Nilai f(x) di akar: {f_root}\")\n",
        "    print(f\"Jumlah iterasi: {iter_count}\")\n",
        "    print(f\"Batas akhir a: {a_final}, b: {b_final}\")\n",
        "else:\n",
        "    print(\"Tidak ditemukan akar dalam batas iterasi yang diberikan.\")\n"
      ],
      "metadata": {
        "colab": {
          "base_uri": "https://localhost:8080/"
        },
        "id": "oRTCBs1iEh_k",
        "outputId": "6383827b-b1e0-44d4-fc1f-79045ef68719"
      },
      "execution_count": null,
      "outputs": [
        {
          "output_type": "stream",
          "name": "stdout",
          "text": [
            "Iterasi 1: Lower Bound = 0.5, Upper Bound = 1\n",
            "Iterasi 2: Lower Bound = 0.795686100806361, Upper Bound = 1\n",
            "Iterasi 3: Lower Bound = 0.8649059571673935, Upper Bound = 0.8978430504031805\n",
            "Iterasi 4: Lower Bound = 0.8764193146174735, Upper Bound = 0.8813745037852869\n",
            "Iterasi 5: Lower Bound = 0.8767244512432186, Upper Bound = 0.8788969092013802\n",
            "=====================================================================================\n",
            "Average CPU Time: 0.0006680488586425781 seconds\n",
            "=====================================\n",
            "Akar yang ditemukan: 0.8767262106474469\n",
            "Jumlah iterasi: 5\n",
            "Batas akhir a: 0.8767244512432186, b: 0.8788969092013802\n"
          ]
        }
      ]
    }
  ]
}