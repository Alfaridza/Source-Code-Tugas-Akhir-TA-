{
  "nbformat": 4,
  "nbformat_minor": 0,
  "metadata": {
    "colab": {
      "provenance": [],
      "authorship_tag": "ABX9TyOys6YsAqgaqiOb8dQbhb74",
      "include_colab_link": true
    },
    "kernelspec": {
      "name": "python3",
      "display_name": "Python 3"
    },
    "language_info": {
      "name": "python"
    }
  },
  "cells": [
    {
      "cell_type": "markdown",
      "metadata": {
        "id": "view-in-github",
        "colab_type": "text"
      },
      "source": [
        "<a href=\"https://colab.research.google.com/github/Alfaridza/Source-Code-Tugas-Akhir-TA-/blob/main/Newton_Raphson.ipynb\" target=\"_parent\"><img src=\"https://colab.research.google.com/assets/colab-badge.svg\" alt=\"Open In Colab\"/></a>"
      ]
    },
    {
      "cell_type": "code",
      "execution_count": null,
      "metadata": {
        "id": "USfKEJTx7167"
      },
      "outputs": [],
      "source": [
        "import numpy as np\n",
        "import matplotlib.pyplot as plt\n",
        "import time\n",
        "import math\n"
      ]
    },
    {
      "cell_type": "markdown",
      "source": [
        "## PROBLEM 1\n",
        "\n",
        "X^2 - 3, INTERVAL [1,2]"
      ],
      "metadata": {
        "id": "6JvvZZq3PweH"
      }
    },
    {
      "cell_type": "code",
      "source": [
        "def f(x) :\n",
        "  return x**2 - 3\n",
        "\n",
        "def f_deriv(x) :\n",
        "  return 2*x\n"
      ],
      "metadata": {
        "id": "mEPPX7ji9gCH"
      },
      "execution_count": null,
      "outputs": []
    },
    {
      "cell_type": "code",
      "source": [
        "# Mulai pengukuran waktu\n",
        "start_time = time.time()\n",
        "\n",
        "def newtonRaphson(x, tol, max_iter):\n",
        "    iteration = 0  # Initialize the iteration counter\n",
        "\n",
        "    while iteration < max_iter:\n",
        "        h = f(x) / f_deriv(x)  # Update h after each iteration\n",
        "\n",
        "        # x(i+1) = x(i) - f(x) / f'(x)\n",
        "        x = x - h\n",
        "        print(f\"Iterasi {iteration+1}: update interval : {x}\")\n",
        "\n",
        "        iteration += 1  # Increment the iteration counter\n",
        "\n",
        "        if abs(h) < tol:  # Check if the solution is accurate enough\n",
        "            break\n",
        "\n",
        "    if abs(h) < tol:\n",
        "        print(\"\\nThe value of the root is : \", x)\n",
        "    else:\n",
        "        print(\"Max iterations reached\")\n",
        "\n",
        "    print(\"Number of iterations: \", iteration)\n",
        "\n",
        "    return x, iteration\n",
        "\n",
        "# Driver program to test above\n",
        "x0 = 1  # Initial guess\n",
        "max_iter = 100\n",
        "tol = 1e-14  # Adjusted tolerance for quicker convergence\n",
        "\n",
        "end_time = time.time()\n",
        "\n",
        "root, iteration_list = newtonRaphson(x0, tol, max_iter)\n",
        "\n",
        "print(\"\\n======================================\")\n",
        "# Hitung Average CPU Time\n",
        "cpu_time = end_time - start_time\n",
        "print(\"Found root : \", root)\n",
        "print(\"Average CPU Time:\", cpu_time, \"seconds\")"
      ],
      "metadata": {
        "colab": {
          "base_uri": "https://localhost:8080/"
        },
        "id": "l7cDXxLN9Otj",
        "outputId": "2bf430e2-cf27-4c59-ea25-3758e15a4f50"
      },
      "execution_count": null,
      "outputs": [
        {
          "output_type": "stream",
          "name": "stdout",
          "text": [
            "Iterasi 1: update interval : 2.0\n",
            "Iterasi 2: update interval : 1.75\n",
            "Iterasi 3: update interval : 1.7321428571428572\n",
            "Iterasi 4: update interval : 1.7320508100147276\n",
            "Iterasi 5: update interval : 1.7320508075688772\n",
            "Iterasi 6: update interval : 1.7320508075688774\n",
            "\n",
            "The value of the root is :  1.7320508075688774\n",
            "Number of iterations:  6\n",
            "\n",
            "======================================\n",
            "Found root :  1.7320508075688774\n",
            "Average CPU Time: 0.000453948974609375 seconds\n"
          ]
        }
      ]
    },
    {
      "cell_type": "code",
      "source": [
        "# Mulai pengukuran waktu\n",
        "start_time = time.time()\n",
        "\n",
        "def newtonRaphson(x, tol, max_iter):\n",
        "    iteration = 0  # Initialize the iteration counter\n",
        "\n",
        "    while iteration < max_iter:\n",
        "        h = f(x) / f_deriv(x)  # Update h after each iteration\n",
        "\n",
        "        # x(i+1) = x(i) - f(x) / f'(x)\n",
        "        x = x - h\n",
        "        print(f\"Iterasi {iteration+1}: update interval : {x}\")\n",
        "\n",
        "        iteration += 1  # Increment the iteration counter\n",
        "\n",
        "        if abs(h) < tol:  # Check if the solution is accurate enough\n",
        "            break\n",
        "\n",
        "    if abs(h) < tol:\n",
        "        print(\"\\nThe value of the root is : \", x)\n",
        "    else:\n",
        "        print(\"Max iterations reached\")\n",
        "\n",
        "    print(\"Number of iterations: \", iteration)\n",
        "\n",
        "    return x, iteration\n",
        "\n",
        "# Driver program to test above\n",
        "x0 = 2  # Initial guess\n",
        "max_iter = 100\n",
        "tol = 1e-14  # Adjusted tolerance for quicker convergence\n",
        "\n",
        "end_time = time.time()\n",
        "\n",
        "root, iteration_list = newtonRaphson(x0, tol, max_iter)\n",
        "\n",
        "print(\"\\n======================================\")\n",
        "# Hitung Average CPU Time\n",
        "cpu_time = end_time - start_time\n",
        "print(\"Found root : \", root)\n",
        "print(\"Average CPU Time:\", cpu_time, \"seconds\")"
      ],
      "metadata": {
        "colab": {
          "base_uri": "https://localhost:8080/"
        },
        "id": "x-k6xNvrJl32",
        "outputId": "1133538e-32c9-4ad8-f370-fcc6ec4b64cc"
      },
      "execution_count": null,
      "outputs": [
        {
          "output_type": "stream",
          "name": "stdout",
          "text": [
            "Iterasi 1: update interval : 1.75\n",
            "Iterasi 2: update interval : 1.7321428571428572\n",
            "Iterasi 3: update interval : 1.7320508100147276\n",
            "Iterasi 4: update interval : 1.7320508075688772\n",
            "Iterasi 5: update interval : 1.7320508075688774\n",
            "\n",
            "The value of the root is :  1.7320508075688774\n",
            "Number of iterations:  5\n",
            "\n",
            "======================================\n",
            "Found root :  1.7320508075688774\n",
            "Average CPU Time: 0.00041961669921875 seconds\n"
          ]
        }
      ]
    },
    {
      "cell_type": "markdown",
      "source": [
        "## PROBLEM 2\n",
        "\n",
        "X^ - 5, INTERVAL [2,7]"
      ],
      "metadata": {
        "id": "ZGUGWrSUVeI5"
      }
    },
    {
      "cell_type": "code",
      "source": [
        "def f(x) :\n",
        "  return x**2 - 5\n",
        "\n",
        "def f_deriv(x) :\n",
        "  return 2*x"
      ],
      "metadata": {
        "id": "JwaBaxOIVqUg"
      },
      "execution_count": null,
      "outputs": []
    },
    {
      "cell_type": "code",
      "source": [
        "# Mulai pengukuran waktu\n",
        "start_time = time.time()\n",
        "\n",
        "def newtonRaphson(x, tol, max_iter):\n",
        "    iteration = 0  # Initialize the iteration counter\n",
        "\n",
        "    while iteration < max_iter:\n",
        "        h = f(x) / f_deriv(x)  # Update h after each iteration\n",
        "\n",
        "        # x(i+1) = x(i) - f(x) / f'(x)\n",
        "        x = x - h\n",
        "        print(f\"Iterasi {iteration+1}: update interval : {x}\")\n",
        "\n",
        "        iteration += 1  # Increment the iteration counter\n",
        "\n",
        "        if abs(h) < tol:  # Check if the solution is accurate enough\n",
        "            break\n",
        "\n",
        "    if abs(h) < tol:\n",
        "        print(\"\\nThe value of the root is : \", x)\n",
        "    else:\n",
        "        print(\"Max iterations reached\")\n",
        "\n",
        "    print(\"Number of iterations: \", iteration)\n",
        "\n",
        "    return x, iteration\n",
        "\n",
        "# Driver program to test above\n",
        "x0 = 2  # Initial guess\n",
        "max_iter = 100\n",
        "tol = 1e-14  # Adjusted tolerance for quicker convergence\n",
        "\n",
        "end_time = time.time()\n",
        "\n",
        "root, iteration_list = newtonRaphson(x0, tol, max_iter)\n",
        "\n",
        "print(\"\\n======================================\")\n",
        "# Hitung Average CPU Time\n",
        "cpu_time = end_time - start_time\n",
        "print(\"Found root : \", root)\n",
        "print(\"Average CPU Time:\", cpu_time, \"seconds\")"
      ],
      "metadata": {
        "colab": {
          "base_uri": "https://localhost:8080/"
        },
        "id": "7xKvpEn1V6uY",
        "outputId": "49b937b2-ad93-4333-8735-a71e69a6a7ad"
      },
      "execution_count": null,
      "outputs": [
        {
          "output_type": "stream",
          "name": "stdout",
          "text": [
            "Iterasi 1: update interval : 2.25\n",
            "Iterasi 2: update interval : 2.236111111111111\n",
            "Iterasi 3: update interval : 2.236067977915804\n",
            "Iterasi 4: update interval : 2.23606797749979\n",
            "Iterasi 5: update interval : 2.23606797749979\n",
            "\n",
            "The value of the root is :  2.23606797749979\n",
            "Number of iterations:  5\n",
            "\n",
            "======================================\n",
            "Found root :  2.23606797749979\n",
            "Average CPU Time: 0.0004100799560546875 seconds\n"
          ]
        }
      ]
    },
    {
      "cell_type": "code",
      "source": [
        "# Mulai pengukuran waktu\n",
        "start_time = time.time()\n",
        "\n",
        "def newtonRaphson(x, tol, max_iter):\n",
        "    iteration = 0  # Initialize the iteration counter\n",
        "\n",
        "    while iteration < max_iter:\n",
        "        h = f(x) / f_deriv(x)  # Update h after each iteration\n",
        "\n",
        "        # x(i+1) = x(i) - f(x) / f'(x)\n",
        "        x = x - h\n",
        "        print(f\"Iterasi {iteration+1}: update interval : {x}\")\n",
        "\n",
        "        iteration += 1  # Increment the iteration counter\n",
        "\n",
        "        if abs(h) < tol:  # Check if the solution is accurate enough\n",
        "            break\n",
        "\n",
        "    if abs(h) < tol:\n",
        "        print(\"\\nThe value of the root is : \", x)\n",
        "    else:\n",
        "        print(\"Max iterations reached\")\n",
        "\n",
        "    print(\"Number of iterations: \", iteration)\n",
        "\n",
        "    return x, iteration\n",
        "\n",
        "# Driver program to test above\n",
        "x0 = 7  # Initial guess\n",
        "max_iter = 100\n",
        "tol = 1e-14  # Adjusted tolerance for quicker convergence\n",
        "\n",
        "end_time = time.time()\n",
        "\n",
        "root, iteration_list = newtonRaphson(x0, tol, max_iter)\n",
        "\n",
        "print(\"\\n======================================\")\n",
        "# Hitung Average CPU Time\n",
        "cpu_time = end_time - start_time\n",
        "print(\"Found root : \", root)\n",
        "print(\"Average CPU Time:\", cpu_time, \"seconds\")"
      ],
      "metadata": {
        "colab": {
          "base_uri": "https://localhost:8080/"
        },
        "id": "PZy4Z5NpS254",
        "outputId": "bda3546f-e21c-47bb-b03b-6054730603db"
      },
      "execution_count": null,
      "outputs": [
        {
          "output_type": "stream",
          "name": "stdout",
          "text": [
            "Iterasi 1: update interval : 3.857142857142857\n",
            "Iterasi 2: update interval : 2.5767195767195767\n",
            "Iterasi 3: update interval : 2.258585661049727\n",
            "Iterasi 4: update interval : 2.236180226081103\n",
            "Iterasi 5: update interval : 2.2360679803170367\n",
            "Iterasi 6: update interval : 2.23606797749979\n",
            "Iterasi 7: update interval : 2.23606797749979\n",
            "\n",
            "The value of the root is :  2.23606797749979\n",
            "Number of iterations:  7\n",
            "\n",
            "======================================\n",
            "Found root :  2.23606797749979\n",
            "Average CPU Time: 0.00041294097900390625 seconds\n"
          ]
        }
      ]
    },
    {
      "cell_type": "markdown",
      "source": [
        "## PROBLEM 3\n",
        " X^2 - 10, INTERVAL [3,4]"
      ],
      "metadata": {
        "id": "zBvme4QfWFCX"
      }
    },
    {
      "cell_type": "code",
      "source": [
        "def f(x) :\n",
        "  return x**2 - 10\n",
        "\n",
        "def f_deriv(x) :\n",
        "  return 2*x"
      ],
      "metadata": {
        "id": "qIs8OVCOWOlR"
      },
      "execution_count": null,
      "outputs": []
    },
    {
      "cell_type": "code",
      "source": [
        "# Mulai pengukuran waktu\n",
        "start_time = time.time()\n",
        "\n",
        "def newtonRaphson(x, tol, max_iter):\n",
        "    iteration = 0  # Initialize the iteration counter\n",
        "\n",
        "    while iteration < max_iter:\n",
        "        h = f(x) / f_deriv(x)  # Update h after each iteration\n",
        "\n",
        "        # x(i+1) = x(i) - f(x) / f'(x)\n",
        "        x = x - h\n",
        "        print(f\"Iterasi {iteration+1}: update interval : {x}\")\n",
        "\n",
        "        iteration += 1  # Increment the iteration counter\n",
        "\n",
        "        if abs(h) < tol:  # Check if the solution is accurate enough\n",
        "            break\n",
        "\n",
        "    if abs(h) < tol:\n",
        "        print(\"\\nThe value of the root is : \", x)\n",
        "    else:\n",
        "        print(\"Max iterations reached\")\n",
        "\n",
        "    print(\"Number of iterations: \", iteration)\n",
        "\n",
        "    return x, iteration\n",
        "\n",
        "# Driver program to test above\n",
        "x0 = 3  # Initial guess\n",
        "max_iter = 100\n",
        "tol = 1e-14  # Adjusted tolerance for quicker convergence\n",
        "\n",
        "end_time = time.time()\n",
        "\n",
        "root, iteration_list = newtonRaphson(x0, tol, max_iter)\n",
        "\n",
        "print(\"\\n======================================\")\n",
        "# Hitung Average CPU Time\n",
        "cpu_time = end_time - start_time\n",
        "print(\"Found root : \", root)\n",
        "print(\"Average CPU Time:\", cpu_time, \"seconds\")"
      ],
      "metadata": {
        "colab": {
          "base_uri": "https://localhost:8080/"
        },
        "id": "ixFxxB95WVDX",
        "outputId": "e12f6744-6011-4c94-83cb-ce26d94645a6"
      },
      "execution_count": null,
      "outputs": [
        {
          "output_type": "stream",
          "name": "stdout",
          "text": [
            "Iterasi 1: update interval : 3.1666666666666665\n",
            "Iterasi 2: update interval : 3.162280701754386\n",
            "Iterasi 3: update interval : 3.1622776601698424\n",
            "Iterasi 4: update interval : 3.1622776601683795\n",
            "Iterasi 5: update interval : 3.162277660168379\n",
            "\n",
            "The value of the root is :  3.162277660168379\n",
            "Number of iterations:  5\n",
            "\n",
            "======================================\n",
            "Found root :  3.162277660168379\n",
            "Average CPU Time: 0.00043582916259765625 seconds\n"
          ]
        }
      ]
    },
    {
      "cell_type": "code",
      "source": [
        "# Mulai pengukuran waktu\n",
        "start_time = time.time()\n",
        "\n",
        "def newtonRaphson(x, tol, max_iter):\n",
        "    iteration = 0  # Initialize the iteration counter\n",
        "\n",
        "    while iteration < max_iter:\n",
        "        h = f(x) / f_deriv(x)  # Update h after each iteration\n",
        "\n",
        "        # x(i+1) = x(i) - f(x) / f'(x)\n",
        "        x = x - h\n",
        "        print(f\"Iterasi {iteration+1}: update interval : {x}\")\n",
        "\n",
        "        iteration += 1  # Increment the iteration counter\n",
        "\n",
        "        if abs(h) < tol:  # Check if the solution is accurate enough\n",
        "            break\n",
        "\n",
        "    if abs(h) < tol:\n",
        "        print(\"\\nThe value of the root is : \", x)\n",
        "    else:\n",
        "        print(\"Max iterations reached\")\n",
        "\n",
        "    print(\"Number of iterations: \", iteration)\n",
        "\n",
        "    return x, iteration\n",
        "\n",
        "# Driver program to test above\n",
        "x0 = 4  # Initial guess\n",
        "max_iter = 100\n",
        "tol = 1e-14  # Adjusted tolerance for quicker convergence\n",
        "\n",
        "end_time = time.time()\n",
        "\n",
        "root, iteration_list = newtonRaphson(x0, tol, max_iter)\n",
        "\n",
        "print(\"\\n======================================\")\n",
        "# Hitung Average CPU Time\n",
        "cpu_time = end_time - start_time\n",
        "print(\"Found root : \", root)\n",
        "print(\"Average CPU Time:\", cpu_time, \"seconds\")"
      ],
      "metadata": {
        "colab": {
          "base_uri": "https://localhost:8080/"
        },
        "id": "Cu6EEBiBWa1b",
        "outputId": "05000459-e268-4a75-9197-c47daaf449a7"
      },
      "execution_count": null,
      "outputs": [
        {
          "output_type": "stream",
          "name": "stdout",
          "text": [
            "Iterasi 1: update interval : 3.25\n",
            "Iterasi 2: update interval : 3.1634615384615383\n",
            "Iterasi 3: update interval : 3.1622778816927752\n",
            "Iterasi 4: update interval : 3.162277660168387\n",
            "Iterasi 5: update interval : 3.162277660168379\n",
            "\n",
            "The value of the root is :  3.162277660168379\n",
            "Number of iterations:  5\n",
            "\n",
            "======================================\n",
            "Found root :  3.162277660168379\n",
            "Average CPU Time: 0.0004661083221435547 seconds\n"
          ]
        }
      ]
    },
    {
      "cell_type": "markdown",
      "source": [
        "## PROBLEM 4\n",
        "\n",
        "X^2 - X - 2, INTERVAL [1,4]"
      ],
      "metadata": {
        "id": "xgjZs1ziyRA5"
      }
    },
    {
      "cell_type": "code",
      "source": [
        "def f(x) :\n",
        "  return x**2 - x - 2\n",
        "\n",
        "def f_deriv(x) :\n",
        "  return 2*x - 1"
      ],
      "metadata": {
        "id": "Tb7hip8iyydk"
      },
      "execution_count": null,
      "outputs": []
    },
    {
      "cell_type": "code",
      "source": [
        "# Mulai pengukuran waktu\n",
        "start_time = time.time()\n",
        "\n",
        "def newtonRaphson(x, tol, max_iter):\n",
        "    iteration = 0  # Initialize the iteration counter\n",
        "\n",
        "    while iteration < max_iter:\n",
        "        h = f(x) / f_deriv(x)  # Update h after each iteration\n",
        "\n",
        "        # x(i+1) = x(i) - f(x) / f'(x)\n",
        "        x = x - h\n",
        "        print(f\"Iterasi {iteration+1}: update interval : {x}\")\n",
        "\n",
        "        iteration += 1  # Increment the iteration counter\n",
        "\n",
        "        if abs(h) < tol:  # Check if the solution is accurate enough\n",
        "            break\n",
        "\n",
        "    if abs(h) < tol:\n",
        "        print(\"\\nThe value of the root is : \", x)\n",
        "    else:\n",
        "        print(\"Max iterations reached\")\n",
        "\n",
        "    print(\"Number of iterations: \", iteration)\n",
        "\n",
        "    return x, iteration\n",
        "\n",
        "# Driver program to test above\n",
        "x0 = 1  # Initial guess\n",
        "max_iter = 100\n",
        "tol = 1e-14  # Adjusted tolerance for quicker convergence\n",
        "\n",
        "end_time = time.time()\n",
        "\n",
        "root, iteration_list = newtonRaphson(x0, tol, max_iter)\n",
        "\n",
        "print(\"\\n======================================\")\n",
        "# Hitung Average CPU Time\n",
        "cpu_time = end_time - start_time\n",
        "print(\"Found root : \", root)\n",
        "print(\"Average CPU Time:\", cpu_time, \"seconds\")"
      ],
      "metadata": {
        "colab": {
          "base_uri": "https://localhost:8080/"
        },
        "id": "cu9arGC70lJm",
        "outputId": "06380a6d-9699-42a8-b3db-f2778cd125b3"
      },
      "execution_count": null,
      "outputs": [
        {
          "output_type": "stream",
          "name": "stdout",
          "text": [
            "Iterasi 1: update interval : 3.0\n",
            "Iterasi 2: update interval : 2.2\n",
            "Iterasi 3: update interval : 2.011764705882353\n",
            "Iterasi 4: update interval : 2.00004577706569\n",
            "Iterasi 5: update interval : 2.000000000698492\n",
            "Iterasi 6: update interval : 2.0\n",
            "Iterasi 7: update interval : 2.0\n",
            "\n",
            "The value of the root is :  2.0\n",
            "Number of iterations:  7\n",
            "\n",
            "======================================\n",
            "Found root :  2.0\n",
            "Average CPU Time: 0.0008876323699951172 seconds\n"
          ]
        }
      ]
    },
    {
      "cell_type": "code",
      "source": [
        "# Mulai pengukuran waktu\n",
        "start_time = time.time()\n",
        "\n",
        "def newtonRaphson(x, tol, max_iter):\n",
        "    iteration = 0  # Initialize the iteration counter\n",
        "\n",
        "    while iteration < max_iter:\n",
        "        h = f(x) / f_deriv(x)  # Update h after each iteration\n",
        "\n",
        "        # x(i+1) = x(i) - f(x) / f'(x)\n",
        "        x = x - h\n",
        "        print(f\"Iterasi {iteration+1}: update interval : {x}\")\n",
        "\n",
        "        iteration += 1  # Increment the iteration counter\n",
        "\n",
        "        if abs(h) < tol:  # Check if the solution is accurate enough\n",
        "            break\n",
        "\n",
        "    if abs(h) < tol:\n",
        "        print(\"\\nThe value of the root is : \", x)\n",
        "    else:\n",
        "        print(\"Max iterations reached\")\n",
        "\n",
        "    print(\"Number of iterations: \", iteration)\n",
        "\n",
        "    return x, iteration\n",
        "\n",
        "# Driver program to test above\n",
        "x0 = 4  # Initial guess\n",
        "max_iter = 100\n",
        "tol = 1e-14  # Adjusted tolerance for quicker convergence\n",
        "\n",
        "end_time = time.time()\n",
        "\n",
        "root, iteration_list = newtonRaphson(x0, tol, max_iter)\n",
        "\n",
        "print(\"\\n======================================\")\n",
        "# Hitung Average CPU Time\n",
        "cpu_time = end_time - start_time\n",
        "print(\"Found root : \", root)\n",
        "print(\"Average CPU Time:\", cpu_time, \"seconds\")"
      ],
      "metadata": {
        "colab": {
          "base_uri": "https://localhost:8080/"
        },
        "id": "BEMsLI88ytP5",
        "outputId": "57464d5c-deb8-4b15-81a7-4b93bcdb2983"
      },
      "execution_count": null,
      "outputs": [
        {
          "output_type": "stream",
          "name": "stdout",
          "text": [
            "Iterasi 1: update interval : 2.571428571428571\n",
            "Iterasi 2: update interval : 2.0788177339901477\n",
            "Iterasi 3: update interval : 2.0019673693351674\n",
            "Iterasi 4: update interval : 2.000001288490742\n",
            "Iterasi 5: update interval : 2.0000000000005533\n",
            "Iterasi 6: update interval : 2.0\n",
            "Iterasi 7: update interval : 2.0\n",
            "\n",
            "The value of the root is :  2.0\n",
            "Number of iterations:  7\n",
            "\n",
            "======================================\n",
            "Found root :  2.0\n",
            "Average CPU Time: 0.00024127960205078125 seconds\n"
          ]
        }
      ]
    },
    {
      "cell_type": "markdown",
      "source": [
        "## PROBLEM 5\n",
        "X^2 + 2X + 7, INTERVAL [1,3]\n"
      ],
      "metadata": {
        "id": "WuTmk_CMzZ8X"
      }
    },
    {
      "cell_type": "code",
      "source": [
        "def f(x) :\n",
        "  return x**2 + 2*x + 7\n",
        "\n",
        "def f_deriv(x) :\n",
        "  return 2*x + 2"
      ],
      "metadata": {
        "id": "Ai51lRENzlef"
      },
      "execution_count": null,
      "outputs": []
    },
    {
      "cell_type": "code",
      "source": [
        "# Mulai pengukuran waktu\n",
        "start_time = time.time()\n",
        "\n",
        "def newtonRaphson(x, tol, max_iter):\n",
        "    iteration = 0  # Initialize the iteration counter\n",
        "\n",
        "    while iteration < max_iter:\n",
        "        h = f(x) / f_deriv(x)  # Update h after each iteration\n",
        "\n",
        "        # x(i+1) = x(i) - f(x) / f'(x)\n",
        "        x = x - h\n",
        "        print(f\"Iterasi {iteration+1}: update interval : {x}\")\n",
        "\n",
        "        iteration += 1  # Increment the iteration counter\n",
        "\n",
        "        if abs(h) < tol:  # Check if the solution is accurate enough\n",
        "            break\n",
        "\n",
        "    if abs(h) < tol:\n",
        "        print(\"\\nThe value of the root is : \", x)\n",
        "    else:\n",
        "        print(\"Max iterations reached\")\n",
        "\n",
        "    print(\"Number of iterations: \", iteration)\n",
        "\n",
        "    return x, iteration\n",
        "\n",
        "# Driver program to test above\n",
        "x0 = 1  # Initial guess\n",
        "max_iter = 100\n",
        "tol = 1e-14  # Adjusted tolerance for quicker convergence\n",
        "\n",
        "end_time = time.time()\n",
        "\n",
        "root, iteration_list = newtonRaphson(x0, tol, max_iter)\n",
        "\n",
        "print(\"\\n======================================\")\n",
        "# Hitung Average CPU Time\n",
        "cpu_time = end_time - start_time\n",
        "print(\"Found root : \", root)\n",
        "print(\"Average CPU Time:\", cpu_time, \"seconds\")"
      ],
      "metadata": {
        "colab": {
          "base_uri": "https://localhost:8080/"
        },
        "id": "pER-GzBFzi4R",
        "outputId": "5e25e7b1-0a91-4962-8c07-7982160007cb"
      },
      "execution_count": null,
      "outputs": [
        {
          "output_type": "stream",
          "name": "stdout",
          "text": [
            "Iterasi 1: update interval : -1.5\n",
            "Iterasi 2: update interval : 4.75\n",
            "Iterasi 3: update interval : 1.3532608695652173\n",
            "Iterasi 4: update interval : -1.0981963550557285\n",
            "Iterasi 5: update interval : 29.50193396920951\n",
            "Iterasi 6: update interval : 14.152612565405356\n",
            "Iterasi 7: update interval : 6.378320622668761\n",
            "Iterasi 8: update interval : 2.2825637220261097\n",
            "Iterasi 9: update interval : -0.2726379449818457\n",
            "Iterasi 10: update interval : -4.760812378907515\n",
            "Iterasi 11: update interval : -2.082706198668395\n",
            "Iterasi 12: update interval : 1.2294816882468265\n",
            "Iterasi 13: update interval : -1.2308633901769266\n",
            "Iterasi 14: update interval : 11.879266155016277\n",
            "Iterasi 15: update interval : 5.206700551392778\n",
            "Iterasi 16: update interval : 1.6200016792626846\n",
            "Iterasi 17: update interval : -0.8350365944073466\n",
            "Iterasi 18: update interval : -19.103369815133316\n",
            "Iterasi 19: update interval : -9.88596990364003\n",
            "Iterasi 20: update interval : -5.105374085191817\n",
            "Iterasi 21: update interval : -2.3219375572271885\n",
            "Iterasi 22: update interval : 0.6084273691837403\n",
            "Iterasi 23: update interval : -2.0609622366077724\n",
            "Iterasi 24: update interval : 1.2971407295687927\n",
            "Iterasi 25: update interval : -1.1574009940374657\n",
            "Iterasi 26: update interval : 17.980899592202555\n",
            "Iterasi 27: update interval : 8.332396170379955\n",
            "Iterasi 28: update interval : 3.3447372357757956\n",
            "Iterasi 29: update interval : 0.48187806870182737\n",
            "Iterasi 30: update interval : -2.2835190255676703\n",
            "Iterasi 31: update interval : 0.6955646251837893\n",
            "Iterasi 32: update interval : -1.9215398090434381\n",
            "Iterasi 33: update interval : 1.7946510448065705\n",
            "Iterasi 34: update interval : -0.676153760663214\n",
            "Iterasi 35: update interval : -10.101732392107152\n",
            "Iterasi 36: update interval : -5.221258614687907\n",
            "Iterasi 37: update interval : -2.399940796206192\n",
            "Iterasi 38: update interval : 0.44297736663805054\n",
            "Iterasi 39: update interval : -2.3575460052080786\n",
            "Iterasi 40: update interval : 0.5310968570477326\n",
            "Iterasi 41: update interval : -2.193831205880591\n",
            "Iterasi 42: update interval : 0.9160024588615374\n",
            "Iterasi 43: update interval : -1.6077587653567953\n",
            "Iterasi 44: update interval : 3.6322896551121113\n",
            "Iterasi 45: update interval : 0.6685169322042928\n",
            "Iterasi 46: update interval : -1.9637454630738511\n",
            "Iterasi 47: update interval : 1.6309823893904887\n",
            "Iterasi 48: update interval : -0.8247672928178553\n",
            "Iterasi 49: update interval : -18.03247525625701\n",
            "Iterasi 50: update interval : -9.340103510517036\n",
            "Iterasi 51: update interval : -4.810343989495546\n",
            "Iterasi 52: update interval : -2.117841504831252\n",
            "Iterasi 53: update interval : 1.1248228615351508\n",
            "Iterasi 54: update interval : -1.3494709686116124\n",
            "Iterasi 55: update interval : 7.4096685705388055\n",
            "Iterasi 56: update interval : 2.848102034190001\n",
            "Iterasi 57: update interval : 0.1444459096042685\n",
            "Iterasi 58: update interval : -3.049132912542748\n",
            "Iterasi 59: update interval : -0.5605325804612731\n",
            "Iterasi 60: update interval : -7.606710906190689\n",
            "Iterasi 61: update interval : -3.8492717126990588\n",
            "Iterasi 62: update interval : -1.3717352198011956\n",
            "Iterasi 63: update interval : 6.8843927264872296\n",
            "Iterasi 64: update interval : 2.56169781325109\n",
            "Iterasi 65: update interval : -0.06144602048440628\n",
            "Iterasi 66: update interval : -3.727129466851507\n",
            "Iterasi 67: update interval : -1.2635069486871635\n",
            "Iterasi 68: update interval : 10.253145538553461\n",
            "Iterasi 69: update interval : 4.359980642682264\n",
            "Iterasi 70: update interval : 1.1202868074682297\n",
            "Iterasi 71: update interval : -1.354759518565444\n",
            "Iterasi 72: update interval : 7.279052959228192\n",
            "Iterasi 73: update interval : 2.777166193386422\n",
            "Iterasi 74: update interval : 0.09433686912376738\n",
            "Iterasi 75: update interval : -3.1942177735095783\n",
            "Iterasi 76: update interval : -0.7298790537735349\n",
            "Iterasi 77: update interval : -11.971075655570575\n",
            "Iterasi 78: update interval : -6.212091531890249\n",
            "Iterasi 79: update interval : -3.030461092950711\n",
            "Iterasi 80: update interval : -0.5377336318999899\n",
            "Iterasi 81: update interval : -7.258631607471575\n",
            "Iterasi 82: update interval : -3.649977796939128\n",
            "Iterasi 83: update interval : -1.1929039415823146\n",
            "Iterasi 84: update interval : 14.455329788524843\n",
            "Iterasi 85: update interval : 6.533557098372656\n",
            "Iterasi 86: update interval : 2.368560289096677\n",
            "Iterasi 87: update interval : -0.20630804225371202\n",
            "Iterasi 88: update interval : -4.382957974941116\n",
            "Iterasi 89: update interval : -1.804681095737298\n",
            "Iterasi 90: update interval : 2.3258444634260624\n",
            "Iterasi 91: update interval : -0.2391043161278743\n",
            "Iterasi 92: update interval : -4.562273957632159\n",
            "Iterasi 93: update interval : -1.9389782802767628\n",
            "Iterasi 94: update interval : 1.7254729404709308\n",
            "Iterasi 95: update interval : -0.7379899231374343\n",
            "Iterasi 96: update interval : -12.318936261244815\n",
            "Iterasi 97: update interval : -6.39442555676573\n",
            "Iterasi 98: update interval : -3.1410831277961826\n",
            "Iterasi 99: update interval : -0.6693815804051098\n",
            "Iterasi 100: update interval : -9.90859539502139\n",
            "Max iterations reached\n",
            "Number of iterations:  100\n",
            "\n",
            "======================================\n",
            "Found root :  -9.90859539502139\n",
            "Average CPU Time: 0.0004582405090332031 seconds\n"
          ]
        }
      ]
    },
    {
      "cell_type": "code",
      "source": [
        "# Mulai pengukuran waktu\n",
        "start_time = time.time()\n",
        "\n",
        "def newtonRaphson(x, tol, max_iter):\n",
        "    iteration = 0  # Initialize the iteration counter\n",
        "\n",
        "    while iteration < max_iter:\n",
        "        h = f(x) / f_deriv(x)  # Update h after each iteration\n",
        "\n",
        "        # x(i+1) = x(i) - f(x) / f'(x)\n",
        "        x = x - h\n",
        "        print(f\"Iterasi {iteration+1}: update interval : {x}\")\n",
        "\n",
        "        iteration += 1  # Increment the iteration counter\n",
        "\n",
        "        if abs(h) < tol:  # Check if the solution is accurate enough\n",
        "            break\n",
        "\n",
        "    if abs(h) < tol:\n",
        "        print(\"\\nThe value of the root is : \", x)\n",
        "    else:\n",
        "        print(\"Max iterations reached\")\n",
        "\n",
        "    print(\"Number of iterations: \", iteration)\n",
        "\n",
        "    return x, iteration\n",
        "\n",
        "# Driver program to test above\n",
        "x0 = 3  # Initial guess\n",
        "max_iter = 100\n",
        "tol = 1e-14  # Adjusted tolerance for quicker convergence\n",
        "\n",
        "end_time = time.time()\n",
        "\n",
        "root, iteration_list = newtonRaphson(x0, tol, max_iter)\n",
        "\n",
        "print(\"\\n======================================\")\n",
        "# Hitung Average CPU Time\n",
        "cpu_time = end_time - start_time\n",
        "print(\"Found root : \", root)\n",
        "print(\"Average CPU Time:\", cpu_time, \"seconds\")"
      ],
      "metadata": {
        "colab": {
          "base_uri": "https://localhost:8080/"
        },
        "id": "Hnk3oz2Qqkjj",
        "outputId": "6fd31fb4-fd94-468f-899f-950276446e5f"
      },
      "execution_count": null,
      "outputs": [
        {
          "output_type": "stream",
          "name": "stdout",
          "text": [
            "Iterasi 1: update interval : 0.25\n",
            "Iterasi 2: update interval : -2.775\n",
            "Iterasi 3: update interval : -0.19735915492957723\n",
            "Iterasi 4: update interval : -4.3363413453963515\n",
            "Iterasi 5: update interval : -1.7689821037169033\n",
            "Iterasi 6: update interval : 2.5167700899800765\n",
            "Iterasi 7: update interval : -0.09467043581820445\n",
            "Iterasi 8: update interval : -3.8610456264621384\n",
            "Iterasi 9: update interval : -1.3819551244627895\n",
            "Iterasi 10: update interval : 6.6633482678498925\n",
            "Iterasi 11: update interval : 2.440200342685949\n",
            "Iterasi 12: update interval : -0.1519420649117138\n",
            "Iterasi 13: update interval : -4.113465201044336\n",
            "Iterasi 14: update interval : -1.5931759823227023\n",
            "Iterasi 15: update interval : 3.760933030261136\n",
            "Iterasi 16: update interval : 0.7503379287943197\n",
            "Iterasi 17: update interval : -1.8387857815109525\n",
            "Iterasi 18: update interval : 2.15720564742662\n",
            "Iterasi 19: update interval : -0.3716045225978952\n",
            "Iterasi 20: update interval : -5.4598659009713995\n",
            "Iterasi 21: update interval : -2.557266985496355\n",
            "Iterasi 22: update interval : 0.14781844384366893\n",
            "Iterasi 23: update interval : -3.0397445454405196\n",
            "Iterasi 24: update interval : -0.5490998631526214\n",
            "Iterasi 25: update interval : -7.427907859066683\n",
            "Iterasi 26: update interval : -3.747239087663223\n",
            "Iterasi 27: update interval : -1.2816141142816941\n",
            "Iterasi 28: update interval : 9.512068093140673\n",
            "Iterasi 29: update interval : 3.9706477673511644\n",
            "Iterasi 30: update interval : 0.8817808163705565\n",
            "Iterasi 31: update interval : -1.6533441455424955\n",
            "Iterasi 32: update interval : 3.265088671497747\n",
            "Iterasi 33: update interval : 0.42915919394676694\n",
            "Iterasi 34: update interval : -2.3845567432653816\n",
            "Iterasi 35: update interval : 0.47448006177373436\n",
            "Iterasi 36: update interval : -2.297375477166278\n",
            "Iterasi 37: update interval : 0.6636729101263517\n",
            "Iterasi 38: update interval : -1.9714026202020203\n",
            "Iterasi 39: update interval : 1.6026164868760016\n",
            "Iterasi 40: update interval : -0.8513779149444773\n",
            "Iterasi 41: update interval : -21.111114285607364\n",
            "Iterasi 42: update interval : -10.906385895631814\n",
            "Iterasi 43: update interval : -5.650357985438474\n",
            "Iterasi 44: update interval : -2.6800673670349755\n",
            "Iterasi 45: update interval : -0.05439100104906114\n",
            "Iterasi 46: update interval : -3.6997541408591803\n",
            "Iterasi 47: update interval : -1.2386647735034457\n",
            "Iterasi 48: update interval : 11.450599723303418\n",
            "Iterasi 49: update interval : 4.984347613031509\n",
            "Iterasi 50: update interval : 1.4908660292958613\n",
            "Iterasi 51: update interval : -0.9589673684782807\n",
            "Iterasi 52: update interval : -74.09202579385367\n",
            "Iterasi 53: update interval : -37.50496874789119\n",
            "Iterasi 54: update interval : -19.17030378037439\n",
            "Iterasi 55: update interval : -9.920047330777447\n",
            "Iterasi 56: update interval : -5.123702580000656\n",
            "Iterasi 57: update interval : -2.334349744532536\n",
            "Iterasi 58: update interval : 0.581111240345829\n",
            "Iterasi 59: update interval : -2.106844084191861\n",
            "Iterasi 60: update interval : 1.1569868066719486\n",
            "Iterasi 61: update interval : -1.3123356878390204\n",
            "Iterasi 62: update interval : 8.44888248112121\n",
            "Iterasi 63: update interval : 3.406943377083736\n",
            "Iterasi 64: update interval : 0.5227277480591952\n",
            "Iterasi 65: update interval : -2.20878476470354\n",
            "Iterasi 66: update interval : 0.8774390301542963\n",
            "Iterasi 67: update interval : -1.6592018830699042\n",
            "Iterasi 68: update interval : 3.2213569319908255\n",
            "Iterasi 69: update interval : 0.40000650711294616\n",
            "Iterasi 70: update interval : -2.442843929480208\n",
            "Iterasi 71: update interval : 0.3578049971675261\n",
            "Iterasi 72: update interval : -2.5305458435995436\n",
            "Iterasi 73: update interval : 0.19481211096513285\n",
            "Iterasi 74: update interval : -2.9134489755872903\n",
            "Iterasi 75: update interval : -0.3888749980630828\n",
            "Iterasi 76: update interval : -5.603416824851486\n",
            "Iterasi 77: update interval : -2.6500185667866214\n",
            "Iterasi 78: update interval : -0.006847924250279025\n",
            "Iterasi 79: update interval : -3.5241093870992843\n",
            "Iterasi 80: update interval : -1.07351666293457\n",
            "Iterasi 81: update interval : 39.77031696614252\n",
            "Iterasi 82: update interval : 19.31157553784934\n",
            "Iterasi 83: update interval : 9.00808873915666\n",
            "Iterasi 84: update interval : 3.704286835628566\n",
            "Iterasi 85: update interval : 0.7144272017708468\n",
            "Iterasi 86: update interval : -1.8926419758933828\n",
            "Iterasi 87: update interval : 1.914488923549472\n",
            "Iterasi 88: update interval : -0.5720955284237466\n",
            "Iterasi 89: update interval : -7.7969583745848565\n",
            "Iterasi 90: update interval : -3.9571052911071023\n",
            "Iterasi 91: update interval : -1.4640470041677354\n",
            "Iterasi 92: update interval : 5.232838835257316\n",
            "Iterasi 93: update interval : 1.6350978113278671\n",
            "Iterasi 94: update interval : -0.8209287580886135\n",
            "Iterasi 95: update interval : -17.663573186345438\n",
            "Iterasi 96: update interval : -9.151753177382984\n",
            "Iterasi 97: update interval : -4.707857595142535\n",
            "Iterasi 98: update interval : -2.044836235890868\n",
            "Iterasi 99: update interval : 1.3488452407971767\n",
            "Iterasi 100: update interval : -1.1028007351009115\n",
            "Max iterations reached\n",
            "Number of iterations:  100\n",
            "\n",
            "======================================\n",
            "Found root :  -1.1028007351009115\n",
            "Average CPU Time: 0.0004143714904785156 seconds\n"
          ]
        }
      ]
    },
    {
      "cell_type": "markdown",
      "source": [
        "## PROBLEM 6\n",
        "\n",
        "X^3 - 3, INTERVAL [0,2]"
      ],
      "metadata": {
        "id": "mSvv5jckYRS5"
      }
    },
    {
      "cell_type": "code",
      "source": [
        "def f(x) :\n",
        "  return x**3 - 3\n",
        "\n",
        "def f_deriv(x) :\n",
        "  return 3*x**2"
      ],
      "metadata": {
        "id": "oEbbt8G3Yehj"
      },
      "execution_count": null,
      "outputs": []
    },
    {
      "cell_type": "code",
      "source": [
        "# Mulai pengukuran waktu\n",
        "start_time = time.time()\n",
        "\n",
        "def newtonRaphson(x, tol, max_iter):\n",
        "    iteration = 0  # Initialize the iteration counter\n",
        "\n",
        "    while iteration < max_iter:\n",
        "        h = f(x) / f_deriv(x)  # Update h after each iteration\n",
        "\n",
        "        # x(i+1) = x(i) - f(x) / f'(x)\n",
        "        x = x - h\n",
        "        print(f\"Iterasi {iteration+1}: update interval : {x}\")\n",
        "\n",
        "        iteration += 1  # Increment the iteration counter\n",
        "\n",
        "        if abs(h) < tol:  # Check if the solution is accurate enough\n",
        "            break\n",
        "\n",
        "    if abs(h) < tol:\n",
        "        print(\"\\nThe value of the root is : \", x)\n",
        "    else:\n",
        "        print(\"Max iterations reached\")\n",
        "\n",
        "    print(\"Number of iterations: \", iteration)\n",
        "\n",
        "    return x, iteration\n",
        "\n",
        "# Driver program to test above\n",
        "x0 = 0  # Initial guess\n",
        "max_iter = 100\n",
        "tol = 1e-14  # Adjusted tolerance for quicker convergence\n",
        "\n",
        "end_time = time.time()\n",
        "\n",
        "root, iteration_list = newtonRaphson(x0, tol, max_iter)\n",
        "\n",
        "print(\"\\n======================================\")\n",
        "# Hitung Average CPU Time\n",
        "cpu_time = end_time - start_time\n",
        "print(\"Found root : \", root)\n",
        "print(\"Average CPU Time:\", cpu_time, \"seconds\")"
      ],
      "metadata": {
        "colab": {
          "base_uri": "https://localhost:8080/",
          "height": 347
        },
        "id": "r0znr7S201-D",
        "outputId": "04ecdc34-7c03-4f97-ddc7-a5e2040c0310"
      },
      "execution_count": null,
      "outputs": [
        {
          "output_type": "error",
          "ename": "ZeroDivisionError",
          "evalue": "division by zero",
          "traceback": [
            "\u001b[0;31m---------------------------------------------------------------------------\u001b[0m",
            "\u001b[0;31mZeroDivisionError\u001b[0m                         Traceback (most recent call last)",
            "\u001b[0;32m<ipython-input-18-cb26e67d40e4>\u001b[0m in \u001b[0;36m<cell line: 35>\u001b[0;34m()\u001b[0m\n\u001b[1;32m     33\u001b[0m \u001b[0mend_time\u001b[0m \u001b[0;34m=\u001b[0m \u001b[0mtime\u001b[0m\u001b[0;34m.\u001b[0m\u001b[0mtime\u001b[0m\u001b[0;34m(\u001b[0m\u001b[0;34m)\u001b[0m\u001b[0;34m\u001b[0m\u001b[0;34m\u001b[0m\u001b[0m\n\u001b[1;32m     34\u001b[0m \u001b[0;34m\u001b[0m\u001b[0m\n\u001b[0;32m---> 35\u001b[0;31m \u001b[0mroot\u001b[0m\u001b[0;34m,\u001b[0m \u001b[0miteration_list\u001b[0m \u001b[0;34m=\u001b[0m \u001b[0mnewtonRaphson\u001b[0m\u001b[0;34m(\u001b[0m\u001b[0mx0\u001b[0m\u001b[0;34m,\u001b[0m \u001b[0mtol\u001b[0m\u001b[0;34m,\u001b[0m \u001b[0mmax_iter\u001b[0m\u001b[0;34m)\u001b[0m\u001b[0;34m\u001b[0m\u001b[0;34m\u001b[0m\u001b[0m\n\u001b[0m\u001b[1;32m     36\u001b[0m \u001b[0;34m\u001b[0m\u001b[0m\n\u001b[1;32m     37\u001b[0m \u001b[0mprint\u001b[0m\u001b[0;34m(\u001b[0m\u001b[0;34m\"\\n======================================\"\u001b[0m\u001b[0;34m)\u001b[0m\u001b[0;34m\u001b[0m\u001b[0;34m\u001b[0m\u001b[0m\n",
            "\u001b[0;32m<ipython-input-18-cb26e67d40e4>\u001b[0m in \u001b[0;36mnewtonRaphson\u001b[0;34m(x, tol, max_iter)\u001b[0m\n\u001b[1;32m      6\u001b[0m \u001b[0;34m\u001b[0m\u001b[0m\n\u001b[1;32m      7\u001b[0m     \u001b[0;32mwhile\u001b[0m \u001b[0miteration\u001b[0m \u001b[0;34m<\u001b[0m \u001b[0mmax_iter\u001b[0m\u001b[0;34m:\u001b[0m\u001b[0;34m\u001b[0m\u001b[0;34m\u001b[0m\u001b[0m\n\u001b[0;32m----> 8\u001b[0;31m         \u001b[0mh\u001b[0m \u001b[0;34m=\u001b[0m \u001b[0mf\u001b[0m\u001b[0;34m(\u001b[0m\u001b[0mx\u001b[0m\u001b[0;34m)\u001b[0m \u001b[0;34m/\u001b[0m \u001b[0mf_deriv\u001b[0m\u001b[0;34m(\u001b[0m\u001b[0mx\u001b[0m\u001b[0;34m)\u001b[0m  \u001b[0;31m# Update h after each iteration\u001b[0m\u001b[0;34m\u001b[0m\u001b[0;34m\u001b[0m\u001b[0m\n\u001b[0m\u001b[1;32m      9\u001b[0m \u001b[0;34m\u001b[0m\u001b[0m\n\u001b[1;32m     10\u001b[0m         \u001b[0;31m# x(i+1) = x(i) - f(x) / f'(x)\u001b[0m\u001b[0;34m\u001b[0m\u001b[0;34m\u001b[0m\u001b[0m\n",
            "\u001b[0;31mZeroDivisionError\u001b[0m: division by zero"
          ]
        }
      ]
    },
    {
      "cell_type": "code",
      "source": [
        "# Mulai pengukuran waktu\n",
        "start_time = time.time()\n",
        "\n",
        "def newtonRaphson(x, tol, max_iter):\n",
        "    iteration = 0  # Initialize the iteration counter\n",
        "\n",
        "    while iteration < max_iter:\n",
        "        h = f(x) / f_deriv(x)  # Update h after each iteration\n",
        "\n",
        "        # x(i+1) = x(i) - f(x) / f'(x)\n",
        "        x = x - h\n",
        "        print(f\"Iterasi {iteration+1}: update interval : {x}\")\n",
        "\n",
        "        iteration += 1  # Increment the iteration counter\n",
        "\n",
        "        if abs(h) < tol:  # Check if the solution is accurate enough\n",
        "            break\n",
        "\n",
        "    if abs(h) < tol:\n",
        "        print(\"\\nThe value of the root is : \", x)\n",
        "    else:\n",
        "        print(\"Max iterations reached\")\n",
        "\n",
        "    print(\"Number of iterations: \", iteration)\n",
        "\n",
        "    return x, iteration\n",
        "\n",
        "# Driver program to test above\n",
        "x0 = 2  # Initial guess\n",
        "max_iter = 100\n",
        "tol = 1e-14  # Adjusted tolerance for quicker convergence\n",
        "\n",
        "end_time = time.time()\n",
        "\n",
        "root, iteration_list = newtonRaphson(x0, tol, max_iter)\n",
        "\n",
        "print(\"\\n======================================\")\n",
        "# Hitung Average CPU Time\n",
        "cpu_time = end_time - start_time\n",
        "print(\"Found root : \", root)\n",
        "print(\"Average CPU Time:\", cpu_time, \"seconds\")"
      ],
      "metadata": {
        "colab": {
          "base_uri": "https://localhost:8080/"
        },
        "id": "4mvZdjzIvkXc",
        "outputId": "6bc3f1b3-a626-4832-937d-fccb0aa244da"
      },
      "execution_count": null,
      "outputs": [
        {
          "output_type": "stream",
          "name": "stdout",
          "text": [
            "Iterasi 1: update interval : 1.5833333333333333\n",
            "Iterasi 2: update interval : 1.4544475223145583\n",
            "Iterasi 3: update interval : 1.442351584357819\n",
            "Iterasi 4: update interval : 1.4422495775224462\n",
            "Iterasi 5: update interval : 1.4422495703074085\n",
            "Iterasi 6: update interval : 1.4422495703074083\n",
            "\n",
            "The value of the root is :  1.4422495703074083\n",
            "Number of iterations:  6\n",
            "\n",
            "======================================\n",
            "Found root :  1.4422495703074083\n",
            "Average CPU Time: 0.010531902313232422 seconds\n"
          ]
        }
      ]
    },
    {
      "cell_type": "markdown",
      "source": [
        "## PROBLEM 7\n",
        "Xe^x - 7, Interval [0,2]"
      ],
      "metadata": {
        "id": "igtBoI0l1ODS"
      }
    },
    {
      "cell_type": "code",
      "source": [
        "def f(x) :\n",
        "  return x * math.exp(x) - 7\n",
        "\n",
        "def f_deriv(x) :\n",
        "  return math.exp(x) + x * math.exp(x)"
      ],
      "metadata": {
        "id": "ADb4Fl261az7"
      },
      "execution_count": null,
      "outputs": []
    },
    {
      "cell_type": "code",
      "source": [
        "# Mulai pengukuran waktu\n",
        "start_time = time.time()\n",
        "\n",
        "def newtonRaphson(x, tol, max_iter):\n",
        "    iteration = 0  # Initialize the iteration counter\n",
        "\n",
        "    while iteration < max_iter:\n",
        "        h = f(x) / f_deriv(x)  # Update h after each iteration\n",
        "\n",
        "        # x(i+1) = x(i) - f(x) / f'(x)\n",
        "        x = x - h\n",
        "        print(f\"Iterasi {iteration+1}: update interval : {x}\")\n",
        "\n",
        "        iteration += 1  # Increment the iteration counter\n",
        "\n",
        "        if abs(h) < tol:  # Check if the solution is accurate enough\n",
        "            break\n",
        "\n",
        "    if abs(h) < tol:\n",
        "        print(\"\\nThe value of the root is : \", x)\n",
        "    else:\n",
        "        print(\"Max iterations reached\")\n",
        "\n",
        "    print(\"Number of iterations: \", iteration)\n",
        "\n",
        "    return x, iteration\n",
        "\n",
        "# Driver program to test above\n",
        "x0 = 0  # Initial guess\n",
        "max_iter = 100\n",
        "tol = 1e-14  # Adjusted tolerance for quicker convergence\n",
        "\n",
        "end_time = time.time()\n",
        "\n",
        "root, iteration_list = newtonRaphson(x0, tol, max_iter)\n",
        "\n",
        "print(\"\\n======================================\")\n",
        "# Hitung Average CPU Time\n",
        "cpu_time = end_time - start_time\n",
        "print(\"Found root : \", root)\n",
        "print(\"Average CPU Time:\", cpu_time, \"seconds\")"
      ],
      "metadata": {
        "colab": {
          "base_uri": "https://localhost:8080/"
        },
        "id": "Wh2Igq_F2XH-",
        "outputId": "9f821613-e91a-4f94-f5d2-1c60716fa82a"
      },
      "execution_count": null,
      "outputs": [
        {
          "output_type": "stream",
          "name": "stdout",
          "text": [
            "Iterasi 1: update interval : 7.0\n",
            "Iterasi 2: update interval : 6.1257978967198605\n",
            "Iterasi 3: update interval : 5.26828021795208\n",
            "Iterasi 4: update interval : 4.433567539591575\n",
            "Iterasi 5: update interval : 3.6329033188987596\n",
            "Iterasi 6: update interval : 2.8886986800900227\n",
            "Iterasi 7: update interval : 2.2460264622508834\n",
            "Iterasi 8: update interval : 1.7822919791841754\n",
            "Iterasi 9: update interval : 1.5650151942670985\n",
            "Iterasi 10: update interval : 1.5254749448815648\n",
            "Iterasi 11: update interval : 1.5243460953973462\n",
            "Iterasi 12: update interval : 1.524345204984698\n",
            "Iterasi 13: update interval : 1.5243452049841444\n",
            "Iterasi 14: update interval : 1.5243452049841444\n",
            "\n",
            "The value of the root is :  1.5243452049841444\n",
            "Number of iterations:  14\n",
            "\n",
            "======================================\n",
            "Found root :  1.5243452049841444\n",
            "Average CPU Time: 0.00024700164794921875 seconds\n"
          ]
        }
      ]
    },
    {
      "cell_type": "code",
      "source": [
        "# Mulai pengukuran waktu\n",
        "start_time = time.time()\n",
        "\n",
        "def newtonRaphson(x, tol, max_iter):\n",
        "    iteration = 0  # Initialize the iteration counter\n",
        "\n",
        "    while iteration < max_iter:\n",
        "        h = f(x) / f_deriv(x)  # Update h after each iteration\n",
        "\n",
        "        # x(i+1) = x(i) - f(x) / f'(x)\n",
        "        x = x - h\n",
        "        print(f\"Iterasi {iteration+1}: update interval : {x}\")\n",
        "\n",
        "        iteration += 1  # Increment the iteration counter\n",
        "\n",
        "        if abs(h) < tol:  # Check if the solution is accurate enough\n",
        "            break\n",
        "\n",
        "    if abs(h) < tol:\n",
        "        print(\"\\nThe value of the root is : \", x)\n",
        "    else:\n",
        "        print(\"Max iterations reached\")\n",
        "\n",
        "    print(\"Number of iterations: \", iteration)\n",
        "\n",
        "    return x, iteration\n",
        "\n",
        "# Driver program to test above\n",
        "x0 = 2  # Initial guess\n",
        "max_iter = 100\n",
        "tol = 1e-14  # Adjusted tolerance for quicker convergence\n",
        "\n",
        "end_time = time.time()\n",
        "\n",
        "root, iteration_list = newtonRaphson(x0, tol, max_iter)\n",
        "\n",
        "print(\"\\n======================================\")\n",
        "# Hitung Average CPU Time\n",
        "cpu_time = end_time - start_time\n",
        "print(\"Found root : \", root)\n",
        "print(\"Average CPU Time:\", cpu_time, \"seconds\")"
      ],
      "metadata": {
        "colab": {
          "base_uri": "https://localhost:8080/"
        },
        "id": "kcEeQd5Hx5Fb",
        "outputId": "7b69604c-80fb-4f90-fdce-40f51912ed78"
      },
      "execution_count": null,
      "outputs": [
        {
          "output_type": "stream",
          "name": "stdout",
          "text": [
            "Iterasi 1: update interval : 1.6491156608854296\n",
            "Iterasi 2: update interval : 1.534520092837385\n",
            "Iterasi 3: update interval : 1.5244170796825196\n",
            "Iterasi 4: update interval : 1.5243452085902205\n",
            "Iterasi 5: update interval : 1.5243452049841444\n",
            "Iterasi 6: update interval : 1.5243452049841444\n",
            "\n",
            "The value of the root is :  1.5243452049841444\n",
            "Number of iterations:  6\n",
            "\n",
            "======================================\n",
            "Found root :  1.5243452049841444\n",
            "Average CPU Time: 0.0004324913024902344 seconds\n"
          ]
        }
      ]
    },
    {
      "cell_type": "markdown",
      "source": [
        "## PROBLEM 8\n",
        "X - Cos(x) , Interval [0,1]"
      ],
      "metadata": {
        "id": "PiDNJc522kE1"
      }
    },
    {
      "cell_type": "code",
      "source": [
        "def f(x) :\n",
        "  return x - math.cos(x)\n",
        "\n",
        "def f_deriv(x) :\n",
        "  return 1 + math.sin(x)"
      ],
      "metadata": {
        "id": "s4w_0V-k2xlt"
      },
      "execution_count": null,
      "outputs": []
    },
    {
      "cell_type": "code",
      "source": [
        "# Mulai pengukuran waktu\n",
        "start_time = time.time()\n",
        "\n",
        "def newtonRaphson(x, tol, max_iter):\n",
        "    iteration = 0  # Initialize the iteration counter\n",
        "\n",
        "    while iteration < max_iter:\n",
        "        h = f(x) / f_deriv(x)  # Update h after each iteration\n",
        "\n",
        "        # x(i+1) = x(i) - f(x) / f'(x)\n",
        "        x = x - h\n",
        "        print(f\"Iterasi {iteration+1}: update interval : {x}\")\n",
        "\n",
        "        iteration += 1  # Increment the iteration counter\n",
        "\n",
        "        if abs(h) < tol:  # Check if the solution is accurate enough\n",
        "            break\n",
        "\n",
        "    if abs(h) < tol:\n",
        "        print(\"\\nThe value of the root is : \", x)\n",
        "    else:\n",
        "        print(\"Max iterations reached\")\n",
        "\n",
        "    print(\"Number of iterations: \", iteration)\n",
        "\n",
        "    return x, iteration\n",
        "\n",
        "# Driver program to test above\n",
        "x0 = 0  # Initial guess\n",
        "max_iter = 100\n",
        "tol = 1e-14  # Adjusted tolerance for quicker convergence\n",
        "\n",
        "end_time = time.time()\n",
        "\n",
        "root, iteration_list = newtonRaphson(x0, tol, max_iter)\n",
        "\n",
        "print(\"\\n======================================\")\n",
        "# Hitung Average CPU Time\n",
        "cpu_time = end_time - start_time\n",
        "print(\"Found root : \", root)\n",
        "print(\"Average CPU Time:\", cpu_time, \"seconds\")"
      ],
      "metadata": {
        "colab": {
          "base_uri": "https://localhost:8080/"
        },
        "id": "BnMG4kLh2vsR",
        "outputId": "ebe41173-65cd-4b83-8595-64502e482945"
      },
      "execution_count": null,
      "outputs": [
        {
          "output_type": "stream",
          "name": "stdout",
          "text": [
            "Iterasi 1: update interval : 1.0\n",
            "Iterasi 2: update interval : 0.7503638678402439\n",
            "Iterasi 3: update interval : 0.7391128909113617\n",
            "Iterasi 4: update interval : 0.739085133385284\n",
            "Iterasi 5: update interval : 0.7390851332151607\n",
            "Iterasi 6: update interval : 0.7390851332151607\n",
            "\n",
            "The value of the root is :  0.7390851332151607\n",
            "Number of iterations:  6\n",
            "\n",
            "======================================\n",
            "Found root :  0.7390851332151607\n",
            "Average CPU Time: 0.0002639293670654297 seconds\n"
          ]
        }
      ]
    },
    {
      "cell_type": "code",
      "source": [
        "# Mulai pengukuran waktu\n",
        "start_time = time.time()\n",
        "\n",
        "def newtonRaphson(x, tol, max_iter):\n",
        "    iteration = 0  # Initialize the iteration counter\n",
        "\n",
        "    while iteration < max_iter:\n",
        "        h = f(x) / f_deriv(x)  # Update h after each iteration\n",
        "\n",
        "        # x(i+1) = x(i) - f(x) / f'(x)\n",
        "        x = x - h\n",
        "        print(f\"Iterasi {iteration+1}: update interval : {x}\")\n",
        "\n",
        "        iteration += 1  # Increment the iteration counter\n",
        "\n",
        "        if abs(h) < tol:  # Check if the solution is accurate enough\n",
        "            break\n",
        "\n",
        "    if abs(h) < tol:\n",
        "        print(\"\\nThe value of the root is : \", x)\n",
        "    else:\n",
        "        print(\"Max iterations reached\")\n",
        "\n",
        "    print(\"Number of iterations: \", iteration)\n",
        "\n",
        "    return x, iteration\n",
        "\n",
        "# Driver program to test above\n",
        "x0 = 1  # Initial guess\n",
        "max_iter = 100\n",
        "tol = 1e-14  # Adjusted tolerance for quicker convergence\n",
        "\n",
        "end_time = time.time()\n",
        "\n",
        "root, iteration_list = newtonRaphson(x0, tol, max_iter)\n",
        "\n",
        "print(\"\\n======================================\")\n",
        "# Hitung Average CPU Time\n",
        "cpu_time = end_time - start_time\n",
        "print(\"Found root : \", root)\n",
        "print(\"Average CPU Time:\", cpu_time, \"seconds\")"
      ],
      "metadata": {
        "colab": {
          "base_uri": "https://localhost:8080/"
        },
        "id": "dBfvEuaayDyF",
        "outputId": "926ad71c-4009-4bd2-88b4-7aa8f757b946"
      },
      "execution_count": null,
      "outputs": [
        {
          "output_type": "stream",
          "name": "stdout",
          "text": [
            "Iterasi 1: update interval : 0.7503638678402439\n",
            "Iterasi 2: update interval : 0.7391128909113617\n",
            "Iterasi 3: update interval : 0.739085133385284\n",
            "Iterasi 4: update interval : 0.7390851332151607\n",
            "Iterasi 5: update interval : 0.7390851332151607\n",
            "\n",
            "The value of the root is :  0.7390851332151607\n",
            "Number of iterations:  5\n",
            "\n",
            "======================================\n",
            "Found root :  0.7390851332151607\n",
            "Average CPU Time: 0.0002384185791015625 seconds\n"
          ]
        }
      ]
    },
    {
      "cell_type": "markdown",
      "source": [
        "## PROBLEM 9\n",
        "X SIN(X) - 1, INTERVAL [0,2]"
      ],
      "metadata": {
        "id": "1iV4V2yQ3CZ5"
      }
    },
    {
      "cell_type": "code",
      "source": [
        "def f(x) :\n",
        "  return x * math.sin(x) - 1\n",
        "\n",
        "def f_deriv(x) :\n",
        "  return math.sin(x) + x * math.cos(x)"
      ],
      "metadata": {
        "id": "nPvzZ7VN4nou"
      },
      "execution_count": null,
      "outputs": []
    },
    {
      "cell_type": "code",
      "source": [
        "# Mulai pengukuran waktu\n",
        "start_time = time.time()\n",
        "\n",
        "def newtonRaphson(x, tol, max_iter):\n",
        "    iteration = 0  # Initialize the iteration counter\n",
        "\n",
        "    while iteration < max_iter:\n",
        "        h = f(x) / f_deriv(x)  # Update h after each iteration\n",
        "\n",
        "        # x(i+1) = x(i) - f(x) / f'(x)\n",
        "        x = x - h\n",
        "        print(f\"Iterasi {iteration+1}: update interval : {x}\")\n",
        "\n",
        "        iteration += 1  # Increment the iteration counter\n",
        "\n",
        "        if abs(h) < tol:  # Check if the solution is accurate enough\n",
        "            break\n",
        "\n",
        "    if abs(h) < tol:\n",
        "        print(\"\\nThe value of the root is : \", x)\n",
        "    else:\n",
        "        print(\"Max iterations reached\")\n",
        "\n",
        "    print(\"Number of iterations: \", iteration)\n",
        "\n",
        "    return x, iteration\n",
        "\n",
        "# Driver program to test above\n",
        "x0 =  0 # Initial guess\n",
        "max_iter = 100\n",
        "tol = 1e-14  # Adjusted tolerance for quicker convergence\n",
        "\n",
        "end_time = time.time()\n",
        "\n",
        "root, iteration_list = newtonRaphson(x0, tol, max_iter)\n",
        "\n",
        "print(\"\\n======================================\")\n",
        "# Hitung Average CPU Time\n",
        "cpu_time = end_time - start_time\n",
        "print(\"Found root : \", root)\n",
        "print(\"Average CPU Time:\", cpu_time, \"seconds\")"
      ],
      "metadata": {
        "colab": {
          "base_uri": "https://localhost:8080/",
          "height": 347
        },
        "id": "Mpdv0HZN4vsK",
        "outputId": "867fe19b-acf0-4c88-ebdd-26159333c24c"
      },
      "execution_count": null,
      "outputs": [
        {
          "output_type": "error",
          "ename": "ZeroDivisionError",
          "evalue": "float division by zero",
          "traceback": [
            "\u001b[0;31m---------------------------------------------------------------------------\u001b[0m",
            "\u001b[0;31mZeroDivisionError\u001b[0m                         Traceback (most recent call last)",
            "\u001b[0;32m<ipython-input-28-34921e268647>\u001b[0m in \u001b[0;36m<cell line: 35>\u001b[0;34m()\u001b[0m\n\u001b[1;32m     33\u001b[0m \u001b[0mend_time\u001b[0m \u001b[0;34m=\u001b[0m \u001b[0mtime\u001b[0m\u001b[0;34m.\u001b[0m\u001b[0mtime\u001b[0m\u001b[0;34m(\u001b[0m\u001b[0;34m)\u001b[0m\u001b[0;34m\u001b[0m\u001b[0;34m\u001b[0m\u001b[0m\n\u001b[1;32m     34\u001b[0m \u001b[0;34m\u001b[0m\u001b[0m\n\u001b[0;32m---> 35\u001b[0;31m \u001b[0mroot\u001b[0m\u001b[0;34m,\u001b[0m \u001b[0miteration_list\u001b[0m \u001b[0;34m=\u001b[0m \u001b[0mnewtonRaphson\u001b[0m\u001b[0;34m(\u001b[0m\u001b[0mx0\u001b[0m\u001b[0;34m,\u001b[0m \u001b[0mtol\u001b[0m\u001b[0;34m,\u001b[0m \u001b[0mmax_iter\u001b[0m\u001b[0;34m)\u001b[0m\u001b[0;34m\u001b[0m\u001b[0;34m\u001b[0m\u001b[0m\n\u001b[0m\u001b[1;32m     36\u001b[0m \u001b[0;34m\u001b[0m\u001b[0m\n\u001b[1;32m     37\u001b[0m \u001b[0mprint\u001b[0m\u001b[0;34m(\u001b[0m\u001b[0;34m\"\\n======================================\"\u001b[0m\u001b[0;34m)\u001b[0m\u001b[0;34m\u001b[0m\u001b[0;34m\u001b[0m\u001b[0m\n",
            "\u001b[0;32m<ipython-input-28-34921e268647>\u001b[0m in \u001b[0;36mnewtonRaphson\u001b[0;34m(x, tol, max_iter)\u001b[0m\n\u001b[1;32m      6\u001b[0m \u001b[0;34m\u001b[0m\u001b[0m\n\u001b[1;32m      7\u001b[0m     \u001b[0;32mwhile\u001b[0m \u001b[0miteration\u001b[0m \u001b[0;34m<\u001b[0m \u001b[0mmax_iter\u001b[0m\u001b[0;34m:\u001b[0m\u001b[0;34m\u001b[0m\u001b[0;34m\u001b[0m\u001b[0m\n\u001b[0;32m----> 8\u001b[0;31m         \u001b[0mh\u001b[0m \u001b[0;34m=\u001b[0m \u001b[0mf\u001b[0m\u001b[0;34m(\u001b[0m\u001b[0mx\u001b[0m\u001b[0;34m)\u001b[0m \u001b[0;34m/\u001b[0m \u001b[0mf_deriv\u001b[0m\u001b[0;34m(\u001b[0m\u001b[0mx\u001b[0m\u001b[0;34m)\u001b[0m  \u001b[0;31m# Update h after each iteration\u001b[0m\u001b[0;34m\u001b[0m\u001b[0;34m\u001b[0m\u001b[0m\n\u001b[0m\u001b[1;32m      9\u001b[0m \u001b[0;34m\u001b[0m\u001b[0m\n\u001b[1;32m     10\u001b[0m         \u001b[0;31m# x(i+1) = x(i) - f(x) / f'(x)\u001b[0m\u001b[0;34m\u001b[0m\u001b[0;34m\u001b[0m\u001b[0m\n",
            "\u001b[0;31mZeroDivisionError\u001b[0m: float division by zero"
          ]
        }
      ]
    },
    {
      "cell_type": "code",
      "source": [
        "# Mulai pengukuran waktu\n",
        "start_time = time.time()\n",
        "\n",
        "def newtonRaphson(x, tol, max_iter):\n",
        "    iteration = 0  # Initialize the iteration counter\n",
        "\n",
        "    while iteration < max_iter:\n",
        "        h = f(x) / f_deriv(x)  # Update h after each iteration\n",
        "\n",
        "        # x(i+1) = x(i) - f(x) / f'(x)\n",
        "        x = x - h\n",
        "        print(f\"Iterasi {iteration+1}: update interval : {x}\")\n",
        "\n",
        "        iteration += 1  # Increment the iteration counter\n",
        "\n",
        "        if abs(h) < tol:  # Check if the solution is accurate enough\n",
        "            break\n",
        "\n",
        "    if abs(h) < tol:\n",
        "        print(\"\\nThe value of the root is : \", x)\n",
        "    else:\n",
        "        print(\"Max iterations reached\")\n",
        "\n",
        "    print(\"Number of iterations: \", iteration)\n",
        "\n",
        "    return x, iteration\n",
        "\n",
        "# Driver program to test above\n",
        "x0 = 2  # Initial guess\n",
        "max_iter = 100\n",
        "tol = 1e-14  # Adjusted tolerance for quicker convergence\n",
        "\n",
        "end_time = time.time()\n",
        "\n",
        "root, iteration_list = newtonRaphson(x0, tol, max_iter)\n",
        "\n",
        "print(\"\\n======================================\")\n",
        "# Hitung Average CPU Time\n",
        "cpu_time = end_time - start_time\n",
        "print(\"Found root : \", root)\n",
        "print(\"Average CPU Time:\", cpu_time, \"seconds\")"
      ],
      "metadata": {
        "colab": {
          "base_uri": "https://localhost:8080/"
        },
        "id": "CezGVPxhyKxZ",
        "outputId": "4bdc30a9-4739-4e56-8047-850f66a3d823"
      },
      "execution_count": null,
      "outputs": [
        {
          "output_type": "stream",
          "name": "stdout",
          "text": [
            "Iterasi 1: update interval : -8.63058375708243\n",
            "Iterasi 2: update interval : -9.5969709137395\n",
            "Iterasi 3: update interval : -9.322270122372009\n",
            "Iterasi 4: update interval : -9.317247017715122\n",
            "Iterasi 5: update interval : -9.317242941417522\n",
            "Iterasi 6: update interval : -9.31724294141481\n",
            "Iterasi 7: update interval : -9.31724294141481\n",
            "\n",
            "The value of the root is :  -9.31724294141481\n",
            "Number of iterations:  7\n",
            "\n",
            "======================================\n",
            "Found root :  -9.31724294141481\n",
            "Average CPU Time: 0.00036835670471191406 seconds\n"
          ]
        }
      ]
    },
    {
      "cell_type": "markdown",
      "source": [
        "## PROBLEM 10\n",
        "X COS(X) + 1, INTERVAL [-2,4]"
      ],
      "metadata": {
        "id": "mXvjIBx23NNv"
      }
    },
    {
      "cell_type": "code",
      "source": [
        "def f(x) :\n",
        "  return x * math.cos(x) + 1\n",
        "\n",
        "def f_deriv(x) :\n",
        "  return math.cos(x)  - x * math.sin(x)"
      ],
      "metadata": {
        "id": "N2D6DvLE5pLx"
      },
      "execution_count": null,
      "outputs": []
    },
    {
      "cell_type": "code",
      "source": [
        "# Mulai pengukuran waktu\n",
        "start_time = time.time()\n",
        "\n",
        "def newtonRaphson(x, tol, max_iter):\n",
        "    iteration = 0  # Initialize the iteration counter\n",
        "\n",
        "    while iteration < max_iter:\n",
        "        h = f(x) / f_deriv(x)  # Update h after each iteration\n",
        "\n",
        "        # x(i+1) = x(i) - f(x) / f'(x)\n",
        "        x = x - h\n",
        "        print(f\"Iterasi {iteration+1}: update interval : {x}\")\n",
        "\n",
        "        iteration += 1  # Increment the iteration counter\n",
        "\n",
        "        if abs(h) < tol:  # Check if the solution is accurate enough\n",
        "            break\n",
        "\n",
        "    if abs(h) < tol:\n",
        "        print(\"\\nThe value of the root is : \", x)\n",
        "    else:\n",
        "        print(\"Max iterations reached\")\n",
        "\n",
        "    print(\"Number of iterations: \", iteration)\n",
        "\n",
        "    return x, iteration\n",
        "\n",
        "# Driver program to test above\n",
        "x0 = -2  # Initial guess\n",
        "max_iter = 100\n",
        "tol = 1e-14  # Adjusted tolerance for quicker convergence\n",
        "\n",
        "end_time = time.time()\n",
        "\n",
        "root, iteration_list = newtonRaphson(x0, tol, max_iter)\n",
        "\n",
        "print(\"\\n======================================\")\n",
        "# Hitung Average CPU Time\n",
        "cpu_time = end_time - start_time\n",
        "print(\"Found root : \", root)\n",
        "print(\"Average CPU Time:\", cpu_time, \"seconds\")"
      ],
      "metadata": {
        "colab": {
          "base_uri": "https://localhost:8080/"
        },
        "id": "88N5wMk35uDI",
        "outputId": "37ad3c27-c988-43e1-9565-52d6a8901509"
      },
      "execution_count": null,
      "outputs": [
        {
          "output_type": "stream",
          "name": "stdout",
          "text": [
            "Iterasi 1: update interval : -1.1800870404258994\n",
            "Iterasi 2: update interval : -0.40497441000901035\n",
            "Iterasi 3: update interval : -1.2314891291227097\n",
            "Iterasi 4: update interval : -0.5191660537396281\n",
            "Iterasi 5: update interval : -1.4186118542158668\n",
            "Iterasi 6: update interval : -0.7909689225131795\n",
            "Iterasi 7: update interval : -3.944249871759506\n",
            "Iterasi 8: update interval : -5.6905557470380606\n",
            "Iterasi 9: update interval : -4.762346057234925\n",
            "Iterasi 10: update interval : -4.920925333965209\n",
            "Iterasi 11: update interval : -4.917187240623619\n",
            "Iterasi 12: update interval : -4.917185925287297\n",
            "Iterasi 13: update interval : -4.917185925287132\n",
            "Iterasi 14: update interval : -4.917185925287132\n",
            "\n",
            "The value of the root is :  -4.917185925287132\n",
            "Number of iterations:  14\n",
            "\n",
            "======================================\n",
            "Found root :  -4.917185925287132\n",
            "Average CPU Time: 0.0004322528839111328 seconds\n"
          ]
        }
      ]
    },
    {
      "cell_type": "code",
      "source": [
        "# Mulai pengukuran waktu\n",
        "start_time = time.time()\n",
        "\n",
        "def newtonRaphson(x, tol, max_iter):\n",
        "    iteration = 0  # Initialize the iteration counter\n",
        "\n",
        "    while iteration < max_iter:\n",
        "        h = f(x) / f_deriv(x)  # Update h after each iteration\n",
        "\n",
        "        # x(i+1) = x(i) - f(x) / f'(x)\n",
        "        x = x - h\n",
        "        print(f\"Iterasi {iteration+1}: update interval : {x}\")\n",
        "\n",
        "        iteration += 1  # Increment the iteration counter\n",
        "\n",
        "        if abs(h) < tol:  # Check if the solution is accurate enough\n",
        "            break\n",
        "\n",
        "    if abs(h) < tol:\n",
        "        print(\"\\nThe value of the root is : \", x)\n",
        "    else:\n",
        "        print(\"Max iterations reached\")\n",
        "\n",
        "    print(\"Number of iterations: \", iteration)\n",
        "\n",
        "    return x, iteration\n",
        "\n",
        "# Driver program to test above\n",
        "x0 = 4  # Initial guess\n",
        "max_iter = 100\n",
        "tol = 1e-14  # Adjusted tolerance for quicker convergence\n",
        "\n",
        "end_time = time.time()\n",
        "\n",
        "root, iteration_list = newtonRaphson(x0, tol, max_iter)\n",
        "\n",
        "print(\"\\n======================================\")\n",
        "# Hitung Average CPU Time\n",
        "cpu_time = end_time - start_time\n",
        "print(\"Found root : \", root)\n",
        "print(\"Average CPU Time:\", cpu_time, \"seconds\")"
      ],
      "metadata": {
        "colab": {
          "base_uri": "https://localhost:8080/"
        },
        "id": "thFwozeJya_r",
        "outputId": "b6206dde-844f-4746-f3df-4e351835afc0"
      },
      "execution_count": null,
      "outputs": [
        {
          "output_type": "stream",
          "name": "stdout",
          "text": [
            "Iterasi 1: update interval : 4.6802314485128\n",
            "Iterasi 2: update interval : 4.497368024514494\n",
            "Iterasi 3: update interval : 4.4877025165902715\n",
            "Iterasi 4: update interval : 4.487669603725867\n",
            "Iterasi 5: update interval : 4.487669603341088\n",
            "Iterasi 6: update interval : 4.487669603341088\n",
            "\n",
            "The value of the root is :  4.487669603341088\n",
            "Number of iterations:  6\n",
            "\n",
            "======================================\n",
            "Found root :  4.487669603341088\n",
            "Average CPU Time: 0.00024390220642089844 seconds\n"
          ]
        }
      ]
    },
    {
      "cell_type": "markdown",
      "source": [
        "## PROBLEM 11\n",
        "X^10 - 1, INTERVAL [0,1.3]"
      ],
      "metadata": {
        "id": "_ZhY615Y3Ylj"
      }
    },
    {
      "cell_type": "code",
      "source": [
        "def f(x) :\n",
        "  return x**10 - 1\n",
        "\n",
        "def f_deriv(x) :\n",
        "  return 10*x**9"
      ],
      "metadata": {
        "id": "V3UFP7IB7gY1"
      },
      "execution_count": null,
      "outputs": []
    },
    {
      "cell_type": "code",
      "source": [
        "# Mulai pengukuran waktu\n",
        "start_time = time.time()\n",
        "\n",
        "def newtonRaphson(x, tol, max_iter):\n",
        "    iteration = 0  # Initialize the iteration counter\n",
        "\n",
        "    while iteration < max_iter:\n",
        "        h = f(x) / f_deriv(x)  # Update h after each iteration\n",
        "\n",
        "        # x(i+1) = x(i) - f(x) / f'(x)\n",
        "        x = x - h\n",
        "        print(f\"Iterasi {iteration+1}: update interval : {x}\")\n",
        "\n",
        "        iteration += 1  # Increment the iteration counter\n",
        "\n",
        "        if abs(h) < tol:  # Check if the solution is accurate enough\n",
        "            break\n",
        "\n",
        "    if abs(h) < tol:\n",
        "        print(\"\\nThe value of the root is : \", x)\n",
        "    else:\n",
        "        print(\"Max iterations reached\")\n",
        "\n",
        "    print(\"Number of iterations: \", iteration)\n",
        "\n",
        "    return x, iteration\n",
        "\n",
        "# Driver program to test above\n",
        "x0 = 0  # Initial guess\n",
        "max_iter = 100\n",
        "tol = 1e-14  # Adjusted tolerance for quicker convergence\n",
        "\n",
        "end_time = time.time()\n",
        "\n",
        "root, iteration_list = newtonRaphson(x0, tol, max_iter)\n",
        "\n",
        "print(\"\\n======================================\")\n",
        "# Hitung Average CPU Time\n",
        "cpu_time = end_time - start_time\n",
        "print(\"Found root : \", root)\n",
        "print(\"Average CPU Time:\", cpu_time, \"seconds\")"
      ],
      "metadata": {
        "colab": {
          "base_uri": "https://localhost:8080/",
          "height": 347
        },
        "id": "7VmwoXDL7jdp",
        "outputId": "4a3e95a1-19c3-4cc9-ec0d-391062778ba2"
      },
      "execution_count": null,
      "outputs": [
        {
          "output_type": "error",
          "ename": "ZeroDivisionError",
          "evalue": "division by zero",
          "traceback": [
            "\u001b[0;31m---------------------------------------------------------------------------\u001b[0m",
            "\u001b[0;31mZeroDivisionError\u001b[0m                         Traceback (most recent call last)",
            "\u001b[0;32m<ipython-input-37-cb26e67d40e4>\u001b[0m in \u001b[0;36m<cell line: 35>\u001b[0;34m()\u001b[0m\n\u001b[1;32m     33\u001b[0m \u001b[0mend_time\u001b[0m \u001b[0;34m=\u001b[0m \u001b[0mtime\u001b[0m\u001b[0;34m.\u001b[0m\u001b[0mtime\u001b[0m\u001b[0;34m(\u001b[0m\u001b[0;34m)\u001b[0m\u001b[0;34m\u001b[0m\u001b[0;34m\u001b[0m\u001b[0m\n\u001b[1;32m     34\u001b[0m \u001b[0;34m\u001b[0m\u001b[0m\n\u001b[0;32m---> 35\u001b[0;31m \u001b[0mroot\u001b[0m\u001b[0;34m,\u001b[0m \u001b[0miteration_list\u001b[0m \u001b[0;34m=\u001b[0m \u001b[0mnewtonRaphson\u001b[0m\u001b[0;34m(\u001b[0m\u001b[0mx0\u001b[0m\u001b[0;34m,\u001b[0m \u001b[0mtol\u001b[0m\u001b[0;34m,\u001b[0m \u001b[0mmax_iter\u001b[0m\u001b[0;34m)\u001b[0m\u001b[0;34m\u001b[0m\u001b[0;34m\u001b[0m\u001b[0m\n\u001b[0m\u001b[1;32m     36\u001b[0m \u001b[0;34m\u001b[0m\u001b[0m\n\u001b[1;32m     37\u001b[0m \u001b[0mprint\u001b[0m\u001b[0;34m(\u001b[0m\u001b[0;34m\"\\n======================================\"\u001b[0m\u001b[0;34m)\u001b[0m\u001b[0;34m\u001b[0m\u001b[0;34m\u001b[0m\u001b[0m\n",
            "\u001b[0;32m<ipython-input-37-cb26e67d40e4>\u001b[0m in \u001b[0;36mnewtonRaphson\u001b[0;34m(x, tol, max_iter)\u001b[0m\n\u001b[1;32m      6\u001b[0m \u001b[0;34m\u001b[0m\u001b[0m\n\u001b[1;32m      7\u001b[0m     \u001b[0;32mwhile\u001b[0m \u001b[0miteration\u001b[0m \u001b[0;34m<\u001b[0m \u001b[0mmax_iter\u001b[0m\u001b[0;34m:\u001b[0m\u001b[0;34m\u001b[0m\u001b[0;34m\u001b[0m\u001b[0m\n\u001b[0;32m----> 8\u001b[0;31m         \u001b[0mh\u001b[0m \u001b[0;34m=\u001b[0m \u001b[0mf\u001b[0m\u001b[0;34m(\u001b[0m\u001b[0mx\u001b[0m\u001b[0;34m)\u001b[0m \u001b[0;34m/\u001b[0m \u001b[0mf_deriv\u001b[0m\u001b[0;34m(\u001b[0m\u001b[0mx\u001b[0m\u001b[0;34m)\u001b[0m  \u001b[0;31m# Update h after each iteration\u001b[0m\u001b[0;34m\u001b[0m\u001b[0;34m\u001b[0m\u001b[0m\n\u001b[0m\u001b[1;32m      9\u001b[0m \u001b[0;34m\u001b[0m\u001b[0m\n\u001b[1;32m     10\u001b[0m         \u001b[0;31m# x(i+1) = x(i) - f(x) / f'(x)\u001b[0m\u001b[0;34m\u001b[0m\u001b[0;34m\u001b[0m\u001b[0m\n",
            "\u001b[0;31mZeroDivisionError\u001b[0m: division by zero"
          ]
        }
      ]
    },
    {
      "cell_type": "code",
      "source": [
        "# Mulai pengukuran waktu\n",
        "start_time = time.time()\n",
        "\n",
        "def newtonRaphson(x, tol, max_iter):\n",
        "    iteration = 0  # Initialize the iteration counter\n",
        "\n",
        "    while iteration < max_iter:\n",
        "        h = f(x) / f_deriv(x)  # Update h after each iteration\n",
        "\n",
        "        # x(i+1) = x(i) - f(x) / f'(x)\n",
        "        x = x - h\n",
        "        print(f\"Iterasi {iteration+1}: update interval : {x}\")\n",
        "\n",
        "        iteration += 1  # Increment the iteration counter\n",
        "\n",
        "        if abs(h) < tol:  # Check if the solution is accurate enough\n",
        "            break\n",
        "\n",
        "    if abs(h) < tol:\n",
        "        print(\"\\nThe value of the root is : \", x)\n",
        "    else:\n",
        "        print(\"Max iterations reached\")\n",
        "\n",
        "    print(\"Number of iterations: \", iteration)\n",
        "\n",
        "    return x, iteration\n",
        "\n",
        "# Driver program to test above\n",
        "x0 = 1.3  # Initial guess\n",
        "max_iter = 100\n",
        "tol = 1e-14  # Adjusted tolerance for quicker convergence\n",
        "\n",
        "end_time = time.time()\n",
        "\n",
        "root, iteration_list = newtonRaphson(x0, tol, max_iter)\n",
        "\n",
        "print(\"\\n======================================\")\n",
        "# Hitung Average CPU Time\n",
        "cpu_time = end_time - start_time\n",
        "print(\"Found root : \", root)\n",
        "print(\"Average CPU Time:\", cpu_time, \"seconds\")"
      ],
      "metadata": {
        "id": "qF8FAEfI8hL8",
        "colab": {
          "base_uri": "https://localhost:8080/"
        },
        "outputId": "445de096-b578-4ebe-c72e-afb5a1d5d358"
      },
      "execution_count": null,
      "outputs": [
        {
          "output_type": "stream",
          "name": "stdout",
          "text": [
            "Iterasi 1: update interval : 1.1794299595372328\n",
            "Iterasi 2: update interval : 1.08413083089608\n",
            "Iterasi 3: update interval : 1.0240530839332134\n",
            "Iterasi 4: update interval : 1.0023894537457745\n",
            "Iterasi 5: update interval : 1.0000254692028134\n",
            "Iterasi 6: update interval : 1.0000000029187888\n",
            "Iterasi 7: update interval : 1.0\n",
            "Iterasi 8: update interval : 1.0\n",
            "\n",
            "The value of the root is :  1.0\n",
            "Number of iterations:  8\n",
            "\n",
            "======================================\n",
            "Found root :  1.0\n",
            "Average CPU Time: 0.0002429485321044922 seconds\n"
          ]
        }
      ]
    },
    {
      "cell_type": "markdown",
      "source": [
        "## PROBLEM 12\n",
        "X^2 + e^x/2 - 5, Interval [1,2]"
      ],
      "metadata": {
        "id": "xwbBWitS3p-J"
      }
    },
    {
      "cell_type": "code",
      "source": [
        "def f(x) :\n",
        "  return x**2 + math.exp(x/2) - 5\n",
        "\n",
        "def f_deriv(x) :\n",
        "  return 2*x + 0.5*math.exp(x/2)"
      ],
      "metadata": {
        "id": "JBY4TTUa8KVG"
      },
      "execution_count": null,
      "outputs": []
    },
    {
      "cell_type": "code",
      "source": [
        "# Mulai pengukuran waktu\n",
        "start_time = time.time()\n",
        "\n",
        "def newtonRaphson(x, tol, max_iter):\n",
        "    iteration = 0  # Initialize the iteration counter\n",
        "\n",
        "    while iteration < max_iter:\n",
        "        h = f(x) / f_deriv(x)  # Update h after each iteration\n",
        "\n",
        "        # x(i+1) = x(i) - f(x) / f'(x)\n",
        "        x = x - h\n",
        "        print(f\"Iterasi {iteration+1}: update interval : {x}\")\n",
        "\n",
        "        iteration += 1  # Increment the iteration counter\n",
        "\n",
        "        if abs(h) < tol:  # Check if the solution is accurate enough\n",
        "            break\n",
        "\n",
        "    if abs(h) < tol:\n",
        "        print(\"\\nThe value of the root is : \", x)\n",
        "    else:\n",
        "        print(\"Max iterations reached\")\n",
        "\n",
        "    print(\"Number of iterations: \", iteration)\n",
        "\n",
        "    return x, iteration\n",
        "\n",
        "# Driver program to test above\n",
        "x0 = 1  # Initial guess\n",
        "max_iter = 100\n",
        "tol = 1e-14  # Adjusted tolerance for quicker convergence\n",
        "\n",
        "end_time = time.time()\n",
        "\n",
        "root, iteration_list = newtonRaphson(x0, tol, max_iter)\n",
        "\n",
        "print(\"\\n======================================\")\n",
        "# Hitung Average CPU Time\n",
        "cpu_time = end_time - start_time\n",
        "print(\"Found root : \", root)\n",
        "print(\"Average CPU Time:\", cpu_time, \"seconds\")"
      ],
      "metadata": {
        "colab": {
          "base_uri": "https://localhost:8080/"
        },
        "id": "R50nyu8k8PDx",
        "outputId": "9912b7e7-a038-45c2-fd2b-08dbf2d11472"
      },
      "execution_count": null,
      "outputs": [
        {
          "output_type": "stream",
          "name": "stdout",
          "text": [
            "Iterasi 1: update interval : 1.8324994690376868\n",
            "Iterasi 2: update interval : 1.6579397653693866\n",
            "Iterasi 3: update interval : 1.6490362359830808\n",
            "Iterasi 4: update interval : 1.6490132684559247\n",
            "Iterasi 5: update interval : 1.6490132683031904\n",
            "Iterasi 6: update interval : 1.64901326830319\n",
            "\n",
            "The value of the root is :  1.64901326830319\n",
            "Number of iterations:  6\n",
            "\n",
            "======================================\n",
            "Found root :  1.64901326830319\n",
            "Average CPU Time: 0.00029468536376953125 seconds\n"
          ]
        }
      ]
    },
    {
      "cell_type": "code",
      "source": [
        "# Mulai pengukuran waktu\n",
        "start_time = time.time()\n",
        "\n",
        "def newtonRaphson(x, tol, max_iter):\n",
        "    iteration = 0  # Initialize the iteration counter\n",
        "\n",
        "    while iteration < max_iter:\n",
        "        h = f(x) / f_deriv(x)  # Update h after each iteration\n",
        "\n",
        "        # x(i+1) = x(i) - f(x) / f'(x)\n",
        "        x = x - h\n",
        "        print(f\"Iterasi {iteration+1}: update interval : {x}\")\n",
        "\n",
        "        iteration += 1  # Increment the iteration counter\n",
        "\n",
        "        if abs(h) < tol:  # Check if the solution is accurate enough\n",
        "            break\n",
        "\n",
        "    if abs(h) < tol:\n",
        "        print(\"\\nThe value of the root is : \", x)\n",
        "    else:\n",
        "        print(\"Max iterations reached\")\n",
        "\n",
        "    print(\"Number of iterations: \", iteration)\n",
        "\n",
        "    return x, iteration\n",
        "\n",
        "# Driver program to test above\n",
        "x0 = 2  # Initial guess\n",
        "max_iter = 100\n",
        "tol = 1e-14  # Adjusted tolerance for quicker convergence\n",
        "\n",
        "end_time = time.time()\n",
        "\n",
        "root, iteration_list = newtonRaphson(x0, tol, max_iter)\n",
        "\n",
        "print(\"\\n======================================\")\n",
        "# Hitung Average CPU Time\n",
        "cpu_time = end_time - start_time\n",
        "print(\"Found root : \", root)\n",
        "print(\"Average CPU Time:\", cpu_time, \"seconds\")"
      ],
      "metadata": {
        "colab": {
          "base_uri": "https://localhost:8080/"
        },
        "id": "flkw8bKey5up",
        "outputId": "c40d6bad-54de-4675-dcf6-540b404a8eb4"
      },
      "execution_count": null,
      "outputs": [
        {
          "output_type": "stream",
          "name": "stdout",
          "text": [
            "Iterasi 1: update interval : 1.6793736429104364\n",
            "Iterasi 2: update interval : 1.6492761257173847\n",
            "Iterasi 3: update interval : 1.6490132883059991\n",
            "Iterasi 4: update interval : 1.6490132683031904\n",
            "Iterasi 5: update interval : 1.64901326830319\n",
            "\n",
            "The value of the root is :  1.64901326830319\n",
            "Number of iterations:  5\n",
            "\n",
            "======================================\n",
            "Found root :  1.64901326830319\n",
            "Average CPU Time: 0.0005786418914794922 seconds\n"
          ]
        }
      ]
    },
    {
      "cell_type": "markdown",
      "source": [
        "## PROBLEM 13\n",
        "sin(x)*sinh(x) + 1, Interval [3,4]"
      ],
      "metadata": {
        "id": "19U0gjaI38Vu"
      }
    },
    {
      "cell_type": "code",
      "source": [
        "def f(x) :\n",
        "  return math.sin(x)*math.sinh(x) + 1\n",
        "\n",
        "def f_deriv(x) :\n",
        "  return math.cos(x)*math.sinh(x) + math.sin(x)*math.cosh(x)"
      ],
      "metadata": {
        "id": "68tL_gX29Bqy"
      },
      "execution_count": null,
      "outputs": []
    },
    {
      "cell_type": "code",
      "source": [
        "# Mulai pengukuran waktu\n",
        "start_time = time.time()\n",
        "\n",
        "def newtonRaphson(x, tol, max_iter):\n",
        "    iteration = 0  # Initialize the iteration counter\n",
        "\n",
        "    while iteration < max_iter:\n",
        "        h = f(x) / f_deriv(x)  # Update h after each iteration\n",
        "\n",
        "        # x(i+1) = x(i) - f(x) / f'(x)\n",
        "        x = x - h\n",
        "        print(f\"Iterasi {iteration+1}: update interval : {x}\")\n",
        "\n",
        "        iteration += 1  # Increment the iteration counter\n",
        "\n",
        "        if abs(h) < tol:  # Check if the solution is accurate enough\n",
        "            break\n",
        "\n",
        "    if abs(h) < tol:\n",
        "        print(\"\\nThe value of the root is : \", x)\n",
        "    else:\n",
        "        print(\"Max iterations reached\")\n",
        "\n",
        "    print(\"Number of iterations: \", iteration)\n",
        "\n",
        "    return x, iteration\n",
        "\n",
        "# Driver program to test above\n",
        "x0 = 3  # Initial guess\n",
        "max_iter = 100\n",
        "tol = 1e-14  # Adjusted tolerance for quicker convergence\n",
        "\n",
        "end_time = time.time()\n",
        "\n",
        "root, iteration_list = newtonRaphson(x0, tol, max_iter)\n",
        "\n",
        "print(\"\\n======================================\")\n",
        "# Hitung Average CPU Time\n",
        "cpu_time = end_time - start_time\n",
        "print(\"Found root : \", root)\n",
        "print(\"Average CPU Time:\", cpu_time, \"seconds\")"
      ],
      "metadata": {
        "colab": {
          "base_uri": "https://localhost:8080/"
        },
        "id": "Fr4oxR3w9EeW",
        "outputId": "fb6cdc62-9e5f-45da-b2cf-331e6f8cf99b"
      },
      "execution_count": null,
      "outputs": [
        {
          "output_type": "stream",
          "name": "stdout",
          "text": [
            "Iterasi 1: update interval : 3.2840718864006475\n",
            "Iterasi 2: update interval : 3.2249500329681404\n",
            "Iterasi 3: update interval : 3.2215988480683673\n",
            "Iterasi 4: update interval : 3.221588399195317\n",
            "Iterasi 5: update interval : 3.221588399093942\n",
            "Iterasi 6: update interval : 3.221588399093942\n",
            "\n",
            "The value of the root is :  3.221588399093942\n",
            "Number of iterations:  6\n",
            "\n",
            "======================================\n",
            "Found root :  3.221588399093942\n",
            "Average CPU Time: 0.00041413307189941406 seconds\n"
          ]
        }
      ]
    },
    {
      "cell_type": "code",
      "source": [
        "# Mulai pengukuran waktu\n",
        "start_time = time.time()\n",
        "\n",
        "def newtonRaphson(x, tol, max_iter):\n",
        "    iteration = 0  # Initialize the iteration counter\n",
        "\n",
        "    while iteration < max_iter:\n",
        "        h = f(x) / f_deriv(x)  # Update h after each iteration\n",
        "\n",
        "        # x(i+1) = x(i) - f(x) / f'(x)\n",
        "        x = x - h\n",
        "        print(f\"Iterasi {iteration+1}: update interval : {x}\")\n",
        "\n",
        "        iteration += 1  # Increment the iteration counter\n",
        "\n",
        "        if abs(h) < tol:  # Check if the solution is accurate enough\n",
        "            break\n",
        "\n",
        "    if abs(h) < tol:\n",
        "        print(\"\\nThe value of the root is : \", x)\n",
        "    else:\n",
        "        print(\"Max iterations reached\")\n",
        "\n",
        "    print(\"Number of iterations: \", iteration)\n",
        "\n",
        "    return x, iteration\n",
        "\n",
        "# Driver program to test above\n",
        "x0 = 4  # Initial guess\n",
        "max_iter = 100\n",
        "tol = 1e-14  # Adjusted tolerance for quicker convergence\n",
        "\n",
        "end_time = time.time()\n",
        "\n",
        "root, iteration_list = newtonRaphson(x0, tol, max_iter)\n",
        "\n",
        "print(\"\\n======================================\")\n",
        "# Hitung Average CPU Time\n",
        "cpu_time = end_time - start_time\n",
        "print(\"Found root : \", root)\n",
        "print(\"Average CPU Time:\", cpu_time, \"seconds\")"
      ],
      "metadata": {
        "colab": {
          "base_uri": "https://localhost:8080/"
        },
        "id": "dvQ9pVrGzlL8",
        "outputId": "f9e3bc39-ffb6-4a6d-e300-ca50ffd85b75"
      },
      "execution_count": null,
      "outputs": [
        {
          "output_type": "stream",
          "name": "stdout",
          "text": [
            "Iterasi 1: update interval : 3.4895943437672736\n",
            "Iterasi 2: update interval : 3.271185933845012\n",
            "Iterasi 3: update interval : 3.223738874357645\n",
            "Iterasi 4: update interval : 3.2215926815728686\n",
            "Iterasi 5: update interval : 3.2215883991109706\n",
            "Iterasi 6: update interval : 3.221588399093942\n",
            "Iterasi 7: update interval : 3.221588399093942\n",
            "\n",
            "The value of the root is :  3.221588399093942\n",
            "Number of iterations:  7\n",
            "\n",
            "======================================\n",
            "Found root :  3.221588399093942\n",
            "Average CPU Time: 0.00029015541076660156 seconds\n"
          ]
        }
      ]
    },
    {
      "cell_type": "markdown",
      "source": [
        "## PROBLEM 14\n",
        "e^x - 3x - 2 , Interval [2,3]"
      ],
      "metadata": {
        "id": "5t_bO3iZ4PvY"
      }
    },
    {
      "cell_type": "code",
      "source": [
        "def f(x) :\n",
        "  return math.exp(x) - 3*x - 2\n",
        "\n",
        "def f_deriv(x) :\n",
        "  return math.exp(x) - 3"
      ],
      "metadata": {
        "id": "ieQY6tkh9TDn"
      },
      "execution_count": null,
      "outputs": []
    },
    {
      "cell_type": "code",
      "source": [
        "# Mulai pengukuran waktu\n",
        "start_time = time.time()\n",
        "\n",
        "def newtonRaphson(x, tol, max_iter):\n",
        "    iteration = 0  # Initialize the iteration counter\n",
        "\n",
        "    while iteration < max_iter:\n",
        "        h = f(x) / f_deriv(x)  # Update h after each iteration\n",
        "\n",
        "        # x(i+1) = x(i) - f(x) / f'(x)\n",
        "        x = x - h\n",
        "        print(f\"Iterasi {iteration+1}: update interval : {x}\")\n",
        "\n",
        "        iteration += 1  # Increment the iteration counter\n",
        "\n",
        "        if abs(h) < tol:  # Check if the solution is accurate enough\n",
        "            break\n",
        "\n",
        "    if abs(h) < tol:\n",
        "        print(\"\\nThe value of the root is : \", x)\n",
        "    else:\n",
        "        print(\"Max iterations reached\")\n",
        "\n",
        "    print(\"Number of iterations: \", iteration)\n",
        "\n",
        "    return x, iteration\n",
        "\n",
        "# Driver program to test above\n",
        "x0 = 2  # Initial guess\n",
        "max_iter = 100\n",
        "tol = 1e-14  # Adjusted tolerance for quicker convergence\n",
        "\n",
        "end_time = time.time()\n",
        "\n",
        "root, iteration_list = newtonRaphson(x0, tol, max_iter)\n",
        "\n",
        "print(\"\\n======================================\")\n",
        "# Hitung Average CPU Time\n",
        "cpu_time = end_time - start_time\n",
        "print(\"Found root : \", root)\n",
        "print(\"Average CPU Time:\", cpu_time, \"seconds\")"
      ],
      "metadata": {
        "colab": {
          "base_uri": "https://localhost:8080/"
        },
        "id": "EV8HzyCH9Wox",
        "outputId": "30568aab-57ba-4d6b-efa6-1110c7d18199"
      },
      "execution_count": null,
      "outputs": [
        {
          "output_type": "stream",
          "name": "stdout",
          "text": [
            "Iterasi 1: update interval : 2.1391971046390132\n",
            "Iterasi 2: update interval : 2.125537877071385\n",
            "Iterasi 3: update interval : 2.1253912155689343\n",
            "Iterasi 4: update interval : 2.1253911988111303\n",
            "Iterasi 5: update interval : 2.12539119881113\n",
            "\n",
            "The value of the root is :  2.12539119881113\n",
            "Number of iterations:  5\n",
            "\n",
            "======================================\n",
            "Found root :  2.12539119881113\n",
            "Average CPU Time: 0.0002758502960205078 seconds\n"
          ]
        }
      ]
    },
    {
      "cell_type": "code",
      "source": [
        "# Mulai pengukuran waktu\n",
        "start_time = time.time()\n",
        "\n",
        "def newtonRaphson(x, tol, max_iter):\n",
        "    iteration = 0  # Initialize the iteration counter\n",
        "\n",
        "    while iteration < max_iter:\n",
        "        h = f(x) / f_deriv(x)  # Update h after each iteration\n",
        "\n",
        "        # x(i+1) = x(i) - f(x) / f'(x)\n",
        "        x = x - h\n",
        "        print(f\"Iterasi {iteration+1}: update interval : {x}\")\n",
        "\n",
        "        iteration += 1  # Increment the iteration counter\n",
        "\n",
        "        if abs(h) < tol:  # Check if the solution is accurate enough\n",
        "            break\n",
        "\n",
        "    if abs(h) < tol:\n",
        "        print(\"\\nThe value of the root is : \", x)\n",
        "    else:\n",
        "        print(\"Max iterations reached\")\n",
        "\n",
        "    print(\"Number of iterations: \", iteration)\n",
        "\n",
        "    return x, iteration\n",
        "\n",
        "# Driver program to test above\n",
        "x0 = 3  # Initial guess\n",
        "max_iter = 100\n",
        "tol = 1e-14  # Adjusted tolerance for quicker convergence\n",
        "\n",
        "end_time = time.time()\n",
        "\n",
        "root, iteration_list = newtonRaphson(x0, tol, max_iter)\n",
        "\n",
        "print(\"\\n======================================\")\n",
        "# Hitung Average CPU Time\n",
        "cpu_time = end_time - start_time\n",
        "print(\"Found root : \", root)\n",
        "print(\"Average CPU Time:\", cpu_time, \"seconds\")"
      ],
      "metadata": {
        "colab": {
          "base_uri": "https://localhost:8080/"
        },
        "id": "R_M7m65VzpiS",
        "outputId": "46808e40-f0c4-4a72-a335-69136950af4c"
      },
      "execution_count": null,
      "outputs": [
        {
          "output_type": "stream",
          "name": "stdout",
          "text": [
            "Iterasi 1: update interval : 2.4682322853514065\n",
            "Iterasi 2: update interval : 2.1959092032565684\n",
            "Iterasi 3: update interval : 2.1290370461355943\n",
            "Iterasi 4: update interval : 2.1254015200224425\n",
            "Iterasi 5: update interval : 2.125391198894115\n",
            "Iterasi 6: update interval : 2.12539119881113\n",
            "Iterasi 7: update interval : 2.12539119881113\n",
            "\n",
            "The value of the root is :  2.12539119881113\n",
            "Number of iterations:  7\n",
            "\n",
            "======================================\n",
            "Found root :  2.12539119881113\n",
            "Average CPU Time: 0.00024199485778808594 seconds\n"
          ]
        }
      ]
    },
    {
      "cell_type": "markdown",
      "source": [
        "## Problem 15\n",
        "sin(x) - x^2 , Interval [0.5,1]"
      ],
      "metadata": {
        "id": "jqZEAPs_4aaA"
      }
    },
    {
      "cell_type": "code",
      "source": [
        "def f(x) :\n",
        "  return math.sin(x) - x**2\n",
        "\n",
        "def f_deriv(x) :\n",
        "  return math.cos(x) - 2*x"
      ],
      "metadata": {
        "id": "L9WqXA8n9dr4"
      },
      "execution_count": null,
      "outputs": []
    },
    {
      "cell_type": "code",
      "source": [
        "# Mulai pengukuran waktu\n",
        "start_time = time.time()\n",
        "\n",
        "def newtonRaphson(x, tol, max_iter):\n",
        "    iteration = 0  # Initialize the iteration counter\n",
        "\n",
        "    while iteration < max_iter:\n",
        "        h = f(x) / f_deriv(x)  # Update h after each iteration\n",
        "\n",
        "        # x(i+1) = x(i) - f(x) / f'(x)\n",
        "        x = x - h\n",
        "        print(f\"Iterasi {iteration+1}: update interval : {x}\")\n",
        "\n",
        "        iteration += 1  # Increment the iteration counter\n",
        "\n",
        "        if abs(h) < tol:  # Check if the solution is accurate enough\n",
        "            break\n",
        "\n",
        "    if abs(h) < tol:\n",
        "        print(\"\\nThe value of the root is : \", x)\n",
        "    else:\n",
        "        print(\"Max iterations reached\")\n",
        "\n",
        "    print(\"Number of iterations: \", iteration)\n",
        "\n",
        "    return x, iteration\n",
        "\n",
        "# Driver program to test above\n",
        "x0 = 0.5  # Initial guess\n",
        "max_iter = 100\n",
        "tol = 1e-14  # Adjusted tolerance for quicker convergence\n",
        "\n",
        "end_time = time.time()\n",
        "\n",
        "root, iteration_list = newtonRaphson(x0, tol, max_iter)\n",
        "\n",
        "print(\"\\n======================================\")\n",
        "# Hitung Average CPU Time\n",
        "cpu_time = end_time - start_time\n",
        "print(\"Found root : \", root)\n",
        "print(\"Average CPU Time:\", cpu_time, \"seconds\")"
      ],
      "metadata": {
        "colab": {
          "base_uri": "https://localhost:8080/"
        },
        "id": "PBHixARa9mXA",
        "outputId": "e61c8b35-a17b-4963-953d-fe7016ee097d"
      },
      "execution_count": null,
      "outputs": [
        {
          "output_type": "stream",
          "name": "stdout",
          "text": [
            "Iterasi 1: update interval : 2.3741246520675254\n",
            "Iterasi 2: update interval : 1.4702796165662755\n",
            "Iterasi 3: update interval : 1.0594758363508832\n",
            "Iterasi 4: update interval : 0.9058267860456708\n",
            "Iterasi 5: update interval : 0.8777118782597807\n",
            "Iterasi 6: update interval : 0.8767274201470954\n",
            "Iterasi 7: update interval : 0.8767262153968663\n",
            "Iterasi 8: update interval : 0.8767262153950625\n",
            "Iterasi 9: update interval : 0.8767262153950625\n",
            "\n",
            "The value of the root is :  0.8767262153950625\n",
            "Number of iterations:  9\n",
            "\n",
            "======================================\n",
            "Found root :  0.8767262153950625\n",
            "Average CPU Time: 0.00041985511779785156 seconds\n"
          ]
        }
      ]
    },
    {
      "cell_type": "code",
      "source": [
        "# Mulai pengukuran waktu\n",
        "start_time = time.time()\n",
        "\n",
        "def newtonRaphson(x, tol, max_iter):\n",
        "    iteration = 0  # Initialize the iteration counter\n",
        "\n",
        "    while iteration < max_iter:\n",
        "        h = f(x) / f_deriv(x)  # Update h after each iteration\n",
        "\n",
        "        # x(i+1) = x(i) - f(x) / f'(x)\n",
        "        x = x - h\n",
        "        print(f\"Iterasi {iteration+1}: update interval : {x}\")\n",
        "\n",
        "        iteration += 1  # Increment the iteration counter\n",
        "\n",
        "        if abs(h) < tol:  # Check if the solution is accurate enough\n",
        "            break\n",
        "\n",
        "    if abs(h) < tol:\n",
        "        print(\"\\nThe value of the root is : \", x)\n",
        "    else:\n",
        "        print(\"Max iterations reached\")\n",
        "\n",
        "    print(\"Number of iterations: \", iteration)\n",
        "\n",
        "    return x, iteration\n",
        "\n",
        "# Driver program to test above\n",
        "x0 = 1  # Initial guess\n",
        "max_iter = 100\n",
        "tol = 1e-14  # Adjusted tolerance for quicker convergence\n",
        "\n",
        "end_time = time.time()\n",
        "\n",
        "root, iteration_list = newtonRaphson(x0, tol, max_iter)\n",
        "\n",
        "print(\"\\n======================================\")\n",
        "# Hitung Average CPU Time\n",
        "cpu_time = end_time - start_time\n",
        "print(\"Found root : \", root)\n",
        "print(\"Average CPU Time:\", cpu_time, \"seconds\")"
      ],
      "metadata": {
        "colab": {
          "base_uri": "https://localhost:8080/"
        },
        "id": "tKV8dt6mzw7T",
        "outputId": "95b55421-a8ee-40df-8d74-8be53f6fa0d9"
      },
      "execution_count": null,
      "outputs": [
        {
          "output_type": "stream",
          "name": "stdout",
          "text": [
            "Iterasi 1: update interval : 0.891395995328754\n",
            "Iterasi 2: update interval : 0.8769848447877435\n",
            "Iterasi 3: update interval : 0.8767262984818225\n",
            "Iterasi 4: update interval : 0.8767262153950709\n",
            "Iterasi 5: update interval : 0.8767262153950625\n",
            "\n",
            "The value of the root is :  0.8767262153950625\n",
            "Number of iterations:  5\n",
            "\n",
            "======================================\n",
            "Found root :  0.8767262153950625\n",
            "Average CPU Time: 0.0002841949462890625 seconds\n"
          ]
        }
      ]
    }
  ]
}