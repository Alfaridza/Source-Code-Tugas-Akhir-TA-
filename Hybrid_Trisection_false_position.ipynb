{
  "nbformat": 4,
  "nbformat_minor": 0,
  "metadata": {
    "colab": {
      "provenance": [],
      "authorship_tag": "ABX9TyMwBpH65uH4IAcERaeCAhFM",
      "include_colab_link": true
    },
    "kernelspec": {
      "name": "python3",
      "display_name": "Python 3"
    },
    "language_info": {
      "name": "python"
    }
  },
  "cells": [
    {
      "cell_type": "markdown",
      "metadata": {
        "id": "view-in-github",
        "colab_type": "text"
      },
      "source": [
        "<a href=\"https://colab.research.google.com/github/Alfaridza/Source-Code-Tugas-Akhir-TA-/blob/main/Hybrid_Trisection_false_position.ipynb\" target=\"_parent\"><img src=\"https://colab.research.google.com/assets/colab-badge.svg\" alt=\"Open In Colab\"/></a>"
      ]
    },
    {
      "cell_type": "code",
      "execution_count": null,
      "metadata": {
        "id": "1BXEXitK2u6G"
      },
      "outputs": [],
      "source": [
        "import numpy as np\n",
        "import matplotlib.pyplot as plt\n",
        "import time\n",
        "import math\n"
      ]
    },
    {
      "cell_type": "markdown",
      "source": [
        "## Persamaan Fungsi 1\n",
        "\n",
        "x^2 - 3, Interval [1,2]"
      ],
      "metadata": {
        "id": "0Mz9mTHt6dtd"
      }
    },
    {
      "cell_type": "code",
      "source": [
        "def f(x) :\n",
        "  return x**2 - 3"
      ],
      "metadata": {
        "id": "Bnks1ABuBP2U"
      },
      "execution_count": null,
      "outputs": []
    },
    {
      "cell_type": "code",
      "source": [
        "def f(x):\n",
        "    # Definisikan fungsi f(x) di sini\n",
        "    return x**2 - 4  # Contoh: mencari akar dari x^2 - 4\n",
        "\n",
        "def find_root(a, b, eps, max_iter = 1000):\n",
        "    n = 0\n",
        "    a1 = a\n",
        "    a2 = a\n",
        "    b1 = b\n",
        "    b2 = b\n",
        "    fa = f(a)\n",
        "\n",
        "    while n < max_iter:\n",
        "        n += 1\n",
        "        xT1 = (b + 2 * a) / 3\n",
        "        xT2 = (2 * b + a) / 3\n",
        "        xF = a - (f(a) * (b - a)) / (f(b) - f(a))\n",
        "\n",
        "        x = xT1\n",
        "        fx = f(xT1)\n",
        "\n",
        "        if abs(f(xT2)) < abs(fx):\n",
        "            x = xT2\n",
        "            fx = f(xT2)\n",
        "\n",
        "        if abs(f(xF)) < abs(fx):\n",
        "            x = xF\n",
        "            fx = f(xF)\n",
        "\n",
        "        if abs(fx) <= eps:\n",
        "            return x, fx, n, a, b\n",
        "\n",
        "        if fa * f(xT1) < 0:\n",
        "            b1 = xT1\n",
        "        elif f(xT1) * f(xT2) < 0:\n",
        "            a1 = xT1\n",
        "            b1 = xT2\n",
        "        else:\n",
        "            a1 = xT2\n",
        "\n",
        "        if fa * f(xF) < 0:\n",
        "            b2 = xF\n",
        "        else:\n",
        "            a2 = xF\n",
        "\n",
        "        a = max(a1, a2)\n",
        "        b = min(b1, b2)\n",
        "\n",
        "# Contoh penggunaan\n",
        "a = 0  # Batas bawah\n",
        "b = 5  # Batas atas\n",
        "eps = 1e-6  # Toleransi\n",
        "\n",
        "root, f_root, iterations, a_final, b_final = find_root(a, b, eps)\n",
        "print(f\"Akar ditemukan: {root}, f(root): {f_root}, Iterasi: {iterations}, a: {a_final}, b: {b_final}\")\n",
        "print (root)"
      ],
      "metadata": {
        "colab": {
          "base_uri": "https://localhost:8080/"
        },
        "id": "EgZI5d0e9FN0",
        "outputId": "09c898fb-f4f8-4151-bd92-991adf686b92"
      },
      "execution_count": null,
      "outputs": [
        {
          "output_type": "stream",
          "name": "stdout",
          "text": [
            "Akar ditemukan: 1.9999999922689196, f(root): -3.092432176998727e-08, Iterasi: 5, a: 1.9999823443989813, b: 2.0017522899243327\n",
            "1.9999999922689196\n"
          ]
        }
      ]
    },
    {
      "cell_type": "code",
      "source": [
        "\n",
        "def hybrid_triFalse(a, b, eps, max_iter = 1000):\n",
        "    n = 0\n",
        "    a1 = a\n",
        "    a2 = a\n",
        "    b1 = b\n",
        "    b2 = b\n",
        "    fa = f(a)\n",
        "\n",
        "    while n < max_iter:\n",
        "\n",
        "        xT1 = (b + 2 * a) / 3\n",
        "        xT2 = (2 * b + a) / 3\n",
        "        xF = a - (f(a) * (b - a)) / (f(b) - f(a))\n",
        "        print(f\"iterasi {n+1}: Lower Bound = {a}, Upper Bound = {b}\")\n",
        "        n += 1\n",
        "\n",
        "        x = xT1\n",
        "        fx = f(xT1)\n",
        "\n",
        "        if abs(f(xT2)) < abs(fx):\n",
        "            x = xT2\n",
        "            fx = f(xT2)\n",
        "\n",
        "        if abs(f(xF)) < abs(fx):\n",
        "            x = xF\n",
        "            fx = f(xF)\n",
        "\n",
        "        if abs(fx) <= eps:\n",
        "            return x, n, a, b\n",
        "\n",
        "        if fa * f(xT1) < 0:\n",
        "            b1 = xT1\n",
        "        elif f(xT1) * f(xT2) < 0:\n",
        "            a1 = xT1\n",
        "            b1 = xT2\n",
        "        else:\n",
        "            a1 = xT2\n",
        "\n",
        "        if fa * f(xF) < 0:\n",
        "            b2 = xF\n",
        "        else:\n",
        "            a2 = xF\n",
        "\n",
        "        a = max(a1, a2)\n",
        "        b = min(b1, b2)\n",
        "\n",
        "# Contoh penggunaan\n",
        "a = 1  # Batas bawah\n",
        "b = 2  # Batas atas\n",
        "eps = 1e-6  # Toleransi\n",
        "\n",
        "start_time = time.time()\n",
        "root, iterations, a_final, b_final = hybrid_triFalse(a, b, eps)\n",
        "end_time = time.time()\n",
        "\n",
        "\n",
        "# Hitung Average CPU Time\n",
        "cpu_time = end_time - start_time\n",
        "print(\"=====================================================================================\")\n",
        "print(\"Average CPU Time:\", cpu_time, \"seconds\")\n",
        "print(\"=====================================\")\n",
        "\n",
        "if root is not None:\n",
        "    print(f\"Akar yang ditemukan: {root}\")\n",
        "\n",
        "    print(f\"Jumlah iterasi: {iterations}\")\n",
        "    print(f\"Batas akhir a: {a_final}, b: {b_final}\")\n",
        "else:\n",
        "    print(\"Tidak ditemukan akar dalam batas iterasi yang diberikan.\")\n",
        "\n",
        "#print(f\"Akar ditemukan: {root}, f(root): {f_root}, Iterasi: {iterations}, a: {a_final}, b: {b_final}\")\n",
        "#print (root)"
      ],
      "metadata": {
        "colab": {
          "base_uri": "https://localhost:8080/"
        },
        "id": "nukTupdyDaFQ",
        "outputId": "1fd12996-db41-48e9-89d5-93e0bc0e22b8"
      },
      "execution_count": null,
      "outputs": [
        {
          "output_type": "stream",
          "name": "stdout",
          "text": [
            "iterasi 1: Lower Bound = 1, Upper Bound = 2\n",
            "iterasi 2: Lower Bound = 1.6666666666666667, Upper Bound = 2\n",
            "iterasi 3: Lower Bound = 1.7272727272727273, Upper Bound = 1.777777777777778\n",
            "iterasi 4: Lower Bound = 1.7319884726224783, Upper Bound = 1.7441077441077442\n",
            "=====================================================================================\n",
            "Average CPU Time: 0.0005700588226318359 seconds\n",
            "=====================================\n",
            "Akar yang ditemukan: 1.7320505913583797\n",
            "Jumlah iterasi: 4\n",
            "Batas akhir a: 1.7319884726224783, b: 1.7441077441077442\n"
          ]
        }
      ]
    },
    {
      "cell_type": "markdown",
      "source": [
        "## Persamaan Fungsi 2\n",
        "\n",
        "x^2 - 5, Interval [2,7]"
      ],
      "metadata": {
        "id": "i0NPAzmb6neo"
      }
    },
    {
      "cell_type": "code",
      "source": [
        "def f(x) :\n",
        "    return x**2 - 5"
      ],
      "metadata": {
        "id": "9HXIqh_W8oqi"
      },
      "execution_count": null,
      "outputs": []
    },
    {
      "cell_type": "code",
      "source": [
        "\n",
        "def hybrid_triFalse(a, b, eps, max_iter = 1000):\n",
        "    n = 0\n",
        "    a1 = a\n",
        "    a2 = a\n",
        "    b1 = b\n",
        "    b2 = b\n",
        "    fa = f(a)\n",
        "\n",
        "    while n < max_iter:\n",
        "        n =0\n",
        "        xT1 = (b + 2 * a) / 3\n",
        "        xT2 = (2 * b + a) / 3\n",
        "        xF = a - (f(a) * (b - a)) / (f(b) - f(a))\n",
        "        print(f\"iterasi {n+1}: Lower Bound = {a}, Upper Bound = {b}\")\n",
        "\n",
        "        x = xT1\n",
        "        fx = f(xT1)\n",
        "\n",
        "        if abs(f(xT2)) < abs(fx):\n",
        "            x = xT2\n",
        "            fx = f(xT2)\n",
        "\n",
        "        if abs(f(xF)) < abs(fx):\n",
        "            x = xF\n",
        "            fx = f(xF)\n",
        "\n",
        "        if abs(fx) <= eps:\n",
        "            return x, n, a, b\n",
        "\n",
        "        if fa * f(xT1) < 0:\n",
        "            b1 = xT1\n",
        "        elif f(xT1) * f(xT2) < 0:\n",
        "            a1 = xT1\n",
        "            b1 = xT2\n",
        "        else:\n",
        "            a1 = xT2\n",
        "\n",
        "        if fa * f(xF) < 0:\n",
        "            b2 = xF\n",
        "        else:\n",
        "            a2 = xF\n",
        "\n",
        "        a = max(a1, a2)\n",
        "        b = min(b1, b2)\n",
        "\n",
        "# Contoh penggunaan\n",
        "a = 2  # Batas bawah\n",
        "b = 7  # Batas atas\n",
        "eps = 1e-6  # Toleransi\n",
        "\n",
        "start_time = time.time()\n",
        "root, iterations, a_final, b_final = hybrid_triFalse(a, b, eps)\n",
        "end_time = time.time()\n",
        "\n",
        "\n",
        "# Hitung Average CPU Time\n",
        "cpu_time = end_time - start_time\n",
        "print(\"=====================================================================================\")\n",
        "print(\"Average CPU Time:\", cpu_time, \"seconds\")\n",
        "print(\"=====================================\")\n",
        "\n",
        "if root is not None:\n",
        "    print(f\"Akar yang ditemukan: {root}\")\n",
        "\n",
        "    print(f\"Jumlah iterasi: {iterations}\")\n",
        "    print(f\"Batas akhir a: {a_final}, b: {b_final}\")\n",
        "else:\n",
        "    print(\"Tidak ditemukan akar dalam batas iterasi yang diberikan.\")\n",
        "\n",
        "#print(f\"Akar ditemukan: {root}, f(root): {f_root}, Iterasi: {iterations}, a: {a_final}, b: {b_final}\")\n",
        "#print (root)"
      ],
      "metadata": {
        "colab": {
          "base_uri": "https://localhost:8080/"
        },
        "id": "DWcXugF18hsb",
        "outputId": "62d7eb1e-3462-4af2-e5d0-6e49e3a45804"
      },
      "execution_count": null,
      "outputs": [
        {
          "output_type": "stream",
          "name": "stdout",
          "text": [
            "iterasi 2: Lower Bound = 2, Upper Bound = 7\n",
            "iterasi 3: Lower Bound = 2.111111111111111, Upper Bound = 3.6666666666666665\n",
            "iterasi 4: Lower Bound = 2.2051282051282053, Upper Bound = 2.6296296296296298\n",
            "iterasi 5: Lower Bound = 2.2335494009035552, Upper Bound = 2.3466286799620133\n",
            "iterasi 6: Lower Bound = 2.236007181698236, Upper Bound = 2.2712424939230416\n",
            "iterasi 7: Lower Bound = 2.2360675030501644, Upper Bound = 2.247752285773171\n",
            "=====================================================================================\n",
            "Average CPU Time: 0.0062847137451171875 seconds\n",
            "=====================================\n",
            "Akar yang ditemukan: 2.2360679762634295\n",
            "Jumlah iterasi: 6\n",
            "Batas akhir a: 2.2360675030501644, b: 2.247752285773171\n"
          ]
        }
      ]
    },
    {
      "cell_type": "markdown",
      "source": [
        "## Persamaan Fungsi 3\n",
        "\n",
        "x^2 - 10, Interval [3,4]\n"
      ],
      "metadata": {
        "id": "_J5YWwk36wKr"
      }
    },
    {
      "cell_type": "code",
      "source": [
        "def f(x) :\n",
        "  return x**2 - 10"
      ],
      "metadata": {
        "id": "vRD4djs3-KKj"
      },
      "execution_count": null,
      "outputs": []
    },
    {
      "cell_type": "code",
      "source": [
        "\n",
        "def hybrid_triFalse(a, b, eps, max_iter = 1000):\n",
        "    n = 0\n",
        "    a1 = a\n",
        "    a2 = a\n",
        "    b1 = b\n",
        "    b2 = b\n",
        "    fa = f(a)\n",
        "\n",
        "    while n < max_iter:\n",
        "        n += 1\n",
        "        xT1 = (b + 2 * a) / 3\n",
        "        xT2 = (2 * b + a) / 3\n",
        "        xF = a - (f(a) * (b - a)) / (f(b) - f(a))\n",
        "        print(f\"iterasi {n+1}: Lower Bound = {a}, Upper Bound = {b}\")\n",
        "\n",
        "        x = xT1\n",
        "        fx = f(xT1)\n",
        "\n",
        "        if abs(f(xT2)) < abs(fx):\n",
        "            x = xT2\n",
        "            fx = f(xT2)\n",
        "\n",
        "        if abs(f(xF)) < abs(fx):\n",
        "            x = xF\n",
        "            fx = f(xF)\n",
        "\n",
        "        if abs(fx) <= eps:\n",
        "            return x, n, a, b\n",
        "\n",
        "        if fa * f(xT1) < 0:\n",
        "            b1 = xT1\n",
        "        elif f(xT1) * f(xT2) < 0:\n",
        "            a1 = xT1\n",
        "            b1 = xT2\n",
        "        else:\n",
        "            a1 = xT2\n",
        "\n",
        "        if fa * f(xF) < 0:\n",
        "            b2 = xF\n",
        "        else:\n",
        "            a2 = xF\n",
        "\n",
        "        a = max(a1, a2)\n",
        "        b = min(b1, b2)\n",
        "\n",
        "# Contoh penggunaan\n",
        "a = 3  # Batas bawah\n",
        "b = 4  # Batas atas\n",
        "eps = 1e-6  # Toleransi\n",
        "\n",
        "start_time = time.time()\n",
        "root, iterations, a_final, b_final = hybrid_triFalse(a, b, eps)\n",
        "end_time = time.time()\n",
        "\n",
        "\n",
        "# Hitung Average CPU Time\n",
        "cpu_time = end_time - start_time\n",
        "print(\"=====================================================================================\")\n",
        "print(\"Average CPU Time:\", cpu_time, \"seconds\")\n",
        "print(\"=====================================\")\n",
        "\n",
        "if root is not None:\n",
        "    print(f\"Akar yang ditemukan: {root}\")\n",
        "\n",
        "    print(f\"Jumlah iterasi: {iterations}\")\n",
        "    print(f\"Batas akhir a: {a_final}, b: {b_final}\")\n",
        "else:\n",
        "    print(\"Tidak ditemukan akar dalam batas iterasi yang diberikan.\")\n",
        "\n",
        "#print(f\"Akar ditemukan: {root}, f(root): {f_root}, Iterasi: {iterations}, a: {a_final}, b: {b_final}\")\n",
        "#print (root)"
      ],
      "metadata": {
        "colab": {
          "base_uri": "https://localhost:8080/"
        },
        "id": "icy_jalk-Iiv",
        "outputId": "2d6af2e9-555d-4c8c-9506-e69a42c48699"
      },
      "execution_count": null,
      "outputs": [
        {
          "output_type": "stream",
          "name": "stdout",
          "text": [
            "iterasi 2: Lower Bound = 3, Upper Bound = 4\n",
            "iterasi 3: Lower Bound = 3.142857142857143, Upper Bound = 3.3333333333333335\n",
            "iterasi 4: Lower Bound = 3.161764705882353, Upper Bound = 3.206349206349206\n",
            "iterasi 5: Lower Bound = 3.162274110186577, Upper Bound = 3.176626206037971\n",
            "=====================================================================================\n",
            "Average CPU Time: 0.0003006458282470703 seconds\n",
            "=====================================\n",
            "Akar yang ditemukan: 3.1622776521327465\n",
            "Jumlah iterasi: 4\n",
            "Batas akhir a: 3.162274110186577, b: 3.176626206037971\n"
          ]
        }
      ]
    },
    {
      "cell_type": "markdown",
      "source": [
        "## Persamaan Fungsi 4\n",
        "\n",
        "x^2 - x - 2, Interval [1,4]"
      ],
      "metadata": {
        "id": "HA6V258962RF"
      }
    },
    {
      "cell_type": "code",
      "source": [
        "def f(x) :\n",
        "  return x**2 - x - 2"
      ],
      "metadata": {
        "id": "g6LUJbML-QT-"
      },
      "execution_count": null,
      "outputs": []
    },
    {
      "cell_type": "code",
      "source": [
        "\n",
        "def hybrid_triFalse(a, b, eps, max_iter = 1000):\n",
        "    n = 0\n",
        "    a1 = a\n",
        "    a2 = a\n",
        "    b1 = b\n",
        "    b2 = b\n",
        "    fa = f(a)\n",
        "\n",
        "    while n < max_iter:\n",
        "        n += 1\n",
        "        xT1 = (b + 2 * a) / 3\n",
        "        xT2 = (2 * b + a) / 3\n",
        "        xF = a - (f(a) * (b - a)) / (f(b) - f(a))\n",
        "        print(f\"iterasi {n+1}: Lower Bound = {a}, Upper Bound = {b}\")\n",
        "\n",
        "        x = xT1\n",
        "        fx = f(xT1)\n",
        "\n",
        "        if abs(f(xT2)) < abs(fx):\n",
        "            x = xT2\n",
        "            fx = f(xT2)\n",
        "\n",
        "        if abs(f(xF)) < abs(fx):\n",
        "            x = xF\n",
        "            fx = f(xF)\n",
        "\n",
        "        if abs(fx) <= eps:\n",
        "            return x, n, a, b\n",
        "\n",
        "        if fa * f(xT1) < 0:\n",
        "            b1 = xT1\n",
        "        elif f(xT1) * f(xT2) < 0:\n",
        "            a1 = xT1\n",
        "            b1 = xT2\n",
        "        else:\n",
        "            a1 = xT2\n",
        "\n",
        "        if fa * f(xF) < 0:\n",
        "            b2 = xF\n",
        "        else:\n",
        "            a2 = xF\n",
        "\n",
        "        a = max(a1, a2)\n",
        "        b = min(b1, b2)\n",
        "\n",
        "# Contoh penggunaan\n",
        "a = 1  # Batas bawah\n",
        "b = 4  # Batas atas\n",
        "eps = 1e-6  # Toleransi\n",
        "\n",
        "start_time = time.time()\n",
        "root, iterations, a_final, b_final = hybrid_triFalse(a, b, eps)\n",
        "end_time = time.time()\n",
        "\n",
        "\n",
        "# Hitung Average CPU Time\n",
        "cpu_time = end_time - start_time\n",
        "print(\"=====================================================================================\")\n",
        "print(\"Average CPU Time:\", cpu_time, \"seconds\")\n",
        "print(\"=====================================\")\n",
        "\n",
        "if root is not None:\n",
        "    print(f\"Akar yang ditemukan: {root}\")\n",
        "\n",
        "    print(f\"Jumlah iterasi: {iterations}\")\n",
        "    print(f\"Batas akhir a: {a_final}, b: {b_final}\")\n",
        "else:\n",
        "    print(\"Tidak ditemukan akar dalam batas iterasi yang diberikan.\")\n",
        "\n",
        "#print(f\"Akar ditemukan: {root}, f(root): {f_root}, Iterasi: {iterations}, a: {a_final}, b: {b_final}\")\n",
        "#print (root)"
      ],
      "metadata": {
        "colab": {
          "base_uri": "https://localhost:8080/"
        },
        "id": "Z3fOFUA3-TMA",
        "outputId": "3be25470-bc87-4832-a5bc-1110c70914e7"
      },
      "execution_count": null,
      "outputs": [
        {
          "output_type": "stream",
          "name": "stdout",
          "text": [
            "iterasi 2: Lower Bound = 1, Upper Bound = 4\n",
            "=====================================================================================\n",
            "Average CPU Time: 0.0001838207244873047 seconds\n",
            "=====================================\n",
            "Akar yang ditemukan: 2.0\n",
            "Jumlah iterasi: 1\n",
            "Batas akhir a: 1, b: 4\n"
          ]
        }
      ]
    },
    {
      "cell_type": "markdown",
      "source": [
        "## Persamaan Fungsi 5\n",
        "\n",
        "x^2 + 2x - 7 , Interval [1,3]\n"
      ],
      "metadata": {
        "id": "FmSanP9j69R1"
      }
    },
    {
      "cell_type": "code",
      "source": [
        "def f(x) :\n",
        "  return x**2 + 2*x -7"
      ],
      "metadata": {
        "id": "VNceiSS7-W_r"
      },
      "execution_count": null,
      "outputs": []
    },
    {
      "cell_type": "code",
      "source": [
        "\n",
        "def hybrid_triFalse(a, b, eps, max_iter = 1000):\n",
        "    n = 0\n",
        "    a1 = a\n",
        "    a2 = a\n",
        "    b1 = b\n",
        "    b2 = b\n",
        "    fa = f(a)\n",
        "\n",
        "    while n < max_iter:\n",
        "        n += 1\n",
        "        xT1 = (b + 2 * a) / 3\n",
        "        xT2 = (2 * b + a) / 3\n",
        "        xF = a - (f(a) * (b - a)) / (f(b) - f(a))\n",
        "        print(f\"iterasi {n+1}: Lower Bound = {a}, Upper Bound = {b}\")\n",
        "\n",
        "        x = xT1\n",
        "        fx = f(xT1)\n",
        "\n",
        "        if abs(f(xT2)) < abs(fx):\n",
        "            x = xT2\n",
        "            fx = f(xT2)\n",
        "\n",
        "        if abs(f(xF)) < abs(fx):\n",
        "            x = xF\n",
        "            fx = f(xF)\n",
        "\n",
        "        if abs(fx) <= eps:\n",
        "            return x, n, a, b\n",
        "\n",
        "        if fa * f(xT1) < 0:\n",
        "            b1 = xT1\n",
        "        elif f(xT1) * f(xT2) < 0:\n",
        "            a1 = xT1\n",
        "            b1 = xT2\n",
        "        else:\n",
        "            a1 = xT2\n",
        "\n",
        "        if fa * f(xF) < 0:\n",
        "            b2 = xF\n",
        "        else:\n",
        "            a2 = xF\n",
        "\n",
        "        a = max(a1, a2)\n",
        "        b = min(b1, b2)\n",
        "\n",
        "# Contoh penggunaan\n",
        "a = 1  # Batas bawah\n",
        "b = 3  # Batas atas\n",
        "eps = 1e-6  # Toleransi\n",
        "\n",
        "start_time = time.time()\n",
        "root, iterations, a_final, b_final = hybrid_triFalse(a, b, eps)\n",
        "end_time = time.time()\n",
        "\n",
        "\n",
        "# Hitung Average CPU Time\n",
        "cpu_time = end_time - start_time\n",
        "print(\"=====================================================================================\")\n",
        "print(\"Average CPU Time:\", cpu_time, \"seconds\")\n",
        "print(\"=====================================\")\n",
        "\n",
        "if root is not None:\n",
        "    print(f\"Akar yang ditemukan: {root}\")\n",
        "\n",
        "    print(f\"Jumlah iterasi: {iterations}\")\n",
        "    print(f\"Batas akhir a: {a_final}, b: {b_final}\")\n",
        "else:\n",
        "    print(\"Tidak ditemukan akar dalam batas iterasi yang diberikan.\")\n",
        "\n",
        "#print(f\"Akar ditemukan: {root}, f(root): {f_root}, Iterasi: {iterations}, a: {a_final}, b: {b_final}\")\n",
        "#print (root)"
      ],
      "metadata": {
        "colab": {
          "base_uri": "https://localhost:8080/"
        },
        "id": "eN-1vsFl-ctX",
        "outputId": "190cc77e-7b76-4531-8c2f-8b999d3eeda7"
      },
      "execution_count": null,
      "outputs": [
        {
          "output_type": "stream",
          "name": "stdout",
          "text": [
            "iterasi 2: Lower Bound = 1, Upper Bound = 3\n",
            "iterasi 3: Lower Bound = 1.6666666666666667, Upper Bound = 2.3333333333333335\n",
            "iterasi 4: Lower Bound = 1.8148148148148149, Upper Bound = 1.888888888888889\n",
            "iterasi 5: Lower Bound = 1.8282828282828283, Upper Bound = 1.8395061728395063\n",
            "iterasi 6: Lower Bound = 1.8284268426842685, Upper Bound = 1.8320239431350542\n",
            "=====================================================================================\n",
            "Average CPU Time: 0.00039649009704589844 seconds\n",
            "=====================================\n",
            "Akar yang ditemukan: 1.8284271245669597\n",
            "Jumlah iterasi: 5\n",
            "Batas akhir a: 1.8284268426842685, b: 1.8320239431350542\n"
          ]
        }
      ]
    },
    {
      "cell_type": "markdown",
      "source": [
        "#Persamaan Fungsi 6\n",
        "\n",
        "x^3 - 2, Interval [0,2]"
      ],
      "metadata": {
        "id": "8HEHTWnW7DlY"
      }
    },
    {
      "cell_type": "code",
      "source": [
        "def f(x) :\n",
        "  return x**3 - 2"
      ],
      "metadata": {
        "id": "VYCOJlgz-gSx"
      },
      "execution_count": null,
      "outputs": []
    },
    {
      "cell_type": "code",
      "source": [
        "\n",
        "def hybrid_triFalse(a, b, eps, max_iter = 1000):\n",
        "    n = 0\n",
        "    a1 = a\n",
        "    a2 = a\n",
        "    b1 = b\n",
        "    b2 = b\n",
        "    fa = f(a)\n",
        "\n",
        "    while n < max_iter:\n",
        "        n += 1\n",
        "        xT1 = (b + 2 * a) / 3\n",
        "        xT2 = (2 * b + a) / 3\n",
        "        xF = a - (f(a) * (b - a)) / (f(b) - f(a))\n",
        "        print(f\"iterasi {n+1}: Lower Bound = {a}, Upper Bound = {b}\")\n",
        "\n",
        "        x = xT1\n",
        "        fx = f(xT1)\n",
        "\n",
        "        if abs(f(xT2)) < abs(fx):\n",
        "            x = xT2\n",
        "            fx = f(xT2)\n",
        "\n",
        "        if abs(f(xF)) < abs(fx):\n",
        "            x = xF\n",
        "            fx = f(xF)\n",
        "\n",
        "        if abs(fx) <= eps:\n",
        "            return x, n, a, b\n",
        "\n",
        "        if fa * f(xT1) < 0:\n",
        "            b1 = xT1\n",
        "        elif f(xT1) * f(xT2) < 0:\n",
        "            a1 = xT1\n",
        "            b1 = xT2\n",
        "        else:\n",
        "            a1 = xT2\n",
        "\n",
        "        if fa * f(xF) < 0:\n",
        "            b2 = xF\n",
        "        else:\n",
        "            a2 = xF\n",
        "\n",
        "        a = max(a1, a2)\n",
        "        b = min(b1, b2)\n",
        "\n",
        "\n",
        "a = 0  # Batas bawah\n",
        "b = 2  # Batas atas\n",
        "eps = 1e-14  # Toleransi\n",
        "\n",
        "start_time = time.time()\n",
        "root, iterations, a_final, b_final = hybrid_triFalse(a, b, eps)\n",
        "end_time = time.time()\n",
        "\n",
        "\n",
        "# Hitung Average CPU Time\n",
        "cpu_time = end_time - start_time\n",
        "print(\"=====================================================================================\")\n",
        "print(\"Average CPU Time:\", cpu_time, \"seconds\")\n",
        "print(\"=====================================\")\n",
        "\n",
        "if root is not None:\n",
        "    print(f\"Akar yang ditemukan: {root}\")\n",
        "\n",
        "    print(f\"Jumlah iterasi: {iterations}\")\n",
        "    print(f\"Batas akhir a: {a_final}, b: {b_final}\")\n",
        "else:\n",
        "    print(\"Tidak ditemukan akar dalam batas iterasi yang diberikan.\")\n",
        "\n",
        "#print(f\"Akar ditemukan: {root}, f(root): {f_root}, Iterasi: {iterations}, a: {a_final}, b: {b_final}\")\n",
        "#print (root)"
      ],
      "metadata": {
        "colab": {
          "base_uri": "https://localhost:8080/"
        },
        "id": "FCode2sW-lIe",
        "outputId": "db7a8588-2a79-4bec-e20c-c8dee993d2d1"
      },
      "execution_count": null,
      "outputs": [
        {
          "output_type": "stream",
          "name": "stdout",
          "text": [
            "iterasi 2: Lower Bound = 0, Upper Bound = 2\n",
            "iterasi 3: Lower Bound = 0.6666666666666666, Upper Bound = 1.3333333333333333\n",
            "iterasi 4: Lower Bound = 1.2142857142857144, Upper Bound = 1.3333333333333333\n",
            "iterasi 5: Lower Bound = 1.2573024554870245, Upper Bound = 1.2936507936507937\n",
            "iterasi 6: Lower Bound = 1.2598520878312758, Upper Bound = 1.269418568208281\n",
            "iterasi 7: Lower Bound = 1.2599205326299594, Upper Bound = 1.2630409146236108\n",
            "iterasi 8: Lower Bound = 1.2599210486161134, Upper Bound = 1.2609606599611765\n",
            "iterasi 9: Lower Bound = 1.2599210498938185, Upper Bound = 1.2602675857311345\n",
            "=====================================================================================\n",
            "Average CPU Time: 0.0007781982421875 seconds\n",
            "=====================================\n",
            "Akar yang ditemukan: 1.259921049894873\n",
            "Jumlah iterasi: 8\n",
            "Batas akhir a: 1.2599210498938185, b: 1.2602675857311345\n"
          ]
        }
      ]
    },
    {
      "cell_type": "markdown",
      "source": [
        "## Persamaan Fungsi 7\n",
        "\n",
        "xe^x - 7, Interval [0,2]"
      ],
      "metadata": {
        "id": "b5Yntvnw7PI8"
      }
    },
    {
      "cell_type": "code",
      "source": [
        "def f(x) :\n",
        "  return x*math.exp(x) - 7"
      ],
      "metadata": {
        "id": "y_a9fKIA-qYU"
      },
      "execution_count": null,
      "outputs": []
    },
    {
      "cell_type": "code",
      "source": [
        "\n",
        "def hybrid_triFalse(a, b, eps, max_iter = 1000):\n",
        "    n = 0\n",
        "    a1 = a\n",
        "    a2 = a\n",
        "    b1 = b\n",
        "    b2 = b\n",
        "    fa = f(a)\n",
        "\n",
        "    while n < max_iter:\n",
        "        n += 1\n",
        "        xT1 = (b + 2 * a) / 3\n",
        "        xT2 = (2 * b + a) / 3\n",
        "        xF = a - (f(a) * (b - a)) / (f(b) - f(a))\n",
        "        print(f\"iterasi {n+1}: Lower Bound = {a}, Upper Bound = {b}\")\n",
        "\n",
        "        x = xT1\n",
        "        fx = f(xT1)\n",
        "\n",
        "        if abs(f(xT2)) < abs(fx):\n",
        "            x = xT2\n",
        "            fx = f(xT2)\n",
        "\n",
        "        if abs(f(xF)) < abs(fx):\n",
        "            x = xF\n",
        "            fx = f(xF)\n",
        "\n",
        "        if abs(fx) <= eps:\n",
        "            return x, n, a, b\n",
        "\n",
        "        if fa * f(xT1) < 0:\n",
        "            b1 = xT1\n",
        "        elif f(xT1) * f(xT2) < 0:\n",
        "            a1 = xT1\n",
        "            b1 = xT2\n",
        "        else:\n",
        "            a1 = xT2\n",
        "\n",
        "        if fa * f(xF) < 0:\n",
        "            b2 = xF\n",
        "        else:\n",
        "            a2 = xF\n",
        "\n",
        "        a = max(a1, a2)\n",
        "        b = min(b1, b2)\n",
        "\n",
        "# Contoh penggunaan\n",
        "a = 0  # Batas bawah\n",
        "b = 2  # Batas atas\n",
        "eps = 1e-6  # Toleransi\n",
        "\n",
        "start_time = time.time()\n",
        "root, iterations, a_final, b_final = hybrid_triFalse(a, b, eps)\n",
        "end_time = time.time()\n",
        "\n",
        "\n",
        "# Hitung Average CPU Time\n",
        "cpu_time = end_time - start_time\n",
        "print(\"=====================================================================================\")\n",
        "print(\"Average CPU Time:\", cpu_time, \"seconds\")\n",
        "print(\"=====================================\")\n",
        "\n",
        "if root is not None:\n",
        "    print(f\"Akar yang ditemukan: {root}\")\n",
        "\n",
        "    print(f\"Jumlah iterasi: {iterations}\")\n",
        "    print(f\"Batas akhir a: {a_final}, b: {b_final}\")\n",
        "else:\n",
        "    print(\"Tidak ditemukan akar dalam batas iterasi yang diberikan.\")\n",
        "\n",
        "#print(f\"Akar ditemukan: {root}, f(root): {f_root}, Iterasi: {iterations}, a: {a_final}, b: {b_final}\")\n",
        "#print (root)"
      ],
      "metadata": {
        "colab": {
          "base_uri": "https://localhost:8080/"
        },
        "id": "Y9NBokdp-2Og",
        "outputId": "49041944-70c9-4b3b-891a-17ea72fd6897"
      },
      "execution_count": null,
      "outputs": [
        {
          "output_type": "stream",
          "name": "stdout",
          "text": [
            "iterasi 2: Lower Bound = 0, Upper Bound = 2\n",
            "iterasi 3: Lower Bound = 1.3333333333333333, Upper Bound = 2\n",
            "iterasi 4: Lower Bound = 1.4665156685510714, Upper Bound = 1.5555555555555554\n",
            "iterasi 5: Lower Bound = 1.5230765781981823, Upper Bound = 1.5258755932207275\n",
            "iterasi 6: Lower Bound = 1.5243438497811836, Upper Bound = 1.5249425882132126\n",
            "=====================================================================================\n",
            "Average CPU Time: 0.00039124488830566406 seconds\n",
            "=====================================\n",
            "Akar yang ditemukan: 1.5243452044190942\n",
            "Jumlah iterasi: 5\n",
            "Batas akhir a: 1.5243438497811836, b: 1.5249425882132126\n"
          ]
        }
      ]
    },
    {
      "cell_type": "markdown",
      "source": [
        "## Persamaan Fungsi 8\n",
        "\n",
        "x - cos(x), Interval [0,1]\n"
      ],
      "metadata": {
        "id": "fJOjTr1n7X8S"
      }
    },
    {
      "cell_type": "code",
      "source": [
        "def f(x) :\n",
        "  return x - math.cos(x)"
      ],
      "metadata": {
        "id": "PkxXHn4m-4iJ"
      },
      "execution_count": null,
      "outputs": []
    },
    {
      "cell_type": "code",
      "source": [
        "\n",
        "def hybrid_triFalse(a, b, eps, max_iter = 1000):\n",
        "    n = 0\n",
        "    a1 = a\n",
        "    a2 = a\n",
        "    b1 = b\n",
        "    b2 = b\n",
        "    fa = f(a)\n",
        "\n",
        "    while n < max_iter:\n",
        "        n += 1\n",
        "        xT1 = (b + 2 * a) / 3\n",
        "        xT2 = (2 * b + a) / 3\n",
        "        xF = a - (f(a) * (b - a)) / (f(b) - f(a))\n",
        "        print(f\"iterasi {n+1}: Lower Bound = {a}, Upper Bound = {b}\")\n",
        "\n",
        "        x = xT1\n",
        "        fx = f(xT1)\n",
        "\n",
        "        if abs(f(xT2)) < abs(fx):\n",
        "            x = xT2\n",
        "            fx = f(xT2)\n",
        "\n",
        "        if abs(f(xF)) < abs(fx):\n",
        "            x = xF\n",
        "            fx = f(xF)\n",
        "\n",
        "        if abs(fx) <= eps:\n",
        "            return x, n, a, b\n",
        "\n",
        "        if fa * f(xT1) < 0:\n",
        "            b1 = xT1\n",
        "        elif f(xT1) * f(xT2) < 0:\n",
        "            a1 = xT1\n",
        "            b1 = xT2\n",
        "        else:\n",
        "            a1 = xT2\n",
        "\n",
        "        if fa * f(xF) < 0:\n",
        "            b2 = xF\n",
        "        else:\n",
        "            a2 = xF\n",
        "\n",
        "        a = max(a1, a2)\n",
        "        b = min(b1, b2)\n",
        "\n",
        "# Contoh penggunaan\n",
        "a = 0  # Batas bawah\n",
        "b = 1  # Batas atas\n",
        "eps = 1e-14  # Toleransi\n",
        "\n",
        "start_time = time.time()\n",
        "root, iterations, a_final, b_final = hybrid_triFalse(a, b, eps)\n",
        "end_time = time.time()\n",
        "\n",
        "\n",
        "# Hitung Average CPU Time\n",
        "cpu_time = end_time - start_time\n",
        "print(\"=====================================================================================\")\n",
        "print(\"Average CPU Time:\", cpu_time, \"seconds\")\n",
        "print(\"=====================================\")\n",
        "\n",
        "if root is not None:\n",
        "    print(f\"Akar yang ditemukan: {root}\")\n",
        "\n",
        "    print(f\"Jumlah iterasi: {iterations}\")\n",
        "    print(f\"Batas akhir a: {a_final}, b: {b_final}\")\n",
        "else:\n",
        "    print(\"Tidak ditemukan akar dalam batas iterasi yang diberikan.\")\n",
        "\n",
        "#print(f\"Akar ditemukan: {root}, f(root): {f_root}, Iterasi: {iterations}, a: {a_final}, b: {b_final}\")\n",
        "#print (root)"
      ],
      "metadata": {
        "colab": {
          "base_uri": "https://localhost:8080/"
        },
        "id": "gQ2qPFkN-9Go",
        "outputId": "638810ca-6231-46c2-990b-dbb4c8e6a301"
      },
      "execution_count": null,
      "outputs": [
        {
          "output_type": "stream",
          "name": "stdout",
          "text": [
            "iterasi 2: Lower Bound = 0, Upper Bound = 1\n",
            "iterasi 3: Lower Bound = 0.6850733573260451, Upper Bound = 1\n",
            "iterasi 4: Lower Bound = 0.736298997613654, Upper Bound = 0.7900489048840301\n",
            "iterasi 5: Lower Bound = 0.7390545659404437, Upper Bound = 0.7542156333704461\n",
            "iterasi 6: Lower Bound = 0.7390850318997303, Upper Bound = 0.7441082550837779\n",
            "iterasi 7: Lower Bound = 0.7390851331030842, Upper Bound = 0.740759439627746\n",
            "iterasi 8: Lower Bound = 0.7390851332151193, Upper Bound = 0.7396432352779715\n",
            "=====================================================================================\n",
            "Average CPU Time: 0.002779722213745117 seconds\n",
            "=====================================\n",
            "Akar yang ditemukan: 0.7390851332151607\n",
            "Jumlah iterasi: 7\n",
            "Batas akhir a: 0.7390851332151193, b: 0.7396432352779715\n"
          ]
        }
      ]
    },
    {
      "cell_type": "markdown",
      "source": [
        "## Persamaan Fungsi 9\n",
        "\n",
        "x*sin(x) - 1, Interval [0,2]\n"
      ],
      "metadata": {
        "id": "8Lz-6YYP7e7F"
      }
    },
    {
      "cell_type": "code",
      "source": [
        "def f(x) :\n",
        "  return x*math.sin(x) - 1"
      ],
      "metadata": {
        "id": "Mb-AMLPv_Am4"
      },
      "execution_count": null,
      "outputs": []
    },
    {
      "cell_type": "code",
      "source": [
        "\n",
        "def hybrid_triFalse(a, b, eps, max_iter = 1000):\n",
        "    n = 0\n",
        "    a1 = a\n",
        "    a2 = a\n",
        "    b1 = b\n",
        "    b2 = b\n",
        "    fa = f(a)\n",
        "\n",
        "    while n < max_iter:\n",
        "        n += 1\n",
        "        xT1 = (b + 2 * a) / 3\n",
        "        xT2 = (2 * b + a) / 3\n",
        "        xF = a - (f(a) * (b - a)) / (f(b) - f(a))\n",
        "        print(f\"iterasi {n+1}: Lower Bound = {a}, Upper Bound = {b}\")\n",
        "\n",
        "        x = xT1\n",
        "        fx = f(xT1)\n",
        "\n",
        "        if abs(f(xT2)) < abs(fx):\n",
        "            x = xT2\n",
        "            fx = f(xT2)\n",
        "\n",
        "        if abs(f(xF)) < abs(fx):\n",
        "            x = xF\n",
        "            fx = f(xF)\n",
        "\n",
        "        if abs(fx) <= eps:\n",
        "            return x, n, a, b\n",
        "\n",
        "        if fa * f(xT1) < 0:\n",
        "            b1 = xT1\n",
        "        elif f(xT1) * f(xT2) < 0:\n",
        "            a1 = xT1\n",
        "            b1 = xT2\n",
        "        else:\n",
        "            a1 = xT2\n",
        "\n",
        "        if fa * f(xF) < 0:\n",
        "            b2 = xF\n",
        "        else:\n",
        "            a2 = xF\n",
        "\n",
        "        a = max(a1, a2)\n",
        "        b = min(b1, b2)\n",
        "\n",
        "# Contoh penggunaan\n",
        "a = 0  # Batas bawah\n",
        "b = 2  # Batas atas\n",
        "eps = 1e-14  # Toleransi\n",
        "\n",
        "start_time = time.time()\n",
        "root, iterations, a_final, b_final = hybrid_triFalse(a, b, eps)\n",
        "end_time = time.time()\n",
        "\n",
        "\n",
        "# Hitung Average CPU Time\n",
        "cpu_time = end_time - start_time\n",
        "print(\"=====================================================================================\")\n",
        "print(\"Average CPU Time:\", cpu_time, \"seconds\")\n",
        "print(\"=====================================\")\n",
        "\n",
        "if root is not None:\n",
        "    print(f\"Akar yang ditemukan: {root}\")\n",
        "\n",
        "    print(f\"Jumlah iterasi: {iterations}\")\n",
        "    print(f\"Batas akhir a: {a_final}, b: {b_final}\")\n",
        "else:\n",
        "    print(\"Tidak ditemukan akar dalam batas iterasi yang diberikan.\")\n",
        "\n",
        "#print(f\"Akar ditemukan: {root}, f(root): {f_root}, Iterasi: {iterations}, a: {a_final}, b: {b_final}\")\n",
        "#print (root)"
      ],
      "metadata": {
        "colab": {
          "base_uri": "https://localhost:8080/"
        },
        "id": "MASCKzvN_DoO",
        "outputId": "4f2a65ca-3e1b-44ca-e1cd-bd973bf83582"
      },
      "execution_count": null,
      "outputs": [
        {
          "output_type": "stream",
          "name": "stdout",
          "text": [
            "iterasi 2: Lower Bound = 0, Upper Bound = 2\n",
            "iterasi 3: Lower Bound = 1.0997501702946164, Upper Bound = 1.3333333333333333\n",
            "iterasi 4: Lower Bound = 1.0997501702946164, Upper Bound = 1.1145510931117273\n",
            "iterasi 5: Lower Bound = 1.1096174521726903, Upper Bound = 1.1141573517855063\n",
            "iterasi 6: Lower Bound = 1.1126440519145675, Upper Bound = 1.114157140910984\n",
            "=====================================================================================\n",
            "Average CPU Time: 0.0043828487396240234 seconds\n",
            "=====================================\n",
            "Akar yang ditemukan: 1.1141571408719324\n",
            "Jumlah iterasi: 5\n",
            "Batas akhir a: 1.1126440519145675, b: 1.114157140910984\n"
          ]
        }
      ]
    },
    {
      "cell_type": "markdown",
      "source": [
        "## Persamaan Fungsi 10\n",
        "\n",
        "x*cos(x) + 1, Interval [-2,4]\n"
      ],
      "metadata": {
        "id": "gdamZzfr7n_w"
      }
    },
    {
      "cell_type": "code",
      "source": [
        "def f(x) :\n",
        "  return x*math.cos(x) + 1"
      ],
      "metadata": {
        "id": "DkYrWkHy_HQR"
      },
      "execution_count": null,
      "outputs": []
    },
    {
      "cell_type": "code",
      "source": [
        "\n",
        "def hybrid_triFalse(a, b, eps, max_iter = 1000):\n",
        "    n = 0\n",
        "    a1 = a\n",
        "    a2 = a\n",
        "    b1 = b\n",
        "    b2 = b\n",
        "    fa = f(a)\n",
        "\n",
        "    while n < max_iter:\n",
        "        n += 1\n",
        "        xT1 = (b + 2 * a) / 3\n",
        "        xT2 = (2 * b + a) / 3\n",
        "        xF = a - (f(a) * (b - a)) / (f(b) - f(a))\n",
        "        print(f\"iterasi {n+1}: Lower Bound = {a}, Upper Bound = {b}\")\n",
        "\n",
        "        x = xT1\n",
        "        fx = f(xT1)\n",
        "\n",
        "        if abs(f(xT2)) < abs(fx):\n",
        "            x = xT2\n",
        "            fx = f(xT2)\n",
        "\n",
        "        if abs(f(xF)) < abs(fx):\n",
        "            x = xF\n",
        "            fx = f(xF)\n",
        "\n",
        "        if abs(fx) <= eps:\n",
        "            return x, n, a, b\n",
        "\n",
        "        if fa * f(xT1) < 0:\n",
        "            b1 = xT1\n",
        "        elif f(xT1) * f(xT2) < 0:\n",
        "            a1 = xT1\n",
        "            b1 = xT2\n",
        "        else:\n",
        "            a1 = xT2\n",
        "\n",
        "        if fa * f(xF) < 0:\n",
        "            b2 = xF\n",
        "        else:\n",
        "            a2 = xF\n",
        "\n",
        "        a = max(a1, a2)\n",
        "        b = min(b1, b2)\n",
        "\n",
        "# Contoh penggunaan\n",
        "a = -2  # Batas bawah\n",
        "b = 4  # Batas atas\n",
        "eps = 1e-14  # Toleransi\n",
        "\n",
        "start_time = time.time()\n",
        "root, iterations, a_final, b_final = hybrid_triFalse(a, b, eps)\n",
        "end_time = time.time()\n",
        "\n",
        "\n",
        "# Hitung Average CPU Time\n",
        "cpu_time = end_time - start_time\n",
        "print(\"=====================================================================================\")\n",
        "print(\"Average CPU Time:\", cpu_time, \"seconds\")\n",
        "print(\"=====================================\")\n",
        "\n",
        "if root is not None:\n",
        "    print(f\"Akar yang ditemukan: {root}\")\n",
        "\n",
        "    print(f\"Jumlah iterasi: {iterations}\")\n",
        "    print(f\"Batas akhir a: {a_final}, b: {b_final}\")\n",
        "else:\n",
        "    print(\"Tidak ditemukan akar dalam batas iterasi yang diberikan.\")\n",
        "\n",
        "#print(f\"Akar ditemukan: {root}, f(root): {f_root}, Iterasi: {iterations}, a: {a_final}, b: {b_final}\")\n",
        "#print (root)"
      ],
      "metadata": {
        "colab": {
          "base_uri": "https://localhost:8080/"
        },
        "id": "_1sFO_xR_KZp",
        "outputId": "12ef0de9-0b9b-41a2-d236-cd108ed7685b"
      },
      "execution_count": null,
      "outputs": [
        {
          "output_type": "stream",
          "name": "stdout",
          "text": [
            "iterasi 2: Lower Bound = -2, Upper Bound = 4\n",
            "iterasi 3: Lower Bound = 2.0, Upper Bound = 4\n",
            "iterasi 4: Lower Bound = 2.0, Upper Bound = 2.1881929333816093\n",
            "iterasi 5: Lower Bound = 2.0726407563942826, Upper Bound = 2.1254619555877396\n",
            "iterasi 6: Lower Bound = 2.0739227936014206, Upper Bound = 2.0902478227921013\n",
            "iterasi 7: Lower Bound = 2.0739327830626344, Upper Bound = 2.079364469998314\n",
            "iterasi 8: Lower Bound = 2.073932809068291, Upper Bound = 2.0757433453745278\n",
            "iterasi 9: Lower Bound = 2.0739328090912084, Upper Bound = 2.07453632117037\n",
            "=====================================================================================\n",
            "Average CPU Time: 0.0022606849670410156 seconds\n",
            "=====================================\n",
            "Akar yang ditemukan: 2.073932809091215\n",
            "Jumlah iterasi: 8\n",
            "Batas akhir a: 2.0739328090912084, b: 2.07453632117037\n"
          ]
        }
      ]
    },
    {
      "cell_type": "markdown",
      "source": [
        "## Persamaan Fungsi 11\n",
        "\n",
        "x^10 - 1, Interval [0, 1.3]\n"
      ],
      "metadata": {
        "id": "ccRvjN0r7wev"
      }
    },
    {
      "cell_type": "code",
      "source": [
        "def f(x) :\n",
        "  return x**10 - 1"
      ],
      "metadata": {
        "id": "mXInaWGF_NgF"
      },
      "execution_count": null,
      "outputs": []
    },
    {
      "cell_type": "code",
      "source": [
        "\n",
        "def hybrid_triFalse(a, b, eps, max_iter = 1000):\n",
        "    n = 0\n",
        "    a1 = a\n",
        "    a2 = a\n",
        "    b1 = b\n",
        "    b2 = b\n",
        "    fa = f(a)\n",
        "\n",
        "    while n < max_iter:\n",
        "        n += 1\n",
        "        xT1 = (b + 2 * a) / 3\n",
        "        xT2 = (2 * b + a) / 3\n",
        "        xF = a - (f(a) * (b - a)) / (f(b) - f(a))\n",
        "        print(f\"iterasi {n+1}: Lower Bound = {a}, Upper Bound = {b}\")\n",
        "\n",
        "        x = xT1\n",
        "        fx = f(xT1)\n",
        "\n",
        "        if abs(f(xT2)) < abs(fx):\n",
        "            x = xT2\n",
        "            fx = f(xT2)\n",
        "\n",
        "        if abs(f(xF)) < abs(fx):\n",
        "            x = xF\n",
        "            fx = f(xF)\n",
        "\n",
        "        if abs(fx) <= eps:\n",
        "            return x, n, a, b\n",
        "\n",
        "        if fa * f(xT1) < 0:\n",
        "            b1 = xT1\n",
        "        elif f(xT1) * f(xT2) < 0:\n",
        "            a1 = xT1\n",
        "            b1 = xT2\n",
        "        else:\n",
        "            a1 = xT2\n",
        "\n",
        "        if fa * f(xF) < 0:\n",
        "            b2 = xF\n",
        "        else:\n",
        "            a2 = xF\n",
        "\n",
        "        a = max(a1, a2)\n",
        "        b = min(b1, b2)\n",
        "\n",
        "# Contoh penggunaan\n",
        "a = 0  # Batas bawah\n",
        "b = 1.3  # Batas atas\n",
        "eps = 1e-6  # Toleransi\n",
        "\n",
        "start_time = time.time()\n",
        "root, iterations, a_final, b_final = hybrid_triFalse(a, b, eps)\n",
        "end_time = time.time()\n",
        "\n",
        "\n",
        "# Hitung Average CPU Time\n",
        "cpu_time = end_time - start_time\n",
        "print(\"=====================================================================================\")\n",
        "print(\"Average CPU Time:\", cpu_time, \"seconds\")\n",
        "print(\"=====================================\")\n",
        "\n",
        "if root is not None:\n",
        "    print(f\"Akar yang ditemukan: {root}\")\n",
        "\n",
        "    print(f\"Jumlah iterasi: {iterations}\")\n",
        "    print(f\"Batas akhir a: {a_final}, b: {b_final}\")\n",
        "else:\n",
        "    print(\"Tidak ditemukan akar dalam batas iterasi yang diberikan.\")\n",
        "\n",
        "#print(f\"Akar ditemukan: {root}, f(root): {f_root}, Iterasi: {iterations}, a: {a_final}, b: {b_final}\")\n",
        "#print (root)"
      ],
      "metadata": {
        "colab": {
          "base_uri": "https://localhost:8080/"
        },
        "id": "OgOBeZbl_S2Q",
        "outputId": "d4ac9642-551d-4342-82f9-3d21a284ae12"
      },
      "execution_count": null,
      "outputs": [
        {
          "output_type": "stream",
          "name": "stdout",
          "text": [
            "iterasi 2: Lower Bound = 0, Upper Bound = 1.3\n",
            "iterasi 3: Lower Bound = 0.8666666666666667, Upper Bound = 1.3\n",
            "iterasi 4: Lower Bound = 0.8910073060872645, Upper Bound = 1.011111111111111\n",
            "iterasi 5: Lower Bound = 0.993602947266701, Upper Bound = 1.011111111111111\n",
            "iterasi 6: Lower Bound = 0.9996830691014698, Upper Bound = 1.0052750564963076\n",
            "iterasi 7: Lower Bound = 0.9999925450765347, Upper Bound = 1.001547064899749\n",
            "=====================================================================================\n",
            "Average CPU Time: 0.0035872459411621094 seconds\n",
            "=====================================\n",
            "Akar yang ditemukan: 0.9999999482467571\n",
            "Jumlah iterasi: 6\n",
            "Batas akhir a: 0.9999925450765347, b: 1.001547064899749\n"
          ]
        }
      ]
    },
    {
      "cell_type": "markdown",
      "source": [
        "##  Persamaan Fungsi 12\n",
        "\n",
        "x^2 + e^x/2 - 5 , Interval [1,2]"
      ],
      "metadata": {
        "id": "5L0il4Tv74hc"
      }
    },
    {
      "cell_type": "code",
      "source": [
        "def f(x) :\n",
        "  return x**2 + math.exp(x/2) - 5"
      ],
      "metadata": {
        "id": "ks6ZUjzr_VY7"
      },
      "execution_count": null,
      "outputs": []
    },
    {
      "cell_type": "code",
      "source": [
        "\n",
        "def hybrid_triFalse(a, b, eps, max_iter = 1000):\n",
        "    n = 0\n",
        "    a1 = a\n",
        "    a2 = a\n",
        "    b1 = b\n",
        "    b2 = b\n",
        "    fa = f(a)\n",
        "\n",
        "    while n < max_iter:\n",
        "        n += 1\n",
        "        xT1 = (b + 2 * a) / 3\n",
        "        xT2 = (2 * b + a) / 3\n",
        "        xF = a - (f(a) * (b - a)) / (f(b) - f(a))\n",
        "        print(f\"iterasi {n+1}: Lower Bound = {a}, Upper Bound = {b}\")\n",
        "\n",
        "        x = xT1\n",
        "        fx = f(xT1)\n",
        "\n",
        "        if abs(f(xT2)) < abs(fx):\n",
        "            x = xT2\n",
        "            fx = f(xT2)\n",
        "\n",
        "        if abs(f(xF)) < abs(fx):\n",
        "            x = xF\n",
        "            fx = f(xF)\n",
        "\n",
        "        if abs(fx) <= eps:\n",
        "            return x, n, a, b\n",
        "\n",
        "        if fa * f(xT1) < 0:\n",
        "            b1 = xT1\n",
        "        elif f(xT1) * f(xT2) < 0:\n",
        "            a1 = xT1\n",
        "            b1 = xT2\n",
        "        else:\n",
        "            a1 = xT2\n",
        "\n",
        "        if fa * f(xF) < 0:\n",
        "            b2 = xF\n",
        "        else:\n",
        "            a2 = xF\n",
        "\n",
        "        a = max(a1, a2)\n",
        "        b = min(b1, b2)\n",
        "\n",
        "# Contoh penggunaan\n",
        "a = 1  # Batas bawah\n",
        "b = 2  # Batas atas\n",
        "eps = 1e-14  # Toleransi\n",
        "\n",
        "start_time = time.time()\n",
        "root, iterations, a_final, b_final = hybrid_triFalse(a, b, eps)\n",
        "end_time = time.time()\n",
        "\n",
        "\n",
        "# Hitung Average CPU Time\n",
        "cpu_time = end_time - start_time\n",
        "print(\"=====================================================================================\")\n",
        "print(\"Average CPU Time:\", cpu_time, \"seconds\")\n",
        "print(\"=====================================\")\n",
        "\n",
        "if root is not None:\n",
        "    print(f\"Akar yang ditemukan: {root}\")\n",
        "\n",
        "    print(f\"Jumlah iterasi: {iterations}\")\n",
        "    print(f\"Batas akhir a: {a_final}, b: {b_final}\")\n",
        "else:\n",
        "    print(\"Tidak ditemukan akar dalam batas iterasi yang diberikan.\")\n",
        "\n",
        "#print(f\"Akar ditemukan: {root}, f(root): {f_root}, Iterasi: {iterations}, a: {a_final}, b: {b_final}\")\n",
        "#print (root)"
      ],
      "metadata": {
        "colab": {
          "base_uri": "https://localhost:8080/"
        },
        "id": "464mIXe9_ZNk",
        "outputId": "a9bad9aa-5ecf-4d04-a144-952b3b09c168"
      },
      "execution_count": null,
      "outputs": [
        {
          "output_type": "stream",
          "name": "stdout",
          "text": [
            "iterasi 2: Lower Bound = 1, Upper Bound = 2\n",
            "iterasi 3: Lower Bound = 1.5777721441734012, Upper Bound = 1.6666666666666667\n",
            "iterasi 4: Lower Bound = 1.6486441325848287, Upper Bound = 1.6666666666666667\n",
            "iterasi 5: Lower Bound = 1.6490113897165146, Upper Bound = 1.6546516439454413\n",
            "iterasi 6: Lower Bound = 1.6490132652406935, Upper Bound = 1.65089147445949\n",
            "iterasi 7: Lower Bound = 1.6490132683015255, Upper Bound = 1.6496393349802922\n",
            "=====================================================================================\n",
            "Average CPU Time: 0.0028731822967529297 seconds\n",
            "=====================================\n",
            "Akar yang ditemukan: 1.6490132683031897\n",
            "Jumlah iterasi: 6\n",
            "Batas akhir a: 1.6490132683015255, b: 1.6496393349802922\n"
          ]
        }
      ]
    },
    {
      "cell_type": "markdown",
      "source": [
        "## Persamaan Fungsi 13\n",
        "\n",
        "sin(x)sinh(x) + 1, Interval [3,4]"
      ],
      "metadata": {
        "id": "UnzrB9G88Fu1"
      }
    },
    {
      "cell_type": "code",
      "source": [
        "def f(x) :\n",
        "  return math.sin(x)*math.sinh(x) + 1"
      ],
      "metadata": {
        "id": "vMczOY4u_cH0"
      },
      "execution_count": null,
      "outputs": []
    },
    {
      "cell_type": "code",
      "source": [
        "\n",
        "def hybrid_triFalse(a, b, eps, max_iter = 1000):\n",
        "    n = 0\n",
        "    a1 = a\n",
        "    a2 = a\n",
        "    b1 = b\n",
        "    b2 = b\n",
        "    fa = f(a)\n",
        "\n",
        "    while n < max_iter:\n",
        "        n += 1\n",
        "        xT1 = (b + 2 * a) / 3\n",
        "        xT2 = (2 * b + a) / 3\n",
        "        xF = a - (f(a) * (b - a)) / (f(b) - f(a))\n",
        "        print(f\"iterasi {n+1}: Lower Bound = {a}, Upper Bound = {b}\")\n",
        "\n",
        "        x = xT1\n",
        "        fx = f(xT1)\n",
        "\n",
        "        if abs(f(xT2)) < abs(fx):\n",
        "            x = xT2\n",
        "            fx = f(xT2)\n",
        "\n",
        "        if abs(f(xF)) < abs(fx):\n",
        "            x = xF\n",
        "            fx = f(xF)\n",
        "\n",
        "        if abs(fx) <= eps:\n",
        "            return x, n, a, b\n",
        "\n",
        "        if fa * f(xT1) < 0:\n",
        "            b1 = xT1\n",
        "        elif f(xT1) * f(xT2) < 0:\n",
        "            a1 = xT1\n",
        "            b1 = xT2\n",
        "        else:\n",
        "            a1 = xT2\n",
        "\n",
        "        if fa * f(xF) < 0:\n",
        "            b2 = xF\n",
        "        else:\n",
        "            a2 = xF\n",
        "\n",
        "        a = max(a1, a2)\n",
        "        b = min(b1, b2)\n",
        "\n",
        "# Contoh penggunaan\n",
        "a = 3  # Batas bawah\n",
        "b = 4  # Batas atas\n",
        "eps = 1e-14  # Toleransi\n",
        "\n",
        "start_time = time.time()\n",
        "root, iterations, a_final, b_final = hybrid_triFalse(a, b, eps)\n",
        "end_time = time.time()\n",
        "\n",
        "\n",
        "# Hitung Average CPU Time\n",
        "cpu_time = end_time - start_time\n",
        "print(\"=====================================================================================\")\n",
        "print(\"Average CPU Time:\", cpu_time, \"seconds\")\n",
        "print(\"=====================================\")\n",
        "\n",
        "if root is not None:\n",
        "    print(f\"Akar yang ditemukan: {root}\")\n",
        "\n",
        "    print(f\"Jumlah iterasi: {iterations}\")\n",
        "    print(f\"Batas akhir a: {a_final}, b: {b_final}\")\n",
        "else:\n",
        "    print(\"Tidak ditemukan akar dalam batas iterasi yang diberikan.\")\n",
        "\n",
        "#print(f\"Akar ditemukan: {root}, f(root): {f_root}, Iterasi: {iterations}, a: {a_final}, b: {b_final}\")\n",
        "#print (root)"
      ],
      "metadata": {
        "colab": {
          "base_uri": "https://localhost:8080/"
        },
        "id": "xkMkK8M1_fS1",
        "outputId": "52395f18-75b1-42e7-da03-dd76263c76b7"
      },
      "execution_count": null,
      "outputs": [
        {
          "output_type": "stream",
          "name": "stdout",
          "text": [
            "iterasi 2: Lower Bound = 3, Upper Bound = 4\n",
            "iterasi 3: Lower Bound = 3.1093825379343145, Upper Bound = 3.3333333333333335\n",
            "iterasi 4: Lower Bound = 3.2099861277032407, Upper Bound = 3.258683068200327\n",
            "iterasi 5: Lower Bound = 3.221195106007267, Upper Bound = 3.226218441202269\n",
            "iterasi 6: Lower Bound = 3.2215867127579667, Upper Bound = 3.222869551072268\n",
            "iterasi 7: Lower Bound = 3.2215883970895285, Upper Bound = 3.2220143255294005\n",
            "iterasi 8: Lower Bound = 3.2215883990931498, Upper Bound = 3.221730373236152\n",
            "=====================================================================================\n",
            "Average CPU Time: 0.000560760498046875 seconds\n",
            "=====================================\n",
            "Akar yang ditemukan: 3.221588399093942\n",
            "Jumlah iterasi: 7\n",
            "Batas akhir a: 3.2215883990931498, b: 3.221730373236152\n"
          ]
        }
      ]
    },
    {
      "cell_type": "markdown",
      "source": [
        "## Persamaan Fungsi 14\n",
        "\n",
        "e^x - 3x -2 , Interval [2,3]"
      ],
      "metadata": {
        "id": "a_wV6Phg8NO9"
      }
    },
    {
      "cell_type": "code",
      "source": [
        "def f(x) :\n",
        "  return math.exp(x) - 3*x - 2"
      ],
      "metadata": {
        "id": "Q0NChoq4_jUv"
      },
      "execution_count": null,
      "outputs": []
    },
    {
      "cell_type": "code",
      "source": [
        "\n",
        "def hybrid_triFalse(a, b, eps, max_iter = 1000):\n",
        "    n = 0\n",
        "    a1 = a\n",
        "    a2 = a\n",
        "    b1 = b\n",
        "    b2 = b\n",
        "    fa = f(a)\n",
        "\n",
        "    while n < max_iter:\n",
        "        n += 1\n",
        "        xT1 = (b + 2 * a) / 3\n",
        "        xT2 = (2 * b + a) / 3\n",
        "        xF = a - (f(a) * (b - a)) / (f(b) - f(a))\n",
        "        print(f\"iterasi {n+1}: Lower Bound = {a}, Upper Bound = {b}\")\n",
        "\n",
        "        x = xT1\n",
        "        fx = f(xT1)\n",
        "\n",
        "        if abs(f(xT2)) < abs(fx):\n",
        "            x = xT2\n",
        "            fx = f(xT2)\n",
        "\n",
        "        if abs(f(xF)) < abs(fx):\n",
        "            x = xF\n",
        "            fx = f(xF)\n",
        "\n",
        "        if abs(fx) <= eps:\n",
        "            return x, n, a, b\n",
        "\n",
        "        if fa * f(xT1) < 0:\n",
        "            b1 = xT1\n",
        "        elif f(xT1) * f(xT2) < 0:\n",
        "            a1 = xT1\n",
        "            b1 = xT2\n",
        "        else:\n",
        "            a1 = xT2\n",
        "\n",
        "        if fa * f(xF) < 0:\n",
        "            b2 = xF\n",
        "        else:\n",
        "            a2 = xF\n",
        "\n",
        "        a = max(a1, a2)\n",
        "        b = min(b1, b2)\n",
        "\n",
        "# Contoh penggunaan\n",
        "a = 2  # Batas bawah\n",
        "b = 3  # Batas atas\n",
        "eps = 1e-6  # Toleransi\n",
        "\n",
        "start_time = time.time()\n",
        "root, iterations, a_final, b_final = hybrid_triFalse(a, b, eps)\n",
        "end_time = time.time()\n",
        "\n",
        "\n",
        "# Hitung Average CPU Time\n",
        "cpu_time = end_time - start_time\n",
        "print(\"=====================================================================================\")\n",
        "print(\"Average CPU Time:\", cpu_time, \"seconds\")\n",
        "print(\"=====================================\")\n",
        "\n",
        "if root is not None:\n",
        "    print(f\"Akar yang ditemukan: {root}\")\n",
        "\n",
        "    print(f\"Jumlah iterasi: {iterations}\")\n",
        "    print(f\"Batas akhir a: {a_final}, b: {b_final}\")\n",
        "else:\n",
        "    print(\"Tidak ditemukan akar dalam batas iterasi yang diberikan.\")\n",
        "\n",
        "#print(f\"Akar ditemukan: {root}, f(root): {f_root}, Iterasi: {iterations}, a: {a_final}, b: {b_final}\")\n",
        "#print (root)"
      ],
      "metadata": {
        "colab": {
          "base_uri": "https://localhost:8080/"
        },
        "id": "6qbiK3NQ_miC",
        "outputId": "71693ea1-9bc8-412d-eb4b-4e0cff8b1b76"
      },
      "execution_count": null,
      "outputs": [
        {
          "output_type": "stream",
          "name": "stdout",
          "text": [
            "iterasi 2: Lower Bound = 2, Upper Bound = 3\n",
            "iterasi 3: Lower Bound = 2.063006766283804, Upper Bound = 2.3333333333333335\n",
            "iterasi 4: Lower Bound = 2.115926860068561, Upper Bound = 2.1531156219669807\n",
            "iterasi 5: Lower Bound = 2.125188453302941, Upper Bound = 2.1283231140347008\n",
            "iterasi 6: Lower Bound = 2.125390736305543, Upper Bound = 2.1262333402135276\n",
            "=====================================================================================\n",
            "Average CPU Time: 0.0010671615600585938 seconds\n",
            "=====================================\n",
            "Akar yang ditemukan: 2.1253911985078235\n",
            "Jumlah iterasi: 5\n",
            "Batas akhir a: 2.125390736305543, b: 2.1262333402135276\n"
          ]
        }
      ]
    },
    {
      "cell_type": "markdown",
      "source": [
        "## Persamaan Fungsi 15\n",
        "\n",
        "sin(x) - x^2 , Interval [0.5,1]"
      ],
      "metadata": {
        "id": "er10Yl2C8V-Z"
      }
    },
    {
      "cell_type": "code",
      "source": [
        "def f(x) :\n",
        "  return math.sin(x) - x**2"
      ],
      "metadata": {
        "id": "sKVFhhfC_pS_"
      },
      "execution_count": null,
      "outputs": []
    },
    {
      "cell_type": "code",
      "source": [
        "\n",
        "def hybrid_triFalse(a, b, eps, max_iter = 1000):\n",
        "    n = 0\n",
        "    a1 = a\n",
        "    a2 = a\n",
        "    b1 = b\n",
        "    b2 = b\n",
        "    fa = f(a)\n",
        "\n",
        "    while n < max_iter:\n",
        "        n += 1\n",
        "        xT1 = (b + 2 * a) / 3\n",
        "        xT2 = (2 * b + a) / 3\n",
        "        xF = a - (f(a) * (b - a)) / (f(b) - f(a))\n",
        "        print(f\"iterasi {n+1}: Lower Bound = {a}, Upper Bound = {b}\")\n",
        "\n",
        "        x = xT1\n",
        "        fx = f(xT1)\n",
        "\n",
        "        if abs(f(xT2)) < abs(fx):\n",
        "            x = xT2\n",
        "            fx = f(xT2)\n",
        "\n",
        "        if abs(f(xF)) < abs(fx):\n",
        "            x = xF\n",
        "            fx = f(xF)\n",
        "\n",
        "        if abs(fx) <= eps:\n",
        "            return x, n, a, b\n",
        "\n",
        "        if fa * f(xT1) < 0:\n",
        "            b1 = xT1\n",
        "        elif f(xT1) * f(xT2) < 0:\n",
        "            a1 = xT1\n",
        "            b1 = xT2\n",
        "        else:\n",
        "            a1 = xT2\n",
        "\n",
        "        if fa * f(xF) < 0:\n",
        "            b2 = xF\n",
        "        else:\n",
        "            a2 = xF\n",
        "\n",
        "        a = max(a1, a2)\n",
        "        b = min(b1, b2)\n",
        "\n",
        "# Contoh penggunaan\n",
        "a = 0.5  # Batas bawah\n",
        "b = 1  # Batas atas\n",
        "eps = 1e-6  # Toleransi\n",
        "\n",
        "start_time = time.time()\n",
        "root, iterations, a_final, b_final = hybrid_triFalse(a, b, eps)\n",
        "end_time = time.time()\n",
        "\n",
        "\n",
        "# Hitung Average CPU Time\n",
        "cpu_time = end_time - start_time\n",
        "print(\"=====================================================================================\")\n",
        "print(\"Average CPU Time:\", cpu_time, \"seconds\")\n",
        "print(\"=====================================\")\n",
        "\n",
        "if root is not None:\n",
        "    print(f\"Akar yang ditemukan: {root}\")\n",
        "\n",
        "    print(f\"Jumlah iterasi: {iterations}\")\n",
        "    print(f\"Batas akhir a: {a_final}, b: {b_final}\")\n",
        "else:\n",
        "    print(\"Tidak ditemukan akar dalam batas iterasi yang diberikan.\")\n",
        "\n",
        "#print(f\"Akar ditemukan: {root}, f(root): {f_root}, Iterasi: {iterations}, a: {a_final}, b: {b_final}\")\n",
        "#print (root)"
      ],
      "metadata": {
        "colab": {
          "base_uri": "https://localhost:8080/"
        },
        "id": "YaLbMEHt_ruA",
        "outputId": "ab5aa392-cfc8-439b-feca-b67e23c106a1"
      },
      "execution_count": null,
      "outputs": [
        {
          "output_type": "stream",
          "name": "stdout",
          "text": [
            "iterasi 2: Lower Bound = 0.5, Upper Bound = 1\n",
            "iterasi 3: Lower Bound = 0.8333333333333334, Upper Bound = 1\n",
            "iterasi 4: Lower Bound = 0.8706485932493047, Upper Bound = 0.888888888888889\n",
            "iterasi 5: Lower Bound = 0.8766349878131994, Upper Bound = 0.8767286917958327\n",
            "=====================================================================================\n",
            "Average CPU Time: 0.0028848648071289062 seconds\n",
            "=====================================\n",
            "Akar yang ditemukan: 0.8767262151142412\n",
            "Jumlah iterasi: 4\n",
            "Batas akhir a: 0.8766349878131994, b: 0.8767286917958327\n"
          ]
        }
      ]
    }
  ]
}