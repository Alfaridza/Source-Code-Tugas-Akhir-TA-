{
  "nbformat": 4,
  "nbformat_minor": 0,
  "metadata": {
    "colab": {
      "provenance": [],
      "authorship_tag": "ABX9TyN95qgrKetXx/rG09LKFX1s",
      "include_colab_link": true
    },
    "kernelspec": {
      "name": "python3",
      "display_name": "Python 3"
    },
    "language_info": {
      "name": "python"
    }
  },
  "cells": [
    {
      "cell_type": "markdown",
      "metadata": {
        "id": "view-in-github",
        "colab_type": "text"
      },
      "source": [
        "<a href=\"https://colab.research.google.com/github/Alfaridza/Source-Code-Tugas-Akhir-TA-/blob/main/Metode_Bisection.ipynb\" target=\"_parent\"><img src=\"https://colab.research.google.com/assets/colab-badge.svg\" alt=\"Open In Colab\"/></a>"
      ]
    },
    {
      "cell_type": "markdown",
      "source": [
        "##Problem 1\n",
        "\n",
        "x^2 - 3, interval [1,2]"
      ],
      "metadata": {
        "id": "j7R4QKc2swUB"
      }
    },
    {
      "cell_type": "code",
      "source": [
        "\n",
        "def find_root(a, b, eps):\n",
        "    n = 0\n",
        "\n",
        "    while True:\n",
        "        n += 1\n",
        "        x = (a + b) / 2  # Hitung titik tengah\n",
        "        print(f\"Iterasi {n}: Lower Bound = {a}, Upper Bound = {b}, Approximate Root = {x}\")\n",
        "        root_list.append(x)\n",
        "\n",
        "        if abs(f(x)) <= eps:  # Cek apakah f(x) cukup dekat dengan nol\n",
        "            return x, f(x), n, a, b\n",
        "\n",
        "        if f(a) * f(x) < 0:  # Jika akar berada di interval [a, x]\n",
        "            b = x  # Perbarui batas atas\n",
        "        else:  # Jika akar berada di interval [x, b]\n",
        "            a = x  # Perbarui batas bawah\n",
        "\n",
        "# Contoh penggunaan\n",
        "a = 1  # Batas bawah\n",
        "b = 2  # Batas atas\n",
        "eps = 1e-14  # Toleransi\n",
        "\n",
        "root, f_root, iterations, a_final, b_final = find_root(a, b, eps)\n",
        "print(f\"Akar ditemukan: {root}, f(root): {f_root}, Iterasi: {iterations}, a: {a_final}, b: {b_final}\")"
      ],
      "metadata": {
        "colab": {
          "base_uri": "https://localhost:8080/"
        },
        "id": "BCyiaxHN_aOY",
        "outputId": "594da3ca-be87-4f54-ff85-bc760f46ac49"
      },
      "execution_count": null,
      "outputs": [
        {
          "output_type": "stream",
          "name": "stdout",
          "text": [
            "Iterasi 1: Lower Bound = 1, Upper Bound = 2, Approximate Root = 1.5\n",
            "Iterasi 2: Lower Bound = 1.5, Upper Bound = 2, Approximate Root = 1.75\n",
            "Iterasi 3: Lower Bound = 1.75, Upper Bound = 2, Approximate Root = 1.875\n",
            "Iterasi 4: Lower Bound = 1.875, Upper Bound = 2, Approximate Root = 1.9375\n",
            "Iterasi 5: Lower Bound = 1.9375, Upper Bound = 2, Approximate Root = 1.96875\n",
            "Iterasi 6: Lower Bound = 1.96875, Upper Bound = 2, Approximate Root = 1.984375\n",
            "Iterasi 7: Lower Bound = 1.984375, Upper Bound = 2, Approximate Root = 1.9921875\n",
            "Iterasi 8: Lower Bound = 1.9921875, Upper Bound = 2, Approximate Root = 1.99609375\n",
            "Iterasi 9: Lower Bound = 1.99609375, Upper Bound = 2, Approximate Root = 1.998046875\n",
            "Iterasi 10: Lower Bound = 1.998046875, Upper Bound = 2, Approximate Root = 1.9990234375\n",
            "Iterasi 11: Lower Bound = 1.9990234375, Upper Bound = 2, Approximate Root = 1.99951171875\n",
            "Iterasi 12: Lower Bound = 1.99951171875, Upper Bound = 2, Approximate Root = 1.999755859375\n",
            "Iterasi 13: Lower Bound = 1.999755859375, Upper Bound = 2, Approximate Root = 1.9998779296875\n",
            "Iterasi 14: Lower Bound = 1.9998779296875, Upper Bound = 2, Approximate Root = 1.99993896484375\n",
            "Iterasi 15: Lower Bound = 1.99993896484375, Upper Bound = 2, Approximate Root = 1.999969482421875\n",
            "Iterasi 16: Lower Bound = 1.999969482421875, Upper Bound = 2, Approximate Root = 1.9999847412109375\n",
            "Iterasi 17: Lower Bound = 1.9999847412109375, Upper Bound = 2, Approximate Root = 1.9999923706054688\n",
            "Iterasi 18: Lower Bound = 1.9999923706054688, Upper Bound = 2, Approximate Root = 1.9999961853027344\n",
            "Iterasi 19: Lower Bound = 1.9999961853027344, Upper Bound = 2, Approximate Root = 1.9999980926513672\n",
            "Iterasi 20: Lower Bound = 1.9999980926513672, Upper Bound = 2, Approximate Root = 1.9999990463256836\n",
            "Iterasi 21: Lower Bound = 1.9999990463256836, Upper Bound = 2, Approximate Root = 1.9999995231628418\n",
            "Iterasi 22: Lower Bound = 1.9999995231628418, Upper Bound = 2, Approximate Root = 1.999999761581421\n",
            "Iterasi 23: Lower Bound = 1.999999761581421, Upper Bound = 2, Approximate Root = 1.9999998807907104\n",
            "Iterasi 24: Lower Bound = 1.9999998807907104, Upper Bound = 2, Approximate Root = 1.9999999403953552\n",
            "Iterasi 25: Lower Bound = 1.9999999403953552, Upper Bound = 2, Approximate Root = 1.9999999701976776\n",
            "Iterasi 26: Lower Bound = 1.9999999701976776, Upper Bound = 2, Approximate Root = 1.9999999850988388\n",
            "Iterasi 27: Lower Bound = 1.9999999850988388, Upper Bound = 2, Approximate Root = 1.9999999925494194\n",
            "Iterasi 28: Lower Bound = 1.9999999925494194, Upper Bound = 2, Approximate Root = 1.9999999962747097\n",
            "Iterasi 29: Lower Bound = 1.9999999962747097, Upper Bound = 2, Approximate Root = 1.9999999981373549\n",
            "Iterasi 30: Lower Bound = 1.9999999981373549, Upper Bound = 2, Approximate Root = 1.9999999990686774\n",
            "Iterasi 31: Lower Bound = 1.9999999990686774, Upper Bound = 2, Approximate Root = 1.9999999995343387\n",
            "Iterasi 32: Lower Bound = 1.9999999995343387, Upper Bound = 2, Approximate Root = 1.9999999997671694\n",
            "Iterasi 33: Lower Bound = 1.9999999997671694, Upper Bound = 2, Approximate Root = 1.9999999998835847\n",
            "Iterasi 34: Lower Bound = 1.9999999998835847, Upper Bound = 2, Approximate Root = 1.9999999999417923\n",
            "Iterasi 35: Lower Bound = 1.9999999999417923, Upper Bound = 2, Approximate Root = 1.9999999999708962\n",
            "Iterasi 36: Lower Bound = 1.9999999999708962, Upper Bound = 2, Approximate Root = 1.999999999985448\n",
            "Iterasi 37: Lower Bound = 1.999999999985448, Upper Bound = 2, Approximate Root = 1.999999999992724\n",
            "Iterasi 38: Lower Bound = 1.999999999992724, Upper Bound = 2, Approximate Root = 1.999999999996362\n",
            "Iterasi 39: Lower Bound = 1.999999999996362, Upper Bound = 2, Approximate Root = 1.999999999998181\n",
            "Iterasi 40: Lower Bound = 1.999999999998181, Upper Bound = 2, Approximate Root = 1.9999999999990905\n",
            "Iterasi 41: Lower Bound = 1.9999999999990905, Upper Bound = 2, Approximate Root = 1.9999999999995453\n",
            "Iterasi 42: Lower Bound = 1.9999999999995453, Upper Bound = 2, Approximate Root = 1.9999999999997726\n",
            "Iterasi 43: Lower Bound = 1.9999999999997726, Upper Bound = 2, Approximate Root = 1.9999999999998863\n",
            "Iterasi 44: Lower Bound = 1.9999999999998863, Upper Bound = 2, Approximate Root = 1.9999999999999432\n",
            "Iterasi 45: Lower Bound = 1.9999999999999432, Upper Bound = 2, Approximate Root = 1.9999999999999716\n",
            "Iterasi 46: Lower Bound = 1.9999999999999716, Upper Bound = 2, Approximate Root = 1.9999999999999858\n",
            "Iterasi 47: Lower Bound = 1.9999999999999858, Upper Bound = 2, Approximate Root = 1.999999999999993\n",
            "Iterasi 48: Lower Bound = 1.999999999999993, Upper Bound = 2, Approximate Root = 1.9999999999999964\n",
            "Iterasi 49: Lower Bound = 1.9999999999999964, Upper Bound = 2, Approximate Root = 1.9999999999999982\n",
            "Akar ditemukan: 1.9999999999999982, f(root): -5.329070518200751e-15, Iterasi: 49, a: 1.9999999999999964, b: 2\n"
          ]
        }
      ]
    },
    {
      "cell_type": "code",
      "source": [
        "import numpy as np\n",
        "#import matplotlib.pyplot as plt\n",
        "import time\n",
        "import math\n",
        "\n",
        "def f(x):\n",
        "    return x**2 - 3"
      ],
      "metadata": {
        "id": "6hYSXR25tHrl"
      },
      "execution_count": null,
      "outputs": []
    },
    {
      "cell_type": "code",
      "source": [
        "# Mulai pengukuran waktu\n",
        "start_time = time.time()\n",
        "\n",
        "# Implementation of the bisection method\n",
        "def bisection(f, a, b, tol, max_iter):\n",
        "    if f(a) * f(b) >= 0: #Added 4 spaces of indentation\n",
        "        raise ValueError(\"There are no roots in this interval.\") #Added 4 spaces of indentation\n",
        "    iteration = 0\n",
        "    root_list = []\n",
        "    while (b - a) / 2.0 > tol and iteration < max_iter:\n",
        "        c = (a + b) / 2.0\n",
        "        print(f\"Iterasi {iteration+1}: Lower Bound = {a}, Upper Bound = {b}\")\n",
        "        root_list.append(c)\n",
        "        if f(c) == 0:\n",
        "            return c # Root found\n",
        "        elif f(c) * f(a) < 0:\n",
        "            b = c\n",
        "        else :\n",
        "            a = c\n",
        "        iteration += 1\n",
        "    return (a + b) / 2.0, root_list, iteration\n",
        "\n",
        "\n",
        "end_time = time.time()\n",
        "root, root_list,iteration_list = bisection(f, 1, 2, 1e-14, 100)\n",
        "\n",
        "\n",
        "\n",
        "\n",
        "\n",
        "# Call the bisection function to define root and root_list\n",
        "print(\"\\n=== ==============================================\")\n",
        "print( \"Found root:\", root)\n",
        "print(\"Jumlah Iterasi : \",iteration_list)\n",
        "# Hitung Average CPU Time\n",
        "cpu_time = end_time - start_time\n",
        "print(\"Average CPU Time:\", cpu_time, \"seconds\")\n"
      ],
      "metadata": {
        "colab": {
          "base_uri": "https://localhost:8080/"
        },
        "id": "8AJRqZsntTIO",
        "outputId": "6cf6dd50-ec8a-48ee-86ed-db1fbf161819"
      },
      "execution_count": null,
      "outputs": [
        {
          "output_type": "stream",
          "name": "stdout",
          "text": [
            "Iterasi 1: Lower Bound = 1, Upper Bound = 2\n",
            "Iterasi 2: Lower Bound = 1.5, Upper Bound = 2\n",
            "Iterasi 3: Lower Bound = 1.5, Upper Bound = 1.75\n",
            "Iterasi 4: Lower Bound = 1.625, Upper Bound = 1.75\n",
            "Iterasi 5: Lower Bound = 1.6875, Upper Bound = 1.75\n",
            "Iterasi 6: Lower Bound = 1.71875, Upper Bound = 1.75\n",
            "Iterasi 7: Lower Bound = 1.71875, Upper Bound = 1.734375\n",
            "Iterasi 8: Lower Bound = 1.7265625, Upper Bound = 1.734375\n",
            "Iterasi 9: Lower Bound = 1.73046875, Upper Bound = 1.734375\n",
            "Iterasi 10: Lower Bound = 1.73046875, Upper Bound = 1.732421875\n",
            "Iterasi 11: Lower Bound = 1.7314453125, Upper Bound = 1.732421875\n",
            "Iterasi 12: Lower Bound = 1.73193359375, Upper Bound = 1.732421875\n",
            "Iterasi 13: Lower Bound = 1.73193359375, Upper Bound = 1.732177734375\n",
            "Iterasi 14: Lower Bound = 1.73193359375, Upper Bound = 1.7320556640625\n",
            "Iterasi 15: Lower Bound = 1.73199462890625, Upper Bound = 1.7320556640625\n",
            "Iterasi 16: Lower Bound = 1.732025146484375, Upper Bound = 1.7320556640625\n",
            "Iterasi 17: Lower Bound = 1.7320404052734375, Upper Bound = 1.7320556640625\n",
            "Iterasi 18: Lower Bound = 1.7320480346679688, Upper Bound = 1.7320556640625\n",
            "Iterasi 19: Lower Bound = 1.7320480346679688, Upper Bound = 1.7320518493652344\n",
            "Iterasi 20: Lower Bound = 1.7320499420166016, Upper Bound = 1.7320518493652344\n",
            "Iterasi 21: Lower Bound = 1.7320499420166016, Upper Bound = 1.732050895690918\n",
            "Iterasi 22: Lower Bound = 1.7320504188537598, Upper Bound = 1.732050895690918\n",
            "Iterasi 23: Lower Bound = 1.7320506572723389, Upper Bound = 1.732050895690918\n",
            "Iterasi 24: Lower Bound = 1.7320507764816284, Upper Bound = 1.732050895690918\n",
            "Iterasi 25: Lower Bound = 1.7320507764816284, Upper Bound = 1.7320508360862732\n",
            "Iterasi 26: Lower Bound = 1.7320508062839508, Upper Bound = 1.7320508360862732\n",
            "Iterasi 27: Lower Bound = 1.7320508062839508, Upper Bound = 1.732050821185112\n",
            "Iterasi 28: Lower Bound = 1.7320508062839508, Upper Bound = 1.7320508137345314\n",
            "Iterasi 29: Lower Bound = 1.7320508062839508, Upper Bound = 1.732050810009241\n",
            "Iterasi 30: Lower Bound = 1.7320508062839508, Upper Bound = 1.732050808146596\n",
            "Iterasi 31: Lower Bound = 1.7320508072152734, Upper Bound = 1.732050808146596\n",
            "Iterasi 32: Lower Bound = 1.7320508072152734, Upper Bound = 1.7320508076809347\n",
            "Iterasi 33: Lower Bound = 1.732050807448104, Upper Bound = 1.7320508076809347\n",
            "Iterasi 34: Lower Bound = 1.7320508075645193, Upper Bound = 1.7320508076809347\n",
            "Iterasi 35: Lower Bound = 1.7320508075645193, Upper Bound = 1.732050807622727\n",
            "Iterasi 36: Lower Bound = 1.7320508075645193, Upper Bound = 1.7320508075936232\n",
            "Iterasi 37: Lower Bound = 1.7320508075645193, Upper Bound = 1.7320508075790713\n",
            "Iterasi 38: Lower Bound = 1.7320508075645193, Upper Bound = 1.7320508075717953\n",
            "Iterasi 39: Lower Bound = 1.7320508075681573, Upper Bound = 1.7320508075717953\n",
            "Iterasi 40: Lower Bound = 1.7320508075681573, Upper Bound = 1.7320508075699763\n",
            "Iterasi 41: Lower Bound = 1.7320508075681573, Upper Bound = 1.7320508075690668\n",
            "Iterasi 42: Lower Bound = 1.732050807568612, Upper Bound = 1.7320508075690668\n",
            "Iterasi 43: Lower Bound = 1.7320508075688394, Upper Bound = 1.7320508075690668\n",
            "Iterasi 44: Lower Bound = 1.7320508075688394, Upper Bound = 1.7320508075689531\n",
            "Iterasi 45: Lower Bound = 1.7320508075688394, Upper Bound = 1.7320508075688963\n",
            "Iterasi 46: Lower Bound = 1.7320508075688679, Upper Bound = 1.7320508075688963\n",
            "\n",
            "=== ==============================================\n",
            "Found root: 1.732050807568875\n",
            "Jumlah Iterasi :  46\n",
            "Average CPU Time: 0.00509333610534668 seconds\n"
          ]
        }
      ]
    },
    {
      "cell_type": "markdown",
      "source": [
        "## Problem 2\n",
        "\n",
        "x^ - 5 , Interval [2,7]"
      ],
      "metadata": {
        "id": "1HzRnwisu0v-"
      }
    },
    {
      "cell_type": "code",
      "source": [
        "def f(x):\n",
        "  return x**2 - 5"
      ],
      "metadata": {
        "id": "-JwUQl2Ou9ch"
      },
      "execution_count": null,
      "outputs": []
    },
    {
      "cell_type": "code",
      "source": [
        "# Mulai pengukuran waktu\n",
        "start_time = time.time()\n",
        "\n",
        "# Implementation of the bisection method\n",
        "def bisection(f, a, b, tol, max_iter):\n",
        "    if f(a) * f(b) >= 0: #Added 4 spaces of indentation\n",
        "        raise ValueError(\"There are no roots in this interval.\") #Added 4 spaces of indentation\n",
        "    iteration = 0\n",
        "    root_list = []\n",
        "    while (b - a) / 2.0 > tol and iteration < max_iter:\n",
        "        c = (a + b) / 2.0\n",
        "        print(f\"Iterasi {iteration+1}: Lower Bound = {a}, Upper Bound = {b}\")\n",
        "        root_list.append(c)\n",
        "        if f(c) == 0:\n",
        "            return c # Root found\n",
        "        elif f(c) * f(a) < 0:\n",
        "            b = c\n",
        "        else :\n",
        "            a = c\n",
        "        iteration += 1\n",
        "    return (a + b) / 2.0, root_list, iteration\n",
        "\n",
        "\n",
        "end_time = time.time()\n",
        "root,  root_list,iteration_list = bisection(f, 2, 7, 1e-14, 100)\n",
        "\n",
        "\n",
        "\n",
        "\n",
        "\n",
        "# Call the bisection function to define root and root_list\n",
        "print(\"\\n=== ==============================================\")\n",
        "print( \"Found root:\", root)\n",
        "print(\"Jumlah Iterasi : \",iteration_list)\n",
        "# Hitung Average CPU Time\n",
        "cpu_time = end_time - start_time\n",
        "print(\"Average CPU Time:\", cpu_time, \"seconds\")\n"
      ],
      "metadata": {
        "colab": {
          "base_uri": "https://localhost:8080/"
        },
        "id": "wUmwjzPBvHKI",
        "outputId": "4ad7d945-0991-49af-874f-4edc2d7b3880"
      },
      "execution_count": null,
      "outputs": [
        {
          "output_type": "stream",
          "name": "stdout",
          "text": [
            "Iterasi 1: Lower Bound = 2, Upper Bound = 7\n",
            "Iterasi 2: Lower Bound = 2, Upper Bound = 4.5\n",
            "Iterasi 3: Lower Bound = 2, Upper Bound = 3.25\n",
            "Iterasi 4: Lower Bound = 2, Upper Bound = 2.625\n",
            "Iterasi 5: Lower Bound = 2, Upper Bound = 2.3125\n",
            "Iterasi 6: Lower Bound = 2.15625, Upper Bound = 2.3125\n",
            "Iterasi 7: Lower Bound = 2.234375, Upper Bound = 2.3125\n",
            "Iterasi 8: Lower Bound = 2.234375, Upper Bound = 2.2734375\n",
            "Iterasi 9: Lower Bound = 2.234375, Upper Bound = 2.25390625\n",
            "Iterasi 10: Lower Bound = 2.234375, Upper Bound = 2.244140625\n",
            "Iterasi 11: Lower Bound = 2.234375, Upper Bound = 2.2392578125\n",
            "Iterasi 12: Lower Bound = 2.234375, Upper Bound = 2.23681640625\n",
            "Iterasi 13: Lower Bound = 2.235595703125, Upper Bound = 2.23681640625\n",
            "Iterasi 14: Lower Bound = 2.235595703125, Upper Bound = 2.2362060546875\n",
            "Iterasi 15: Lower Bound = 2.23590087890625, Upper Bound = 2.2362060546875\n",
            "Iterasi 16: Lower Bound = 2.236053466796875, Upper Bound = 2.2362060546875\n",
            "Iterasi 17: Lower Bound = 2.236053466796875, Upper Bound = 2.2361297607421875\n",
            "Iterasi 18: Lower Bound = 2.236053466796875, Upper Bound = 2.2360916137695312\n",
            "Iterasi 19: Lower Bound = 2.236053466796875, Upper Bound = 2.236072540283203\n",
            "Iterasi 20: Lower Bound = 2.236063003540039, Upper Bound = 2.236072540283203\n",
            "Iterasi 21: Lower Bound = 2.236067771911621, Upper Bound = 2.236072540283203\n",
            "Iterasi 22: Lower Bound = 2.236067771911621, Upper Bound = 2.236070156097412\n",
            "Iterasi 23: Lower Bound = 2.236067771911621, Upper Bound = 2.2360689640045166\n",
            "Iterasi 24: Lower Bound = 2.236067771911621, Upper Bound = 2.236068367958069\n",
            "Iterasi 25: Lower Bound = 2.236067771911621, Upper Bound = 2.236068069934845\n",
            "Iterasi 26: Lower Bound = 2.236067920923233, Upper Bound = 2.236068069934845\n",
            "Iterasi 27: Lower Bound = 2.236067920923233, Upper Bound = 2.236067995429039\n",
            "Iterasi 28: Lower Bound = 2.236067958176136, Upper Bound = 2.236067995429039\n",
            "Iterasi 29: Lower Bound = 2.2360679768025875, Upper Bound = 2.236067995429039\n",
            "Iterasi 30: Lower Bound = 2.2360679768025875, Upper Bound = 2.2360679861158133\n",
            "Iterasi 31: Lower Bound = 2.2360679768025875, Upper Bound = 2.2360679814592004\n",
            "Iterasi 32: Lower Bound = 2.2360679768025875, Upper Bound = 2.236067979130894\n",
            "Iterasi 33: Lower Bound = 2.2360679768025875, Upper Bound = 2.2360679779667407\n",
            "Iterasi 34: Lower Bound = 2.236067977384664, Upper Bound = 2.2360679779667407\n",
            "Iterasi 35: Lower Bound = 2.236067977384664, Upper Bound = 2.2360679776757024\n",
            "Iterasi 36: Lower Bound = 2.236067977384664, Upper Bound = 2.2360679775301833\n",
            "Iterasi 37: Lower Bound = 2.2360679774574237, Upper Bound = 2.2360679775301833\n",
            "Iterasi 38: Lower Bound = 2.2360679774938035, Upper Bound = 2.2360679775301833\n",
            "Iterasi 39: Lower Bound = 2.2360679774938035, Upper Bound = 2.2360679775119934\n",
            "Iterasi 40: Lower Bound = 2.2360679774938035, Upper Bound = 2.2360679775028984\n",
            "Iterasi 41: Lower Bound = 2.236067977498351, Upper Bound = 2.2360679775028984\n",
            "Iterasi 42: Lower Bound = 2.236067977498351, Upper Bound = 2.2360679775006247\n",
            "Iterasi 43: Lower Bound = 2.236067977499488, Upper Bound = 2.2360679775006247\n",
            "Iterasi 44: Lower Bound = 2.236067977499488, Upper Bound = 2.2360679775000563\n",
            "Iterasi 45: Lower Bound = 2.236067977499772, Upper Bound = 2.2360679775000563\n",
            "Iterasi 46: Lower Bound = 2.236067977499772, Upper Bound = 2.236067977499914\n",
            "Iterasi 47: Lower Bound = 2.236067977499772, Upper Bound = 2.236067977499843\n",
            "Iterasi 48: Lower Bound = 2.236067977499772, Upper Bound = 2.2360679774998076\n",
            "\n",
            "=== ==============================================\n",
            "Found root: 2.236067977499781\n",
            "Jumlah Iterasi :  48\n",
            "Average CPU Time: 0.00039839744567871094 seconds\n"
          ]
        }
      ]
    },
    {
      "cell_type": "markdown",
      "source": [
        "## Problem 3\n",
        "\n",
        "x^2 - 10 , Interval [3,4]"
      ],
      "metadata": {
        "id": "UC0rOnbxvX7j"
      }
    },
    {
      "cell_type": "code",
      "source": [
        "def f(x) :\n",
        "  return x**2 - 10"
      ],
      "metadata": {
        "id": "UBrGxN9hvNxh"
      },
      "execution_count": null,
      "outputs": []
    },
    {
      "cell_type": "code",
      "source": [
        "# Mulai pengukuran waktu\n",
        "start_time = time.time()\n",
        "\n",
        "# Implementation of the bisection method\n",
        "def bisection(f, a, b, tol, max_iter):\n",
        "    if f(a) * f(b) >= 0: #Added 4 spaces of indentation\n",
        "        raise ValueError(\"There are no roots in this interval.\") #Added 4 spaces of indentation\n",
        "    iteration = 0\n",
        "    root_list = []\n",
        "    while (b - a) / 2.0 > tol and iteration < max_iter:\n",
        "        c = (a + b) / 2.0\n",
        "        print(f\"Iterasi {iteration+1}: Lower Bound = {a}, Upper Bound = {b}\")\n",
        "        root_list.append(c)\n",
        "        if f(c) == 0:\n",
        "            return c # Root found\n",
        "        elif f(c) * f(a) < 0:\n",
        "            b = c\n",
        "        else :\n",
        "            a = c\n",
        "        iteration += 1\n",
        "    return (a + b) / 2.0, root_list, iteration\n",
        "\n",
        "\n",
        "end_time = time.time()\n",
        "root,  root_list,iteration_list = bisection(f, 3, 4, 1e-14, 100)\n",
        "\n",
        "\n",
        "\n",
        "\n",
        "\n",
        "# Call the bisection function to define root and root_list\n",
        "print(\"\\n=== ==============================================\")\n",
        "print( \"Found root:\", root)\n",
        "print(\"Jumlah Iterasi : \",iteration_list)\n",
        "# Hitung Average CPU Time\n",
        "cpu_time = end_time - start_time\n",
        "print(\"Average CPU Time:\", cpu_time, \"seconds\")\n"
      ],
      "metadata": {
        "colab": {
          "base_uri": "https://localhost:8080/"
        },
        "id": "8_tVwUMzvrDm",
        "outputId": "bae9e840-3e97-46be-d051-295b0b22d640"
      },
      "execution_count": null,
      "outputs": [
        {
          "output_type": "stream",
          "name": "stdout",
          "text": [
            "Iterasi 1: Lower Bound = 3, Upper Bound = 4\n",
            "Iterasi 2: Lower Bound = 3, Upper Bound = 3.5\n",
            "Iterasi 3: Lower Bound = 3, Upper Bound = 3.25\n",
            "Iterasi 4: Lower Bound = 3.125, Upper Bound = 3.25\n",
            "Iterasi 5: Lower Bound = 3.125, Upper Bound = 3.1875\n",
            "Iterasi 6: Lower Bound = 3.15625, Upper Bound = 3.1875\n",
            "Iterasi 7: Lower Bound = 3.15625, Upper Bound = 3.171875\n",
            "Iterasi 8: Lower Bound = 3.15625, Upper Bound = 3.1640625\n",
            "Iterasi 9: Lower Bound = 3.16015625, Upper Bound = 3.1640625\n",
            "Iterasi 10: Lower Bound = 3.162109375, Upper Bound = 3.1640625\n",
            "Iterasi 11: Lower Bound = 3.162109375, Upper Bound = 3.1630859375\n",
            "Iterasi 12: Lower Bound = 3.162109375, Upper Bound = 3.16259765625\n",
            "Iterasi 13: Lower Bound = 3.162109375, Upper Bound = 3.162353515625\n",
            "Iterasi 14: Lower Bound = 3.1622314453125, Upper Bound = 3.162353515625\n",
            "Iterasi 15: Lower Bound = 3.1622314453125, Upper Bound = 3.16229248046875\n",
            "Iterasi 16: Lower Bound = 3.162261962890625, Upper Bound = 3.16229248046875\n",
            "Iterasi 17: Lower Bound = 3.1622772216796875, Upper Bound = 3.16229248046875\n",
            "Iterasi 18: Lower Bound = 3.1622772216796875, Upper Bound = 3.1622848510742188\n",
            "Iterasi 19: Lower Bound = 3.1622772216796875, Upper Bound = 3.162281036376953\n",
            "Iterasi 20: Lower Bound = 3.1622772216796875, Upper Bound = 3.1622791290283203\n",
            "Iterasi 21: Lower Bound = 3.1622772216796875, Upper Bound = 3.162278175354004\n",
            "Iterasi 22: Lower Bound = 3.1622772216796875, Upper Bound = 3.1622776985168457\n",
            "Iterasi 23: Lower Bound = 3.1622774600982666, Upper Bound = 3.1622776985168457\n",
            "Iterasi 24: Lower Bound = 3.162277579307556, Upper Bound = 3.1622776985168457\n",
            "Iterasi 25: Lower Bound = 3.162277638912201, Upper Bound = 3.1622776985168457\n",
            "Iterasi 26: Lower Bound = 3.162277638912201, Upper Bound = 3.1622776687145233\n",
            "Iterasi 27: Lower Bound = 3.162277653813362, Upper Bound = 3.1622776687145233\n",
            "Iterasi 28: Lower Bound = 3.162277653813362, Upper Bound = 3.1622776612639427\n",
            "Iterasi 29: Lower Bound = 3.1622776575386524, Upper Bound = 3.1622776612639427\n",
            "Iterasi 30: Lower Bound = 3.1622776594012976, Upper Bound = 3.1622776612639427\n",
            "Iterasi 31: Lower Bound = 3.1622776594012976, Upper Bound = 3.16227766033262\n",
            "Iterasi 32: Lower Bound = 3.162277659866959, Upper Bound = 3.16227766033262\n",
            "Iterasi 33: Lower Bound = 3.1622776600997895, Upper Bound = 3.16227766033262\n",
            "Iterasi 34: Lower Bound = 3.1622776600997895, Upper Bound = 3.162277660216205\n",
            "Iterasi 35: Lower Bound = 3.162277660157997, Upper Bound = 3.162277660216205\n",
            "Iterasi 36: Lower Bound = 3.162277660157997, Upper Bound = 3.162277660187101\n",
            "Iterasi 37: Lower Bound = 3.162277660157997, Upper Bound = 3.162277660172549\n",
            "Iterasi 38: Lower Bound = 3.162277660165273, Upper Bound = 3.162277660172549\n",
            "Iterasi 39: Lower Bound = 3.162277660165273, Upper Bound = 3.162277660168911\n",
            "Iterasi 40: Lower Bound = 3.162277660167092, Upper Bound = 3.162277660168911\n",
            "Iterasi 41: Lower Bound = 3.1622776601680016, Upper Bound = 3.162277660168911\n",
            "Iterasi 42: Lower Bound = 3.1622776601680016, Upper Bound = 3.1622776601684564\n",
            "Iterasi 43: Lower Bound = 3.162277660168229, Upper Bound = 3.1622776601684564\n",
            "Iterasi 44: Lower Bound = 3.1622776601683427, Upper Bound = 3.1622776601684564\n",
            "Iterasi 45: Lower Bound = 3.1622776601683427, Upper Bound = 3.1622776601683995\n",
            "Iterasi 46: Lower Bound = 3.162277660168371, Upper Bound = 3.1622776601683995\n",
            "\n",
            "=== ==============================================\n",
            "Found root: 3.162277660168378\n",
            "Jumlah Iterasi :  46\n",
            "Average CPU Time: 0.00214385986328125 seconds\n"
          ]
        }
      ]
    },
    {
      "cell_type": "markdown",
      "source": [
        "## Problem 4\n",
        "\n",
        "x^2 - x - 2 , Interval [1,4]\n"
      ],
      "metadata": {
        "id": "ivJ92WUqvvgh"
      }
    },
    {
      "cell_type": "code",
      "source": [
        "def f(x) :\n",
        "  return x**2 - x - 2"
      ],
      "metadata": {
        "id": "2hgvFux2vtPM"
      },
      "execution_count": null,
      "outputs": []
    },
    {
      "cell_type": "code",
      "source": [
        "# Mulai pengukuran waktu\n",
        "start_time = time.time()\n",
        "\n",
        "# Implementation of the bisection method\n",
        "def bisection(f, a, b, tol, max_iter):\n",
        "    if f(a) * f(b) >= 0: #Added 4 spaces of indentation\n",
        "        raise ValueError(\"There are no roots in this interval.\") #Added 4 spaces of indentation\n",
        "    iteration = 0\n",
        "    root_list = []\n",
        "    while (b - a) / 2.0 > tol and iteration < max_iter:\n",
        "        c = (a + b) / 2.0\n",
        "        print(f\"Iterasi {iteration+1}: Lower Bound = {a}, Upper Bound = {b}\")\n",
        "        root_list.append(c)\n",
        "        if f(c) == 0:\n",
        "            return c # Root found\n",
        "        elif f(c) * f(a) < 0:\n",
        "            b = c\n",
        "        else :\n",
        "            a = c\n",
        "        iteration += 1\n",
        "    return (a + b) / 2.0, root_list, iteration\n",
        "\n",
        "\n",
        "end_time = time.time()\n",
        "root,  root_list,iteration_list = bisection(f, 1, 4, 1e-14, 100)\n",
        "\n",
        "\n",
        "\n",
        "\n",
        "\n",
        "# Call the bisection function to define root and root_list\n",
        "print(\"\\n=== ==============================================\")\n",
        "print( \"Found root:\", root)\n",
        "print(\"Jumlah Iterasi : \",iteration_list)\n",
        "# Hitung Average CPU Time\n",
        "cpu_time = end_time - start_time\n",
        "print(\"Average CPU Time:\", cpu_time, \"seconds\")\n"
      ],
      "metadata": {
        "colab": {
          "base_uri": "https://localhost:8080/"
        },
        "id": "etuGSQBPwELq",
        "outputId": "dcdf4c99-c4c4-4196-d156-bad238d415d5"
      },
      "execution_count": null,
      "outputs": [
        {
          "output_type": "stream",
          "name": "stdout",
          "text": [
            "Iterasi 1: Lower Bound = 1, Upper Bound = 4\n",
            "Iterasi 2: Lower Bound = 1, Upper Bound = 2.5\n",
            "Iterasi 3: Lower Bound = 1.75, Upper Bound = 2.5\n",
            "Iterasi 4: Lower Bound = 1.75, Upper Bound = 2.125\n",
            "Iterasi 5: Lower Bound = 1.9375, Upper Bound = 2.125\n",
            "Iterasi 6: Lower Bound = 1.9375, Upper Bound = 2.03125\n",
            "Iterasi 7: Lower Bound = 1.984375, Upper Bound = 2.03125\n",
            "Iterasi 8: Lower Bound = 1.984375, Upper Bound = 2.0078125\n",
            "Iterasi 9: Lower Bound = 1.99609375, Upper Bound = 2.0078125\n",
            "Iterasi 10: Lower Bound = 1.99609375, Upper Bound = 2.001953125\n",
            "Iterasi 11: Lower Bound = 1.9990234375, Upper Bound = 2.001953125\n",
            "Iterasi 12: Lower Bound = 1.9990234375, Upper Bound = 2.00048828125\n",
            "Iterasi 13: Lower Bound = 1.999755859375, Upper Bound = 2.00048828125\n",
            "Iterasi 14: Lower Bound = 1.999755859375, Upper Bound = 2.0001220703125\n",
            "Iterasi 15: Lower Bound = 1.99993896484375, Upper Bound = 2.0001220703125\n",
            "Iterasi 16: Lower Bound = 1.99993896484375, Upper Bound = 2.000030517578125\n",
            "Iterasi 17: Lower Bound = 1.9999847412109375, Upper Bound = 2.000030517578125\n",
            "Iterasi 18: Lower Bound = 1.9999847412109375, Upper Bound = 2.0000076293945312\n",
            "Iterasi 19: Lower Bound = 1.9999961853027344, Upper Bound = 2.0000076293945312\n",
            "Iterasi 20: Lower Bound = 1.9999961853027344, Upper Bound = 2.000001907348633\n",
            "Iterasi 21: Lower Bound = 1.9999990463256836, Upper Bound = 2.000001907348633\n",
            "Iterasi 22: Lower Bound = 1.9999990463256836, Upper Bound = 2.000000476837158\n",
            "Iterasi 23: Lower Bound = 1.999999761581421, Upper Bound = 2.000000476837158\n",
            "Iterasi 24: Lower Bound = 1.999999761581421, Upper Bound = 2.0000001192092896\n",
            "Iterasi 25: Lower Bound = 1.9999999403953552, Upper Bound = 2.0000001192092896\n",
            "Iterasi 26: Lower Bound = 1.9999999403953552, Upper Bound = 2.0000000298023224\n",
            "Iterasi 27: Lower Bound = 1.9999999850988388, Upper Bound = 2.0000000298023224\n",
            "Iterasi 28: Lower Bound = 1.9999999850988388, Upper Bound = 2.0000000074505806\n",
            "Iterasi 29: Lower Bound = 1.9999999962747097, Upper Bound = 2.0000000074505806\n",
            "Iterasi 30: Lower Bound = 1.9999999962747097, Upper Bound = 2.000000001862645\n",
            "Iterasi 31: Lower Bound = 1.9999999990686774, Upper Bound = 2.000000001862645\n",
            "Iterasi 32: Lower Bound = 1.9999999990686774, Upper Bound = 2.0000000004656613\n",
            "Iterasi 33: Lower Bound = 1.9999999997671694, Upper Bound = 2.0000000004656613\n",
            "Iterasi 34: Lower Bound = 1.9999999997671694, Upper Bound = 2.0000000001164153\n",
            "Iterasi 35: Lower Bound = 1.9999999999417923, Upper Bound = 2.0000000001164153\n",
            "Iterasi 36: Lower Bound = 1.9999999999417923, Upper Bound = 2.000000000029104\n",
            "Iterasi 37: Lower Bound = 1.999999999985448, Upper Bound = 2.000000000029104\n",
            "Iterasi 38: Lower Bound = 1.999999999985448, Upper Bound = 2.000000000007276\n",
            "Iterasi 39: Lower Bound = 1.999999999996362, Upper Bound = 2.000000000007276\n",
            "Iterasi 40: Lower Bound = 1.999999999996362, Upper Bound = 2.000000000001819\n",
            "Iterasi 41: Lower Bound = 1.9999999999990905, Upper Bound = 2.000000000001819\n",
            "Iterasi 42: Lower Bound = 1.9999999999990905, Upper Bound = 2.0000000000004547\n",
            "Iterasi 43: Lower Bound = 1.9999999999997726, Upper Bound = 2.0000000000004547\n",
            "Iterasi 44: Lower Bound = 1.9999999999997726, Upper Bound = 2.0000000000001137\n",
            "Iterasi 45: Lower Bound = 1.9999999999999432, Upper Bound = 2.0000000000001137\n",
            "Iterasi 46: Lower Bound = 1.9999999999999432, Upper Bound = 2.0000000000000284\n",
            "Iterasi 47: Lower Bound = 1.9999999999999858, Upper Bound = 2.0000000000000284\n",
            "Iterasi 48: Lower Bound = 1.9999999999999858, Upper Bound = 2.000000000000007\n",
            "\n",
            "=== ==============================================\n",
            "Found root: 2.0000000000000018\n",
            "Jumlah Iterasi :  48\n",
            "Average CPU Time: 0.00020885467529296875 seconds\n"
          ]
        }
      ]
    },
    {
      "cell_type": "markdown",
      "source": [
        "## Prolem 5\n",
        "\n",
        "x^2 + 2x - 7, Interval [1,3]"
      ],
      "metadata": {
        "id": "q_WiZO2HwLTP"
      }
    },
    {
      "cell_type": "code",
      "source": [
        "def f(x) :\n",
        "  return x**2 + 2*x - 7"
      ],
      "metadata": {
        "id": "ewK6XDD_wFiB"
      },
      "execution_count": null,
      "outputs": []
    },
    {
      "cell_type": "code",
      "source": [
        "# Mulai pengukuran waktu\n",
        "start_time = time.time()\n",
        "\n",
        "# Implementation of the bisection method\n",
        "def bisection(f, a, b, tol, max_iter):\n",
        "    if f(a) * f(b) >= 0: #Added 4 spaces of indentation\n",
        "        raise ValueError(\"There are no roots in this interval.\") #Added 4 spaces of indentation\n",
        "    iteration = 0\n",
        "    root_list = []\n",
        "    while (b - a) / 2.0 > tol and iteration < max_iter:\n",
        "        c = (a + b) / 2.0\n",
        "        print(f\"Iterasi {iteration+1}: Lower Bound = {a}, Upper Bound = {b}\")\n",
        "        root_list.append(c)\n",
        "        if f(c) == 0:\n",
        "            return c # Root found\n",
        "        elif f(c) * f(a) < 0:\n",
        "            b = c\n",
        "        else :\n",
        "            a = c\n",
        "        iteration += 1\n",
        "    return (a + b) / 2.0, root_list, iteration\n",
        "\n",
        "\n",
        "end_time = time.time()\n",
        "root,  root_list,iteration_list = bisection(f, 1, 3, 1e-14, 100)\n",
        "\n",
        "\n",
        "\n",
        "\n",
        "\n",
        "# Call the bisection function to define root and root_list\n",
        "print(\"\\n=== ==============================================\")\n",
        "print( \"Found root:\", root)\n",
        "print(\"Jumlah Iterasi : \",iteration_list)\n",
        "# Hitung Average CPU Time\n",
        "cpu_time = end_time - start_time\n",
        "print(\"Average CPU Time:\", cpu_time, \"seconds\")\n"
      ],
      "metadata": {
        "colab": {
          "base_uri": "https://localhost:8080/"
        },
        "id": "U1d7lY7_wYhL",
        "outputId": "b8160305-f4ef-4525-b390-7bf60903ec6d"
      },
      "execution_count": null,
      "outputs": [
        {
          "output_type": "stream",
          "name": "stdout",
          "text": [
            "Iterasi 1: Lower Bound = 1, Upper Bound = 3\n",
            "Iterasi 2: Lower Bound = 1, Upper Bound = 2.0\n",
            "Iterasi 3: Lower Bound = 1.5, Upper Bound = 2.0\n",
            "Iterasi 4: Lower Bound = 1.75, Upper Bound = 2.0\n",
            "Iterasi 5: Lower Bound = 1.75, Upper Bound = 1.875\n",
            "Iterasi 6: Lower Bound = 1.8125, Upper Bound = 1.875\n",
            "Iterasi 7: Lower Bound = 1.8125, Upper Bound = 1.84375\n",
            "Iterasi 8: Lower Bound = 1.828125, Upper Bound = 1.84375\n",
            "Iterasi 9: Lower Bound = 1.828125, Upper Bound = 1.8359375\n",
            "Iterasi 10: Lower Bound = 1.828125, Upper Bound = 1.83203125\n",
            "Iterasi 11: Lower Bound = 1.828125, Upper Bound = 1.830078125\n",
            "Iterasi 12: Lower Bound = 1.828125, Upper Bound = 1.8291015625\n",
            "Iterasi 13: Lower Bound = 1.828125, Upper Bound = 1.82861328125\n",
            "Iterasi 14: Lower Bound = 1.828369140625, Upper Bound = 1.82861328125\n",
            "Iterasi 15: Lower Bound = 1.828369140625, Upper Bound = 1.8284912109375\n",
            "Iterasi 16: Lower Bound = 1.828369140625, Upper Bound = 1.82843017578125\n",
            "Iterasi 17: Lower Bound = 1.828399658203125, Upper Bound = 1.82843017578125\n",
            "Iterasi 18: Lower Bound = 1.8284149169921875, Upper Bound = 1.82843017578125\n",
            "Iterasi 19: Lower Bound = 1.8284225463867188, Upper Bound = 1.82843017578125\n",
            "Iterasi 20: Lower Bound = 1.8284263610839844, Upper Bound = 1.82843017578125\n",
            "Iterasi 21: Lower Bound = 1.8284263610839844, Upper Bound = 1.8284282684326172\n",
            "Iterasi 22: Lower Bound = 1.8284263610839844, Upper Bound = 1.8284273147583008\n",
            "Iterasi 23: Lower Bound = 1.8284268379211426, Upper Bound = 1.8284273147583008\n",
            "Iterasi 24: Lower Bound = 1.8284270763397217, Upper Bound = 1.8284273147583008\n",
            "Iterasi 25: Lower Bound = 1.8284270763397217, Upper Bound = 1.8284271955490112\n",
            "Iterasi 26: Lower Bound = 1.8284270763397217, Upper Bound = 1.8284271359443665\n",
            "Iterasi 27: Lower Bound = 1.828427106142044, Upper Bound = 1.8284271359443665\n",
            "Iterasi 28: Lower Bound = 1.8284271210432053, Upper Bound = 1.8284271359443665\n",
            "Iterasi 29: Lower Bound = 1.8284271210432053, Upper Bound = 1.8284271284937859\n",
            "Iterasi 30: Lower Bound = 1.8284271210432053, Upper Bound = 1.8284271247684956\n",
            "Iterasi 31: Lower Bound = 1.8284271229058504, Upper Bound = 1.8284271247684956\n",
            "Iterasi 32: Lower Bound = 1.828427123837173, Upper Bound = 1.8284271247684956\n",
            "Iterasi 33: Lower Bound = 1.8284271243028343, Upper Bound = 1.8284271247684956\n",
            "Iterasi 34: Lower Bound = 1.828427124535665, Upper Bound = 1.8284271247684956\n",
            "Iterasi 35: Lower Bound = 1.8284271246520802, Upper Bound = 1.8284271247684956\n",
            "Iterasi 36: Lower Bound = 1.828427124710288, Upper Bound = 1.8284271247684956\n",
            "Iterasi 37: Lower Bound = 1.8284271247393917, Upper Bound = 1.8284271247684956\n",
            "Iterasi 38: Lower Bound = 1.8284271247393917, Upper Bound = 1.8284271247539436\n",
            "Iterasi 39: Lower Bound = 1.8284271247393917, Upper Bound = 1.8284271247466677\n",
            "Iterasi 40: Lower Bound = 1.8284271247430297, Upper Bound = 1.8284271247466677\n",
            "Iterasi 41: Lower Bound = 1.8284271247448487, Upper Bound = 1.8284271247466677\n",
            "Iterasi 42: Lower Bound = 1.8284271247457582, Upper Bound = 1.8284271247466677\n",
            "Iterasi 43: Lower Bound = 1.8284271247457582, Upper Bound = 1.828427124746213\n",
            "Iterasi 44: Lower Bound = 1.8284271247459856, Upper Bound = 1.828427124746213\n",
            "Iterasi 45: Lower Bound = 1.8284271247460993, Upper Bound = 1.828427124746213\n",
            "Iterasi 46: Lower Bound = 1.828427124746156, Upper Bound = 1.828427124746213\n",
            "Iterasi 47: Lower Bound = 1.8284271247461845, Upper Bound = 1.828427124746213\n",
            "\n",
            "=== ==============================================\n",
            "Found root: 1.8284271247461916\n",
            "Jumlah Iterasi :  47\n",
            "Average CPU Time: 0.00022554397583007812 seconds\n"
          ]
        }
      ]
    },
    {
      "cell_type": "markdown",
      "source": [
        "## Problem 6\n",
        "\n",
        "x^3 - 2, Interval [0 , 2]"
      ],
      "metadata": {
        "id": "ZVe6yhxvwdWq"
      }
    },
    {
      "cell_type": "code",
      "source": [
        "def f(x) :\n",
        "  return x**3 - 2"
      ],
      "metadata": {
        "id": "2af-WSIYwbYy"
      },
      "execution_count": null,
      "outputs": []
    },
    {
      "cell_type": "code",
      "source": [
        "# Mulai pengukuran waktu\n",
        "start_time = time.time()\n",
        "\n",
        "# Implementation of the bisection method\n",
        "def bisection(f, a, b, tol, max_iter):\n",
        "    if f(a) * f(b) >= 0: #Added 4 spaces of indentation\n",
        "        raise ValueError(\"There are no roots in this interval.\") #Added 4 spaces of indentation\n",
        "    iteration = 0\n",
        "    root_list = []\n",
        "    while (b - a) / 2.0 > tol and iteration < max_iter:\n",
        "        c = (a + b) / 2.0\n",
        "        print(f\"Iterasi {iteration+1}: Lower Bound = {a}, Upper Bound = {b}\")\n",
        "        root_list.append(c)\n",
        "        if f(c) == 0:\n",
        "            return c # Root found\n",
        "        elif f(c) * f(a) < 0:\n",
        "            b = c\n",
        "        else :\n",
        "            a = c\n",
        "        iteration += 1\n",
        "    return (a + b) / 2.0, root_list, iteration\n",
        "\n",
        "\n",
        "end_time = time.time()\n",
        "root,  root_list,iteration_list = bisection(f, 0, 2, 1e-14, 100)\n",
        "\n",
        "\n",
        "\n",
        "\n",
        "\n",
        "# Call the bisection function to define root and root_list\n",
        "print(\"\\n=== ==============================================\")\n",
        "print( \"Found root:\", root)\n",
        "print(\"Jumlah Iterasi : \",iteration_list)\n",
        "# Hitung Average CPU Time\n",
        "cpu_time = end_time - start_time\n",
        "print(\"Average CPU Time:\", cpu_time, \"seconds\")\n"
      ],
      "metadata": {
        "colab": {
          "base_uri": "https://localhost:8080/"
        },
        "id": "ITgDLO55wy6n",
        "outputId": "afa07953-1870-48f2-e696-de3576a878f8"
      },
      "execution_count": null,
      "outputs": [
        {
          "output_type": "stream",
          "name": "stdout",
          "text": [
            "Iterasi 1: Lower Bound = 0, Upper Bound = 2\n",
            "Iterasi 2: Lower Bound = 1.0, Upper Bound = 2\n",
            "Iterasi 3: Lower Bound = 1.0, Upper Bound = 1.5\n",
            "Iterasi 4: Lower Bound = 1.25, Upper Bound = 1.5\n",
            "Iterasi 5: Lower Bound = 1.25, Upper Bound = 1.375\n",
            "Iterasi 6: Lower Bound = 1.25, Upper Bound = 1.3125\n",
            "Iterasi 7: Lower Bound = 1.25, Upper Bound = 1.28125\n",
            "Iterasi 8: Lower Bound = 1.25, Upper Bound = 1.265625\n",
            "Iterasi 9: Lower Bound = 1.2578125, Upper Bound = 1.265625\n",
            "Iterasi 10: Lower Bound = 1.2578125, Upper Bound = 1.26171875\n",
            "Iterasi 11: Lower Bound = 1.259765625, Upper Bound = 1.26171875\n",
            "Iterasi 12: Lower Bound = 1.259765625, Upper Bound = 1.2607421875\n",
            "Iterasi 13: Lower Bound = 1.259765625, Upper Bound = 1.26025390625\n",
            "Iterasi 14: Lower Bound = 1.259765625, Upper Bound = 1.260009765625\n",
            "Iterasi 15: Lower Bound = 1.2598876953125, Upper Bound = 1.260009765625\n",
            "Iterasi 16: Lower Bound = 1.2598876953125, Upper Bound = 1.25994873046875\n",
            "Iterasi 17: Lower Bound = 1.259918212890625, Upper Bound = 1.25994873046875\n",
            "Iterasi 18: Lower Bound = 1.259918212890625, Upper Bound = 1.2599334716796875\n",
            "Iterasi 19: Lower Bound = 1.259918212890625, Upper Bound = 1.2599258422851562\n",
            "Iterasi 20: Lower Bound = 1.259918212890625, Upper Bound = 1.2599220275878906\n",
            "Iterasi 21: Lower Bound = 1.2599201202392578, Upper Bound = 1.2599220275878906\n",
            "Iterasi 22: Lower Bound = 1.2599201202392578, Upper Bound = 1.2599210739135742\n",
            "Iterasi 23: Lower Bound = 1.259920597076416, Upper Bound = 1.2599210739135742\n",
            "Iterasi 24: Lower Bound = 1.2599208354949951, Upper Bound = 1.2599210739135742\n",
            "Iterasi 25: Lower Bound = 1.2599209547042847, Upper Bound = 1.2599210739135742\n",
            "Iterasi 26: Lower Bound = 1.2599210143089294, Upper Bound = 1.2599210739135742\n",
            "Iterasi 27: Lower Bound = 1.2599210441112518, Upper Bound = 1.2599210739135742\n",
            "Iterasi 28: Lower Bound = 1.2599210441112518, Upper Bound = 1.259921059012413\n",
            "Iterasi 29: Lower Bound = 1.2599210441112518, Upper Bound = 1.2599210515618324\n",
            "Iterasi 30: Lower Bound = 1.2599210478365421, Upper Bound = 1.2599210515618324\n",
            "Iterasi 31: Lower Bound = 1.2599210496991873, Upper Bound = 1.2599210515618324\n",
            "Iterasi 32: Lower Bound = 1.2599210496991873, Upper Bound = 1.2599210506305099\n",
            "Iterasi 33: Lower Bound = 1.2599210496991873, Upper Bound = 1.2599210501648486\n",
            "Iterasi 34: Lower Bound = 1.2599210496991873, Upper Bound = 1.259921049932018\n",
            "Iterasi 35: Lower Bound = 1.2599210498156026, Upper Bound = 1.259921049932018\n",
            "Iterasi 36: Lower Bound = 1.2599210498738103, Upper Bound = 1.259921049932018\n",
            "Iterasi 37: Lower Bound = 1.2599210498738103, Upper Bound = 1.259921049902914\n",
            "Iterasi 38: Lower Bound = 1.2599210498883622, Upper Bound = 1.259921049902914\n",
            "Iterasi 39: Lower Bound = 1.2599210498883622, Upper Bound = 1.2599210498956381\n",
            "Iterasi 40: Lower Bound = 1.2599210498920002, Upper Bound = 1.2599210498956381\n",
            "Iterasi 41: Lower Bound = 1.2599210498938191, Upper Bound = 1.2599210498956381\n",
            "Iterasi 42: Lower Bound = 1.2599210498947286, Upper Bound = 1.2599210498956381\n",
            "Iterasi 43: Lower Bound = 1.2599210498947286, Upper Bound = 1.2599210498951834\n",
            "Iterasi 44: Lower Bound = 1.2599210498947286, Upper Bound = 1.259921049894956\n",
            "Iterasi 45: Lower Bound = 1.2599210498948423, Upper Bound = 1.259921049894956\n",
            "Iterasi 46: Lower Bound = 1.2599210498948423, Upper Bound = 1.2599210498948992\n",
            "Iterasi 47: Lower Bound = 1.2599210498948707, Upper Bound = 1.2599210498948992\n",
            "\n",
            "=== ==============================================\n",
            "Found root: 1.2599210498948779\n",
            "Jumlah Iterasi :  47\n",
            "Average CPU Time: 0.0002541542053222656 seconds\n"
          ]
        }
      ]
    },
    {
      "cell_type": "markdown",
      "source": [
        "## Problem 7\n",
        "\n",
        "Xe^x - 7 , Interval [0 , 2 ]\n"
      ],
      "metadata": {
        "id": "jf5vplsww3oT"
      }
    },
    {
      "cell_type": "code",
      "source": [
        "def f(x) :\n",
        "  return x * math.exp(x) - 7"
      ],
      "metadata": {
        "id": "9p7MYiKAw2bD"
      },
      "execution_count": null,
      "outputs": []
    },
    {
      "cell_type": "code",
      "source": [
        "# Mulai pengukuran waktu\n",
        "start_time = time.time()\n",
        "\n",
        "# Implementation of the bisection method\n",
        "def bisection(f, a, b, tol, max_iter):\n",
        "    if f(a) * f(b) >= 0: #Added 4 spaces of indentation\n",
        "        raise ValueError(\"There are no roots in this interval.\") #Added 4 spaces of indentation\n",
        "    iteration = 0\n",
        "    root_list = []\n",
        "    while (b - a) / 2.0 > tol and iteration < max_iter:\n",
        "        c = (a + b) / 2.0\n",
        "        print(f\"Iterasi {iteration+1}: Lower Bound = {a}, Upper Bound = {b}\")\n",
        "        root_list.append(c)\n",
        "        if f(c) == 0:\n",
        "            return c # Root found\n",
        "        elif f(c) * f(a) < 0:\n",
        "            b = c\n",
        "        else :\n",
        "            a = c\n",
        "        iteration += 1\n",
        "    return (a + b) / 2.0, root_list, iteration\n",
        "\n",
        "\n",
        "end_time = time.time()\n",
        "root,  root_list,iteration_list = bisection(f, 0, 2, 1e-14, 100)\n",
        "\n",
        "\n",
        "\n",
        "\n",
        "\n",
        "# Call the bisection function to define root and root_list\n",
        "print(\"\\n=== ==============================================\")\n",
        "print( \"Found root:\", root)\n",
        "print(\"Jumlah Iterasi : \",iteration_list)\n",
        "# Hitung Average CPU Time\n",
        "cpu_time = end_time - start_time\n",
        "print(\"Average CPU Time:\", cpu_time, \"seconds\")\n"
      ],
      "metadata": {
        "colab": {
          "base_uri": "https://localhost:8080/"
        },
        "id": "RV16IUWFxRcO",
        "outputId": "38474ea2-62d6-4875-b1cc-0be87a4c8f7a"
      },
      "execution_count": null,
      "outputs": [
        {
          "output_type": "stream",
          "name": "stdout",
          "text": [
            "Iterasi 1: Lower Bound = 0, Upper Bound = 2\n",
            "Iterasi 2: Lower Bound = 1.0, Upper Bound = 2\n",
            "Iterasi 3: Lower Bound = 1.5, Upper Bound = 2\n",
            "Iterasi 4: Lower Bound = 1.5, Upper Bound = 1.75\n",
            "Iterasi 5: Lower Bound = 1.5, Upper Bound = 1.625\n",
            "Iterasi 6: Lower Bound = 1.5, Upper Bound = 1.5625\n",
            "Iterasi 7: Lower Bound = 1.5, Upper Bound = 1.53125\n",
            "Iterasi 8: Lower Bound = 1.515625, Upper Bound = 1.53125\n",
            "Iterasi 9: Lower Bound = 1.5234375, Upper Bound = 1.53125\n",
            "Iterasi 10: Lower Bound = 1.5234375, Upper Bound = 1.52734375\n",
            "Iterasi 11: Lower Bound = 1.5234375, Upper Bound = 1.525390625\n",
            "Iterasi 12: Lower Bound = 1.5234375, Upper Bound = 1.5244140625\n",
            "Iterasi 13: Lower Bound = 1.52392578125, Upper Bound = 1.5244140625\n",
            "Iterasi 14: Lower Bound = 1.524169921875, Upper Bound = 1.5244140625\n",
            "Iterasi 15: Lower Bound = 1.5242919921875, Upper Bound = 1.5244140625\n",
            "Iterasi 16: Lower Bound = 1.5242919921875, Upper Bound = 1.52435302734375\n",
            "Iterasi 17: Lower Bound = 1.524322509765625, Upper Bound = 1.52435302734375\n",
            "Iterasi 18: Lower Bound = 1.5243377685546875, Upper Bound = 1.52435302734375\n",
            "Iterasi 19: Lower Bound = 1.5243377685546875, Upper Bound = 1.5243453979492188\n",
            "Iterasi 20: Lower Bound = 1.5243415832519531, Upper Bound = 1.5243453979492188\n",
            "Iterasi 21: Lower Bound = 1.524343490600586, Upper Bound = 1.5243453979492188\n",
            "Iterasi 22: Lower Bound = 1.5243444442749023, Upper Bound = 1.5243453979492188\n",
            "Iterasi 23: Lower Bound = 1.5243449211120605, Upper Bound = 1.5243453979492188\n",
            "Iterasi 24: Lower Bound = 1.5243451595306396, Upper Bound = 1.5243453979492188\n",
            "Iterasi 25: Lower Bound = 1.5243451595306396, Upper Bound = 1.5243452787399292\n",
            "Iterasi 26: Lower Bound = 1.5243451595306396, Upper Bound = 1.5243452191352844\n",
            "Iterasi 27: Lower Bound = 1.524345189332962, Upper Bound = 1.5243452191352844\n",
            "Iterasi 28: Lower Bound = 1.5243452042341232, Upper Bound = 1.5243452191352844\n",
            "Iterasi 29: Lower Bound = 1.5243452042341232, Upper Bound = 1.5243452116847038\n",
            "Iterasi 30: Lower Bound = 1.5243452042341232, Upper Bound = 1.5243452079594135\n",
            "Iterasi 31: Lower Bound = 1.5243452042341232, Upper Bound = 1.5243452060967684\n",
            "Iterasi 32: Lower Bound = 1.5243452042341232, Upper Bound = 1.5243452051654458\n",
            "Iterasi 33: Lower Bound = 1.5243452046997845, Upper Bound = 1.5243452051654458\n",
            "Iterasi 34: Lower Bound = 1.5243452049326152, Upper Bound = 1.5243452051654458\n",
            "Iterasi 35: Lower Bound = 1.5243452049326152, Upper Bound = 1.5243452050490305\n",
            "Iterasi 36: Lower Bound = 1.5243452049326152, Upper Bound = 1.5243452049908228\n",
            "Iterasi 37: Lower Bound = 1.524345204961719, Upper Bound = 1.5243452049908228\n",
            "Iterasi 38: Lower Bound = 1.524345204976271, Upper Bound = 1.5243452049908228\n",
            "Iterasi 39: Lower Bound = 1.5243452049835469, Upper Bound = 1.5243452049908228\n",
            "Iterasi 40: Lower Bound = 1.5243452049835469, Upper Bound = 1.5243452049871848\n",
            "Iterasi 41: Lower Bound = 1.5243452049835469, Upper Bound = 1.5243452049853659\n",
            "Iterasi 42: Lower Bound = 1.5243452049835469, Upper Bound = 1.5243452049844564\n",
            "Iterasi 43: Lower Bound = 1.5243452049840016, Upper Bound = 1.5243452049844564\n",
            "Iterasi 44: Lower Bound = 1.5243452049840016, Upper Bound = 1.524345204984229\n",
            "Iterasi 45: Lower Bound = 1.5243452049841153, Upper Bound = 1.524345204984229\n",
            "Iterasi 46: Lower Bound = 1.5243452049841153, Upper Bound = 1.5243452049841721\n",
            "Iterasi 47: Lower Bound = 1.5243452049841437, Upper Bound = 1.5243452049841721\n",
            "\n",
            "=== ==============================================\n",
            "Found root: 1.5243452049841508\n",
            "Jumlah Iterasi :  47\n",
            "Average CPU Time: 0.00042891502380371094 seconds\n"
          ]
        }
      ]
    },
    {
      "cell_type": "markdown",
      "source": [
        "## Problem 8\n",
        "\n",
        "x - cos (x), Interval [0,1]"
      ],
      "metadata": {
        "id": "P6s_liw_xyXa"
      }
    },
    {
      "cell_type": "code",
      "source": [
        "def f(x) :\n",
        " return  x - math.cos(x)"
      ],
      "metadata": {
        "id": "PJwfomLexUBw"
      },
      "execution_count": null,
      "outputs": []
    },
    {
      "cell_type": "code",
      "source": [
        "# Mulai pengukuran waktu\n",
        "start_time = time.time()\n",
        "\n",
        "# Implementation of the bisection method\n",
        "def bisection(f, a, b, tol, max_iter):\n",
        "    if f(a) * f(b) >= 0: #Added 4 spaces of indentation\n",
        "        raise ValueError(\"There are no roots in this interval.\") #Added 4 spaces of indentation\n",
        "    iteration = 0\n",
        "    root_list = []\n",
        "    while (b - a) / 2.0 > tol and iteration < max_iter:\n",
        "        c = (a + b) / 2.0\n",
        "        print(f\"Iterasi {iteration+1}: Lower Bound = {a}, Upper Bound = {b}\")\n",
        "        root_list.append(c)\n",
        "        if f(c) == 0:\n",
        "            return c # Root found\n",
        "        elif f(c) * f(a) < 0:\n",
        "            b = c\n",
        "        else :\n",
        "            a = c\n",
        "        iteration += 1\n",
        "    return (a + b) / 2.0, root_list, iteration\n",
        "\n",
        "\n",
        "end_time = time.time()\n",
        "root,  root_list,iteration_list = bisection(f, 0, 1, 1e-14, 100)\n",
        "\n",
        "\n",
        "\n",
        "\n",
        "\n",
        "# Call the bisection function to define root and root_list\n",
        "print(\"\\n=== ==============================================\")\n",
        "print( \"Found root:\", root)\n",
        "print(\"Jumlah Iterasi : \",iteration_list)\n",
        "# Hitung Average CPU Time\n",
        "cpu_time = end_time - start_time\n",
        "print(\"Average CPU Time:\", cpu_time, \"seconds\")\n"
      ],
      "metadata": {
        "colab": {
          "base_uri": "https://localhost:8080/"
        },
        "id": "vfdL-VT0yAxH",
        "outputId": "ffdc0e16-cf1e-4b74-b121-3e751a165908"
      },
      "execution_count": null,
      "outputs": [
        {
          "output_type": "stream",
          "name": "stdout",
          "text": [
            "Iterasi 1: Lower Bound = 0, Upper Bound = 1\n",
            "Iterasi 2: Lower Bound = 0.5, Upper Bound = 1\n",
            "Iterasi 3: Lower Bound = 0.5, Upper Bound = 0.75\n",
            "Iterasi 4: Lower Bound = 0.625, Upper Bound = 0.75\n",
            "Iterasi 5: Lower Bound = 0.6875, Upper Bound = 0.75\n",
            "Iterasi 6: Lower Bound = 0.71875, Upper Bound = 0.75\n",
            "Iterasi 7: Lower Bound = 0.734375, Upper Bound = 0.75\n",
            "Iterasi 8: Lower Bound = 0.734375, Upper Bound = 0.7421875\n",
            "Iterasi 9: Lower Bound = 0.73828125, Upper Bound = 0.7421875\n",
            "Iterasi 10: Lower Bound = 0.73828125, Upper Bound = 0.740234375\n",
            "Iterasi 11: Lower Bound = 0.73828125, Upper Bound = 0.7392578125\n",
            "Iterasi 12: Lower Bound = 0.73876953125, Upper Bound = 0.7392578125\n",
            "Iterasi 13: Lower Bound = 0.739013671875, Upper Bound = 0.7392578125\n",
            "Iterasi 14: Lower Bound = 0.739013671875, Upper Bound = 0.7391357421875\n",
            "Iterasi 15: Lower Bound = 0.73907470703125, Upper Bound = 0.7391357421875\n",
            "Iterasi 16: Lower Bound = 0.73907470703125, Upper Bound = 0.739105224609375\n",
            "Iterasi 17: Lower Bound = 0.73907470703125, Upper Bound = 0.7390899658203125\n",
            "Iterasi 18: Lower Bound = 0.7390823364257812, Upper Bound = 0.7390899658203125\n",
            "Iterasi 19: Lower Bound = 0.7390823364257812, Upper Bound = 0.7390861511230469\n",
            "Iterasi 20: Lower Bound = 0.7390842437744141, Upper Bound = 0.7390861511230469\n",
            "Iterasi 21: Lower Bound = 0.7390842437744141, Upper Bound = 0.7390851974487305\n",
            "Iterasi 22: Lower Bound = 0.7390847206115723, Upper Bound = 0.7390851974487305\n",
            "Iterasi 23: Lower Bound = 0.7390849590301514, Upper Bound = 0.7390851974487305\n",
            "Iterasi 24: Lower Bound = 0.7390850782394409, Upper Bound = 0.7390851974487305\n",
            "Iterasi 25: Lower Bound = 0.7390850782394409, Upper Bound = 0.7390851378440857\n",
            "Iterasi 26: Lower Bound = 0.7390851080417633, Upper Bound = 0.7390851378440857\n",
            "Iterasi 27: Lower Bound = 0.7390851229429245, Upper Bound = 0.7390851378440857\n",
            "Iterasi 28: Lower Bound = 0.7390851303935051, Upper Bound = 0.7390851378440857\n",
            "Iterasi 29: Lower Bound = 0.7390851303935051, Upper Bound = 0.7390851341187954\n",
            "Iterasi 30: Lower Bound = 0.7390851322561502, Upper Bound = 0.7390851341187954\n",
            "Iterasi 31: Lower Bound = 0.7390851331874728, Upper Bound = 0.7390851341187954\n",
            "Iterasi 32: Lower Bound = 0.7390851331874728, Upper Bound = 0.7390851336531341\n",
            "Iterasi 33: Lower Bound = 0.7390851331874728, Upper Bound = 0.7390851334203035\n",
            "Iterasi 34: Lower Bound = 0.7390851331874728, Upper Bound = 0.7390851333038881\n",
            "Iterasi 35: Lower Bound = 0.7390851331874728, Upper Bound = 0.7390851332456805\n",
            "Iterasi 36: Lower Bound = 0.7390851331874728, Upper Bound = 0.7390851332165767\n",
            "Iterasi 37: Lower Bound = 0.7390851332020247, Upper Bound = 0.7390851332165767\n",
            "Iterasi 38: Lower Bound = 0.7390851332093007, Upper Bound = 0.7390851332165767\n",
            "Iterasi 39: Lower Bound = 0.7390851332129387, Upper Bound = 0.7390851332165767\n",
            "Iterasi 40: Lower Bound = 0.7390851332147577, Upper Bound = 0.7390851332165767\n",
            "Iterasi 41: Lower Bound = 0.7390851332147577, Upper Bound = 0.7390851332156672\n",
            "Iterasi 42: Lower Bound = 0.7390851332147577, Upper Bound = 0.7390851332152124\n",
            "Iterasi 43: Lower Bound = 0.739085133214985, Upper Bound = 0.7390851332152124\n",
            "Iterasi 44: Lower Bound = 0.7390851332150987, Upper Bound = 0.7390851332152124\n",
            "Iterasi 45: Lower Bound = 0.7390851332151556, Upper Bound = 0.7390851332152124\n",
            "Iterasi 46: Lower Bound = 0.7390851332151556, Upper Bound = 0.739085133215184\n",
            "\n",
            "=== ==============================================\n",
            "Found root: 0.7390851332151627\n",
            "Jumlah Iterasi :  46\n",
            "Average CPU Time: 0.0003151893615722656 seconds\n"
          ]
        }
      ]
    },
    {
      "cell_type": "markdown",
      "source": [
        "## Problem 9\n",
        "\n",
        "x sin(x) - 1, Interval [0,2]\n"
      ],
      "metadata": {
        "id": "pDa4sLsDySRd"
      }
    },
    {
      "cell_type": "code",
      "source": [
        "def f(x) :\n",
        "  return x * math.sin(x) - 1"
      ],
      "metadata": {
        "id": "2izZaGVayDBs"
      },
      "execution_count": null,
      "outputs": []
    },
    {
      "cell_type": "code",
      "source": [
        "# Mulai pengukuran waktu\n",
        "start_time = time.time()\n",
        "\n",
        "# Implementation of the bisection method\n",
        "def bisection(f, a, b, tol, max_iter):\n",
        "    if f(a) * f(b) >= 0: #Added 4 spaces of indentation\n",
        "        raise ValueError(\"There are no roots in this interval.\") #Added 4 spaces of indentation\n",
        "    iteration = 0\n",
        "    root_list = []\n",
        "    while (b - a) / 2.0 > tol and iteration < max_iter:\n",
        "        c = (a + b) / 2.0\n",
        "        print(f\"Iterasi {iteration+1}: Lower Bound = {a}, Upper Bound = {b}\")\n",
        "        root_list.append(c)\n",
        "        if f(c) == 0:\n",
        "            return c # Root found\n",
        "        elif f(c) * f(a) < 0:\n",
        "            b = c\n",
        "        else :\n",
        "            a = c\n",
        "        iteration += 1\n",
        "    return (a + b) / 2.0, root_list, iteration\n",
        "\n",
        "\n",
        "end_time = time.time()\n",
        "root,  root_list,iteration_list = bisection(f, 0, 2, 1e-14, 100)\n",
        "\n",
        "\n",
        "\n",
        "\n",
        "\n",
        "# Call the bisection function to define root and root_list\n",
        "print(\"\\n=== ==============================================\")\n",
        "print( \"Found root:\", root)\n",
        "print(\"Jumlah Iterasi : \",iteration_list)\n",
        "# Hitung Average CPU Time\n",
        "cpu_time = end_time - start_time\n",
        "print(\"Average CPU Time:\", cpu_time, \"seconds\")\n"
      ],
      "metadata": {
        "colab": {
          "base_uri": "https://localhost:8080/"
        },
        "id": "Wvx3j8RTynoJ",
        "outputId": "721b808c-89d3-4009-a115-6e7c1cd841f5"
      },
      "execution_count": null,
      "outputs": [
        {
          "output_type": "stream",
          "name": "stdout",
          "text": [
            "Iterasi 1: Lower Bound = 0, Upper Bound = 2\n",
            "Iterasi 2: Lower Bound = 1.0, Upper Bound = 2\n",
            "Iterasi 3: Lower Bound = 1.0, Upper Bound = 1.5\n",
            "Iterasi 4: Lower Bound = 1.0, Upper Bound = 1.25\n",
            "Iterasi 5: Lower Bound = 1.0, Upper Bound = 1.125\n",
            "Iterasi 6: Lower Bound = 1.0625, Upper Bound = 1.125\n",
            "Iterasi 7: Lower Bound = 1.09375, Upper Bound = 1.125\n",
            "Iterasi 8: Lower Bound = 1.109375, Upper Bound = 1.125\n",
            "Iterasi 9: Lower Bound = 1.109375, Upper Bound = 1.1171875\n",
            "Iterasi 10: Lower Bound = 1.11328125, Upper Bound = 1.1171875\n",
            "Iterasi 11: Lower Bound = 1.11328125, Upper Bound = 1.115234375\n",
            "Iterasi 12: Lower Bound = 1.11328125, Upper Bound = 1.1142578125\n",
            "Iterasi 13: Lower Bound = 1.11376953125, Upper Bound = 1.1142578125\n",
            "Iterasi 14: Lower Bound = 1.114013671875, Upper Bound = 1.1142578125\n",
            "Iterasi 15: Lower Bound = 1.1141357421875, Upper Bound = 1.1142578125\n",
            "Iterasi 16: Lower Bound = 1.1141357421875, Upper Bound = 1.11419677734375\n",
            "Iterasi 17: Lower Bound = 1.1141357421875, Upper Bound = 1.114166259765625\n",
            "Iterasi 18: Lower Bound = 1.1141510009765625, Upper Bound = 1.114166259765625\n",
            "Iterasi 19: Lower Bound = 1.1141510009765625, Upper Bound = 1.1141586303710938\n",
            "Iterasi 20: Lower Bound = 1.1141548156738281, Upper Bound = 1.1141586303710938\n",
            "Iterasi 21: Lower Bound = 1.114156723022461, Upper Bound = 1.1141586303710938\n",
            "Iterasi 22: Lower Bound = 1.114156723022461, Upper Bound = 1.1141576766967773\n",
            "Iterasi 23: Lower Bound = 1.114156723022461, Upper Bound = 1.1141571998596191\n",
            "Iterasi 24: Lower Bound = 1.11415696144104, Upper Bound = 1.1141571998596191\n",
            "Iterasi 25: Lower Bound = 1.1141570806503296, Upper Bound = 1.1141571998596191\n",
            "Iterasi 26: Lower Bound = 1.1141571402549744, Upper Bound = 1.1141571998596191\n",
            "Iterasi 27: Lower Bound = 1.1141571402549744, Upper Bound = 1.1141571700572968\n",
            "Iterasi 28: Lower Bound = 1.1141571402549744, Upper Bound = 1.1141571551561356\n",
            "Iterasi 29: Lower Bound = 1.1141571402549744, Upper Bound = 1.114157147705555\n",
            "Iterasi 30: Lower Bound = 1.1141571402549744, Upper Bound = 1.1141571439802647\n",
            "Iterasi 31: Lower Bound = 1.1141571402549744, Upper Bound = 1.1141571421176195\n",
            "Iterasi 32: Lower Bound = 1.1141571402549744, Upper Bound = 1.114157141186297\n",
            "Iterasi 33: Lower Bound = 1.1141571407206357, Upper Bound = 1.114157141186297\n",
            "Iterasi 34: Lower Bound = 1.1141571407206357, Upper Bound = 1.1141571409534663\n",
            "Iterasi 35: Lower Bound = 1.114157140837051, Upper Bound = 1.1141571409534663\n",
            "Iterasi 36: Lower Bound = 1.114157140837051, Upper Bound = 1.1141571408952586\n",
            "Iterasi 37: Lower Bound = 1.1141571408661548, Upper Bound = 1.1141571408952586\n",
            "Iterasi 38: Lower Bound = 1.1141571408661548, Upper Bound = 1.1141571408807067\n",
            "Iterasi 39: Lower Bound = 1.1141571408661548, Upper Bound = 1.1141571408734308\n",
            "Iterasi 40: Lower Bound = 1.1141571408697928, Upper Bound = 1.1141571408734308\n",
            "Iterasi 41: Lower Bound = 1.1141571408716118, Upper Bound = 1.1141571408734308\n",
            "Iterasi 42: Lower Bound = 1.1141571408716118, Upper Bound = 1.1141571408725213\n",
            "Iterasi 43: Lower Bound = 1.1141571408716118, Upper Bound = 1.1141571408720665\n",
            "Iterasi 44: Lower Bound = 1.1141571408718391, Upper Bound = 1.1141571408720665\n",
            "Iterasi 45: Lower Bound = 1.1141571408718391, Upper Bound = 1.1141571408719528\n",
            "Iterasi 46: Lower Bound = 1.114157140871896, Upper Bound = 1.1141571408719528\n",
            "Iterasi 47: Lower Bound = 1.1141571408719244, Upper Bound = 1.1141571408719528\n",
            "\n",
            "=== ==============================================\n",
            "Found root: 1.1141571408719315\n",
            "Jumlah Iterasi :  47\n",
            "Average CPU Time: 0.0002224445343017578 seconds\n"
          ]
        }
      ]
    },
    {
      "cell_type": "markdown",
      "source": [
        "## Problem 10\n",
        "\n",
        "x cos(x) + 1 , Interval [-2,4]"
      ],
      "metadata": {
        "id": "WaEaYtHJyp--"
      }
    },
    {
      "cell_type": "code",
      "source": [
        "def f(x) :\n",
        "  return x * math.cos(x) + 1"
      ],
      "metadata": {
        "id": "UXHSpGnZyomL"
      },
      "execution_count": null,
      "outputs": []
    },
    {
      "cell_type": "code",
      "source": [
        "# Mulai pengukuran waktu\n",
        "start_time = time.time()\n",
        "\n",
        "# Implementation of the bisection method\n",
        "def bisection(f, a, b, tol, max_iter):\n",
        "    if f(a) * f(b) >= 0: #Added 4 spaces of indentation\n",
        "        raise ValueError(\"There are no roots in this interval.\") #Added 4 spaces of indentation\n",
        "    iteration = 0\n",
        "    root_list = []\n",
        "    while (b - a) / 2.0 > tol and iteration < max_iter:\n",
        "        c = (a + b) / 2.0\n",
        "        print(f\"Iterasi {iteration+1}: Lower Bound = {a}, Upper Bound = {b}\")\n",
        "        root_list.append(c)\n",
        "        if f(c) == 0:\n",
        "            return c # Root found\n",
        "        elif f(c) * f(a) < 0:\n",
        "            b = c\n",
        "        else :\n",
        "            a = c\n",
        "        iteration += 1\n",
        "    return (a + b) / 2.0, root_list, iteration\n",
        "\n",
        "\n",
        "end_time = time.time()\n",
        "root,  root_list,iteration_list = bisection(f, -2, 4, 1e-14, 100)\n",
        "\n",
        "\n",
        "\n",
        "\n",
        "\n",
        "# Call the bisection function to define root and root_list\n",
        "print(\"\\n=== ==============================================\")\n",
        "print( \"Found root:\", root)\n",
        "print(\"Jumlah Iterasi : \",iteration_list)\n",
        "# Hitung Average CPU Time\n",
        "cpu_time = end_time - start_time\n",
        "print(\"Average CPU Time:\", cpu_time, \"seconds\")\n"
      ],
      "metadata": {
        "colab": {
          "base_uri": "https://localhost:8080/"
        },
        "id": "D_AD3Ajgy2rS",
        "outputId": "89159363-7516-4f7f-c06f-126d2ec99e40"
      },
      "execution_count": null,
      "outputs": [
        {
          "output_type": "stream",
          "name": "stdout",
          "text": [
            "Iterasi 1: Lower Bound = -2, Upper Bound = 4\n",
            "Iterasi 2: Lower Bound = 1.0, Upper Bound = 4\n",
            "Iterasi 3: Lower Bound = 1.0, Upper Bound = 2.5\n",
            "Iterasi 4: Lower Bound = 1.75, Upper Bound = 2.5\n",
            "Iterasi 5: Lower Bound = 1.75, Upper Bound = 2.125\n",
            "Iterasi 6: Lower Bound = 1.9375, Upper Bound = 2.125\n",
            "Iterasi 7: Lower Bound = 2.03125, Upper Bound = 2.125\n",
            "Iterasi 8: Lower Bound = 2.03125, Upper Bound = 2.078125\n",
            "Iterasi 9: Lower Bound = 2.0546875, Upper Bound = 2.078125\n",
            "Iterasi 10: Lower Bound = 2.06640625, Upper Bound = 2.078125\n",
            "Iterasi 11: Lower Bound = 2.072265625, Upper Bound = 2.078125\n",
            "Iterasi 12: Lower Bound = 2.072265625, Upper Bound = 2.0751953125\n",
            "Iterasi 13: Lower Bound = 2.07373046875, Upper Bound = 2.0751953125\n",
            "Iterasi 14: Lower Bound = 2.07373046875, Upper Bound = 2.074462890625\n",
            "Iterasi 15: Lower Bound = 2.07373046875, Upper Bound = 2.0740966796875\n",
            "Iterasi 16: Lower Bound = 2.07391357421875, Upper Bound = 2.0740966796875\n",
            "Iterasi 17: Lower Bound = 2.07391357421875, Upper Bound = 2.074005126953125\n",
            "Iterasi 18: Lower Bound = 2.07391357421875, Upper Bound = 2.0739593505859375\n",
            "Iterasi 19: Lower Bound = 2.07391357421875, Upper Bound = 2.0739364624023438\n",
            "Iterasi 20: Lower Bound = 2.073925018310547, Upper Bound = 2.0739364624023438\n",
            "Iterasi 21: Lower Bound = 2.0739307403564453, Upper Bound = 2.0739364624023438\n",
            "Iterasi 22: Lower Bound = 2.0739307403564453, Upper Bound = 2.0739336013793945\n",
            "Iterasi 23: Lower Bound = 2.07393217086792, Upper Bound = 2.0739336013793945\n",
            "Iterasi 24: Lower Bound = 2.07393217086792, Upper Bound = 2.0739328861236572\n",
            "Iterasi 25: Lower Bound = 2.0739325284957886, Upper Bound = 2.0739328861236572\n",
            "Iterasi 26: Lower Bound = 2.073932707309723, Upper Bound = 2.0739328861236572\n",
            "Iterasi 27: Lower Bound = 2.07393279671669, Upper Bound = 2.0739328861236572\n",
            "Iterasi 28: Lower Bound = 2.07393279671669, Upper Bound = 2.0739328414201736\n",
            "Iterasi 29: Lower Bound = 2.07393279671669, Upper Bound = 2.073932819068432\n",
            "Iterasi 30: Lower Bound = 2.073932807892561, Upper Bound = 2.073932819068432\n",
            "Iterasi 31: Lower Bound = 2.073932807892561, Upper Bound = 2.0739328134804964\n",
            "Iterasi 32: Lower Bound = 2.073932807892561, Upper Bound = 2.0739328106865287\n",
            "Iterasi 33: Lower Bound = 2.073932807892561, Upper Bound = 2.073932809289545\n",
            "Iterasi 34: Lower Bound = 2.073932808591053, Upper Bound = 2.073932809289545\n",
            "Iterasi 35: Lower Bound = 2.073932808940299, Upper Bound = 2.073932809289545\n",
            "Iterasi 36: Lower Bound = 2.073932808940299, Upper Bound = 2.073932809114922\n",
            "Iterasi 37: Lower Bound = 2.0739328090276103, Upper Bound = 2.073932809114922\n",
            "Iterasi 38: Lower Bound = 2.073932809071266, Upper Bound = 2.073932809114922\n",
            "Iterasi 39: Lower Bound = 2.073932809071266, Upper Bound = 2.073932809093094\n",
            "Iterasi 40: Lower Bound = 2.07393280908218, Upper Bound = 2.073932809093094\n",
            "Iterasi 41: Lower Bound = 2.073932809087637, Upper Bound = 2.073932809093094\n",
            "Iterasi 42: Lower Bound = 2.0739328090903655, Upper Bound = 2.073932809093094\n",
            "Iterasi 43: Lower Bound = 2.0739328090903655, Upper Bound = 2.0739328090917297\n",
            "Iterasi 44: Lower Bound = 2.0739328090910476, Upper Bound = 2.0739328090917297\n",
            "Iterasi 45: Lower Bound = 2.0739328090910476, Upper Bound = 2.0739328090913887\n",
            "Iterasi 46: Lower Bound = 2.0739328090910476, Upper Bound = 2.073932809091218\n",
            "Iterasi 47: Lower Bound = 2.073932809091133, Upper Bound = 2.073932809091218\n",
            "Iterasi 48: Lower Bound = 2.0739328090911755, Upper Bound = 2.073932809091218\n",
            "Iterasi 49: Lower Bound = 2.073932809091197, Upper Bound = 2.073932809091218\n",
            "\n",
            "=== ==============================================\n",
            "Found root: 2.073932809091213\n",
            "Jumlah Iterasi :  49\n",
            "Average CPU Time: 0.0003483295440673828 seconds\n"
          ]
        }
      ]
    },
    {
      "cell_type": "markdown",
      "source": [
        "# Problem 11\n",
        "\n",
        "x^10 - 1, Interval [0, 1.3]"
      ],
      "metadata": {
        "id": "ILH7p_eky695"
      }
    },
    {
      "cell_type": "code",
      "source": [
        "def f(x) :\n",
        "  return x**10 - 1"
      ],
      "metadata": {
        "id": "erIodLCNy5AJ"
      },
      "execution_count": null,
      "outputs": []
    },
    {
      "cell_type": "code",
      "source": [
        "# Mulai pengukuran waktu\n",
        "start_time = time.time()\n",
        "\n",
        "# Implementation of the bisection method\n",
        "def bisection(f, a, b, tol, max_iter):\n",
        "    if f(a) * f(b) >= 0: #Added 4 spaces of indentation\n",
        "        raise ValueError(\"There are no roots in this interval.\") #Added 4 spaces of indentation\n",
        "    iteration = 0\n",
        "    root_list = []\n",
        "    while (b - a) / 2.0 > tol and iteration < max_iter:\n",
        "        c = (a + b) / 2.0\n",
        "        print(f\"Iterasi {iteration+1}: Lower Bound = {a}, Upper Bound = {b}\")\n",
        "        root_list.append(c)\n",
        "        if f(c) == 0:\n",
        "            return c # Root found\n",
        "        elif f(c) * f(a) < 0:\n",
        "            b = c\n",
        "        else :\n",
        "            a = c\n",
        "        iteration += 1\n",
        "    return (a + b) / 2.0, root_list, iteration\n",
        "\n",
        "\n",
        "end_time = time.time()\n",
        "root,  root_list,iteration_list = bisection(f, 0, 1.3, 1e-14, 100)\n",
        "\n",
        "\n",
        "\n",
        "\n",
        "\n",
        "# Call the bisection function to define root and root_list\n",
        "print(\"\\n=== ==============================================\")\n",
        "print( \"Found root:\", root)\n",
        "print(\"Jumlah Iterasi : \",iteration_list)\n",
        "# Hitung Average CPU Time\n",
        "cpu_time = end_time - start_time\n",
        "print(\"Average CPU Time:\", cpu_time, \"seconds\")\n"
      ],
      "metadata": {
        "colab": {
          "base_uri": "https://localhost:8080/"
        },
        "id": "UIYuEUiCzL3-",
        "outputId": "9bb145f5-9f41-485a-c9cf-0b82741bb8da"
      },
      "execution_count": null,
      "outputs": [
        {
          "output_type": "stream",
          "name": "stdout",
          "text": [
            "Iterasi 1: Lower Bound = 0, Upper Bound = 1.3\n",
            "Iterasi 2: Lower Bound = 0.65, Upper Bound = 1.3\n",
            "Iterasi 3: Lower Bound = 0.9750000000000001, Upper Bound = 1.3\n",
            "Iterasi 4: Lower Bound = 0.9750000000000001, Upper Bound = 1.1375000000000002\n",
            "Iterasi 5: Lower Bound = 0.9750000000000001, Upper Bound = 1.0562500000000001\n",
            "Iterasi 6: Lower Bound = 0.9750000000000001, Upper Bound = 1.015625\n",
            "Iterasi 7: Lower Bound = 0.9953125, Upper Bound = 1.015625\n",
            "Iterasi 8: Lower Bound = 0.9953125, Upper Bound = 1.00546875\n",
            "Iterasi 9: Lower Bound = 0.9953125, Upper Bound = 1.000390625\n",
            "Iterasi 10: Lower Bound = 0.9978515625000001, Upper Bound = 1.000390625\n",
            "Iterasi 11: Lower Bound = 0.9991210937500001, Upper Bound = 1.000390625\n",
            "Iterasi 12: Lower Bound = 0.9997558593750001, Upper Bound = 1.000390625\n",
            "Iterasi 13: Lower Bound = 0.9997558593750001, Upper Bound = 1.0000732421875\n",
            "Iterasi 14: Lower Bound = 0.9999145507812501, Upper Bound = 1.0000732421875\n",
            "Iterasi 15: Lower Bound = 0.9999938964843751, Upper Bound = 1.0000732421875\n",
            "Iterasi 16: Lower Bound = 0.9999938964843751, Upper Bound = 1.0000335693359377\n",
            "Iterasi 17: Lower Bound = 0.9999938964843751, Upper Bound = 1.0000137329101564\n",
            "Iterasi 18: Lower Bound = 0.9999938964843751, Upper Bound = 1.0000038146972656\n",
            "Iterasi 19: Lower Bound = 0.9999988555908204, Upper Bound = 1.0000038146972656\n",
            "Iterasi 20: Lower Bound = 0.9999988555908204, Upper Bound = 1.0000013351440429\n",
            "Iterasi 21: Lower Bound = 0.9999988555908204, Upper Bound = 1.0000000953674317\n",
            "Iterasi 22: Lower Bound = 0.999999475479126, Upper Bound = 1.0000000953674317\n",
            "Iterasi 23: Lower Bound = 0.9999997854232789, Upper Bound = 1.0000000953674317\n",
            "Iterasi 24: Lower Bound = 0.9999999403953553, Upper Bound = 1.0000000953674317\n",
            "Iterasi 25: Lower Bound = 0.9999999403953553, Upper Bound = 1.0000000178813935\n",
            "Iterasi 26: Lower Bound = 0.9999999791383745, Upper Bound = 1.0000000178813935\n",
            "Iterasi 27: Lower Bound = 0.999999998509884, Upper Bound = 1.0000000178813935\n",
            "Iterasi 28: Lower Bound = 0.999999998509884, Upper Bound = 1.0000000081956388\n",
            "Iterasi 29: Lower Bound = 0.999999998509884, Upper Bound = 1.0000000033527614\n",
            "Iterasi 30: Lower Bound = 0.999999998509884, Upper Bound = 1.0000000009313226\n",
            "Iterasi 31: Lower Bound = 0.9999999997206033, Upper Bound = 1.0000000009313226\n",
            "Iterasi 32: Lower Bound = 0.9999999997206033, Upper Bound = 1.0000000003259628\n",
            "Iterasi 33: Lower Bound = 0.9999999997206033, Upper Bound = 1.0000000000232832\n",
            "Iterasi 34: Lower Bound = 0.9999999998719432, Upper Bound = 1.0000000000232832\n",
            "Iterasi 35: Lower Bound = 0.9999999999476132, Upper Bound = 1.0000000000232832\n",
            "Iterasi 36: Lower Bound = 0.9999999999854482, Upper Bound = 1.0000000000232832\n",
            "Iterasi 37: Lower Bound = 0.9999999999854482, Upper Bound = 1.0000000000043656\n",
            "Iterasi 38: Lower Bound = 0.999999999994907, Upper Bound = 1.0000000000043656\n",
            "Iterasi 39: Lower Bound = 0.9999999999996363, Upper Bound = 1.0000000000043656\n",
            "Iterasi 40: Lower Bound = 0.9999999999996363, Upper Bound = 1.000000000002001\n",
            "Iterasi 41: Lower Bound = 0.9999999999996363, Upper Bound = 1.0000000000008187\n",
            "Iterasi 42: Lower Bound = 0.9999999999996363, Upper Bound = 1.0000000000002274\n",
            "Iterasi 43: Lower Bound = 0.9999999999999318, Upper Bound = 1.0000000000002274\n",
            "Iterasi 44: Lower Bound = 0.9999999999999318, Upper Bound = 1.0000000000000795\n",
            "Iterasi 45: Lower Bound = 0.9999999999999318, Upper Bound = 1.0000000000000058\n",
            "Iterasi 46: Lower Bound = 0.9999999999999688, Upper Bound = 1.0000000000000058\n",
            "\n",
            "=== ==============================================\n",
            "Found root: 0.9999999999999966\n",
            "Jumlah Iterasi :  46\n",
            "Average CPU Time: 0.0002639293670654297 seconds\n"
          ]
        }
      ]
    },
    {
      "cell_type": "markdown",
      "source": [
        "## Problem 12\n",
        "\n",
        "x^2 + e^x/2 - 5 , Interval [1,2]"
      ],
      "metadata": {
        "id": "etm5OHvUzUoR"
      }
    },
    {
      "cell_type": "code",
      "source": [
        "def f(x) :\n",
        "  return x**2 + np.exp(x/2) - 5"
      ],
      "metadata": {
        "id": "2N-PyC8gzNzS"
      },
      "execution_count": null,
      "outputs": []
    },
    {
      "cell_type": "code",
      "source": [
        "# Mulai pengukuran waktu\n",
        "start_time = time.time()\n",
        "\n",
        "# Implementation of the bisection method\n",
        "def bisection(f, a, b, tol, max_iter):\n",
        "    if f(a) * f(b) >= 0: #Added 4 spaces of indentation\n",
        "        raise ValueError(\"There are no roots in this interval.\") #Added 4 spaces of indentation\n",
        "    iteration = 0\n",
        "    root_list = []\n",
        "    while (b - a) / 2.0 > tol and iteration < max_iter:\n",
        "        c = (a + b) / 2.0\n",
        "        print(f\"Iterasi {iteration+1}: Lower Bound = {a}, Upper Bound = {b}\")\n",
        "        root_list.append(c)\n",
        "        if f(c) == 0:\n",
        "            return c # Root found\n",
        "        elif f(c) * f(a) < 0:\n",
        "            b = c\n",
        "        else :\n",
        "            a = c\n",
        "        iteration += 1\n",
        "    return (a + b) / 2.0, root_list, iteration\n",
        "\n",
        "\n",
        "end_time = time.time()\n",
        "root,  root_list,iteration_list = bisection(f, 1, 2, 1e-14, 100)\n",
        "\n",
        "\n",
        "\n",
        "\n",
        "\n",
        "# Call the bisection function to define root and root_list\n",
        "print(\"\\n=== ==============================================\")\n",
        "print( \"Found root:\", root)\n",
        "print(\"Jumlah Iterasi : \",iteration_list)\n",
        "# Hitung Average CPU Time\n",
        "cpu_time = end_time - start_time\n",
        "print(\"Average CPU Time:\", cpu_time, \"seconds\")\n"
      ],
      "metadata": {
        "colab": {
          "base_uri": "https://localhost:8080/"
        },
        "id": "QBVWW-rdznjL",
        "outputId": "ac2a8041-3acd-4512-9746-fca839b891a6"
      },
      "execution_count": null,
      "outputs": [
        {
          "output_type": "stream",
          "name": "stdout",
          "text": [
            "Iterasi 1: Lower Bound = 1, Upper Bound = 2\n",
            "Iterasi 2: Lower Bound = 1.5, Upper Bound = 2\n",
            "Iterasi 3: Lower Bound = 1.5, Upper Bound = 1.75\n",
            "Iterasi 4: Lower Bound = 1.625, Upper Bound = 1.75\n",
            "Iterasi 5: Lower Bound = 1.625, Upper Bound = 1.6875\n",
            "Iterasi 6: Lower Bound = 1.625, Upper Bound = 1.65625\n",
            "Iterasi 7: Lower Bound = 1.640625, Upper Bound = 1.65625\n",
            "Iterasi 8: Lower Bound = 1.6484375, Upper Bound = 1.65625\n",
            "Iterasi 9: Lower Bound = 1.6484375, Upper Bound = 1.65234375\n",
            "Iterasi 10: Lower Bound = 1.6484375, Upper Bound = 1.650390625\n",
            "Iterasi 11: Lower Bound = 1.6484375, Upper Bound = 1.6494140625\n",
            "Iterasi 12: Lower Bound = 1.64892578125, Upper Bound = 1.6494140625\n",
            "Iterasi 13: Lower Bound = 1.64892578125, Upper Bound = 1.649169921875\n",
            "Iterasi 14: Lower Bound = 1.64892578125, Upper Bound = 1.6490478515625\n",
            "Iterasi 15: Lower Bound = 1.64898681640625, Upper Bound = 1.6490478515625\n",
            "Iterasi 16: Lower Bound = 1.64898681640625, Upper Bound = 1.649017333984375\n",
            "Iterasi 17: Lower Bound = 1.6490020751953125, Upper Bound = 1.649017333984375\n",
            "Iterasi 18: Lower Bound = 1.6490097045898438, Upper Bound = 1.649017333984375\n",
            "Iterasi 19: Lower Bound = 1.6490097045898438, Upper Bound = 1.6490135192871094\n",
            "Iterasi 20: Lower Bound = 1.6490116119384766, Upper Bound = 1.6490135192871094\n",
            "Iterasi 21: Lower Bound = 1.649012565612793, Upper Bound = 1.6490135192871094\n",
            "Iterasi 22: Lower Bound = 1.6490130424499512, Upper Bound = 1.6490135192871094\n",
            "Iterasi 23: Lower Bound = 1.6490130424499512, Upper Bound = 1.6490132808685303\n",
            "Iterasi 24: Lower Bound = 1.6490131616592407, Upper Bound = 1.6490132808685303\n",
            "Iterasi 25: Lower Bound = 1.6490132212638855, Upper Bound = 1.6490132808685303\n",
            "Iterasi 26: Lower Bound = 1.6490132510662079, Upper Bound = 1.6490132808685303\n",
            "Iterasi 27: Lower Bound = 1.649013265967369, Upper Bound = 1.6490132808685303\n",
            "Iterasi 28: Lower Bound = 1.649013265967369, Upper Bound = 1.6490132734179497\n",
            "Iterasi 29: Lower Bound = 1.649013265967369, Upper Bound = 1.6490132696926594\n",
            "Iterasi 30: Lower Bound = 1.6490132678300142, Upper Bound = 1.6490132696926594\n",
            "Iterasi 31: Lower Bound = 1.6490132678300142, Upper Bound = 1.6490132687613368\n",
            "Iterasi 32: Lower Bound = 1.6490132682956755, Upper Bound = 1.6490132687613368\n",
            "Iterasi 33: Lower Bound = 1.6490132682956755, Upper Bound = 1.6490132685285062\n",
            "Iterasi 34: Lower Bound = 1.6490132682956755, Upper Bound = 1.6490132684120908\n",
            "Iterasi 35: Lower Bound = 1.6490132682956755, Upper Bound = 1.6490132683538832\n",
            "Iterasi 36: Lower Bound = 1.6490132682956755, Upper Bound = 1.6490132683247793\n",
            "Iterasi 37: Lower Bound = 1.6490132682956755, Upper Bound = 1.6490132683102274\n",
            "Iterasi 38: Lower Bound = 1.6490132683029515, Upper Bound = 1.6490132683102274\n",
            "Iterasi 39: Lower Bound = 1.6490132683029515, Upper Bound = 1.6490132683065895\n",
            "Iterasi 40: Lower Bound = 1.6490132683029515, Upper Bound = 1.6490132683047705\n",
            "Iterasi 41: Lower Bound = 1.6490132683029515, Upper Bound = 1.649013268303861\n",
            "Iterasi 42: Lower Bound = 1.6490132683029515, Upper Bound = 1.6490132683034062\n",
            "Iterasi 43: Lower Bound = 1.6490132683031788, Upper Bound = 1.6490132683034062\n",
            "Iterasi 44: Lower Bound = 1.6490132683031788, Upper Bound = 1.6490132683032925\n",
            "Iterasi 45: Lower Bound = 1.6490132683031788, Upper Bound = 1.6490132683032357\n",
            "Iterasi 46: Lower Bound = 1.6490132683031788, Upper Bound = 1.6490132683032073\n",
            "\n",
            "=== ==============================================\n",
            "Found root: 1.649013268303186\n",
            "Jumlah Iterasi :  46\n",
            "Average CPU Time: 0.00020313262939453125 seconds\n"
          ]
        }
      ]
    },
    {
      "cell_type": "markdown",
      "source": [
        "## Problem 13\n",
        "\n",
        "sin (x) sinh (x) + 1 , Interval [3,4]"
      ],
      "metadata": {
        "id": "TLSv3QKHzqQx"
      }
    },
    {
      "cell_type": "code",
      "source": [
        "def f(x) :\n",
        "  return math.sin(x) * math.sinh(x) + 1"
      ],
      "metadata": {
        "id": "opGgBBkUzpK1"
      },
      "execution_count": null,
      "outputs": []
    },
    {
      "cell_type": "code",
      "source": [
        "# Mulai pengukuran waktu\n",
        "start_time = time.time()\n",
        "\n",
        "# Implementation of the bisection method\n",
        "def bisection(f, a, b, tol, max_iter):\n",
        "    if f(a) * f(b) >= 0: #Added 4 spaces of indentation\n",
        "        raise ValueError(\"There are no roots in this interval.\") #Added 4 spaces of indentation\n",
        "    iteration = 0\n",
        "    root_list = []\n",
        "    while (b - a) / 2.0 > tol and iteration < max_iter:\n",
        "        c = (a + b) / 2.0\n",
        "        print(f\"Iterasi {iteration+1}: Lower Bound = {a}, Upper Bound = {b}\")\n",
        "        root_list.append(c)\n",
        "        if f(c) == 0:\n",
        "            return c # Root found\n",
        "        elif f(c) * f(a) < 0:\n",
        "            b = c\n",
        "        else :\n",
        "            a = c\n",
        "        iteration += 1\n",
        "    return (a + b) / 2.0, root_list, iteration\n",
        "\n",
        "\n",
        "end_time = time.time()\n",
        "root,  root_list,iteration_list = bisection(f, 3, 4, 1e-14, 100)\n",
        "\n",
        "\n",
        "\n",
        "\n",
        "\n",
        "# Call the bisection function to define root and root_list\n",
        "print(\"\\n=== ==============================================\")\n",
        "print( \"Found root:\", root)\n",
        "print(\"Jumlah Iterasi : \",iteration_list)\n",
        "# Hitung Average CPU Time\n",
        "cpu_time = end_time - start_time\n",
        "print(\"Average CPU Time:\", cpu_time, \"seconds\")\n"
      ],
      "metadata": {
        "colab": {
          "base_uri": "https://localhost:8080/"
        },
        "id": "koFLA0B8z77B",
        "outputId": "26ecee51-8cd6-4bf8-bea6-149eafb9374c"
      },
      "execution_count": null,
      "outputs": [
        {
          "output_type": "stream",
          "name": "stdout",
          "text": [
            "Iterasi 1: Lower Bound = 3, Upper Bound = 4\n",
            "Iterasi 2: Lower Bound = 3, Upper Bound = 3.5\n",
            "Iterasi 3: Lower Bound = 3, Upper Bound = 3.25\n",
            "Iterasi 4: Lower Bound = 3.125, Upper Bound = 3.25\n",
            "Iterasi 5: Lower Bound = 3.1875, Upper Bound = 3.25\n",
            "Iterasi 6: Lower Bound = 3.21875, Upper Bound = 3.25\n",
            "Iterasi 7: Lower Bound = 3.21875, Upper Bound = 3.234375\n",
            "Iterasi 8: Lower Bound = 3.21875, Upper Bound = 3.2265625\n",
            "Iterasi 9: Lower Bound = 3.21875, Upper Bound = 3.22265625\n",
            "Iterasi 10: Lower Bound = 3.220703125, Upper Bound = 3.22265625\n",
            "Iterasi 11: Lower Bound = 3.220703125, Upper Bound = 3.2216796875\n",
            "Iterasi 12: Lower Bound = 3.22119140625, Upper Bound = 3.2216796875\n",
            "Iterasi 13: Lower Bound = 3.221435546875, Upper Bound = 3.2216796875\n",
            "Iterasi 14: Lower Bound = 3.2215576171875, Upper Bound = 3.2216796875\n",
            "Iterasi 15: Lower Bound = 3.2215576171875, Upper Bound = 3.22161865234375\n",
            "Iterasi 16: Lower Bound = 3.221588134765625, Upper Bound = 3.22161865234375\n",
            "Iterasi 17: Lower Bound = 3.221588134765625, Upper Bound = 3.2216033935546875\n",
            "Iterasi 18: Lower Bound = 3.221588134765625, Upper Bound = 3.2215957641601562\n",
            "Iterasi 19: Lower Bound = 3.221588134765625, Upper Bound = 3.2215919494628906\n",
            "Iterasi 20: Lower Bound = 3.221588134765625, Upper Bound = 3.221590042114258\n",
            "Iterasi 21: Lower Bound = 3.221588134765625, Upper Bound = 3.2215890884399414\n",
            "Iterasi 22: Lower Bound = 3.221588134765625, Upper Bound = 3.221588611602783\n",
            "Iterasi 23: Lower Bound = 3.221588373184204, Upper Bound = 3.221588611602783\n",
            "Iterasi 24: Lower Bound = 3.221588373184204, Upper Bound = 3.2215884923934937\n",
            "Iterasi 25: Lower Bound = 3.221588373184204, Upper Bound = 3.221588432788849\n",
            "Iterasi 26: Lower Bound = 3.221588373184204, Upper Bound = 3.2215884029865265\n",
            "Iterasi 27: Lower Bound = 3.2215883880853653, Upper Bound = 3.2215884029865265\n",
            "Iterasi 28: Lower Bound = 3.221588395535946, Upper Bound = 3.2215884029865265\n",
            "Iterasi 29: Lower Bound = 3.221588395535946, Upper Bound = 3.221588399261236\n",
            "Iterasi 30: Lower Bound = 3.221588397398591, Upper Bound = 3.221588399261236\n",
            "Iterasi 31: Lower Bound = 3.2215883983299136, Upper Bound = 3.221588399261236\n",
            "Iterasi 32: Lower Bound = 3.221588398795575, Upper Bound = 3.221588399261236\n",
            "Iterasi 33: Lower Bound = 3.2215883990284055, Upper Bound = 3.221588399261236\n",
            "Iterasi 34: Lower Bound = 3.2215883990284055, Upper Bound = 3.221588399144821\n",
            "Iterasi 35: Lower Bound = 3.221588399086613, Upper Bound = 3.221588399144821\n",
            "Iterasi 36: Lower Bound = 3.221588399086613, Upper Bound = 3.221588399115717\n",
            "Iterasi 37: Lower Bound = 3.221588399086613, Upper Bound = 3.221588399101165\n",
            "Iterasi 38: Lower Bound = 3.221588399093889, Upper Bound = 3.221588399101165\n",
            "Iterasi 39: Lower Bound = 3.221588399093889, Upper Bound = 3.221588399097527\n",
            "Iterasi 40: Lower Bound = 3.221588399093889, Upper Bound = 3.221588399095708\n",
            "Iterasi 41: Lower Bound = 3.221588399093889, Upper Bound = 3.2215883990947987\n",
            "Iterasi 42: Lower Bound = 3.221588399093889, Upper Bound = 3.221588399094344\n",
            "Iterasi 43: Lower Bound = 3.221588399093889, Upper Bound = 3.2215883990941165\n",
            "Iterasi 44: Lower Bound = 3.221588399093889, Upper Bound = 3.221588399094003\n",
            "Iterasi 45: Lower Bound = 3.221588399093889, Upper Bound = 3.221588399093946\n",
            "Iterasi 46: Lower Bound = 3.2215883990939176, Upper Bound = 3.221588399093946\n",
            "\n",
            "=== ==============================================\n",
            "Found root: 3.221588399093939\n",
            "Jumlah Iterasi :  46\n",
            "Average CPU Time: 0.0004329681396484375 seconds\n"
          ]
        }
      ]
    },
    {
      "cell_type": "markdown",
      "source": [
        "## Problem 14\n",
        "\n",
        "e^x - 3x - 2 , Interval [2,3]"
      ],
      "metadata": {
        "id": "3OHIfr18z_a0"
      }
    },
    {
      "cell_type": "code",
      "source": [
        "def f(x) :\n",
        "  return math.exp(x) - 3*x - 2"
      ],
      "metadata": {
        "id": "zad-jRVvz-eZ"
      },
      "execution_count": null,
      "outputs": []
    },
    {
      "cell_type": "code",
      "source": [
        "# Mulai pengukuran waktu\n",
        "start_time = time.time()\n",
        "\n",
        "# Implementation of the bisection method\n",
        "def bisection(f, a, b, tol, max_iter):\n",
        "    if f(a) * f(b) >= 0: #Added 4 spaces of indentation\n",
        "        raise ValueError(\"There are no roots in this interval.\") #Added 4 spaces of indentation\n",
        "    iteration = 0\n",
        "    root_list = []\n",
        "    while (b - a) / 2.0 > tol and iteration < max_iter:\n",
        "        c = (a + b) / 2.0\n",
        "        print(f\"Iterasi {iteration+1}: Lower Bound = {a}, Upper Bound = {b}\")\n",
        "        root_list.append(c)\n",
        "        if f(c) == 0:\n",
        "            return c # Root found\n",
        "        elif f(c) * f(a) < 0:\n",
        "            b = c\n",
        "        else :\n",
        "            a = c\n",
        "        iteration += 1\n",
        "    return (a + b) / 2.0, root_list,iteration\n",
        "\n",
        "\n",
        "end_time = time.time()\n",
        "root, root_list,iteration_list = bisection(f, 2, 3, 1e-13, 1000)\n",
        "\n",
        "\n",
        "\n",
        "\n",
        "\n",
        "# Call the bisection function to define root and root_list\n",
        "print(\"\\n=== ==============================================\")\n",
        "print( \"Found root:\", root)\n",
        "print(\"Jumlah Iterasi : \",iteration_list)\n",
        "# Hitung Average CPU Time\n",
        "cpu_time = end_time - start_time\n",
        "print(\"Average CPU Time:\", cpu_time, \"seconds\")\n"
      ],
      "metadata": {
        "colab": {
          "base_uri": "https://localhost:8080/"
        },
        "id": "I0K1WuCg0RtO",
        "outputId": "7db67e20-773e-488f-a008-ca017a517a4c"
      },
      "execution_count": null,
      "outputs": [
        {
          "output_type": "stream",
          "name": "stdout",
          "text": [
            "Iterasi 1: Lower Bound = 2, Upper Bound = 3\n",
            "Iterasi 2: Lower Bound = 2, Upper Bound = 2.5\n",
            "Iterasi 3: Lower Bound = 2, Upper Bound = 2.25\n",
            "Iterasi 4: Lower Bound = 2.125, Upper Bound = 2.25\n",
            "Iterasi 5: Lower Bound = 2.125, Upper Bound = 2.1875\n",
            "Iterasi 6: Lower Bound = 2.125, Upper Bound = 2.15625\n",
            "Iterasi 7: Lower Bound = 2.125, Upper Bound = 2.140625\n",
            "Iterasi 8: Lower Bound = 2.125, Upper Bound = 2.1328125\n",
            "Iterasi 9: Lower Bound = 2.125, Upper Bound = 2.12890625\n",
            "Iterasi 10: Lower Bound = 2.125, Upper Bound = 2.126953125\n",
            "Iterasi 11: Lower Bound = 2.125, Upper Bound = 2.1259765625\n",
            "Iterasi 12: Lower Bound = 2.125, Upper Bound = 2.12548828125\n",
            "Iterasi 13: Lower Bound = 2.125244140625, Upper Bound = 2.12548828125\n",
            "Iterasi 14: Lower Bound = 2.1253662109375, Upper Bound = 2.12548828125\n",
            "Iterasi 15: Lower Bound = 2.1253662109375, Upper Bound = 2.12542724609375\n",
            "Iterasi 16: Lower Bound = 2.1253662109375, Upper Bound = 2.125396728515625\n",
            "Iterasi 17: Lower Bound = 2.1253814697265625, Upper Bound = 2.125396728515625\n",
            "Iterasi 18: Lower Bound = 2.1253890991210938, Upper Bound = 2.125396728515625\n",
            "Iterasi 19: Lower Bound = 2.1253890991210938, Upper Bound = 2.1253929138183594\n",
            "Iterasi 20: Lower Bound = 2.1253910064697266, Upper Bound = 2.1253929138183594\n",
            "Iterasi 21: Lower Bound = 2.1253910064697266, Upper Bound = 2.125391960144043\n",
            "Iterasi 22: Lower Bound = 2.1253910064697266, Upper Bound = 2.1253914833068848\n",
            "Iterasi 23: Lower Bound = 2.1253910064697266, Upper Bound = 2.1253912448883057\n",
            "Iterasi 24: Lower Bound = 2.125391125679016, Upper Bound = 2.1253912448883057\n",
            "Iterasi 25: Lower Bound = 2.125391185283661, Upper Bound = 2.1253912448883057\n",
            "Iterasi 26: Lower Bound = 2.125391185283661, Upper Bound = 2.1253912150859833\n",
            "Iterasi 27: Lower Bound = 2.125391185283661, Upper Bound = 2.125391200184822\n",
            "Iterasi 28: Lower Bound = 2.1253911927342415, Upper Bound = 2.125391200184822\n",
            "Iterasi 29: Lower Bound = 2.125391196459532, Upper Bound = 2.125391200184822\n",
            "Iterasi 30: Lower Bound = 2.125391198322177, Upper Bound = 2.125391200184822\n",
            "Iterasi 31: Lower Bound = 2.125391198322177, Upper Bound = 2.1253911992534995\n",
            "Iterasi 32: Lower Bound = 2.125391198787838, Upper Bound = 2.1253911992534995\n",
            "Iterasi 33: Lower Bound = 2.125391198787838, Upper Bound = 2.125391199020669\n",
            "Iterasi 34: Lower Bound = 2.125391198787838, Upper Bound = 2.1253911989042535\n",
            "Iterasi 35: Lower Bound = 2.125391198787838, Upper Bound = 2.125391198846046\n",
            "Iterasi 36: Lower Bound = 2.125391198787838, Upper Bound = 2.125391198816942\n",
            "Iterasi 37: Lower Bound = 2.12539119880239, Upper Bound = 2.125391198816942\n",
            "Iterasi 38: Lower Bound = 2.125391198809666, Upper Bound = 2.125391198816942\n",
            "Iterasi 39: Lower Bound = 2.125391198809666, Upper Bound = 2.125391198813304\n",
            "Iterasi 40: Lower Bound = 2.125391198809666, Upper Bound = 2.125391198811485\n",
            "Iterasi 41: Lower Bound = 2.1253911988105756, Upper Bound = 2.125391198811485\n",
            "Iterasi 42: Lower Bound = 2.1253911988110303, Upper Bound = 2.125391198811485\n",
            "Iterasi 43: Lower Bound = 2.1253911988110303, Upper Bound = 2.1253911988112577\n",
            "\n",
            "=== ==============================================\n",
            "Found root: 2.125391198811087\n",
            "Jumlah Iterasi :  43\n",
            "Average CPU Time: 0.00021719932556152344 seconds\n"
          ]
        }
      ]
    },
    {
      "cell_type": "markdown",
      "source": [
        "## Problem 15\n",
        "\n",
        "sin (x) - x^2 , Interval [0.5 , 1]"
      ],
      "metadata": {
        "id": "bH-RqAsM0Unf"
      }
    },
    {
      "cell_type": "code",
      "source": [
        "def f(x) :\n",
        "  return math.sin(x) - x**2"
      ],
      "metadata": {
        "id": "dlkGzMOs0TtV"
      },
      "execution_count": null,
      "outputs": []
    },
    {
      "cell_type": "code",
      "source": [
        "# Mulai pengukuran waktu\n",
        "start_time = time.time()\n",
        "\n",
        "# Implementation of the bisection method\n",
        "def bisection(f, a, b, tol, max_iter):\n",
        "    if f(a) * f(b) >= 0: #Added 4 spaces of indentation\n",
        "        raise ValueError(\"There are no roots in this interval.\") #Added 4 spaces of indentation\n",
        "    iteration = 0\n",
        "    root_list = []\n",
        "    while (b - a) / 2.0 > tol and iteration < max_iter:\n",
        "        c = (a + b) / 2.0\n",
        "        print(f\"Iterasi {iteration+1}: Lower Bound = {a}, Upper Bound = {b}\")\n",
        "        root_list.append(c)\n",
        "        if f(c) == 0:\n",
        "            return c # Root found\n",
        "        elif f(c) * f(a) < 0:\n",
        "            b = c\n",
        "        else :\n",
        "            a = c\n",
        "        iteration += 1\n",
        "    return (a + b) / 2.0, root_list, iteration\n",
        "\n",
        "\n",
        "end_time = time.time()\n",
        "root,  root_list,iteration_list = bisection(f, 0.5, 1, 1e-14, 100)\n",
        "\n",
        "\n",
        "\n",
        "\n",
        "\n",
        "# Call the bisection function to define root and root_list\n",
        "print(\"\\n=== ==============================================\")\n",
        "print( \"Found root:\", root)\n",
        "print(\"Jumlah Iterasi : \",iteration_list)\n",
        "# Hitung Average CPU Time\n",
        "cpu_time = end_time - start_time\n",
        "print(\"Average CPU Time:\", cpu_time, \"seconds\")\n"
      ],
      "metadata": {
        "colab": {
          "base_uri": "https://localhost:8080/"
        },
        "id": "ZPjvfTTCHb7v",
        "outputId": "4cc345f9-df6d-4ec9-9f0c-d0be4d6c3dbd"
      },
      "execution_count": null,
      "outputs": [
        {
          "output_type": "stream",
          "name": "stdout",
          "text": [
            "Iterasi 1: Lower Bound = 0.5, Upper Bound = 1\n",
            "Iterasi 2: Lower Bound = 0.75, Upper Bound = 1\n",
            "Iterasi 3: Lower Bound = 0.875, Upper Bound = 1\n",
            "Iterasi 4: Lower Bound = 0.875, Upper Bound = 0.9375\n",
            "Iterasi 5: Lower Bound = 0.875, Upper Bound = 0.90625\n",
            "Iterasi 6: Lower Bound = 0.875, Upper Bound = 0.890625\n",
            "Iterasi 7: Lower Bound = 0.875, Upper Bound = 0.8828125\n",
            "Iterasi 8: Lower Bound = 0.875, Upper Bound = 0.87890625\n",
            "Iterasi 9: Lower Bound = 0.875, Upper Bound = 0.876953125\n",
            "Iterasi 10: Lower Bound = 0.8759765625, Upper Bound = 0.876953125\n",
            "Iterasi 11: Lower Bound = 0.87646484375, Upper Bound = 0.876953125\n",
            "Iterasi 12: Lower Bound = 0.876708984375, Upper Bound = 0.876953125\n",
            "Iterasi 13: Lower Bound = 0.876708984375, Upper Bound = 0.8768310546875\n",
            "Iterasi 14: Lower Bound = 0.876708984375, Upper Bound = 0.87677001953125\n",
            "Iterasi 15: Lower Bound = 0.876708984375, Upper Bound = 0.876739501953125\n",
            "Iterasi 16: Lower Bound = 0.8767242431640625, Upper Bound = 0.876739501953125\n",
            "Iterasi 17: Lower Bound = 0.8767242431640625, Upper Bound = 0.8767318725585938\n",
            "Iterasi 18: Lower Bound = 0.8767242431640625, Upper Bound = 0.8767280578613281\n",
            "Iterasi 19: Lower Bound = 0.8767261505126953, Upper Bound = 0.8767280578613281\n",
            "Iterasi 20: Lower Bound = 0.8767261505126953, Upper Bound = 0.8767271041870117\n",
            "Iterasi 21: Lower Bound = 0.8767261505126953, Upper Bound = 0.8767266273498535\n",
            "Iterasi 22: Lower Bound = 0.8767261505126953, Upper Bound = 0.8767263889312744\n",
            "Iterasi 23: Lower Bound = 0.8767261505126953, Upper Bound = 0.8767262697219849\n",
            "Iterasi 24: Lower Bound = 0.8767262101173401, Upper Bound = 0.8767262697219849\n",
            "Iterasi 25: Lower Bound = 0.8767262101173401, Upper Bound = 0.8767262399196625\n",
            "Iterasi 26: Lower Bound = 0.8767262101173401, Upper Bound = 0.8767262250185013\n",
            "Iterasi 27: Lower Bound = 0.8767262101173401, Upper Bound = 0.8767262175679207\n",
            "Iterasi 28: Lower Bound = 0.8767262138426304, Upper Bound = 0.8767262175679207\n",
            "Iterasi 29: Lower Bound = 0.8767262138426304, Upper Bound = 0.8767262157052755\n",
            "Iterasi 30: Lower Bound = 0.876726214773953, Upper Bound = 0.8767262157052755\n",
            "Iterasi 31: Lower Bound = 0.8767262152396142, Upper Bound = 0.8767262157052755\n",
            "Iterasi 32: Lower Bound = 0.8767262152396142, Upper Bound = 0.8767262154724449\n",
            "Iterasi 33: Lower Bound = 0.8767262153560296, Upper Bound = 0.8767262154724449\n",
            "Iterasi 34: Lower Bound = 0.8767262153560296, Upper Bound = 0.8767262154142372\n",
            "Iterasi 35: Lower Bound = 0.8767262153851334, Upper Bound = 0.8767262154142372\n",
            "Iterasi 36: Lower Bound = 0.8767262153851334, Upper Bound = 0.8767262153996853\n",
            "Iterasi 37: Lower Bound = 0.8767262153924094, Upper Bound = 0.8767262153996853\n",
            "Iterasi 38: Lower Bound = 0.8767262153924094, Upper Bound = 0.8767262153960473\n",
            "Iterasi 39: Lower Bound = 0.8767262153942283, Upper Bound = 0.8767262153960473\n",
            "Iterasi 40: Lower Bound = 0.8767262153942283, Upper Bound = 0.8767262153951378\n",
            "Iterasi 41: Lower Bound = 0.8767262153946831, Upper Bound = 0.8767262153951378\n",
            "Iterasi 42: Lower Bound = 0.8767262153949105, Upper Bound = 0.8767262153951378\n",
            "Iterasi 43: Lower Bound = 0.8767262153950242, Upper Bound = 0.8767262153951378\n",
            "Iterasi 44: Lower Bound = 0.8767262153950242, Upper Bound = 0.876726215395081\n",
            "Iterasi 45: Lower Bound = 0.8767262153950526, Upper Bound = 0.876726215395081\n",
            "\n",
            "=== ==============================================\n",
            "Found root: 0.8767262153950597\n",
            "Jumlah Iterasi :  45\n",
            "Average CPU Time: 0.00021982192993164062 seconds\n"
          ]
        }
      ]
    }
  ]
}