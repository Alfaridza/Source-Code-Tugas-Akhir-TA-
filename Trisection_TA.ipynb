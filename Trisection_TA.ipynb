{
  "nbformat": 4,
  "nbformat_minor": 0,
  "metadata": {
    "colab": {
      "provenance": [],
      "authorship_tag": "ABX9TyMCqItTtOsWbGjytC2lhEMU",
      "include_colab_link": true
    },
    "kernelspec": {
      "name": "python3",
      "display_name": "Python 3"
    },
    "language_info": {
      "name": "python"
    }
  },
  "cells": [
    {
      "cell_type": "markdown",
      "metadata": {
        "id": "view-in-github",
        "colab_type": "text"
      },
      "source": [
        "<a href=\"https://colab.research.google.com/github/Alfaridza/Source-Code-Tugas-Akhir-TA-/blob/main/Trisection_TA.ipynb\" target=\"_parent\"><img src=\"https://colab.research.google.com/assets/colab-badge.svg\" alt=\"Open In Colab\"/></a>"
      ]
    },
    {
      "cell_type": "code",
      "execution_count": null,
      "metadata": {
        "id": "ExPmcXPP5yzC"
      },
      "outputs": [],
      "source": [
        "import numpy as np\n",
        "#import matplotlib.pyplot as plt\n",
        "import time\n",
        "import math"
      ]
    },
    {
      "cell_type": "markdown",
      "source": [
        "## Fungsi Persamaan 1\n",
        "\n",
        "x^2 - 3, Interval [1,2]"
      ],
      "metadata": {
        "id": "sRZh1yBT59zD"
      }
    },
    {
      "cell_type": "code",
      "source": [
        "def f(x):\n",
        "  return x**2 - 3"
      ],
      "metadata": {
        "id": "ov7PeP9X59D-"
      },
      "execution_count": null,
      "outputs": []
    },
    {
      "cell_type": "code",
      "source": [
        "# Implementasi metode trisection\n",
        "def trisection(f, a, b, tol, max_iter):\n",
        "    if f(a) * f(b) >= 0:\n",
        "        raise ValueError(\"There are no roots in this interval.\")\n",
        "    iteration = 0\n",
        "    root_list = []\n",
        "    while (b - a) > tol and iteration < max_iter:\n",
        "        m1 = (2*a + b)/3\n",
        "        m2 = (2*b+a)/3\n",
        "        root_list.append((m1 + m2) / 2)\n",
        "        print(f\"Trisection Iterasi {iteration+1}: Lower Bound = {a}, Upper Bound = {b}\")\n",
        "        if f(m1) == 0:\n",
        "            return m1, iteration, root_list\n",
        "        elif f(m2) == 0:\n",
        "            return m2, iteration, root_list\n",
        "        elif f(a) * f(m1) < 0:\n",
        "            b = m1\n",
        "        elif f(m1) * f(m2) < 0:\n",
        "            a, b = m1, m2\n",
        "        else:\n",
        "            a = m2\n",
        "        iteration += 1\n",
        "    return (a + b) / 2.0, iteration, root_list\n",
        "\n",
        "start_time = time.time()\n",
        "root_trisection, iteration_trisection, root_list_trisection = trisection(f, 1, 2, 1e-14, 100)\n",
        "end_time = time.time()\n",
        "cpu_time_trisection = end_time - start_time\n",
        "\n",
        "print(\"\\n=== Trisection Method ===\")\n",
        "print(\"Found root:\", root_trisection)\n",
        "print(\"Average CPU Time:\", cpu_time_trisection, \"seconds\")\n",
        "print(\"Number of iterations:\", iteration_trisection)"
      ],
      "metadata": {
        "colab": {
          "base_uri": "https://localhost:8080/"
        },
        "id": "yW71SVby6asz",
        "outputId": "cdd0b6c8-b3e0-4fe7-a73a-33e6234980a1"
      },
      "execution_count": null,
      "outputs": [
        {
          "output_type": "stream",
          "name": "stdout",
          "text": [
            "Trisection Iterasi 1: Lower Bound = 1, Upper Bound = 2\n",
            "Trisection Iterasi 2: Lower Bound = 1.6666666666666667, Upper Bound = 2\n",
            "Trisection Iterasi 3: Lower Bound = 1.6666666666666667, Upper Bound = 1.777777777777778\n",
            "Trisection Iterasi 4: Lower Bound = 1.703703703703704, Upper Bound = 1.7407407407407407\n",
            "Trisection Iterasi 5: Lower Bound = 1.728395061728395, Upper Bound = 1.7407407407407407\n",
            "Trisection Iterasi 6: Lower Bound = 1.728395061728395, Upper Bound = 1.7325102880658436\n",
            "Trisection Iterasi 7: Lower Bound = 1.7311385459533606, Upper Bound = 1.7325102880658436\n",
            "Trisection Iterasi 8: Lower Bound = 1.7315957933241883, Upper Bound = 1.7320530406950159\n",
            "Trisection Iterasi 9: Lower Bound = 1.73190062490474, Upper Bound = 1.7320530406950159\n",
            "Trisection Iterasi 10: Lower Bound = 1.7320022354315905, Upper Bound = 1.7320530406950159\n",
            "Trisection Iterasi 11: Lower Bound = 1.7320361056072073, Upper Bound = 1.7320530406950159\n",
            "Trisection Iterasi 12: Lower Bound = 1.7320473956657463, Upper Bound = 1.7320530406950159\n",
            "Trisection Iterasi 13: Lower Bound = 1.7320492773421694, Upper Bound = 1.7320511590185925\n",
            "Trisection Iterasi 14: Lower Bound = 1.732050531793118, Upper Bound = 1.7320511590185925\n",
            "Trisection Iterasi 15: Lower Bound = 1.7320507408682762, Upper Bound = 1.7320509499434344\n",
            "Trisection Iterasi 16: Lower Bound = 1.7320507408682762, Upper Bound = 1.7320508105599954\n",
            "Trisection Iterasi 17: Lower Bound = 1.7320507873294222, Upper Bound = 1.7320508105599954\n",
            "Trisection Iterasi 18: Lower Bound = 1.732050802816471, Upper Bound = 1.7320508105599954\n",
            "Trisection Iterasi 19: Lower Bound = 1.7320508053976458, Upper Bound = 1.7320508079788206\n",
            "Trisection Iterasi 20: Lower Bound = 1.732050807118429, Upper Bound = 1.7320508079788206\n",
            "Trisection Iterasi 21: Lower Bound = 1.7320508074052263, Upper Bound = 1.7320508076920234\n",
            "Trisection Iterasi 22: Lower Bound = 1.7320508075008254, Upper Bound = 1.7320508075964245\n",
            "Trisection Iterasi 23: Lower Bound = 1.7320508075645582, Upper Bound = 1.7320508075964245\n",
            "Trisection Iterasi 24: Lower Bound = 1.7320508075645582, Upper Bound = 1.7320508075751804\n",
            "Trisection Iterasi 25: Lower Bound = 1.732050807568099, Upper Bound = 1.7320508075716397\n",
            "Trisection Iterasi 26: Lower Bound = 1.732050807568099, Upper Bound = 1.732050807569279\n",
            "Trisection Iterasi 27: Lower Bound = 1.7320508075684924, Upper Bound = 1.7320508075688856\n",
            "Trisection Iterasi 28: Lower Bound = 1.7320508075687544, Upper Bound = 1.7320508075688856\n",
            "Trisection Iterasi 29: Lower Bound = 1.7320508075688419, Upper Bound = 1.7320508075688856\n",
            "Trisection Iterasi 30: Lower Bound = 1.7320508075688712, Upper Bound = 1.7320508075688856\n",
            "\n",
            "=== Trisection Method ===\n",
            "Found root: 1.7320508075688785\n",
            "Average CPU Time: 0.006552219390869141 seconds\n",
            "Number of iterations: 30\n"
          ]
        }
      ]
    },
    {
      "cell_type": "markdown",
      "source": [
        "## Fungsi Persamaan 2\n",
        "\n",
        "x^2 - 5, Interval [2,7]"
      ],
      "metadata": {
        "id": "m-bZL1LU8dVX"
      }
    },
    {
      "cell_type": "code",
      "source": [
        "def f(x):\n",
        "  return x**2 - 5"
      ],
      "metadata": {
        "id": "ax8g1JVE8nB4"
      },
      "execution_count": null,
      "outputs": []
    },
    {
      "cell_type": "code",
      "source": [
        "# Implementasi metode trisection\n",
        "def trisection(f, a, b, tol, max_iter):\n",
        "    if f(a) * f(b) >= 0:\n",
        "        raise ValueError(\"There are no roots in this interval.\")\n",
        "    iteration = 0\n",
        "    root_list = []\n",
        "    while (b - a) > tol and iteration < max_iter:\n",
        "        m1 = (2*a + b)/3\n",
        "        m2 = (2*b+a)/3\n",
        "        root_list.append((m1 + m2) / 2)\n",
        "        print(f\"Trisection Iterasi {iteration+1}: Lower Bound = {a}, Upper Bound = {b}\")\n",
        "        if f(m1) == 0:\n",
        "            return m1, iteration, root_list\n",
        "        elif f(m2) == 0:\n",
        "            return m2, iteration, root_list\n",
        "        elif f(a) * f(m1) < 0:\n",
        "            b = m1\n",
        "        elif f(m1) * f(m2) < 0:\n",
        "            a, b = m1, m2\n",
        "        else:\n",
        "            a = m2\n",
        "        iteration += 1\n",
        "    return (a + b) / 2.0, iteration, root_list\n",
        "\n",
        "start_time = time.time()\n",
        "root_trisection, iteration_trisection, root_list_trisection = trisection(f, 2, 7, 1e-14, 100)\n",
        "end_time = time.time()\n",
        "cpu_time_trisection = end_time - start_time\n",
        "\n",
        "print(\"\\n=== Trisection Method ===\")\n",
        "print(\"Found root:\", root_trisection)\n",
        "print(\"Average CPU Time:\", cpu_time_trisection, \"seconds\")\n",
        "print(\"Number of iterations:\", iteration_trisection)"
      ],
      "metadata": {
        "colab": {
          "base_uri": "https://localhost:8080/"
        },
        "id": "5fWtLr7z8ty1",
        "outputId": "54709a62-39d8-4814-9b71-c541d8ebfe88"
      },
      "execution_count": null,
      "outputs": [
        {
          "output_type": "stream",
          "name": "stdout",
          "text": [
            "Trisection Iterasi 1: Lower Bound = 2, Upper Bound = 7\n",
            "Trisection Iterasi 2: Lower Bound = 2, Upper Bound = 3.6666666666666665\n",
            "Trisection Iterasi 3: Lower Bound = 2, Upper Bound = 2.5555555555555554\n",
            "Trisection Iterasi 4: Lower Bound = 2.185185185185185, Upper Bound = 2.3703703703703702\n",
            "Trisection Iterasi 5: Lower Bound = 2.185185185185185, Upper Bound = 2.2469135802469133\n",
            "Trisection Iterasi 6: Lower Bound = 2.2263374485596708, Upper Bound = 2.2469135802469133\n",
            "Trisection Iterasi 7: Lower Bound = 2.2331961591220852, Upper Bound = 2.2400548696844993\n",
            "Trisection Iterasi 8: Lower Bound = 2.235482395976223, Upper Bound = 2.2377686328303614\n",
            "Trisection Iterasi 9: Lower Bound = 2.235482395976223, Upper Bound = 2.2362444749276027\n",
            "Trisection Iterasi 10: Lower Bound = 2.235990448610476, Upper Bound = 2.2362444749276027\n",
            "Trisection Iterasi 11: Lower Bound = 2.235990448610476, Upper Bound = 2.2360751240495182\n",
            "Trisection Iterasi 12: Lower Bound = 2.236046898903171, Upper Bound = 2.2360751240495182\n",
            "Trisection Iterasi 13: Lower Bound = 2.2360657156674026, Upper Bound = 2.2360751240495182\n",
            "Trisection Iterasi 14: Lower Bound = 2.2360657156674026, Upper Bound = 2.2360688517947747\n",
            "Trisection Iterasi 15: Lower Bound = 2.236067806418984, Upper Bound = 2.2360688517947747\n",
            "Trisection Iterasi 16: Lower Bound = 2.236067806418984, Upper Bound = 2.236068154877581\n",
            "Trisection Iterasi 17: Lower Bound = 2.23606792257185, Upper Bound = 2.2360680387247154\n",
            "Trisection Iterasi 18: Lower Bound = 2.236067961289472, Upper Bound = 2.236068000007094\n",
            "Trisection Iterasi 19: Lower Bound = 2.2360679741953455, Upper Bound = 2.23606798710122\n",
            "Trisection Iterasi 20: Lower Bound = 2.2360679741953455, Upper Bound = 2.2360679784973034\n",
            "Trisection Iterasi 21: Lower Bound = 2.2360679770633176, Upper Bound = 2.2360679784973034\n",
            "Trisection Iterasi 22: Lower Bound = 2.2360679770633176, Upper Bound = 2.2360679775413126\n",
            "Trisection Iterasi 23: Lower Bound = 2.236067977381981, Upper Bound = 2.2360679775413126\n",
            "Trisection Iterasi 24: Lower Bound = 2.236067977488202, Upper Bound = 2.2360679775413126\n",
            "Trisection Iterasi 25: Lower Bound = 2.236067977488202, Upper Bound = 2.236067977505906\n",
            "Trisection Iterasi 26: Lower Bound = 2.2360679774941032, Upper Bound = 2.2360679775000047\n",
            "Trisection Iterasi 27: Lower Bound = 2.236067977498038, Upper Bound = 2.2360679775000047\n",
            "Trisection Iterasi 28: Lower Bound = 2.2360679774993493, Upper Bound = 2.2360679775000047\n",
            "Trisection Iterasi 29: Lower Bound = 2.2360679774997863, Upper Bound = 2.2360679775000047\n",
            "Trisection Iterasi 30: Lower Bound = 2.2360679774997863, Upper Bound = 2.236067977499859\n",
            "Trisection Iterasi 31: Lower Bound = 2.2360679774997863, Upper Bound = 2.2360679774998107\n",
            "\n",
            "=== Trisection Method ===\n",
            "Found root: 2.2360679774997907\n",
            "Average CPU Time: 0.015012264251708984 seconds\n",
            "Number of iterations: 31\n"
          ]
        }
      ]
    },
    {
      "cell_type": "markdown",
      "source": [
        "## Fungsi Persamaan 3\n",
        "\n",
        "x^2 - 10, Interval [3,4]"
      ],
      "metadata": {
        "id": "RO74vu_69GuX"
      }
    },
    {
      "cell_type": "code",
      "source": [
        "def f(x) :\n",
        "  return x**2 - 10"
      ],
      "metadata": {
        "id": "JAO10LKx9P6j"
      },
      "execution_count": null,
      "outputs": []
    },
    {
      "cell_type": "code",
      "source": [
        "# Implementasi metode trisection\n",
        "def trisection(f, a, b, tol, max_iter):\n",
        "    if f(a) * f(b) >= 0:\n",
        "        raise ValueError(\"There are no roots in this interval.\")\n",
        "    iteration = 0\n",
        "    root_list = []\n",
        "    while (b - a) > tol and iteration < max_iter:\n",
        "        m1 = (2*a + b)/3\n",
        "        m2 = (2*b+a)/3\n",
        "        root_list.append((m1 + m2) / 2)\n",
        "        print(f\"Trisection Iterasi {iteration+1}: Lower Bound = {a}, Upper Bound = {b}\")\n",
        "        if f(m1) == 0:\n",
        "            return m1, iteration, root_list\n",
        "        elif f(m2) == 0:\n",
        "            return m2, iteration, root_list\n",
        "        elif f(a) * f(m1) < 0:\n",
        "            b = m1\n",
        "        elif f(m1) * f(m2) < 0:\n",
        "            a, b = m1, m2\n",
        "        else:\n",
        "            a = m2\n",
        "        iteration += 1\n",
        "    return (a + b) / 2.0, iteration, root_list\n",
        "\n",
        "start_time = time.time()\n",
        "root_trisection, iteration_trisection, root_list_trisection = trisection(f, 3, 4, 1e-14, 100)\n",
        "end_time = time.time()\n",
        "cpu_time_trisection = end_time - start_time\n",
        "\n",
        "print(\"\\n=== Trisection Method ===\")\n",
        "print(\"Found root:\", root_trisection)\n",
        "print(\"Average CPU Time:\", cpu_time_trisection, \"seconds\")\n",
        "print(\"Number of iterations:\", iteration_trisection)"
      ],
      "metadata": {
        "colab": {
          "base_uri": "https://localhost:8080/"
        },
        "id": "R5bVw5fj9Wcg",
        "outputId": "046900f9-5f94-4993-f281-e50ac139b276"
      },
      "execution_count": null,
      "outputs": [
        {
          "output_type": "stream",
          "name": "stdout",
          "text": [
            "Trisection Iterasi 1: Lower Bound = 3, Upper Bound = 4\n",
            "Trisection Iterasi 2: Lower Bound = 3, Upper Bound = 3.3333333333333335\n",
            "Trisection Iterasi 3: Lower Bound = 3.111111111111111, Upper Bound = 3.2222222222222228\n",
            "Trisection Iterasi 4: Lower Bound = 3.1481481481481484, Upper Bound = 3.1851851851851856\n",
            "Trisection Iterasi 5: Lower Bound = 3.160493827160494, Upper Bound = 3.17283950617284\n",
            "Trisection Iterasi 6: Lower Bound = 3.160493827160494, Upper Bound = 3.1646090534979425\n",
            "Trisection Iterasi 7: Lower Bound = 3.1618655692729773, Upper Bound = 3.1632373113854597\n",
            "Trisection Iterasi 8: Lower Bound = 3.1618655692729773, Upper Bound = 3.1623228166438047\n",
            "Trisection Iterasi 9: Lower Bound = 3.162170400853529, Upper Bound = 3.1623228166438047\n",
            "Trisection Iterasi 10: Lower Bound = 3.1622720113803795, Upper Bound = 3.1623228166438047\n",
            "Trisection Iterasi 11: Lower Bound = 3.1622720113803795, Upper Bound = 3.1622889464681876\n",
            "Trisection Iterasi 12: Lower Bound = 3.1622776564096484, Upper Bound = 3.1622833014389182\n",
            "Trisection Iterasi 13: Lower Bound = 3.1622776564096484, Upper Bound = 3.1622795380860715\n",
            "Trisection Iterasi 14: Lower Bound = 3.1622776564096484, Upper Bound = 3.1622782836351226\n",
            "Trisection Iterasi 15: Lower Bound = 3.1622776564096484, Upper Bound = 3.1622778654848065\n",
            "Trisection Iterasi 16: Lower Bound = 3.1622776564096484, Upper Bound = 3.1622777261013675\n",
            "Trisection Iterasi 17: Lower Bound = 3.1622776564096484, Upper Bound = 3.1622776796402214\n",
            "Trisection Iterasi 18: Lower Bound = 3.1622776564096484, Upper Bound = 3.162277664153173\n",
            "Trisection Iterasi 19: Lower Bound = 3.162277658990823, Upper Bound = 3.162277661571998\n",
            "Trisection Iterasi 20: Lower Bound = 3.1622776598512146, Upper Bound = 3.1622776607116063\n",
            "Trisection Iterasi 21: Lower Bound = 3.162277660138012, Upper Bound = 3.162277660424809\n",
            "Trisection Iterasi 22: Lower Bound = 3.162277660138012, Upper Bound = 3.162277660233611\n",
            "Trisection Iterasi 23: Lower Bound = 3.162277660138012, Upper Bound = 3.162277660169878\n",
            "Trisection Iterasi 24: Lower Bound = 3.162277660159256, Upper Bound = 3.162277660169878\n",
            "Trisection Iterasi 25: Lower Bound = 3.162277660166337, Upper Bound = 3.162277660169878\n",
            "Trisection Iterasi 26: Lower Bound = 3.162277660167517, Upper Bound = 3.162277660168698\n",
            "Trisection Iterasi 27: Lower Bound = 3.162277660168304, Upper Bound = 3.162277660168698\n",
            "Trisection Iterasi 28: Lower Bound = 3.162277660168304, Upper Bound = 3.162277660168435\n",
            "Trisection Iterasi 29: Lower Bound = 3.1622776601683475, Upper Bound = 3.162277660168391\n",
            "Trisection Iterasi 30: Lower Bound = 3.1622776601683764, Upper Bound = 3.162277660168391\n",
            "\n",
            "=== Trisection Method ===\n",
            "Found root: 3.162277660168379\n",
            "Average CPU Time: 0.0132598876953125 seconds\n",
            "Number of iterations: 30\n"
          ]
        }
      ]
    },
    {
      "cell_type": "markdown",
      "source": [
        "## Persamaan Fungsi 4\n",
        "\n",
        "x^2 - x - 2, Interval [1,4]"
      ],
      "metadata": {
        "id": "mOtqtJKD9ry7"
      }
    },
    {
      "cell_type": "code",
      "source": [
        "def f(x):\n",
        "  return x**2 - x - 2"
      ],
      "metadata": {
        "id": "lxMdCE6x90J8"
      },
      "execution_count": null,
      "outputs": []
    },
    {
      "cell_type": "code",
      "source": [
        "# Implementasi metode trisection\n",
        "def trisection(f, a, b, tol, max_iter):\n",
        "    if f(a) * f(b) >= 0:\n",
        "        raise ValueError(\"There are no roots in this interval.\")\n",
        "    iteration = 0\n",
        "    root_list = []\n",
        "    while (b - a) > tol and iteration < max_iter:\n",
        "        m1 = (2*a + b)/3\n",
        "        m2 = (2*b+a)/3\n",
        "        root_list.append((m1 + m2) / 2)\n",
        "        print(f\"Trisection Iterasi {iteration+1}: Lower Bound = {a}, Upper Bound = {b}\")\n",
        "        if f(m1) == 0:\n",
        "            return m1, iteration, root_list\n",
        "        elif f(m2) == 0:\n",
        "            return m2, iteration, root_list\n",
        "        elif f(a) * f(m1) < 0:\n",
        "            b = m1\n",
        "        elif f(m1) * f(m2) < 0:\n",
        "            a, b = m1, m2\n",
        "        else:\n",
        "            a = m2\n",
        "        iteration += 1\n",
        "    return (a + b) / 2.0, iteration, root_list\n",
        "\n",
        "start_time = time.time()\n",
        "root_trisection, iteration_trisection, root_list_trisection = trisection(f, 1, 4, 1e-14, 100)\n",
        "end_time = time.time()\n",
        "cpu_time_trisection = end_time - start_time\n",
        "\n",
        "print(\"\\n=== Trisection Method ===\")\n",
        "print(\"Found root:\", root_trisection)\n",
        "print(\"Average CPU Time:\", cpu_time_trisection, \"seconds\")\n",
        "print(\"Number of iterations:\", iteration_trisection)"
      ],
      "metadata": {
        "colab": {
          "base_uri": "https://localhost:8080/"
        },
        "id": "QPmrS_fn949F",
        "outputId": "9473b583-1be1-4955-d732-5bce860e431e"
      },
      "execution_count": null,
      "outputs": [
        {
          "output_type": "stream",
          "name": "stdout",
          "text": [
            "Trisection Iterasi 1: Lower Bound = 1, Upper Bound = 4\n",
            "\n",
            "=== Trisection Method ===\n",
            "Found root: 2.0\n",
            "Average CPU Time: 0.0032050609588623047 seconds\n",
            "Number of iterations: 0\n"
          ]
        }
      ]
    },
    {
      "cell_type": "markdown",
      "source": [
        "## Fungsi Persamaan 5\n",
        "\n",
        "x^2 + 2x - 7, Interval [1,3]"
      ],
      "metadata": {
        "id": "DrkZWVCT-N0G"
      }
    },
    {
      "cell_type": "code",
      "source": [
        "def f(x) :\n",
        "  return x**2 + 2*x - 7"
      ],
      "metadata": {
        "id": "fqvMsm2wABcS"
      },
      "execution_count": null,
      "outputs": []
    },
    {
      "cell_type": "code",
      "source": [
        "# Implementasi metode trisection\n",
        "def trisection(f, a, b, tol, max_iter):\n",
        "    if f(a) * f(b) >= 0:\n",
        "        raise ValueError(\"There are no roots in this interval.\")\n",
        "    iteration = 0\n",
        "    root_list = []\n",
        "    while (b - a) > tol and iteration < max_iter:\n",
        "        m1 = (2*a + b)/3\n",
        "        m2 = (2*b+a)/3\n",
        "        root_list.append((m1 + m2) / 2)\n",
        "        print(f\"Trisection Iterasi {iteration+1}: Lower Bound = {a}, Upper Bound = {b}\")\n",
        "        if f(m1) == 0:\n",
        "            return m1, iteration, root_list\n",
        "        elif f(m2) == 0:\n",
        "            return m2, iteration, root_list\n",
        "        elif f(a) * f(m1) < 0:\n",
        "            b = m1\n",
        "        elif f(m1) * f(m2) < 0:\n",
        "            a, b = m1, m2\n",
        "        else:\n",
        "            a = m2\n",
        "        iteration += 1\n",
        "    return (a + b) / 2.0, iteration, root_list\n",
        "\n",
        "start_time = time.time()\n",
        "root_trisection, iteration_trisection, root_list_trisection = trisection(f, 1, 3, 1e-14, 100)\n",
        "end_time = time.time()\n",
        "cpu_time_trisection = end_time - start_time\n",
        "\n",
        "print(\"\\n=== Trisection Method ===\")\n",
        "print(\"Found root:\", root_trisection)\n",
        "print(\"Average CPU Time:\", cpu_time_trisection, \"seconds\")\n",
        "print(\"Number of iterations:\", iteration_trisection)"
      ],
      "metadata": {
        "colab": {
          "base_uri": "https://localhost:8080/"
        },
        "id": "t8fQYMj3AE0-",
        "outputId": "52948b07-9a57-466a-f011-a960e7abadfb"
      },
      "execution_count": null,
      "outputs": [
        {
          "output_type": "stream",
          "name": "stdout",
          "text": [
            "Trisection Iterasi 1: Lower Bound = 1, Upper Bound = 3\n",
            "Trisection Iterasi 2: Lower Bound = 1.6666666666666667, Upper Bound = 2.3333333333333335\n",
            "Trisection Iterasi 3: Lower Bound = 1.6666666666666667, Upper Bound = 1.888888888888889\n",
            "Trisection Iterasi 4: Lower Bound = 1.8148148148148149, Upper Bound = 1.888888888888889\n",
            "Trisection Iterasi 5: Lower Bound = 1.8148148148148149, Upper Bound = 1.8395061728395063\n",
            "Trisection Iterasi 6: Lower Bound = 1.823045267489712, Upper Bound = 1.8312757201646093\n",
            "Trisection Iterasi 7: Lower Bound = 1.8257887517146776, Upper Bound = 1.8285322359396436\n",
            "Trisection Iterasi 8: Lower Bound = 1.8276177411979884, Upper Bound = 1.8285322359396436\n",
            "Trisection Iterasi 9: Lower Bound = 1.828227404359092, Upper Bound = 1.8285322359396436\n",
            "Trisection Iterasi 10: Lower Bound = 1.8283290148859426, Upper Bound = 1.8284306254127933\n",
            "Trisection Iterasi 11: Lower Bound = 1.8283967552371765, Upper Bound = 1.8284306254127933\n",
            "Trisection Iterasi 12: Lower Bound = 1.8284193353542542, Upper Bound = 1.8284306254127933\n",
            "Trisection Iterasi 13: Lower Bound = 1.828426862059947, Upper Bound = 1.8284306254127933\n",
            "Trisection Iterasi 14: Lower Bound = 1.828426862059947, Upper Bound = 1.8284281165108958\n",
            "Trisection Iterasi 15: Lower Bound = 1.828426862059947, Upper Bound = 1.8284272802102635\n",
            "Trisection Iterasi 16: Lower Bound = 1.828427001443386, Upper Bound = 1.8284271408268247\n",
            "Trisection Iterasi 17: Lower Bound = 1.8284270943656784, Upper Bound = 1.8284271408268247\n",
            "Trisection Iterasi 18: Lower Bound = 1.8284271098527272, Upper Bound = 1.8284271253397761\n",
            "Trisection Iterasi 19: Lower Bound = 1.8284271201774265, Upper Bound = 1.8284271253397761\n",
            "Trisection Iterasi 20: Lower Bound = 1.8284271236189928, Upper Bound = 1.8284271253397761\n",
            "Trisection Iterasi 21: Lower Bound = 1.8284271241925873, Upper Bound = 1.8284271247661816\n",
            "Trisection Iterasi 22: Lower Bound = 1.8284271245749835, Upper Bound = 1.8284271247661816\n",
            "Trisection Iterasi 23: Lower Bound = 1.8284271247024488, Upper Bound = 1.8284271247661816\n",
            "Trisection Iterasi 24: Lower Bound = 1.8284271247449375, Upper Bound = 1.8284271247661816\n",
            "Trisection Iterasi 25: Lower Bound = 1.8284271247449375, Upper Bound = 1.828427124752019\n",
            "Trisection Iterasi 26: Lower Bound = 1.8284271247449375, Upper Bound = 1.828427124747298\n",
            "Trisection Iterasi 27: Lower Bound = 1.8284271247457244, Upper Bound = 1.8284271247465114\n",
            "Trisection Iterasi 28: Lower Bound = 1.8284271247459867, Upper Bound = 1.8284271247462491\n",
            "Trisection Iterasi 29: Lower Bound = 1.8284271247461616, Upper Bound = 1.8284271247462491\n",
            "Trisection Iterasi 30: Lower Bound = 1.8284271247461616, Upper Bound = 1.8284271247461907\n",
            "\n",
            "=== Trisection Method ===\n",
            "Found root: 1.8284271247461859\n",
            "Average CPU Time: 0.0131378173828125 seconds\n",
            "Number of iterations: 30\n"
          ]
        }
      ]
    },
    {
      "cell_type": "markdown",
      "source": [
        "## Fungsi Persamaan 6\n",
        "\n",
        "x^3 - 2, Interval [0,2]"
      ],
      "metadata": {
        "id": "DqnrOYb--aos"
      }
    },
    {
      "cell_type": "code",
      "source": [
        "def f(x) :\n",
        "  return x**3 - 2"
      ],
      "metadata": {
        "id": "H58HmAmBAQhW"
      },
      "execution_count": null,
      "outputs": []
    },
    {
      "cell_type": "code",
      "source": [
        "# Implementasi metode trisection\n",
        "def trisection(f, a, b, tol, max_iter):\n",
        "    if f(a) * f(b) >= 0:\n",
        "        raise ValueError(\"There are no roots in this interval.\")\n",
        "    iteration = 0\n",
        "    root_list = []\n",
        "    while (b - a) > tol and iteration < max_iter:\n",
        "        m1 = (2*a + b)/3\n",
        "        m2 = (2*b+a)/3\n",
        "        root_list.append((m1 + m2) / 2)\n",
        "        print(f\"Trisection Iterasi {iteration+1}: Lower Bound = {a}, Upper Bound = {b}\")\n",
        "        if f(m1) == 0:\n",
        "            return m1, iteration, root_list\n",
        "        elif f(m2) == 0:\n",
        "            return m2, iteration, root_list\n",
        "        elif f(a) * f(m1) < 0:\n",
        "            b = m1\n",
        "        elif f(m1) * f(m2) < 0:\n",
        "            a, b = m1, m2\n",
        "        else:\n",
        "            a = m2\n",
        "        iteration += 1\n",
        "    return (a + b) / 2.0, iteration, root_list\n",
        "\n",
        "start_time = time.time()\n",
        "root_trisection, iteration_trisection, root_list_trisection = trisection(f, 0, 2, 1e-14, 100)\n",
        "end_time = time.time()\n",
        "cpu_time_trisection = end_time - start_time\n",
        "\n",
        "print(\"\\n=== Trisection Method ===\")\n",
        "print(\"Found root:\", root_trisection)\n",
        "print(\"Average CPU Time:\", cpu_time_trisection, \"seconds\")\n",
        "print(\"Number of iterations:\", iteration_trisection)"
      ],
      "metadata": {
        "colab": {
          "base_uri": "https://localhost:8080/"
        },
        "id": "iebMsp-mAUTr",
        "outputId": "b74ce6cc-4f61-4ebf-f1d9-710aa90168b7"
      },
      "execution_count": null,
      "outputs": [
        {
          "output_type": "stream",
          "name": "stdout",
          "text": [
            "Trisection Iterasi 1: Lower Bound = 0, Upper Bound = 2\n",
            "Trisection Iterasi 2: Lower Bound = 0.6666666666666666, Upper Bound = 1.3333333333333333\n",
            "Trisection Iterasi 3: Lower Bound = 1.111111111111111, Upper Bound = 1.3333333333333333\n",
            "Trisection Iterasi 4: Lower Bound = 1.2592592592592593, Upper Bound = 1.3333333333333333\n",
            "Trisection Iterasi 5: Lower Bound = 1.2592592592592593, Upper Bound = 1.2839506172839508\n",
            "Trisection Iterasi 6: Lower Bound = 1.2592592592592593, Upper Bound = 1.2674897119341564\n",
            "Trisection Iterasi 7: Lower Bound = 1.2592592592592593, Upper Bound = 1.262002743484225\n",
            "Trisection Iterasi 8: Lower Bound = 1.2592592592592593, Upper Bound = 1.2601737540009144\n",
            "Trisection Iterasi 9: Lower Bound = 1.2598689224203625, Upper Bound = 1.2601737540009144\n",
            "Trisection Iterasi 10: Lower Bound = 1.2598689224203625, Upper Bound = 1.2599705329472133\n",
            "Trisection Iterasi 11: Lower Bound = 1.2599027925959794, Upper Bound = 1.2599366627715964\n",
            "Trisection Iterasi 12: Lower Bound = 1.2599140826545183, Upper Bound = 1.2599253727130575\n",
            "Trisection Iterasi 13: Lower Bound = 1.2599178460073646, Upper Bound = 1.2599216093602112\n",
            "Trisection Iterasi 14: Lower Bound = 1.2599203549092624, Upper Bound = 1.2599216093602112\n",
            "Trisection Iterasi 15: Lower Bound = 1.2599207730595785, Upper Bound = 1.259921191209895\n",
            "Trisection Iterasi 16: Lower Bound = 1.2599209124430173, Upper Bound = 1.2599210518264563\n",
            "Trisection Iterasi 17: Lower Bound = 1.25992100536531, Upper Bound = 1.2599210518264563\n",
            "Trisection Iterasi 18: Lower Bound = 1.2599210363394076, Upper Bound = 1.2599210518264563\n",
            "Trisection Iterasi 19: Lower Bound = 1.2599210466641066, Upper Bound = 1.2599210518264563\n",
            "Trisection Iterasi 20: Lower Bound = 1.25992104838489, Upper Bound = 1.259921050105673\n",
            "Trisection Iterasi 21: Lower Bound = 1.2599210495320785, Upper Bound = 1.259921050105673\n",
            "Trisection Iterasi 22: Lower Bound = 1.2599210497232767, Upper Bound = 1.2599210499144748\n",
            "Trisection Iterasi 23: Lower Bound = 1.2599210498507423, Upper Bound = 1.2599210499144748\n",
            "Trisection Iterasi 24: Lower Bound = 1.2599210498932305, Upper Bound = 1.2599210499144748\n",
            "Trisection Iterasi 25: Lower Bound = 1.2599210498932305, Upper Bound = 1.259921049900312\n",
            "Trisection Iterasi 26: Lower Bound = 1.2599210498932305, Upper Bound = 1.259921049895591\n",
            "Trisection Iterasi 27: Lower Bound = 1.2599210498948041, Upper Bound = 1.259921049895591\n",
            "Trisection Iterasi 28: Lower Bound = 1.2599210498948041, Upper Bound = 1.2599210498950664\n",
            "Trisection Iterasi 29: Lower Bound = 1.2599210498948041, Upper Bound = 1.2599210498948914\n",
            "Trisection Iterasi 30: Lower Bound = 1.2599210498948623, Upper Bound = 1.2599210498948914\n",
            "\n",
            "=== Trisection Method ===\n",
            "Found root: 1.2599210498948767\n",
            "Average CPU Time: 0.008289813995361328 seconds\n",
            "Number of iterations: 30\n"
          ]
        }
      ]
    },
    {
      "cell_type": "markdown",
      "source": [
        "## Fungsi Persamaan 7\n",
        "\n",
        "xe^x - 7, Interval [0,2]"
      ],
      "metadata": {
        "id": "-ohSkYsq-lui"
      }
    },
    {
      "cell_type": "code",
      "source": [
        "def f(x) :\n",
        "  return x * math.exp(x) - 7"
      ],
      "metadata": {
        "id": "xm6g8ObpAYQn"
      },
      "execution_count": null,
      "outputs": []
    },
    {
      "cell_type": "code",
      "source": [
        "# Implementasi metode trisection\n",
        "def trisection(f, a, b, tol, max_iter):\n",
        "    if f(a) * f(b) >= 0:\n",
        "        raise ValueError(\"There are no roots in this interval.\")\n",
        "    iteration = 0\n",
        "    root_list = []\n",
        "    while (b - a) > tol and iteration < max_iter:\n",
        "        m1 = (2*a + b)/3\n",
        "        m2 = (2*b+a)/3\n",
        "        root_list.append((m1 + m2) / 2)\n",
        "        print(f\"Trisection Iterasi {iteration+1}: Lower Bound = {a}, Upper Bound = {b}\")\n",
        "        if f(m1) == 0:\n",
        "            return m1, iteration, root_list\n",
        "        elif f(m2) == 0:\n",
        "            return m2, iteration, root_list\n",
        "        elif f(a) * f(m1) < 0:\n",
        "            b = m1\n",
        "        elif f(m1) * f(m2) < 0:\n",
        "            a, b = m1, m2\n",
        "        else:\n",
        "            a = m2\n",
        "        iteration += 1\n",
        "    return (a + b) / 2.0, iteration, root_list\n",
        "\n",
        "start_time = time.time()\n",
        "root_trisection, iteration_trisection, root_list_trisection = trisection(f, 0, 2, 1e-14, 100)\n",
        "end_time = time.time()\n",
        "cpu_time_trisection = end_time - start_time\n",
        "\n",
        "print(\"\\n=== Trisection Method ===\")\n",
        "print(\"Found root:\", root_trisection)\n",
        "print(\"Average CPU Time:\", cpu_time_trisection, \"seconds\")\n",
        "print(\"Number of iterations:\", iteration_trisection)"
      ],
      "metadata": {
        "colab": {
          "base_uri": "https://localhost:8080/"
        },
        "id": "1eQMfTfgAwxS",
        "outputId": "589a5400-5868-46b4-df44-90c4caf72be1"
      },
      "execution_count": null,
      "outputs": [
        {
          "output_type": "stream",
          "name": "stdout",
          "text": [
            "Trisection Iterasi 1: Lower Bound = 0, Upper Bound = 2\n",
            "Trisection Iterasi 2: Lower Bound = 1.3333333333333333, Upper Bound = 2\n",
            "Trisection Iterasi 3: Lower Bound = 1.3333333333333333, Upper Bound = 1.5555555555555554\n",
            "Trisection Iterasi 4: Lower Bound = 1.4814814814814812, Upper Bound = 1.5555555555555554\n",
            "Trisection Iterasi 5: Lower Bound = 1.5061728395061724, Upper Bound = 1.530864197530864\n",
            "Trisection Iterasi 6: Lower Bound = 1.5226337448559668, Upper Bound = 1.530864197530864\n",
            "Trisection Iterasi 7: Lower Bound = 1.5226337448559668, Upper Bound = 1.5253772290809327\n",
            "Trisection Iterasi 8: Lower Bound = 1.5235482395976223, Upper Bound = 1.5244627343392774\n",
            "Trisection Iterasi 9: Lower Bound = 1.5241579027587255, Upper Bound = 1.5244627343392774\n",
            "Trisection Iterasi 10: Lower Bound = 1.5242595132855763, Upper Bound = 1.5243611238124268\n",
            "Trisection Iterasi 11: Lower Bound = 1.52432725363681, Upper Bound = 1.5243611238124268\n",
            "Trisection Iterasi 12: Lower Bound = 1.5243385436953492, Upper Bound = 1.5243498337538879\n",
            "Trisection Iterasi 13: Lower Bound = 1.5243423070481954, Upper Bound = 1.5243460704010416\n",
            "Trisection Iterasi 14: Lower Bound = 1.5243448159500927, Upper Bound = 1.5243460704010416\n",
            "Trisection Iterasi 15: Lower Bound = 1.5243448159500927, Upper Bound = 1.524345234100409\n",
            "Trisection Iterasi 16: Lower Bound = 1.5243450947169703, Upper Bound = 1.524345234100409\n",
            "Trisection Iterasi 17: Lower Bound = 1.5243451876392626, Upper Bound = 1.524345234100409\n",
            "Trisection Iterasi 18: Lower Bound = 1.5243452031263114, Upper Bound = 1.52434521861336\n",
            "Trisection Iterasi 19: Lower Bound = 1.5243452031263114, Upper Bound = 1.524345208288661\n",
            "Trisection Iterasi 20: Lower Bound = 1.5243452048470945, Upper Bound = 1.5243452065678778\n",
            "Trisection Iterasi 21: Lower Bound = 1.5243452048470945, Upper Bound = 1.5243452054206887\n",
            "Trisection Iterasi 22: Lower Bound = 1.5243452048470945, Upper Bound = 1.5243452050382924\n",
            "Trisection Iterasi 23: Lower Bound = 1.5243452049745596, Upper Bound = 1.5243452050382924\n",
            "Trisection Iterasi 24: Lower Bound = 1.5243452049745596, Upper Bound = 1.5243452049958037\n",
            "Trisection Iterasi 25: Lower Bound = 1.5243452049816408, Upper Bound = 1.5243452049887223\n",
            "Trisection Iterasi 26: Lower Bound = 1.5243452049840014, Upper Bound = 1.5243452049863617\n",
            "Trisection Iterasi 27: Lower Bound = 1.5243452049840014, Upper Bound = 1.5243452049847883\n",
            "Trisection Iterasi 28: Lower Bound = 1.5243452049840014, Upper Bound = 1.5243452049842636\n",
            "Trisection Iterasi 29: Lower Bound = 1.5243452049840887, Upper Bound = 1.5243452049841764\n",
            "Trisection Iterasi 30: Lower Bound = 1.524345204984118, Upper Bound = 1.5243452049841473\n",
            "\n",
            "=== Trisection Method ===\n",
            "Found root: 1.5243452049841424\n",
            "Average CPU Time: 0.0011966228485107422 seconds\n",
            "Number of iterations: 30\n"
          ]
        }
      ]
    },
    {
      "cell_type": "markdown",
      "source": [
        "## Fungsi Persamaan 8\n",
        "\n",
        "x - cos(x), Interval [0,1]"
      ],
      "metadata": {
        "id": "-SMGzQbg-t26"
      }
    },
    {
      "cell_type": "code",
      "source": [
        "def f(x) :\n",
        "  return x - math.cos(x)"
      ],
      "metadata": {
        "id": "mgnawzxnAz0t"
      },
      "execution_count": null,
      "outputs": []
    },
    {
      "cell_type": "code",
      "source": [
        "# Implementasi metode trisection\n",
        "def trisection(f, a, b, tol, max_iter):\n",
        "    if f(a) * f(b) >= 0:\n",
        "        raise ValueError(\"There are no roots in this interval.\")\n",
        "    iteration = 0\n",
        "    root_list = []\n",
        "    while (b - a) > tol and iteration < max_iter:\n",
        "        m1 = (2*a + b)/3\n",
        "        m2 = (2*b+a)/3\n",
        "        root_list.append((m1 + m2) / 2)\n",
        "        print(f\"Trisection Iterasi {iteration+1}: Lower Bound = {a}, Upper Bound = {b}\")\n",
        "        if f(m1) == 0:\n",
        "            return m1, iteration, root_list\n",
        "        elif f(m2) == 0:\n",
        "            return m2, iteration, root_list\n",
        "        elif f(a) * f(m1) < 0:\n",
        "            b = m1\n",
        "        elif f(m1) * f(m2) < 0:\n",
        "            a, b = m1, m2\n",
        "        else:\n",
        "            a = m2\n",
        "        iteration += 1\n",
        "    return (a + b) / 2.0, iteration, root_list\n",
        "\n",
        "start_time = time.time()\n",
        "root_trisection, iteration_trisection, root_list_trisection = trisection(f, 0, 1, 1e-14, 100)\n",
        "end_time = time.time()\n",
        "cpu_time_trisection = end_time - start_time\n",
        "\n",
        "print(\"\\n=== Trisection Method ===\")\n",
        "print(\"Found root:\", root_trisection)\n",
        "print(\"Average CPU Time:\", cpu_time_trisection, \"seconds\")\n",
        "print(\"Number of iterations:\", iteration_trisection)"
      ],
      "metadata": {
        "colab": {
          "base_uri": "https://localhost:8080/"
        },
        "id": "T-cczuCUA3m6",
        "outputId": "c7991cb3-3f77-46f8-9297-77ecf7deb9ea"
      },
      "execution_count": null,
      "outputs": [
        {
          "output_type": "stream",
          "name": "stdout",
          "text": [
            "Trisection Iterasi 1: Lower Bound = 0, Upper Bound = 1\n",
            "Trisection Iterasi 2: Lower Bound = 0.6666666666666666, Upper Bound = 1\n",
            "Trisection Iterasi 3: Lower Bound = 0.6666666666666666, Upper Bound = 0.7777777777777777\n",
            "Trisection Iterasi 4: Lower Bound = 0.7037037037037036, Upper Bound = 0.7407407407407406\n",
            "Trisection Iterasi 5: Lower Bound = 0.7283950617283949, Upper Bound = 0.7407407407407406\n",
            "Trisection Iterasi 6: Lower Bound = 0.736625514403292, Upper Bound = 0.7407407407407406\n",
            "Trisection Iterasi 7: Lower Bound = 0.7379972565157749, Upper Bound = 0.7393689986282578\n",
            "Trisection Iterasi 8: Lower Bound = 0.73891175125743, Upper Bound = 0.7393689986282578\n",
            "Trisection Iterasi 9: Lower Bound = 0.7390641670477059, Upper Bound = 0.7392165828379819\n",
            "Trisection Iterasi 10: Lower Bound = 0.7390641670477059, Upper Bound = 0.7391149723111313\n",
            "Trisection Iterasi 11: Lower Bound = 0.7390811021355144, Upper Bound = 0.7390980372233229\n",
            "Trisection Iterasi 12: Lower Bound = 0.7390811021355144, Upper Bound = 0.7390867471647838\n",
            "Trisection Iterasi 13: Lower Bound = 0.7390848654883607, Upper Bound = 0.7390867471647838\n",
            "Trisection Iterasi 14: Lower Bound = 0.7390848654883607, Upper Bound = 0.7390854927138352\n",
            "Trisection Iterasi 15: Lower Bound = 0.7390850745635188, Upper Bound = 0.7390852836386771\n",
            "Trisection Iterasi 16: Lower Bound = 0.7390850745635188, Upper Bound = 0.7390851442552382\n",
            "Trisection Iterasi 17: Lower Bound = 0.7390851210246651, Upper Bound = 0.7390851442552382\n",
            "Trisection Iterasi 18: Lower Bound = 0.7390851287681895, Upper Bound = 0.7390851365117138\n",
            "Trisection Iterasi 19: Lower Bound = 0.7390851313493644, Upper Bound = 0.739085133930539\n",
            "Trisection Iterasi 20: Lower Bound = 0.7390851330701474, Upper Bound = 0.739085133930539\n",
            "Trisection Iterasi 21: Lower Bound = 0.7390851330701474, Upper Bound = 0.7390851333569447\n",
            "Trisection Iterasi 22: Lower Bound = 0.7390851331657465, Upper Bound = 0.7390851332613456\n",
            "Trisection Iterasi 23: Lower Bound = 0.7390851331976128, Upper Bound = 0.7390851332294792\n",
            "Trisection Iterasi 24: Lower Bound = 0.7390851332082349, Upper Bound = 0.739085133218857\n",
            "Trisection Iterasi 25: Lower Bound = 0.7390851332117756, Upper Bound = 0.7390851332153163\n",
            "Trisection Iterasi 26: Lower Bound = 0.739085133214136, Upper Bound = 0.7390851332153163\n",
            "Trisection Iterasi 27: Lower Bound = 0.7390851332149229, Upper Bound = 0.7390851332153163\n",
            "Trisection Iterasi 28: Lower Bound = 0.739085133215054, Upper Bound = 0.7390851332151852\n",
            "Trisection Iterasi 29: Lower Bound = 0.7390851332151415, Upper Bound = 0.7390851332151852\n",
            "Trisection Iterasi 30: Lower Bound = 0.739085133215156, Upper Bound = 0.7390851332151707\n",
            "\n",
            "=== Trisection Method ===\n",
            "Found root: 0.7390851332151585\n",
            "Average CPU Time: 0.0009143352508544922 seconds\n",
            "Number of iterations: 30\n"
          ]
        }
      ]
    },
    {
      "cell_type": "markdown",
      "source": [
        "## Fungsi Persamaan 9\n",
        "\n",
        "xsin(x) - 1, Interval [0,2]"
      ],
      "metadata": {
        "id": "q3IJa8WA-3XV"
      }
    },
    {
      "cell_type": "code",
      "source": [
        "def f(x) :\n",
        "  return x * math.sin(x) - 1"
      ],
      "metadata": {
        "id": "3tdJTCNXA76L"
      },
      "execution_count": null,
      "outputs": []
    },
    {
      "cell_type": "code",
      "source": [
        "# Implementasi metode trisection\n",
        "def trisection(f, a, b, tol, max_iter):\n",
        "    if f(a) * f(b) >= 0:\n",
        "        raise ValueError(\"There are no roots in this interval.\")\n",
        "    iteration = 0\n",
        "    root_list = []\n",
        "    while (b - a) > tol and iteration < max_iter:\n",
        "        m1 = (2*a + b)/3\n",
        "        m2 = (2*b+a)/3\n",
        "        root_list.append((m1 + m2) / 2)\n",
        "        print(f\"Trisection Iterasi {iteration+1}: Lower Bound = {a}, Upper Bound = {b}\")\n",
        "        if f(m1) == 0:\n",
        "            return m1, iteration, root_list\n",
        "        elif f(m2) == 0:\n",
        "            return m2, iteration, root_list\n",
        "        elif f(a) * f(m1) < 0:\n",
        "            b = m1\n",
        "        elif f(m1) * f(m2) < 0:\n",
        "            a, b = m1, m2\n",
        "        else:\n",
        "            a = m2\n",
        "        iteration += 1\n",
        "    return (a + b) / 2.0, iteration, root_list\n",
        "\n",
        "start_time = time.time()\n",
        "root_trisection, iteration_trisection, root_list_trisection = trisection(f, 0, 2, 1e-14, 100)\n",
        "end_time = time.time()\n",
        "cpu_time_trisection = end_time - start_time\n",
        "\n",
        "print(\"\\n=== Trisection Method ===\")\n",
        "print(\"Found root:\", root_trisection)\n",
        "print(\"Average CPU Time:\", cpu_time_trisection, \"seconds\")\n",
        "print(\"Number of iterations:\", iteration_trisection)"
      ],
      "metadata": {
        "colab": {
          "base_uri": "https://localhost:8080/"
        },
        "id": "BTSnV7GPBAtj",
        "outputId": "8858c3b6-defd-4382-eee7-6e37cf768717"
      },
      "execution_count": null,
      "outputs": [
        {
          "output_type": "stream",
          "name": "stdout",
          "text": [
            "Trisection Iterasi 1: Lower Bound = 0, Upper Bound = 2\n",
            "Trisection Iterasi 2: Lower Bound = 0.6666666666666666, Upper Bound = 1.3333333333333333\n",
            "Trisection Iterasi 3: Lower Bound = 1.111111111111111, Upper Bound = 1.3333333333333333\n",
            "Trisection Iterasi 4: Lower Bound = 1.111111111111111, Upper Bound = 1.1851851851851851\n",
            "Trisection Iterasi 5: Lower Bound = 1.111111111111111, Upper Bound = 1.1358024691358024\n",
            "Trisection Iterasi 6: Lower Bound = 1.111111111111111, Upper Bound = 1.1193415637860082\n",
            "Trisection Iterasi 7: Lower Bound = 1.1138545953360766, Upper Bound = 1.1165980795610426\n",
            "Trisection Iterasi 8: Lower Bound = 1.1138545953360766, Upper Bound = 1.1147690900777318\n",
            "Trisection Iterasi 9: Lower Bound = 1.1138545953360766, Upper Bound = 1.1141594269166284\n",
            "Trisection Iterasi 10: Lower Bound = 1.1140578163897779, Upper Bound = 1.1141594269166284\n",
            "Trisection Iterasi 11: Lower Bound = 1.1141255567410115, Upper Bound = 1.1141594269166284\n",
            "Trisection Iterasi 12: Lower Bound = 1.1141481368580894, Upper Bound = 1.1141594269166284\n",
            "Trisection Iterasi 13: Lower Bound = 1.1141556635637822, Upper Bound = 1.1141594269166284\n",
            "Trisection Iterasi 14: Lower Bound = 1.114156918014731, Upper Bound = 1.1141581724656797\n",
            "Trisection Iterasi 15: Lower Bound = 1.114156918014731, Upper Bound = 1.1141573361650472\n",
            "Trisection Iterasi 16: Lower Bound = 1.1141570573981696, Upper Bound = 1.1141571967816084\n",
            "Trisection Iterasi 17: Lower Bound = 1.1141571038593159, Upper Bound = 1.1141571503204621\n",
            "Trisection Iterasi 18: Lower Bound = 1.1141571348334134, Upper Bound = 1.1141571503204621\n",
            "Trisection Iterasi 19: Lower Bound = 1.114157139995763, Upper Bound = 1.1141571451581125\n",
            "Trisection Iterasi 20: Lower Bound = 1.114157139995763, Upper Bound = 1.1141571417165463\n",
            "Trisection Iterasi 21: Lower Bound = 1.1141571405693576, Upper Bound = 1.1141571411429518\n",
            "Trisection Iterasi 22: Lower Bound = 1.1141571407605557, Upper Bound = 1.1141571409517537\n",
            "Trisection Iterasi 23: Lower Bound = 1.1141571408242885, Upper Bound = 1.114157140888021\n",
            "Trisection Iterasi 24: Lower Bound = 1.1141571408667768, Upper Bound = 1.114157140888021\n",
            "Trisection Iterasi 25: Lower Bound = 1.1141571408667768, Upper Bound = 1.1141571408738582\n",
            "Trisection Iterasi 26: Lower Bound = 1.1141571408714979, Upper Bound = 1.1141571408738582\n",
            "Trisection Iterasi 27: Lower Bound = 1.1141571408714979, Upper Bound = 1.1141571408722848\n",
            "Trisection Iterasi 28: Lower Bound = 1.11415714087176, Upper Bound = 1.1141571408720223\n",
            "Trisection Iterasi 29: Lower Bound = 1.1141571408718474, Upper Bound = 1.1141571408719348\n",
            "Trisection Iterasi 30: Lower Bound = 1.1141571408719058, Upper Bound = 1.1141571408719348\n",
            "\n",
            "=== Trisection Method ===\n",
            "Found root: 1.11415714087193\n",
            "Average CPU Time: 0.0010747909545898438 seconds\n",
            "Number of iterations: 30\n"
          ]
        }
      ]
    },
    {
      "cell_type": "markdown",
      "source": [
        "## Fungsi Persamaan 10\n",
        "\n",
        "xcos(x) + 1, Interval [-2,4]\n"
      ],
      "metadata": {
        "id": "yVt4f4_W--b3"
      }
    },
    {
      "cell_type": "code",
      "source": [
        "def f(x) :\n",
        "  return x * math.cos(x) + 1"
      ],
      "metadata": {
        "id": "wFcwJBUDBGH_"
      },
      "execution_count": null,
      "outputs": []
    },
    {
      "cell_type": "code",
      "source": [
        "# Implementasi metode trisection\n",
        "def trisection(f, a, b, tol, max_iter):\n",
        "    if f(a) * f(b) >= 0:\n",
        "        raise ValueError(\"There are no roots in this interval.\")\n",
        "    iteration = 0\n",
        "    root_list = []\n",
        "    while (b - a) > tol and iteration < max_iter:\n",
        "        m1 = (2*a + b)/3\n",
        "        m2 = (2*b+a)/3\n",
        "        root_list.append((m1 + m2) / 2)\n",
        "        print(f\"Trisection Iterasi {iteration+1}: Lower Bound = {a}, Upper Bound = {b}\")\n",
        "        if f(m1) == 0:\n",
        "            return m1, iteration, root_list\n",
        "        elif f(m2) == 0:\n",
        "            return m2, iteration, root_list\n",
        "        elif f(a) * f(m1) < 0:\n",
        "            b = m1\n",
        "        elif f(m1) * f(m2) < 0:\n",
        "            a, b = m1, m2\n",
        "        else:\n",
        "            a = m2\n",
        "        iteration += 1\n",
        "    return (a + b) / 2.0, iteration, root_list\n",
        "\n",
        "start_time = time.time()\n",
        "root_trisection, iteration_trisection, root_list_trisection = trisection(f, -2, 4, 1e-14, 100)\n",
        "end_time = time.time()\n",
        "cpu_time_trisection = end_time - start_time\n",
        "\n",
        "print(\"\\n=== Trisection Method ===\")\n",
        "print(\"Found root:\", root_trisection)\n",
        "print(\"Average CPU Time:\", cpu_time_trisection, \"seconds\")\n",
        "print(\"Number of iterations:\", iteration_trisection)"
      ],
      "metadata": {
        "colab": {
          "base_uri": "https://localhost:8080/"
        },
        "id": "pO2EE7OfBKHJ",
        "outputId": "26146f2a-4213-4900-aad4-1764798857d9"
      },
      "execution_count": null,
      "outputs": [
        {
          "output_type": "stream",
          "name": "stdout",
          "text": [
            "Trisection Iterasi 1: Lower Bound = -2, Upper Bound = 4\n",
            "Trisection Iterasi 2: Lower Bound = 2.0, Upper Bound = 4\n",
            "Trisection Iterasi 3: Lower Bound = 2.0, Upper Bound = 2.6666666666666665\n",
            "Trisection Iterasi 4: Lower Bound = 2.0, Upper Bound = 2.222222222222222\n",
            "Trisection Iterasi 5: Lower Bound = 2.0, Upper Bound = 2.074074074074074\n",
            "Trisection Iterasi 6: Lower Bound = 2.0493827160493825, Upper Bound = 2.074074074074074\n",
            "Trisection Iterasi 7: Lower Bound = 2.0658436213991767, Upper Bound = 2.074074074074074\n",
            "Trisection Iterasi 8: Lower Bound = 2.0713305898491083, Upper Bound = 2.074074074074074\n",
            "Trisection Iterasi 9: Lower Bound = 2.073159579332419, Upper Bound = 2.074074074074074\n",
            "Trisection Iterasi 10: Lower Bound = 2.073769242493522, Upper Bound = 2.074074074074074\n",
            "Trisection Iterasi 11: Lower Bound = 2.0738708530203724, Upper Bound = 2.073972463547223\n",
            "Trisection Iterasi 12: Lower Bound = 2.0739047231959895, Upper Bound = 2.073938593371606\n",
            "Trisection Iterasi 13: Lower Bound = 2.073927303313067, Upper Bound = 2.073938593371606\n",
            "Trisection Iterasi 14: Lower Bound = 2.073931066665913, Upper Bound = 2.0739348300187594\n",
            "Trisection Iterasi 15: Lower Bound = 2.073932321116862, Upper Bound = 2.0739335755678105\n",
            "Trisection Iterasi 16: Lower Bound = 2.0739327392671782, Upper Bound = 2.0739331574174944\n",
            "Trisection Iterasi 17: Lower Bound = 2.0739327392671782, Upper Bound = 2.073932878650617\n",
            "Trisection Iterasi 18: Lower Bound = 2.0739327857283243, Upper Bound = 2.0739328321894708\n",
            "Trisection Iterasi 19: Lower Bound = 2.073932801215373, Upper Bound = 2.073932816702422\n",
            "Trisection Iterasi 20: Lower Bound = 2.0739328063777225, Upper Bound = 2.073932811540072\n",
            "Trisection Iterasi 21: Lower Bound = 2.073932808098506, Upper Bound = 2.0739328098192886\n",
            "Trisection Iterasi 22: Lower Bound = 2.0739328086721005, Upper Bound = 2.073932809245694\n",
            "Trisection Iterasi 23: Lower Bound = 2.073932809054496, Upper Bound = 2.073932809245694\n",
            "Trisection Iterasi 24: Lower Bound = 2.073932809054496, Upper Bound = 2.073932809118229\n",
            "Trisection Iterasi 25: Lower Bound = 2.0739328090757403, Upper Bound = 2.0739328090969846\n",
            "Trisection Iterasi 26: Lower Bound = 2.073932809089903, Upper Bound = 2.0739328090969846\n",
            "Trisection Iterasi 27: Lower Bound = 2.073932809089903, Upper Bound = 2.073932809092264\n",
            "Trisection Iterasi 28: Lower Bound = 2.07393280909069, Upper Bound = 2.073932809091477\n",
            "Trisection Iterasi 29: Lower Bound = 2.0739328090912146, Upper Bound = 2.073932809091477\n",
            "Trisection Iterasi 30: Lower Bound = 2.0739328090912146, Upper Bound = 2.073932809091302\n",
            "Trisection Iterasi 31: Lower Bound = 2.0739328090912146, Upper Bound = 2.0739328090912434\n",
            "\n",
            "=== Trisection Method ===\n",
            "Found root: 2.073932809091219\n",
            "Average CPU Time: 0.014441967010498047 seconds\n",
            "Number of iterations: 31\n"
          ]
        }
      ]
    },
    {
      "cell_type": "markdown",
      "source": [
        "## Fungsi Persamaan 11\n",
        "\n",
        "x^10 - 1, Interval [0,1.3]"
      ],
      "metadata": {
        "id": "epgcvKSx_I33"
      }
    },
    {
      "cell_type": "code",
      "source": [
        "def f(x) :\n",
        "  return x**10 - 1"
      ],
      "metadata": {
        "id": "m72BMLVCBP-q"
      },
      "execution_count": null,
      "outputs": []
    },
    {
      "cell_type": "code",
      "source": [
        "# Implementasi metode trisection\n",
        "def trisection(f, a, b, tol, max_iter):\n",
        "    if f(a) * f(b) >= 0:\n",
        "        raise ValueError(\"There are no roots in this interval.\")\n",
        "    iteration = 0\n",
        "    root_list = []\n",
        "    while (b - a) > tol and iteration < max_iter:\n",
        "        m1 = (2*a + b)/3\n",
        "        m2 = (2*b+a)/3\n",
        "        root_list.append((m1 + m2) / 2)\n",
        "        print(f\"Trisection Iterasi {iteration+1}: Lower Bound = {a}, Upper Bound = {b}\")\n",
        "        if f(m1) == 0:\n",
        "            return m1, iteration, root_list\n",
        "        elif f(m2) == 0:\n",
        "            return m2, iteration, root_list\n",
        "        elif f(a) * f(m1) < 0:\n",
        "            b = m1\n",
        "        elif f(m1) * f(m2) < 0:\n",
        "            a, b = m1, m2\n",
        "        else:\n",
        "            a = m2\n",
        "        iteration += 1\n",
        "    return (a + b) / 2.0, iteration, root_list\n",
        "\n",
        "start_time = time.time()\n",
        "root_trisection, iteration_trisection, root_list_trisection = trisection(f, 0, 1.3, 1e-14, 100)\n",
        "end_time = time.time()\n",
        "cpu_time_trisection = end_time - start_time\n",
        "\n",
        "print(\"\\n=== Trisection Method ===\")\n",
        "print(\"Found root:\", root_trisection)\n",
        "print(\"Average CPU Time:\", cpu_time_trisection, \"seconds\")\n",
        "print(\"Number of iterations:\", iteration_trisection)"
      ],
      "metadata": {
        "colab": {
          "base_uri": "https://localhost:8080/"
        },
        "id": "xwc-HXueBSXt",
        "outputId": "7d9564ff-3bde-4592-e01f-a6f5aad8ae80"
      },
      "execution_count": null,
      "outputs": [
        {
          "output_type": "stream",
          "name": "stdout",
          "text": [
            "Trisection Iterasi 1: Lower Bound = 0, Upper Bound = 1.3\n",
            "Trisection Iterasi 2: Lower Bound = 0.8666666666666667, Upper Bound = 1.3\n",
            "Trisection Iterasi 3: Lower Bound = 0.8666666666666667, Upper Bound = 1.011111111111111\n",
            "Trisection Iterasi 4: Lower Bound = 0.9629629629629629, Upper Bound = 1.011111111111111\n",
            "Trisection Iterasi 5: Lower Bound = 0.9950617283950617, Upper Bound = 1.011111111111111\n",
            "Trisection Iterasi 6: Lower Bound = 0.9950617283950617, Upper Bound = 1.0004115226337449\n",
            "Trisection Iterasi 7: Lower Bound = 0.9986282578875172, Upper Bound = 1.0004115226337449\n",
            "Trisection Iterasi 8: Lower Bound = 0.999817101051669, Upper Bound = 1.0004115226337449\n",
            "Trisection Iterasi 9: Lower Bound = 0.999817101051669, Upper Bound = 1.0000152415790275\n",
            "Trisection Iterasi 10: Lower Bound = 0.9999491947365747, Upper Bound = 1.0000152415790275\n",
            "Trisection Iterasi 11: Lower Bound = 0.9999932259648766, Upper Bound = 1.0000152415790275\n",
            "Trisection Iterasi 12: Lower Bound = 0.9999932259648766, Upper Bound = 1.0000005645029268\n",
            "Trisection Iterasi 13: Lower Bound = 0.9999981183235768, Upper Bound = 1.0000005645029268\n",
            "Trisection Iterasi 14: Lower Bound = 0.9999997491098102, Upper Bound = 1.0000005645029268\n",
            "Trisection Iterasi 15: Lower Bound = 0.9999997491098102, Upper Bound = 1.0000000209075157\n",
            "Trisection Iterasi 16: Lower Bound = 0.9999999303082805, Upper Bound = 1.0000000209075157\n",
            "Trisection Iterasi 17: Lower Bound = 0.9999999907077707, Upper Bound = 1.0000000209075157\n",
            "Trisection Iterasi 18: Lower Bound = 0.9999999907077707, Upper Bound = 1.0000000007743524\n",
            "Trisection Iterasi 19: Lower Bound = 0.9999999974188252, Upper Bound = 1.0000000007743524\n",
            "Trisection Iterasi 20: Lower Bound = 0.9999999996558433, Upper Bound = 1.0000000007743524\n",
            "Trisection Iterasi 21: Lower Bound = 0.9999999996558433, Upper Bound = 1.0000000000286795\n",
            "Trisection Iterasi 22: Lower Bound = 0.9999999999044008, Upper Bound = 1.0000000000286795\n",
            "Trisection Iterasi 23: Lower Bound = 0.9999999999872533, Upper Bound = 1.0000000000286795\n",
            "Trisection Iterasi 24: Lower Bound = 0.9999999999872533, Upper Bound = 1.000000000001062\n",
            "Trisection Iterasi 25: Lower Bound = 0.9999999999964592, Upper Bound = 1.000000000001062\n",
            "Trisection Iterasi 26: Lower Bound = 0.9999999999995278, Upper Bound = 1.000000000001062\n",
            "Trisection Iterasi 27: Lower Bound = 0.9999999999995278, Upper Bound = 1.0000000000000393\n",
            "Trisection Iterasi 28: Lower Bound = 0.9999999999998689, Upper Bound = 1.0000000000000393\n",
            "Trisection Iterasi 29: Lower Bound = 0.9999999999999826, Upper Bound = 1.0000000000000393\n",
            "Trisection Iterasi 30: Lower Bound = 0.9999999999999826, Upper Bound = 1.0000000000000016\n",
            "\n",
            "=== Trisection Method ===\n",
            "Found root: 0.9999999999999984\n",
            "Average CPU Time: 0.0010809898376464844 seconds\n",
            "Number of iterations: 30\n"
          ]
        }
      ]
    },
    {
      "cell_type": "markdown",
      "source": [
        "## Fungsi Persamaan 12\n",
        "\n",
        "x^2 + e^x/2 - 5, Interval [1,2]\n"
      ],
      "metadata": {
        "id": "0rv5NKFO_R8c"
      }
    },
    {
      "cell_type": "code",
      "source": [
        "def f(x) :\n",
        "  return x**2 + math.exp(x/2) - 5"
      ],
      "metadata": {
        "id": "dtyIcD6BBWJP"
      },
      "execution_count": null,
      "outputs": []
    },
    {
      "cell_type": "code",
      "source": [
        "# Implementasi metode trisection\n",
        "def trisection(f, a, b, tol, max_iter):\n",
        "    if f(a) * f(b) >= 0:\n",
        "        raise ValueError(\"There are no roots in this interval.\")\n",
        "    iteration = 0\n",
        "    root_list = []\n",
        "    while (b - a) > tol and iteration < max_iter:\n",
        "        m1 = (2*a + b)/3\n",
        "        m2 = (2*b+a)/3\n",
        "        root_list.append((m1 + m2) / 2)\n",
        "        print(f\"Trisection Iterasi {iteration+1}: Lower Bound = {a}, Upper Bound = {b}\")\n",
        "        if f(m1) == 0:\n",
        "            return m1, iteration, root_list\n",
        "        elif f(m2) == 0:\n",
        "            return m2, iteration, root_list\n",
        "        elif f(a) * f(m1) < 0:\n",
        "            b = m1\n",
        "        elif f(m1) * f(m2) < 0:\n",
        "            a, b = m1, m2\n",
        "        else:\n",
        "            a = m2\n",
        "        iteration += 1\n",
        "    return (a + b) / 2.0, iteration, root_list\n",
        "\n",
        "start_time = time.time()\n",
        "root_trisection, iteration_trisection, root_list_trisection = trisection(f, 0, 2, 1e-14, 100)\n",
        "end_time = time.time()\n",
        "cpu_time_trisection = end_time - start_time\n",
        "\n",
        "print(\"\\n=== Trisection Method ===\")\n",
        "print(\"Found root:\", root_trisection)\n",
        "print(\"Average CPU Time:\", cpu_time_trisection, \"seconds\")\n",
        "print(\"Number of iterations:\", iteration_trisection)"
      ],
      "metadata": {
        "colab": {
          "base_uri": "https://localhost:8080/"
        },
        "id": "b7R74v6KBoqA",
        "outputId": "71d0e1c7-234b-49d1-f5d2-b5b8dbef5b33"
      },
      "execution_count": null,
      "outputs": [
        {
          "output_type": "stream",
          "name": "stdout",
          "text": [
            "Trisection Iterasi 1: Lower Bound = 0, Upper Bound = 2\n",
            "Trisection Iterasi 2: Lower Bound = 1.3333333333333333, Upper Bound = 2\n",
            "Trisection Iterasi 3: Lower Bound = 1.5555555555555554, Upper Bound = 1.7777777777777777\n",
            "Trisection Iterasi 4: Lower Bound = 1.6296296296296295, Upper Bound = 1.7037037037037035\n",
            "Trisection Iterasi 5: Lower Bound = 1.6296296296296295, Upper Bound = 1.654320987654321\n",
            "Trisection Iterasi 6: Lower Bound = 1.6460905349794237, Upper Bound = 1.654320987654321\n",
            "Trisection Iterasi 7: Lower Bound = 1.6488340192043893, Upper Bound = 1.6515775034293554\n",
            "Trisection Iterasi 8: Lower Bound = 1.6488340192043893, Upper Bound = 1.6497485139460446\n",
            "Trisection Iterasi 9: Lower Bound = 1.6488340192043893, Upper Bound = 1.6491388507849412\n",
            "Trisection Iterasi 10: Lower Bound = 1.64893562973124, Upper Bound = 1.6490372402580906\n",
            "Trisection Iterasi 11: Lower Bound = 1.6490033700824738, Upper Bound = 1.6490372402580906\n",
            "Trisection Iterasi 12: Lower Bound = 1.6490033700824738, Upper Bound = 1.6490146601410125\n",
            "Trisection Iterasi 13: Lower Bound = 1.6490108967881663, Upper Bound = 1.6490146601410125\n",
            "Trisection Iterasi 14: Lower Bound = 1.6490121512391152, Upper Bound = 1.6490134056900638\n",
            "Trisection Iterasi 15: Lower Bound = 1.6490129875397477, Upper Bound = 1.6490134056900638\n",
            "Trisection Iterasi 16: Lower Bound = 1.649013266306625, Upper Bound = 1.6490134056900638\n",
            "Trisection Iterasi 17: Lower Bound = 1.649013266306625, Upper Bound = 1.6490133127677715\n",
            "Trisection Iterasi 18: Lower Bound = 1.649013266306625, Upper Bound = 1.6490132817936738\n",
            "Trisection Iterasi 19: Lower Bound = 1.649013266306625, Upper Bound = 1.6490132714689747\n",
            "Trisection Iterasi 20: Lower Bound = 1.6490132680274083, Upper Bound = 1.6490132697481916\n",
            "Trisection Iterasi 21: Lower Bound = 1.6490132680274083, Upper Bound = 1.6490132686010028\n",
            "Trisection Iterasi 22: Lower Bound = 1.6490132682186065, Upper Bound = 1.6490132684098047\n",
            "Trisection Iterasi 23: Lower Bound = 1.6490132682823393, Upper Bound = 1.6490132683460719\n",
            "Trisection Iterasi 24: Lower Bound = 1.6490132682823393, Upper Bound = 1.6490132683035836\n",
            "Trisection Iterasi 25: Lower Bound = 1.6490132682965022, Upper Bound = 1.6490132683035836\n",
            "Trisection Iterasi 26: Lower Bound = 1.649013268301223, Upper Bound = 1.6490132683035836\n",
            "Trisection Iterasi 27: Lower Bound = 1.649013268302797, Upper Bound = 1.6490132683035836\n",
            "Trisection Iterasi 28: Lower Bound = 1.6490132683030592, Upper Bound = 1.6490132683033216\n",
            "Trisection Iterasi 29: Lower Bound = 1.6490132683031467, Upper Bound = 1.6490132683032341\n",
            "Trisection Iterasi 30: Lower Bound = 1.649013268303176, Upper Bound = 1.6490132683032048\n",
            "\n",
            "=== Trisection Method ===\n",
            "Found root: 1.6490132683031904\n",
            "Average CPU Time: 0.0016558170318603516 seconds\n",
            "Number of iterations: 30\n"
          ]
        }
      ]
    },
    {
      "cell_type": "markdown",
      "source": [
        "## Fungsi Persamaan Fungsi 13\n",
        "\n",
        "sin(x)sinh(x) + 1, Interval [3,4]"
      ],
      "metadata": {
        "id": "3bSoILMb_gwy"
      }
    },
    {
      "cell_type": "code",
      "source": [
        "def f(x) :\n",
        "  return math.sin(x) * math.sinh(x) + 1"
      ],
      "metadata": {
        "id": "bZxu0a56BtHm"
      },
      "execution_count": null,
      "outputs": []
    },
    {
      "cell_type": "code",
      "source": [
        "# Implementasi metode trisection\n",
        "def trisection(f, a, b, tol, max_iter):\n",
        "    if f(a) * f(b) >= 0:\n",
        "        raise ValueError(\"There are no roots in this interval.\")\n",
        "    iteration = 0\n",
        "    root_list = []\n",
        "    while (b - a) > tol and iteration < max_iter:\n",
        "        m1 = (2*a + b)/3\n",
        "        m2 = (2*b+a)/3\n",
        "        root_list.append((m1 + m2) / 2)\n",
        "        print(f\"Trisection Iterasi {iteration+1}: Lower Bound = {a}, Upper Bound = {b}\")\n",
        "        if f(m1) == 0:\n",
        "            return m1, iteration, root_list\n",
        "        elif f(m2) == 0:\n",
        "            return m2, iteration, root_list\n",
        "        elif f(a) * f(m1) < 0:\n",
        "            b = m1\n",
        "        elif f(m1) * f(m2) < 0:\n",
        "            a, b = m1, m2\n",
        "        else:\n",
        "            a = m2\n",
        "        iteration += 1\n",
        "    return (a + b) / 2.0, iteration, root_list\n",
        "\n",
        "start_time = time.time()\n",
        "root_trisection, iteration_trisection, root_list_trisection = trisection(f, 3, 4, 1e-14, 100)\n",
        "end_time = time.time()\n",
        "cpu_time_trisection = end_time - start_time\n",
        "\n",
        "print(\"\\n=== Trisection Method ===\")\n",
        "print(\"Found root:\", root_trisection)\n",
        "print(\"Average CPU Time:\", cpu_time_trisection, \"seconds\")\n",
        "print(\"Number of iterations:\", iteration_trisection)"
      ],
      "metadata": {
        "colab": {
          "base_uri": "https://localhost:8080/"
        },
        "id": "3Hp3EuxBBwCy",
        "outputId": "696458bd-06a2-442e-f394-c12c3c50646a"
      },
      "execution_count": null,
      "outputs": [
        {
          "output_type": "stream",
          "name": "stdout",
          "text": [
            "Trisection Iterasi 1: Lower Bound = 3, Upper Bound = 4\n",
            "Trisection Iterasi 2: Lower Bound = 3, Upper Bound = 3.3333333333333335\n",
            "Trisection Iterasi 3: Lower Bound = 3.111111111111111, Upper Bound = 3.2222222222222228\n",
            "Trisection Iterasi 4: Lower Bound = 3.1851851851851856, Upper Bound = 3.2222222222222228\n",
            "Trisection Iterasi 5: Lower Bound = 3.209876543209877, Upper Bound = 3.2222222222222228\n",
            "Trisection Iterasi 6: Lower Bound = 3.2181069958847743, Upper Bound = 3.2222222222222228\n",
            "Trisection Iterasi 7: Lower Bound = 3.2208504801097404, Upper Bound = 3.2222222222222228\n",
            "Trisection Iterasi 8: Lower Bound = 3.2213077274805677, Upper Bound = 3.221764974851395\n",
            "Trisection Iterasi 9: Lower Bound = 3.221460143270843, Upper Bound = 3.221612559061119\n",
            "Trisection Iterasi 10: Lower Bound = 3.221561753797694, Upper Bound = 3.221612559061119\n",
            "Trisection Iterasi 11: Lower Bound = 3.2215786888855025, Upper Bound = 3.221595623973311\n",
            "Trisection Iterasi 12: Lower Bound = 3.221584333914772, Upper Bound = 3.2215899789440416\n",
            "Trisection Iterasi 13: Lower Bound = 3.2215880972676185, Upper Bound = 3.2215899789440416\n",
            "Trisection Iterasi 14: Lower Bound = 3.2215880972676185, Upper Bound = 3.221588724493093\n",
            "Trisection Iterasi 15: Lower Bound = 3.221588306342777, Upper Bound = 3.2215885154179347\n",
            "Trisection Iterasi 16: Lower Bound = 3.2215883760344965, Upper Bound = 3.2215884457262156\n",
            "Trisection Iterasi 17: Lower Bound = 3.2215883760344965, Upper Bound = 3.2215883992650696\n",
            "Trisection Iterasi 18: Lower Bound = 3.221588391521545, Upper Bound = 3.2215883992650696\n",
            "Trisection Iterasi 19: Lower Bound = 3.2215883966838947, Upper Bound = 3.2215883992650696\n",
            "Trisection Iterasi 20: Lower Bound = 3.2215883984046783, Upper Bound = 3.2215883992650696\n",
            "Trisection Iterasi 21: Lower Bound = 3.2215883989782728, Upper Bound = 3.2215883992650696\n",
            "Trisection Iterasi 22: Lower Bound = 3.221588399073872, Upper Bound = 3.221588399169471\n",
            "Trisection Iterasi 23: Lower Bound = 3.221588399073872, Upper Bound = 3.221588399105738\n",
            "Trisection Iterasi 24: Lower Bound = 3.221588399084494, Upper Bound = 3.221588399095116\n",
            "Trisection Iterasi 25: Lower Bound = 3.221588399091575, Upper Bound = 3.221588399095116\n",
            "Trisection Iterasi 26: Lower Bound = 3.221588399093936, Upper Bound = 3.221588399095116\n",
            "Trisection Iterasi 27: Lower Bound = 3.221588399093936, Upper Bound = 3.2215883990943293\n",
            "Trisection Iterasi 28: Lower Bound = 3.221588399093936, Upper Bound = 3.221588399094067\n",
            "Trisection Iterasi 29: Lower Bound = 3.221588399093936, Upper Bound = 3.2215883990939793\n",
            "Trisection Iterasi 30: Lower Bound = 3.221588399093936, Upper Bound = 3.22158839909395\n",
            "\n",
            "=== Trisection Method ===\n",
            "Found root: 3.2215883990939433\n",
            "Average CPU Time: 0.012176752090454102 seconds\n",
            "Number of iterations: 30\n"
          ]
        }
      ]
    },
    {
      "cell_type": "markdown",
      "source": [
        "## Fungsi Persamaan 14\n",
        "\n",
        "e^x - 3x - 2, Interval [2,3]\n"
      ],
      "metadata": {
        "id": "kxH6b35N_tVo"
      }
    },
    {
      "cell_type": "code",
      "source": [
        "def f(x) :\n",
        "  return math.exp(x) - 3*x - 2"
      ],
      "metadata": {
        "id": "_9WVOdB1B0jh"
      },
      "execution_count": null,
      "outputs": []
    },
    {
      "cell_type": "code",
      "source": [
        "# Implementasi metode trisection\n",
        "def trisection(f, a, b, tol, max_iter):\n",
        "    if f(a) * f(b) >= 0:\n",
        "        raise ValueError(\"There are no roots in this interval.\")\n",
        "    iteration = 0\n",
        "    root_list = []\n",
        "    while (b - a) > tol and iteration < max_iter:\n",
        "        m1 = (2*a + b)/3\n",
        "        m2 = (2*b+a)/3\n",
        "        root_list.append((m1 + m2) / 2)\n",
        "        print(f\"Trisection Iterasi {iteration+1}: Lower Bound = {a}, Upper Bound = {b}\")\n",
        "        if f(m1) == 0:\n",
        "            return m1, iteration, root_list\n",
        "        elif f(m2) == 0:\n",
        "            return m2, iteration, root_list\n",
        "        elif f(a) * f(m1) < 0:\n",
        "            b = m1\n",
        "        elif f(m1) * f(m2) < 0:\n",
        "            a, b = m1, m2\n",
        "        else:\n",
        "            a = m2\n",
        "        iteration += 1\n",
        "    return (a + b) / 2.0, iteration, root_list\n",
        "\n",
        "start_time = time.time()\n",
        "root_trisection, iteration_trisection, root_list_trisection = trisection(f, 2, 3, 1e-14, 100)\n",
        "end_time = time.time()\n",
        "cpu_time_trisection = end_time - start_time\n",
        "\n",
        "print(\"\\n=== Trisection Method ===\")\n",
        "print(\"Found root:\", root_trisection)\n",
        "print(\"Average CPU Time:\", cpu_time_trisection, \"seconds\")\n",
        "print(\"Number of iterations:\", iteration_trisection)"
      ],
      "metadata": {
        "colab": {
          "base_uri": "https://localhost:8080/"
        },
        "id": "poQLoyWtB41P",
        "outputId": "04c3d378-1293-4d0b-c88c-d7b2afbd1def"
      },
      "execution_count": null,
      "outputs": [
        {
          "output_type": "stream",
          "name": "stdout",
          "text": [
            "Trisection Iterasi 1: Lower Bound = 2, Upper Bound = 3\n",
            "Trisection Iterasi 2: Lower Bound = 2, Upper Bound = 2.3333333333333335\n",
            "Trisection Iterasi 3: Lower Bound = 2.111111111111111, Upper Bound = 2.2222222222222223\n",
            "Trisection Iterasi 4: Lower Bound = 2.111111111111111, Upper Bound = 2.1481481481481484\n",
            "Trisection Iterasi 5: Lower Bound = 2.123456790123457, Upper Bound = 2.1358024691358026\n",
            "Trisection Iterasi 6: Lower Bound = 2.123456790123457, Upper Bound = 2.1275720164609058\n",
            "Trisection Iterasi 7: Lower Bound = 2.1248285322359397, Upper Bound = 2.1262002743484225\n",
            "Trisection Iterasi 8: Lower Bound = 2.125285779606767, Upper Bound = 2.1257430269775948\n",
            "Trisection Iterasi 9: Lower Bound = 2.125285779606767, Upper Bound = 2.125438195397043\n",
            "Trisection Iterasi 10: Lower Bound = 2.1253873901336178, Upper Bound = 2.125438195397043\n",
            "Trisection Iterasi 11: Lower Bound = 2.1253873901336178, Upper Bound = 2.1254043252214263\n",
            "Trisection Iterasi 12: Lower Bound = 2.1253873901336178, Upper Bound = 2.125393035162887\n",
            "Trisection Iterasi 13: Lower Bound = 2.125391153486464, Upper Bound = 2.125393035162887\n",
            "Trisection Iterasi 14: Lower Bound = 2.125391153486464, Upper Bound = 2.1253917807119382\n",
            "Trisection Iterasi 15: Lower Bound = 2.125391153486464, Upper Bound = 2.125391362561622\n",
            "Trisection Iterasi 16: Lower Bound = 2.125391153486464, Upper Bound = 2.1253912231781835\n",
            "Trisection Iterasi 17: Lower Bound = 2.1253911767170375, Upper Bound = 2.1253911999476105\n",
            "Trisection Iterasi 18: Lower Bound = 2.125391192204086, Upper Bound = 2.1253911999476105\n",
            "Trisection Iterasi 19: Lower Bound = 2.1253911973664357, Upper Bound = 2.1253911999476105\n",
            "Trisection Iterasi 20: Lower Bound = 2.1253911982268274, Upper Bound = 2.1253911990872187\n",
            "Trisection Iterasi 21: Lower Bound = 2.1253911988004215, Upper Bound = 2.1253911990872187\n",
            "Trisection Iterasi 22: Lower Bound = 2.1253911988004215, Upper Bound = 2.1253911988960206\n",
            "Trisection Iterasi 23: Lower Bound = 2.1253911988004215, Upper Bound = 2.125391198832288\n",
            "Trisection Iterasi 24: Lower Bound = 2.1253911988110437, Upper Bound = 2.125391198821666\n",
            "Trisection Iterasi 25: Lower Bound = 2.1253911988110437, Upper Bound = 2.1253911988145844\n",
            "Trisection Iterasi 26: Lower Bound = 2.1253911988110437, Upper Bound = 2.125391198812224\n",
            "Trisection Iterasi 27: Lower Bound = 2.1253911988110437, Upper Bound = 2.125391198811437\n",
            "Trisection Iterasi 28: Lower Bound = 2.1253911988110437, Upper Bound = 2.1253911988111747\n",
            "Trisection Iterasi 29: Lower Bound = 2.125391198811087, Upper Bound = 2.125391198811131\n",
            "Trisection Iterasi 30: Lower Bound = 2.1253911988111165, Upper Bound = 2.125391198811131\n",
            "\n",
            "=== Trisection Method ===\n",
            "Found root: 2.125391198811129\n",
            "Average CPU Time: 0.01508951187133789 seconds\n",
            "Number of iterations: 30\n"
          ]
        }
      ]
    },
    {
      "cell_type": "markdown",
      "source": [
        "## Fungsi Persamaan 15\n",
        "\n",
        "sin(x) - x^2, Interval [0.5,1]"
      ],
      "metadata": {
        "id": "yeHWuQXj_22N"
      }
    },
    {
      "cell_type": "code",
      "source": [
        "def f(x) :\n",
        "  return math.sin(x) - x**2"
      ],
      "metadata": {
        "id": "tFgaPzb0-NRd"
      },
      "execution_count": null,
      "outputs": []
    },
    {
      "cell_type": "code",
      "source": [
        "# Implementasi metode trisection\n",
        "def trisection(f, a, b, tol, max_iter):\n",
        "    if f(a) * f(b) >= 0:\n",
        "        raise ValueError(\"There are no roots in this interval.\")\n",
        "    iteration = 0\n",
        "    root_list = []\n",
        "    while (b - a) > tol and iteration < max_iter:\n",
        "        m1 = (2*a + b)/3\n",
        "        m2 = (2*b+a)/3\n",
        "        root_list.append((m1 + m2) / 2)\n",
        "        print(f\"Trisection Iterasi {iteration+1}: Lower Bound = {a}, Upper Bound = {b}\")\n",
        "        if f(m1) == 0:\n",
        "            return m1, iteration, root_list\n",
        "        elif f(m2) == 0:\n",
        "            return m2, iteration, root_list\n",
        "        elif f(a) * f(m1) < 0:\n",
        "            b = m1\n",
        "        elif f(m1) * f(m2) < 0:\n",
        "            a, b = m1, m2\n",
        "        else:\n",
        "            a = m2\n",
        "        iteration += 1\n",
        "    return (a + b) / 2.0, iteration, root_list\n",
        "\n",
        "start_time = time.time()\n",
        "root_trisection, iteration_trisection, root_list_trisection = trisection(f, 0.5, 1, 1e-14, 100)\n",
        "end_time = time.time()\n",
        "cpu_time_trisection = end_time - start_time\n",
        "\n",
        "print(\"\\n=== Trisection Method ===\")\n",
        "print(\"Found root:\", root_trisection)\n",
        "print(\"Average CPU Time:\", cpu_time_trisection, \"seconds\")\n",
        "print(\"Number of iterations:\", iteration_trisection)"
      ],
      "metadata": {
        "id": "Cx91LqnWCFTu",
        "outputId": "936b7c10-68ea-4f5a-ad43-a25c9a526916",
        "colab": {
          "base_uri": "https://localhost:8080/"
        }
      },
      "execution_count": null,
      "outputs": [
        {
          "output_type": "stream",
          "name": "stdout",
          "text": [
            "Trisection Iterasi 1: Lower Bound = 0.5, Upper Bound = 1\n",
            "Trisection Iterasi 2: Lower Bound = 0.8333333333333334, Upper Bound = 1\n",
            "Trisection Iterasi 3: Lower Bound = 0.8333333333333334, Upper Bound = 0.888888888888889\n",
            "Trisection Iterasi 4: Lower Bound = 0.8703703703703703, Upper Bound = 0.888888888888889\n",
            "Trisection Iterasi 5: Lower Bound = 0.8765432098765432, Upper Bound = 0.8827160493827161\n",
            "Trisection Iterasi 6: Lower Bound = 0.8765432098765432, Upper Bound = 0.8786008230452675\n",
            "Trisection Iterasi 7: Lower Bound = 0.8765432098765432, Upper Bound = 0.8772290809327847\n",
            "Trisection Iterasi 8: Lower Bound = 0.8765432098765432, Upper Bound = 0.876771833561957\n",
            "Trisection Iterasi 9: Lower Bound = 0.876695625666819, Upper Bound = 0.876771833561957\n",
            "Trisection Iterasi 10: Lower Bound = 0.8767210282985317, Upper Bound = 0.8767464309302443\n",
            "Trisection Iterasi 11: Lower Bound = 0.8767210282985317, Upper Bound = 0.876729495842436\n",
            "Trisection Iterasi 12: Lower Bound = 0.8767238508131664, Upper Bound = 0.8767266733278012\n",
            "Trisection Iterasi 13: Lower Bound = 0.8767257324895895, Upper Bound = 0.8767266733278012\n",
            "Trisection Iterasi 14: Lower Bound = 0.8767260461023266, Upper Bound = 0.876726359715064\n",
            "Trisection Iterasi 15: Lower Bound = 0.8767261506399057, Upper Bound = 0.8767262551774849\n",
            "Trisection Iterasi 16: Lower Bound = 0.8767261854857654, Upper Bound = 0.8767262203316252\n",
            "Trisection Iterasi 17: Lower Bound = 0.8767262087163386, Upper Bound = 0.8767262203316252\n",
            "Trisection Iterasi 18: Lower Bound = 0.8767262125881007, Upper Bound = 0.876726216459863\n",
            "Trisection Iterasi 19: Lower Bound = 0.8767262151692755, Upper Bound = 0.876726216459863\n",
            "Trisection Iterasi 20: Lower Bound = 0.8767262151692755, Upper Bound = 0.8767262155994713\n",
            "Trisection Iterasi 21: Lower Bound = 0.876726215312674, Upper Bound = 0.8767262154560727\n",
            "Trisection Iterasi 22: Lower Bound = 0.8767262153604736, Upper Bound = 0.8767262154082731\n",
            "Trisection Iterasi 23: Lower Bound = 0.87672621539234, Upper Bound = 0.8767262154082731\n",
            "Trisection Iterasi 24: Lower Bound = 0.87672621539234, Upper Bound = 0.876726215397651\n",
            "Trisection Iterasi 25: Lower Bound = 0.8767262153941103, Upper Bound = 0.8767262153958807\n",
            "Trisection Iterasi 26: Lower Bound = 0.8767262153947004, Upper Bound = 0.8767262153952906\n",
            "Trisection Iterasi 27: Lower Bound = 0.8767262153948971, Upper Bound = 0.8767262153950939\n",
            "Trisection Iterasi 28: Lower Bound = 0.8767262153950283, Upper Bound = 0.8767262153950939\n",
            "Trisection Iterasi 29: Lower Bound = 0.8767262153950502, Upper Bound = 0.876726215395072\n",
            "\n",
            "=== Trisection Method ===\n",
            "Found root: 0.876726215395061\n",
            "Average CPU Time: 0.0030012130737304688 seconds\n",
            "Number of iterations: 29\n"
          ]
        }
      ]
    }
  ]
}